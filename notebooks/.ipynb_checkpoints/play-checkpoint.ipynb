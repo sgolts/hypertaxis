{
 "cells": [
  {
   "cell_type": "code",
   "execution_count": 4,
   "id": "f363f124-3676-47e6-82d8-83631d847660",
   "metadata": {},
   "outputs": [
    {
     "ename": "ModuleNotFoundError",
     "evalue": "No module named 'gget'",
     "output_type": "error",
     "traceback": [
      "\u001b[31m---------------------------------------------------------------------------\u001b[39m",
      "\u001b[31mModuleNotFoundError\u001b[39m                       Traceback (most recent call last)",
      "\u001b[36mCell\u001b[39m\u001b[36m \u001b[39m\u001b[32mIn[4]\u001b[39m\u001b[32m, line 7\u001b[39m\n\u001b[32m      5\u001b[39m \u001b[38;5;28;01mimport\u001b[39;00m\u001b[38;5;250m \u001b[39m\u001b[34;01mglob\u001b[39;00m\n\u001b[32m      6\u001b[39m \u001b[38;5;28;01mimport\u001b[39;00m\u001b[38;5;250m \u001b[39m\u001b[34;01mtime\u001b[39;00m\n\u001b[32m----> \u001b[39m\u001b[32m7\u001b[39m \u001b[38;5;28;01mimport\u001b[39;00m\u001b[38;5;250m \u001b[39m\u001b[34;01mgget\u001b[39;00m\n\u001b[32m      8\u001b[39m \u001b[38;5;28;01mimport\u001b[39;00m\u001b[38;5;250m \u001b[39m\u001b[34;01mscipy\u001b[39;00m\n\u001b[32m      9\u001b[39m \u001b[38;5;28;01mimport\u001b[39;00m\u001b[38;5;250m \u001b[39m\u001b[34;01mot\u001b[39;00m\n",
      "\u001b[31mModuleNotFoundError\u001b[39m: No module named 'gget'"
     ]
    }
   ],
   "source": [
    "import os\n",
    "import sys\n",
    "import pandas as pd\n",
    "import numpy as np\n",
    "import glob\n",
    "import time\n",
    "import gget\n",
    "import scipy\n",
    "import ot\n",
    "from scipy.sparse import csr_matrix\n",
    "import anndata as an\n",
    "import scanpy as sc\n",
    "import matplotlib.pyplot as plt\n",
    "import seaborn as sns\n",
    "import matplotlib.patches as mpatches\n",
    "import matplotlib.cm as cm"
   ]
  },
  {
   "cell_type": "code",
   "execution_count": null,
   "id": "4cea889a-644e-4779-ba14-c572f5b5aaf4",
   "metadata": {},
   "outputs": [],
   "source": [
    "fasta_dir = \"/nfs/turbo/umms-indikar/shared/projects/poreC/data/references/fasta/\"\n",
    "vcf_dir = \"/nfs/turbo/umms-indikar/shared/projects/poreC/data/VCFs/\"\n",
    "\n",
    "# extract two strains from multi-genome VCF file using:\n",
    "# bcftools view -s\n",
    "\n",
    "# select the heterozygous variants using:\n",
    "# bcftools view -v snps -m 2 -M 2 -O z -o "
   ]
  },
  {
   "cell_type": "code",
   "execution_count": null,
   "id": "e1f00a8f-974b-4a9c-82a0-44e5e4d1b720",
   "metadata": {},
   "outputs": [],
   "source": [
    "# load ann data\n",
    "resolution = 1000000\n",
    "fpath = f\"/scratch/indikar_root/indikar1/shared_data/higher_order/lightweight/singlecell_mESC_{resolution}_anndata.h5ad\"\n",
    "\n",
    "start_time = time.time()  # Record the start time\n",
    "adata = sc.read_h5ad(fpath)\n",
    "end_time = time.time()  # Record the end time\n",
    "print(f\"Time taken to read the file: {end_time - start_time:.2f} seconds\")\n",
    "sc.logging.print_memory_usage()\n",
    "\n",
    "# sort the object by global bin id\n",
    "sorted_indices = adata.obs['bin'].argsort()\n",
    "adata = adata[sorted_indices, :] \n",
    "\n",
    "adata"
   ]
  },
  {
   "cell_type": "code",
   "execution_count": null,
   "id": "3487f742-3ab2-491f-b799-7ca25f07d473",
   "metadata": {},
   "outputs": [],
   "source": []
  }
 ],
 "metadata": {
  "kernelspec": {
   "display_name": "pork",
   "language": "python",
   "name": "pork"
  },
  "language_info": {
   "codemirror_mode": {
    "name": "ipython",
    "version": 3
   },
   "file_extension": ".py",
   "mimetype": "text/x-python",
   "name": "python",
   "nbconvert_exporter": "python",
   "pygments_lexer": "ipython3",
   "version": "3.12.11"
  }
 },
 "nbformat": 4,
 "nbformat_minor": 5
}
