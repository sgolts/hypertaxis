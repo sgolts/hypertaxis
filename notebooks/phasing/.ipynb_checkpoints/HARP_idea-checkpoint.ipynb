{
 "cells": [
  {
   "cell_type": "code",
   "execution_count": 1,
   "id": "a58dc9fc-f71c-4233-bfe7-1fac396d6439",
   "metadata": {},
   "outputs": [],
   "source": [
    "import pysam \n",
    "import pandas as pd\n",
    "import mappy as mp"
   ]
  },
  {
   "cell_type": "markdown",
   "id": "9ab70f76-735a-4370-882e-e0893ecb84da",
   "metadata": {},
   "source": [
    "# Set up reference genomes (slow)"
   ]
  },
  {
   "cell_type": "code",
   "execution_count": 4,
   "id": "0d92bacb-6acf-4c6f-9dd9-4d2b909eb9f3",
   "metadata": {},
   "outputs": [
    {
     "name": "stdout",
     "output_type": "stream",
     "text": [
      "done!\n",
      "CPU times: user 1min 39s, sys: 15.8 s, total: 1min 55s\n",
      "Wall time: 1min 58s\n"
     ]
    }
   ],
   "source": [
    "%%time\n",
    "cast_path = \"/nfs/turbo/umms-indikar/shared/projects/poreC/data/references/fasta/Mus_musculus_casteij.CAST_EiJ_v1.dna.toplevel.fa\"\n",
    "cast_ref = mp.Aligner(cast_path)\n",
    "print('done!')"
   ]
  },
  {
   "cell_type": "code",
   "execution_count": 5,
   "id": "df3df152-7285-403b-b916-375fb87a707f",
   "metadata": {},
   "outputs": [
    {
     "name": "stdout",
     "output_type": "stream",
     "text": [
      "done!\n",
      "CPU times: user 1min 41s, sys: 14.6 s, total: 1min 56s\n",
      "Wall time: 1min 59s\n"
     ]
    }
   ],
   "source": [
    "%%time\n",
    "s129_path = \"/nfs/turbo/umms-indikar/shared/projects/poreC/data/references/fasta/Mus_musculus_129s1svimj.129S1_SvImJ_v1.dna.toplevel.fa\"\n",
    "s129_ref = mp.Aligner(s129_path)\n",
    "print('done!')"
   ]
  },
  {
   "cell_type": "markdown",
   "id": "cbca8450-f1c4-44b9-8b38-a26611598d25",
   "metadata": {},
   "source": [
    "# Monomer Alignment"
   ]
  },
  {
   "cell_type": "code",
   "execution_count": 25,
   "id": "b46ec4f2-7765-43ad-86d3-ffdbb79d9685",
   "metadata": {},
   "outputs": [],
   "source": [
    "def align_monomer(seq: str, ref, name = None) -> pd.DataFrame:\n",
    "    \"\"\"\n",
    "    Align one query sequence to a mappy index and return a DataFrame of hits.\n",
    "    Columns match common mappy.AlignedSegment fields.\n",
    "    \"\"\"\n",
    "    rows = []\n",
    "    for hit in ref.map(seq):  # iterate alignments\n",
    "        rows.append({\n",
    "            \"ctg\": hit.ctg,                 # reference contig\n",
    "            \"r_st\": hit.r_st,               # ref start (0-based)\n",
    "            \"r_en\": hit.r_en,               # ref end (exclusive)\n",
    "            \"q_st\": getattr(hit, \"q_st\", None),\n",
    "            \"q_en\": getattr(hit, \"q_en\", None),\n",
    "            \"strand\": \"-\" if getattr(hit, \"strand\", 1) < 0 else \"+\",\n",
    "            \"mapq\": getattr(hit, \"mapq\", None),\n",
    "            \"score\": getattr(hit, \"score\", None),\n",
    "            \"mlen\": getattr(hit, \"mlen\", None),   # matched length\n",
    "            \"blen\": getattr(hit, \"blen\", None),   # alignment block length\n",
    "            \"NM\": getattr(hit, \"NM\", None),       # edits if available\n",
    "            \"is_primary\": bool(getattr(hit, \"is_primary\", True)),\n",
    "            \"cigar\": getattr(hit, \"cigar_str\", None),\n",
    "            \"name\" : name, \n",
    "        })\n",
    "    return pd.DataFrame(rows)"
   ]
  },
  {
   "cell_type": "code",
   "execution_count": 26,
   "id": "fe1fd384-de4c-49ea-acab-a86578ae2813",
   "metadata": {},
   "outputs": [
    {
     "name": "stdout",
     "output_type": "stream",
     "text": [
      "  ctg       r_st       r_en  q_st  q_en strand  mapq score  mlen  blen  NM  \\\n",
      "0  10  110227525  110227699     0   175      +    60  None   166   176  10   \n",
      "0  10  109375675  109375849     0   175      +    60  None   169   176   7   \n",
      "\n",
      "   is_primary               cigar  name  \n",
      "0        True  21M1I109M1I4M1D39M  S129  \n",
      "0        True  21M1I109M1I4M1D39M  CAST  \n",
      "CPU times: user 3.49 ms, sys: 1.9 ms, total: 5.38 ms\n",
      "Wall time: 7.56 ms\n"
     ]
    }
   ],
   "source": [
    "%%time \n",
    "\n",
    "fpath = \"/nfs/turbo/umms-indikar/shared/projects/poreC/pipeline_outputs/population/expanded/annotate/batch02.GRCm39.pe.bam\"\n",
    "bam = pysam.AlignmentFile(fpath)\n",
    "\n",
    "stop = 1\n",
    "count = -1\n",
    "\n",
    "# loop through each monomoner\n",
    "for read in bam:\n",
    "    count += 1\n",
    "    if count == stop:\n",
    "        break\n",
    "\n",
    "    # # print the read name\n",
    "    # print(f\"\\n{read.qname=}\")\n",
    "\n",
    "    # alignment of the monomer both genomes \n",
    "    seq = read.seq\n",
    "    h1 = align_monomer(seq, s129_ref, name='S129')\n",
    "    h2 = align_monomer(seq, cast_ref, name='CAST')\n",
    "\n",
    "    align = pd.concat([h1, h2])\n",
    "    print(align)\n",
    "    \n",
    "    # compare hits (h1 vs. h2)\n",
    "    # examples:\n",
    "        # max alignment_score(H1, H2)\n",
    "        # max alignment_length(H1, H2)\n",
    "        # min alignment_mismatch(H1, H2)\n",
    "        # max alignment_quality(H1, H2)\n",
    "    \n",
    "    # assign --> subread to: h1, h2, or unknown\n",
    "\n",
    "    # store assignments"
   ]
  },
  {
   "cell_type": "code",
   "execution_count": null,
   "id": "3a5c7f3c-b94b-443d-b9a5-a2a48c4ce42e",
   "metadata": {},
   "outputs": [],
   "source": []
  }
 ],
 "metadata": {
  "kernelspec": {
   "display_name": "bioinf",
   "language": "python",
   "name": "bioinf"
  },
  "language_info": {
   "codemirror_mode": {
    "name": "ipython",
    "version": 3
   },
   "file_extension": ".py",
   "mimetype": "text/x-python",
   "name": "python",
   "nbconvert_exporter": "python",
   "pygments_lexer": "ipython3",
   "version": "3.13.7"
  }
 },
 "nbformat": 4,
 "nbformat_minor": 5
}
