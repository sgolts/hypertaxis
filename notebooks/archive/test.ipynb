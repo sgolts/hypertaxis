{
 "cells": [
  {
   "cell_type": "code",
   "execution_count": 1,
   "id": "388f1462-b6bc-40f0-94af-5c9d94b5f4f6",
   "metadata": {},
   "outputs": [],
   "source": [
    "import sys\n",
    "import pandas as pd\n",
    "import numpy as np"
   ]
  },
  {
   "cell_type": "code",
   "execution_count": 6,
   "id": "228a1d01-5813-4d1e-9fe7-4e5a4d0d6b23",
   "metadata": {},
   "outputs": [],
   "source": [
    "f = lambda x: x\n",
    "g = lambda x: np.power(x, 1/10)\n",
    "phi = lambda x: np.log(x)\n",
    "psi = lambda x: np.exp(x)"
   ]
  },
  {
   "cell_type": "code",
   "execution_count": 16,
   "id": "fdbc90ba-852e-4c7a-8316-e60e4f3415aa",
   "metadata": {},
   "outputs": [
    {
     "data": {
      "text/plain": [
       "array([1., 1.])"
      ]
     },
     "execution_count": 16,
     "metadata": {},
     "output_type": "execute_result"
    }
   ],
   "source": [
    "B = np.array([[1, 1, 1], [1, 1, 0]]).T\n",
    "N = np.diag([1, 1, 1])\n",
    "\n",
    "psi(B.T @ N @ phi([1, 1, 1]))"
   ]
  },
  {
   "cell_type": "code",
   "execution_count": null,
   "id": "c2011e76-4725-44a1-b1b5-e8d0d4d47cc4",
   "metadata": {},
   "outputs": [],
   "source": []
  }
 ],
 "metadata": {
  "kernelspec": {
   "display_name": "Python 3 (ipykernel)",
   "language": "python",
   "name": "python3"
  },
  "language_info": {
   "codemirror_mode": {
    "name": "ipython",
    "version": 3
   },
   "file_extension": ".py",
   "mimetype": "text/x-python",
   "name": "python",
   "nbconvert_exporter": "python",
   "pygments_lexer": "ipython3",
   "version": "3.10.9"
  }
 },
 "nbformat": 4,
 "nbformat_minor": 5
}
