{
 "cells": [
  {
   "cell_type": "code",
   "execution_count": 16,
   "id": "bc1696ed-3738-49c0-87f3-59edcfc8f5f2",
   "metadata": {},
   "outputs": [
    {
     "name": "stdout",
     "output_type": "stream",
     "text": [
      "gt.__version__='2.58 (commit c513b9b6, )'\n"
     ]
    }
   ],
   "source": [
    "import pandas as pd\n",
    "from sklearn import metrics\n",
    "import scipy\n",
    "from scipy.sparse import csr_matrix\n",
    "from scipy.sparse import csgraph\n",
    "from scipy.sparse.csgraph import connected_components\n",
    "from scipy.sparse.linalg import eigsh\n",
    "import os\n",
    "import glob\n",
    "import matplotlib.colors as mcolors \n",
    "import sys\n",
    "import random\n",
    "import numpy as np\n",
    "import matplotlib.pyplot as plt\n",
    "import seaborn as sns\n",
    "from importlib import reload\n",
    "import cooler\n",
    "\n",
    "tool_path = \"/home/cstansbu/miniconda3/lib/python3.9/site-packages/\"\n",
    "sys.path.append(tool_path)\n",
    "import graph_tool.all as gt\n",
    "print(f\"{gt.__version__=}\")\n",
    "\n",
    "# locals \n",
    "import reconstruction as recon\n",
    "\n",
    "sys.path.append(\"../\")\n",
    "import utils as ut\n",
    "import plotting as plt2"
   ]
  },
  {
   "cell_type": "markdown",
   "id": "f52e9ffa-788a-4a11-bc27-e8b1ce5a6ba9",
   "metadata": {
    "tags": []
   },
   "source": [
    "# Single-cell"
   ]
  },
  {
   "cell_type": "code",
   "execution_count": 2,
   "id": "b858cc8f-f558-4442-b035-891e98f4f633",
   "metadata": {},
   "outputs": [
    {
     "name": "stderr",
     "output_type": "stream",
     "text": [
      "/tmp/ipykernel_2758577/3210222334.py:3: DtypeWarning: Columns (1) have mixed types. Specify dtype option on import or set low_memory=False.\n",
      "  ref = pd.read_csv(fpath, sep='\\t')\n"
     ]
    },
    {
     "data": {
      "text/html": [
       "<div>\n",
       "<style scoped>\n",
       "    .dataframe tbody tr th:only-of-type {\n",
       "        vertical-align: middle;\n",
       "    }\n",
       "\n",
       "    .dataframe tbody tr th {\n",
       "        vertical-align: top;\n",
       "    }\n",
       "\n",
       "    .dataframe thead th {\n",
       "        text-align: right;\n",
       "    }\n",
       "</style>\n",
       "<table border=\"1\" class=\"dataframe\">\n",
       "  <thead>\n",
       "    <tr style=\"text-align: right;\">\n",
       "      <th></th>\n",
       "      <th>fend</th>\n",
       "      <th>chr</th>\n",
       "      <th>coord</th>\n",
       "    </tr>\n",
       "  </thead>\n",
       "  <tbody>\n",
       "    <tr>\n",
       "      <th>0</th>\n",
       "      <td>0</td>\n",
       "      <td>1</td>\n",
       "      <td>2</td>\n",
       "    </tr>\n",
       "    <tr>\n",
       "      <th>1</th>\n",
       "      <td>1</td>\n",
       "      <td>1</td>\n",
       "      <td>3000535</td>\n",
       "    </tr>\n",
       "    <tr>\n",
       "      <th>2</th>\n",
       "      <td>2</td>\n",
       "      <td>1</td>\n",
       "      <td>3000536</td>\n",
       "    </tr>\n",
       "    <tr>\n",
       "      <th>3</th>\n",
       "      <td>3</td>\n",
       "      <td>1</td>\n",
       "      <td>3000800</td>\n",
       "    </tr>\n",
       "    <tr>\n",
       "      <th>4</th>\n",
       "      <td>4</td>\n",
       "      <td>1</td>\n",
       "      <td>3000801</td>\n",
       "    </tr>\n",
       "  </tbody>\n",
       "</table>\n",
       "</div>"
      ],
      "text/plain": [
       "   fend chr    coord\n",
       "0     0   1        2\n",
       "1     1   1  3000535\n",
       "2     2   1  3000536\n",
       "3     3   1  3000800\n",
       "4     4   1  3000801"
      ]
     },
     "execution_count": 2,
     "metadata": {},
     "output_type": "execute_result"
    }
   ],
   "source": [
    "# load the reference\n",
    "fpath = \"/nfs/turbo/umms-indikar/shared/projects/poreC/data/nagano2017/schic2_mm9/seq/redb/GATC.fends\"\n",
    "ref = pd.read_csv(fpath, sep='\\t')\n",
    "ref.head()"
   ]
  },
  {
   "cell_type": "code",
   "execution_count": 38,
   "id": "8bc3b019-84ce-4bf5-8a24-0b9ba62bbc4a",
   "metadata": {},
   "outputs": [
    {
     "data": {
      "text/plain": [
       "array([1, 2, 3, 4, 5, 6, 7, 8, 9, 10, 11, 12, 13, 14, 15, 16, 17, 18, 19,\n",
       "       '19', 'X', 'Y'], dtype=object)"
      ]
     },
     "execution_count": 38,
     "metadata": {},
     "output_type": "execute_result"
    }
   ],
   "source": [
    "ref['chr'].unique()"
   ]
  },
  {
   "cell_type": "code",
   "execution_count": null,
   "id": "ff89eb6a-9c69-4f76-af72-291b97d3be4b",
   "metadata": {},
   "outputs": [],
   "source": []
  },
  {
   "cell_type": "code",
   "execution_count": null,
   "id": "f0238730-9512-4030-b9a1-5261fd6f91cb",
   "metadata": {},
   "outputs": [],
   "source": []
  },
  {
   "cell_type": "code",
   "execution_count": 37,
   "id": "cfecd318-aabc-4d46-983a-0349b43ef6f8",
   "metadata": {},
   "outputs": [
    {
     "name": "stdout",
     "output_type": "stream",
     "text": [
      "      fend1     fend2  count fend1_chr  fend1_coord  fend1_bin fend2_chr  \\\n",
      "0   9977333   9977334      2        15     37848611         38        15   \n",
      "1   1848047   1951954      1         3      4107806          5         3   \n",
      "2  10472142  10479881      1        16     36641382         37        16   \n",
      "3   9822238   9817696      1        15      6164907          7        15   \n",
      "4   2980061   2709566      1         4     73352160         74         4   \n",
      "\n",
      "   fend2_coord  fend2_bin  \n",
      "0     37848612         38  \n",
      "1     23460493         24  \n",
      "2     38300806         39  \n",
      "3      5316370          6  \n",
      "4     19777031         20  \n"
     ]
    }
   ],
   "source": [
    "def sample_file_paths(directory, num_samples):\n",
    "    \"\"\"Randomly samples file paths from subdirectories within a given directory.\n",
    "\n",
    "    Args:\n",
    "        directory: The root directory to search within.\n",
    "        num_samples: The number of file paths to sample.\n",
    "\n",
    "    Returns:\n",
    "        list: A list of randomly sampled full file paths.\n",
    "    \"\"\"\n",
    "\n",
    "    all_files = []\n",
    "    for subdir in os.listdir(directory):\n",
    "        full_subdir = os.path.join(directory, subdir)\n",
    "        if os.path.isdir(full_subdir):\n",
    "            all_files.extend(glob.glob(os.path.join(full_subdir, \"*\")))  # Find files in each subdir\n",
    "\n",
    "    if num_samples > len(all_files):\n",
    "        raise ValueError(\"Number of samples requested exceeds available files.\")\n",
    "\n",
    "    sampled_paths = random.sample(all_files, num_samples)\n",
    "    return sampled_paths\n",
    "\n",
    "\n",
    "def process_nagano(df, binarize=True, normalize=False):\n",
    "    \"\"\"Processes the Nagano dataset for analysis.\n",
    "\n",
    "    Args:\n",
    "        df: The input DataFrame.\n",
    "        binarize: If True, binarize the contact matrix after processing (default: True).\n",
    "        normalize:  If True, apply normalization to the contact matrix (default: False).\n",
    "\n",
    "    Returns:\n",
    "        pandas.DataFrame: The processed DataFrame.\n",
    "    \"\"\"\n",
    "\n",
    "    # Filter for symmetric bin pairs\n",
    "    df = df[df['bin_1'].isin(df['bin_2'])]\n",
    "    df = df[df['bin_2'].isin(df['bin_1'])]\n",
    "\n",
    "    # Create a pivot table\n",
    "    df = pd.pivot_table(\n",
    "        df, index='bin_1', \n",
    "        columns='bin_2',\n",
    "        values='count',\n",
    "        aggfunc='sum',\n",
    "        fill_value=0\n",
    "    )\n",
    "\n",
    "    # Symmetrize the pivot table\n",
    "    df = ut.symmetrize(df)\n",
    "\n",
    "    # Optional Normalization\n",
    "    if normalize:\n",
    "        df = ut.normalize_oe(ut.normalize_kr(df).todense())\n",
    "\n",
    "    # Optional Binarization\n",
    "    if binarize:\n",
    "        df = np.where(df > 0, 1, 0)  \n",
    "\n",
    "    return df\n",
    "\n",
    "\n",
    "def join_fend_info(ref, cell_matrix):\n",
    "    \"\"\"Joins fend information onto 'fend1' and 'fend2' columns of the DataFrames.\n",
    "\n",
    "    Args:\n",
    "        ref: The DataFrame containing fend, chr, coord, bin information.\n",
    "        cell_matrix: The DataFrame containing fend1, fend2, and count columns.\n",
    "\n",
    "    Returns:\n",
    "        pandas.DataFrame: A new DataFrame with the joined fend information.\n",
    "    \"\"\"\n",
    "\n",
    "    # Merge fend info onto cell_matrix (fend1)\n",
    "    cell_matrix = cell_matrix.merge(ref, left_on='fend1', right_on='fend', how='left')\n",
    "    cell_matrix = cell_matrix.rename(columns={'chr': 'fend1_chr', 'coord': 'fend1_coord', 'bin': 'fend1_bin'})\n",
    "\n",
    "    # Merge fend info onto cell_matrix (fend2)\n",
    "    cell_matrix = cell_matrix.merge(ref, left_on='fend2', right_on='fend', how='left') \n",
    "    cell_matrix = cell_matrix.rename(columns={'chr': 'fend2_chr', 'coord': 'fend2_coord', 'bin': 'fend2_bin'})\n",
    "\n",
    "    # Keep only necessary columns\n",
    "    result_df = cell_matrix[['fend1', 'fend2', 'count', \n",
    "                             'fend1_chr', 'fend1_coord', 'fend1_bin',\n",
    "                             'fend2_chr', 'fend2_coord', 'fend2_bin']]\n",
    "\n",
    "    return result_df\n",
    "\n",
    "\n",
    "# sample files\n",
    "dpath = \"/nfs/turbo/umms-indikar/shared/projects/poreC/data/nagano2017/matrices/\"\n",
    "sample_size = 10\n",
    "sample_files = sample_file_paths(dpath, sample_size)\n",
    "sample_files = [f\"{x}/adj\" for x in sample_files]\n",
    "\n",
    "# contact specs\n",
    "resolution = 1000000\n",
    "\n",
    "\n",
    "nagano = []\n",
    "\n",
    "for fpath in sample_files:\n",
    "    \n",
    "    cell_matrix = pd.read_csv(fpath, sep='\\t')\n",
    "    cell_matrix = join_fend_info(ref, cell_matrix)\n",
    "    print(cell_matrix.head())\n",
    "    break\n",
    "    # tmp['cell_id'] = fpath.split(\"/\")[-2]\n",
    "    # nagano.append(tmp)\n",
    "    # break\n",
    "\n",
    "# nagano = pd.concat(nagano)\n",
    "# print(nagano['cell_id'].nunique())\n",
    "# nagano.head()"
   ]
  },
  {
   "cell_type": "code",
   "execution_count": 32,
   "id": "6927bbfc-6260-4686-9787-aa48697a93ac",
   "metadata": {},
   "outputs": [
    {
     "data": {
      "text/html": [
       "<div>\n",
       "<style scoped>\n",
       "    .dataframe tbody tr th:only-of-type {\n",
       "        vertical-align: middle;\n",
       "    }\n",
       "\n",
       "    .dataframe tbody tr th {\n",
       "        vertical-align: top;\n",
       "    }\n",
       "\n",
       "    .dataframe thead th {\n",
       "        text-align: right;\n",
       "    }\n",
       "</style>\n",
       "<table border=\"1\" class=\"dataframe\">\n",
       "  <thead>\n",
       "    <tr style=\"text-align: right;\">\n",
       "      <th></th>\n",
       "      <th>fend1</th>\n",
       "      <th>fend2</th>\n",
       "      <th>count</th>\n",
       "    </tr>\n",
       "  </thead>\n",
       "  <tbody>\n",
       "    <tr>\n",
       "      <th>0</th>\n",
       "      <td>3926948</td>\n",
       "      <td>3927468</td>\n",
       "      <td>2</td>\n",
       "    </tr>\n",
       "    <tr>\n",
       "      <th>1</th>\n",
       "      <td>8614164</td>\n",
       "      <td>8614159</td>\n",
       "      <td>1</td>\n",
       "    </tr>\n",
       "    <tr>\n",
       "      <th>2</th>\n",
       "      <td>6654745</td>\n",
       "      <td>6654746</td>\n",
       "      <td>2</td>\n",
       "    </tr>\n",
       "    <tr>\n",
       "      <th>3</th>\n",
       "      <td>10016405</td>\n",
       "      <td>10016677</td>\n",
       "      <td>1</td>\n",
       "    </tr>\n",
       "    <tr>\n",
       "      <th>4</th>\n",
       "      <td>3133430</td>\n",
       "      <td>3133429</td>\n",
       "      <td>1</td>\n",
       "    </tr>\n",
       "  </tbody>\n",
       "</table>\n",
       "</div>"
      ],
      "text/plain": [
       "      fend1     fend2  count\n",
       "0   3926948   3927468      2\n",
       "1   8614164   8614159      1\n",
       "2   6654745   6654746      2\n",
       "3  10016405  10016677      1\n",
       "4   3133430   3133429      1"
      ]
     },
     "execution_count": 32,
     "metadata": {},
     "output_type": "execute_result"
    }
   ],
   "source": [
    "tmp.head()"
   ]
  },
  {
   "cell_type": "code",
   "execution_count": 5,
   "id": "01c629e4-939c-4285-a793-1a57265617ca",
   "metadata": {},
   "outputs": [
    {
     "data": {
      "text/plain": [
       "1CDX1.253    23116\n",
       "1CDX1.342    20509\n",
       "1CDX1.486    18332\n",
       "1CDX1.484    17976\n",
       "1CDX1.177    16951\n",
       "1CDX1.82     13803\n",
       "1CDX1.125    12860\n",
       "1CDX1.32      6893\n",
       "1CDX1.121     3386\n",
       "1CDX1.288      111\n",
       "Name: cell_id, dtype: int64"
      ]
     },
     "execution_count": 5,
     "metadata": {},
     "output_type": "execute_result"
    }
   ],
   "source": [
    "counts = nagano['cell_id'].value_counts()\n",
    "counts"
   ]
  },
  {
   "cell_type": "code",
   "execution_count": 6,
   "id": "d3e97cba-77b4-4893-a2c0-026f78a2e0f8",
   "metadata": {},
   "outputs": [
    {
     "ename": "SyntaxError",
     "evalue": "'break' outside loop (668683560.py, line 1)",
     "output_type": "error",
     "traceback": [
      "\u001b[0;36m  Cell \u001b[0;32mIn[6], line 1\u001b[0;36m\u001b[0m\n\u001b[0;31m    break\u001b[0m\n\u001b[0m    ^\u001b[0m\n\u001b[0;31mSyntaxError\u001b[0m\u001b[0;31m:\u001b[0m 'break' outside loop\n"
     ]
    }
   ],
   "source": [
    "break"
   ]
  },
  {
   "cell_type": "code",
   "execution_count": 7,
   "id": "e22d5490-9d22-4755-8282-d97788cff6df",
   "metadata": {},
   "outputs": [],
   "source": [
    "def process_nagano(df, binarize=True, normalize=False):\n",
    "    \"\"\"Processes the Nagano dataset for analysis.\n",
    "\n",
    "    Args:\n",
    "        df: The input DataFrame.\n",
    "        binarize: If True, binarize the contact matrix after processing (default: True).\n",
    "        normalize:  If True, apply normalization to the contact matrix (default: False).\n",
    "\n",
    "    Returns:\n",
    "        pandas.DataFrame: The processed DataFrame.\n",
    "    \"\"\"\n",
    "\n",
    "    # Filter for symmetric bin pairs\n",
    "    df = df[df['bin_1'].isin(df['bin_2'])]\n",
    "    df = df[df['bin_2'].isin(df['bin_1'])]\n",
    "\n",
    "    # Create a pivot table\n",
    "    df = pd.pivot_table(\n",
    "        df, index='bin_1', \n",
    "        columns='bin_2',\n",
    "        values='count',\n",
    "        aggfunc='sum',\n",
    "        fill_value=0\n",
    "    )\n",
    "\n",
    "    # Symmetrize the pivot table\n",
    "    df = ut.symmetrize(df)\n",
    "\n",
    "    # Optional Normalization\n",
    "    if normalize:\n",
    "        df = ut.normalize_oe(ut.normalize_kr(df).todense())\n",
    "\n",
    "    # Optional Binarization\n",
    "    if binarize:\n",
    "        df = np.where(df > 0, 1, 0)  \n",
    "\n",
    "    return df"
   ]
  },
  {
   "cell_type": "code",
   "execution_count": 13,
   "id": "209344b5-ae73-4970-a5a5-2e5335ce41f0",
   "metadata": {},
   "outputs": [
    {
     "name": "stdout",
     "output_type": "stream",
     "text": [
      "1CDX1.125 (193, 193)\n",
      "1CDX1.177 (193, 193)\n",
      "1CDX1.253 (193, 193)\n",
      "1CDX1.32 (193, 193)\n",
      "1CDX1.342 (193, 193)\n",
      "1CDX1.484 (193, 193)\n",
      "1CDX1.486 (193, 193)\n",
      "1CDX1.82 (193, 193)\n"
     ]
    }
   ],
   "source": [
    "outpath = \"/nfs/turbo/umms-indikar/shared/projects/poreC/hypergraphs/single_cell_hic/\"\n",
    "\n",
    "for cell_id, group in nagano.groupby('cell_id'):\n",
    "    mat = process_nagano(group)\n",
    "    \n",
    "    # require the full chromosome\n",
    "    if not mat.shape == (193, 193):\n",
    "        continue\n",
    "                \n",
    "    print(cell_id, mat.shape)\n"
   ]
  },
  {
   "cell_type": "code",
   "execution_count": null,
   "id": "3cf4c6ca-5bbf-40b8-a91b-c71a5335c582",
   "metadata": {},
   "outputs": [],
   "source": []
  },
  {
   "cell_type": "code",
   "execution_count": null,
   "id": "efd5ec71-b507-41a3-8b59-3dcf4bd95d5d",
   "metadata": {},
   "outputs": [],
   "source": [
    "reload(ut)\n",
    "Asc = nagano[nagano['cell_id'] == counts.index[0]]\n",
    "print(Asc['cell_id'].unique())\n",
    "\n",
    "# force symmetric bin pairs\n",
    "Asc = Asc[Asc['bin_1'].isin(Asc['bin_2'])]\n",
    "Asc = Asc[Asc['bin_2'].isin(Asc['bin_1'])]\n",
    "\n",
    "\n",
    "print(f\"{Asc.shape=}\")\n",
    "Asc = pd.pivot_table(Asc, \n",
    "                   index='bin_1', \n",
    "                   columns='bin_2',\n",
    "                   values='count', \n",
    "                   aggfunc='sum',\n",
    "                   fill_value=0,\n",
    "                  )\n",
    "Asc = ut.symmetrize(Asc)\n",
    "Asc_plot1 = Asc.copy()\n",
    "print(f\"{Asc.shape=}\")\n",
    "# Asc = ut.normalize_oe(ut.normalize_kr(Asc).todense())\n",
    "# Asc_plot1 = Asc.copy()\n",
    "\n",
    "threshold = 0\n",
    "Asc = np.where(Asc > threshold, 1, 0)\n",
    "num_components, _ = connected_components(Asc, directed=False)\n",
    "print(f\"Input network thresholded at {threshold=} has {num_components} connected component(s)\")\n",
    "\n",
    "# visualize\n",
    "plt.rcParams['figure.dpi'] = 200\n",
    "plt.rcParams['figure.figsize'] = 6, 3\n",
    "fig, axs = plt.subplots(1, 2, sharey=True)\n",
    "\n",
    "axs[0].imshow(np.log1p(Asc_plot1))\n",
    "axs[1].imshow(Asc)\n",
    "\n",
    "axs[0].set_title('Unnormalized')\n",
    "axs[1].set_title('Binary')\n",
    "\n",
    "axs[0].set_xticks([])\n",
    "axs[1].set_xticks([])\n",
    "\n",
    "plt.tight_layout()\n"
   ]
  },
  {
   "cell_type": "code",
   "execution_count": null,
   "id": "d61f93aa-d16a-43d1-b08f-377de16f9e2e",
   "metadata": {},
   "outputs": [],
   "source": [
    "gsc = recon.create_graph_tools_from_adjacency(Asc)\n",
    "hyperedges_sc = recon.learn_hyperedges_mcmc(gsc, niter=100)\n",
    "print(f\"{len(hyperedges_sc)=}\")\n",
    "\n",
    "reload(ut)\n",
    "Isc = ut.nested_list_to_incidence_matrix(hyperedges_sc)\n",
    "Isc = pd.DataFrame(Isc)\n",
    "print(f\"{Isc.shape=}\")\n",
    "\n",
    "node_params = {\n",
    "    's' : 5,\n",
    "    'ec' : 'k',\n",
    "    'lw' : 1,\n",
    "    'zorder' : 2,\n",
    "}\n",
    "\n",
    "line_params = {\n",
    "    'lw' : 0.5,\n",
    "    'alpha' : 0.5,\n",
    "    'zorder' : 1,\n",
    "    'ls' : '--',\n",
    "}\n",
    "\n",
    "plt.rcParams['figure.dpi'] = 200\n",
    "plt.rcParams['figure.figsize'] = 10, 5\n",
    "plt2.plot_incidence(ut.sort_by_lowest_index(Isc),\n",
    "                    node_color='k',\n",
    "                    node_params=node_params,\n",
    "                    line_params=line_params)"
   ]
  },
  {
   "cell_type": "code",
   "execution_count": null,
   "id": "936db79d-dfe9-4f5b-a767-053bd555b535",
   "metadata": {},
   "outputs": [],
   "source": [
    "plt.rcParams['figure.dpi'] = 200\n",
    "plt.rcParams['figure.figsize'] = 3, 2\n",
    "plt2.plot_incidence_order(Isc)"
   ]
  },
  {
   "cell_type": "code",
   "execution_count": null,
   "id": "860c7ed5-edc3-4b43-b987-119b556cc2a3",
   "metadata": {},
   "outputs": [],
   "source": [
    "# outpath = \"/nfs/turbo/umms-indikar/shared/projects/poreC/hypergraphs/sc_reconstruction.csv\"\n",
    "# Isc.to_csv(outpath)"
   ]
  },
  {
   "cell_type": "code",
   "execution_count": null,
   "id": "dc486877-422b-41a4-a25b-c7103faa215c",
   "metadata": {},
   "outputs": [],
   "source": [
    "break"
   ]
  },
  {
   "cell_type": "code",
   "execution_count": null,
   "id": "87677d39-d44e-4d57-a6de-53e646dae412",
   "metadata": {},
   "outputs": [],
   "source": [
    "break"
   ]
  },
  {
   "cell_type": "code",
   "execution_count": null,
   "id": "938fd77e-ece4-4bf7-a8a1-757085447719",
   "metadata": {},
   "outputs": [],
   "source": []
  },
  {
   "cell_type": "code",
   "execution_count": null,
   "id": "2f0945fa-04ea-4fe5-b2e5-0a1fc519f3ed",
   "metadata": {},
   "outputs": [],
   "source": []
  },
  {
   "cell_type": "code",
   "execution_count": null,
   "id": "5e4c4a27-6273-4314-8855-9ebc446b2974",
   "metadata": {},
   "outputs": [],
   "source": []
  }
 ],
 "metadata": {
  "kernelspec": {
   "display_name": "Python 3 (ipykernel)",
   "language": "python",
   "name": "python3"
  },
  "language_info": {
   "codemirror_mode": {
    "name": "ipython",
    "version": 3
   },
   "file_extension": ".py",
   "mimetype": "text/x-python",
   "name": "python",
   "nbconvert_exporter": "python",
   "pygments_lexer": "ipython3",
   "version": "3.10.9"
  }
 },
 "nbformat": 4,
 "nbformat_minor": 5
}
