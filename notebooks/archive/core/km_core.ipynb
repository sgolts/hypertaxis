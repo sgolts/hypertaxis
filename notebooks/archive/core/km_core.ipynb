{
 "cells": [
  {
   "cell_type": "code",
   "execution_count": 1,
   "id": "ced45658-862c-4f02-8407-472cca6fdd58",
   "metadata": {},
   "outputs": [
    {
     "ename": "ModuleNotFoundError",
     "evalue": "No module named 'sklearn'",
     "output_type": "error",
     "traceback": [
      "\u001b[0;31m---------------------------------------------------------------------------\u001b[0m",
      "\u001b[0;31mModuleNotFoundError\u001b[0m                       Traceback (most recent call last)",
      "Cell \u001b[0;32mIn[1], line 17\u001b[0m\n\u001b[1;32m     15\u001b[0m \u001b[38;5;28;01mimport\u001b[39;00m \u001b[38;5;21;01mhypercore\u001b[39;00m \u001b[38;5;28;01mas\u001b[39;00m \u001b[38;5;21;01mhc\u001b[39;00m\n\u001b[1;32m     16\u001b[0m \u001b[38;5;28;01mimport\u001b[39;00m \u001b[38;5;21;01mmatrix\u001b[39;00m \u001b[38;5;28;01mas\u001b[39;00m \u001b[38;5;21;01mmatrix\u001b[39;00m\n\u001b[0;32m---> 17\u001b[0m \u001b[38;5;28;01mimport\u001b[39;00m \u001b[38;5;21;01mreconstruction\u001b[39;00m \u001b[38;5;28;01mas\u001b[39;00m \u001b[38;5;21;01mrecon\u001b[39;00m\n",
      "File \u001b[0;32m~/git_repositories/higher-order-single-cell/source/reconstruction.py:2\u001b[0m\n\u001b[1;32m      1\u001b[0m \u001b[38;5;28;01mimport\u001b[39;00m \u001b[38;5;21;01mpandas\u001b[39;00m \u001b[38;5;28;01mas\u001b[39;00m \u001b[38;5;21;01mpd\u001b[39;00m\n\u001b[0;32m----> 2\u001b[0m \u001b[38;5;28;01mfrom\u001b[39;00m \u001b[38;5;21;01msklearn\u001b[39;00m \u001b[38;5;28;01mimport\u001b[39;00m metrics\n\u001b[1;32m      3\u001b[0m \u001b[38;5;28;01mimport\u001b[39;00m \u001b[38;5;21;01mscipy\u001b[39;00m\n\u001b[1;32m      4\u001b[0m \u001b[38;5;28;01mfrom\u001b[39;00m \u001b[38;5;21;01mscipy\u001b[39;00m\u001b[38;5;21;01m.\u001b[39;00m\u001b[38;5;21;01msparse\u001b[39;00m \u001b[38;5;28;01mimport\u001b[39;00m csr_matrix\n",
      "\u001b[0;31mModuleNotFoundError\u001b[0m: No module named 'sklearn'"
     ]
    }
   ],
   "source": [
    "import sys\n",
    "import os\n",
    "import pandas as pd\n",
    "import numpy as np\n",
    "import scipy\n",
    "from importlib import reload\n",
    "import matplotlib.pyplot as plt\n",
    "import seaborn as sns\n",
    "import networkx as nx\n",
    "\n",
    "source_path = os.path.abspath(\"../source/\")\n",
    "sys.path.append(source_path)\n",
    "import utils as ut\n",
    "import plotting as plt2\n",
    "import hypercore as hc\n",
    "import matrix as matrix\n",
    "import reconstruction as recon"
   ]
  },
  {
   "cell_type": "code",
   "execution_count": null,
   "id": "52aa70b7-aa63-40cb-8b29-554d84cde668",
   "metadata": {},
   "outputs": [],
   "source": [
    "break"
   ]
  },
  {
   "cell_type": "code",
   "execution_count": null,
   "id": "acf775b6-a1f5-4d48-8816-d45ae6addf3c",
   "metadata": {},
   "outputs": [],
   "source": [
    "# load the population data\n",
    "\n",
    "fpath = \"/scratch/indikar_root/indikar1/shared_data/higher_order/population_pore_c/chr1_1000000_incidence.csv\"\n",
    "\n",
    "# randomly sample columns to load faster\n",
    "# sample_size = 50000\n",
    "# n_cols = 122676\n",
    "# cols = list(range(n_cols))\n",
    "# rand_cols = np.random.choice(cols, sample_size, replace=False)\n",
    "# rand_cols = [str(x) for x in rand_cols]\n",
    "# rand_cols.insert(0, 'bin')\n",
    "# df = pd.read_csv(fpath, usecols=rand_cols)\n",
    "\n",
    "df = pd.read_csv(fpath)\n",
    "df = df.set_index('bin')\n",
    "print(f\"{df.shape=}\")\n",
    "df.head()"
   ]
  },
  {
   "cell_type": "code",
   "execution_count": null,
   "id": "a2064356-94da-49e6-a8b2-6a73192d85cd",
   "metadata": {},
   "outputs": [],
   "source": [
    "orders = df.sum(axis=0)\n",
    "\n",
    "# get the degree of higher order contacts\n",
    "high_order_idx = np.argwhere(orders.values > 2).ravel()\n",
    "df.columns[high_order_idx].shape\n"
   ]
  },
  {
   "cell_type": "code",
   "execution_count": null,
   "id": "549eef12-5aa4-4674-bb6a-77054ae6018c",
   "metadata": {},
   "outputs": [],
   "source": [
    "degrees = df.sum(axis=1)\n",
    "orders = df.sum(axis=0)\n",
    "\n",
    "# get the degree of higher order contacts\n",
    "high_order_idx = np.argwhere(orders.values > 2).ravel()\n",
    "ho_degrees = df[df.columns[high_order_idx]].sum(axis=1)\n",
    "\n",
    "plt.rcParams['figure.dpi'] = 200\n",
    "plt.rcParams['figure.figsize'] = 3.5, 2\n",
    "\n",
    "sns.histplot(x=ho_degrees,\n",
    "             kde=True,\n",
    "             color=\"C1\")\n",
    "\n",
    "plt.xlabel('Higher-Order Degree Distribution')\n",
    "plt.show()\n",
    "\n",
    "sns.histplot(x=orders[orders.values > 2],\n",
    "             discrete=True,\n",
    "             color=\"C1\")\n",
    "\n",
    "plt.gca().set_xticks(sorted(np.unique(orders)))\n",
    "plt.xlabel('Higher-Order Order Distribution')\n",
    "plt.show()\n"
   ]
  },
  {
   "cell_type": "code",
   "execution_count": null,
   "id": "3f4037ab-77cc-44da-9456-3b76a952d1aa",
   "metadata": {},
   "outputs": [],
   "source": [
    "node_params = {\n",
    "    's' : 1,\n",
    "    'ec' : 'k',\n",
    "    'lw' : 1,\n",
    "    'marker' : \".\",\n",
    "    'zorder' : 2,\n",
    "}\n",
    "\n",
    "line_params = {\n",
    "    'lw' : 0.1,\n",
    "    'alpha' : 0.5,\n",
    "    'zorder' : 1,\n",
    "}\n",
    "\n",
    "plt.rcParams['figure.dpi'] = 200\n",
    "plt.rcParams['figure.figsize'] = 8, 4\n",
    "\n",
    "sample_size = 500\n",
    "plt2.plot_incidence(ut.sort_by_lowest_index(df.T.sample(sample_size).T), \n",
    "               node_color='k',\n",
    "               node_params=node_params,\n",
    "               line_params=line_params)\n",
    "\n",
    "plt.title(f\"Sample of {sample_size} Hyperedges from Population Pore-C\")"
   ]
  },
  {
   "cell_type": "code",
   "execution_count": null,
   "id": "41bacf70-e6fa-402c-89ac-774330388092",
   "metadata": {},
   "outputs": [],
   "source": [
    "res = []\n",
    "\n",
    "n_nodes, n_edges = df.shape\n",
    "orders = df.sum(axis=0)\n",
    "high_order_idx = np.argwhere(orders.values > 3).ravel()\n",
    "ho_degrees = df[df.columns[high_order_idx]].sum(axis=1)\n",
    "\n",
    "data = ut.incidence_to_list_of_list(df)\n",
    "data = hc.prepare_for_hypercore_decomp(data, k=2)\n",
    "\n",
    "M = list(range(3, 8))\n",
    "K = list(range(10, 100, 2))\n",
    "\n",
    "for k in K:\n",
    "    for m in M:\n",
    "        mk_hyper = hc.m_k_decomposition(data, m, k)\n",
    "        \n",
    "        row = {\n",
    "            'm' : m,\n",
    "            'k' : k,\n",
    "            'nodes' : len(mk_hyper.nodes) / n_nodes ,\n",
    "            'edges' : len(mk_hyper.edges) / n_edges,\n",
    "        }\n",
    "        res.append(row)\n",
    "        \n",
    "res = pd.DataFrame(res)\n",
    "res.head()"
   ]
  },
  {
   "cell_type": "code",
   "execution_count": null,
   "id": "a5a834c9-afb9-49d4-ae02-0c3859c45331",
   "metadata": {},
   "outputs": [],
   "source": [
    "break"
   ]
  },
  {
   "cell_type": "code",
   "execution_count": null,
   "id": "28197d47-b841-4ada-ac5b-116fe7884230",
   "metadata": {},
   "outputs": [],
   "source": [
    "plt.rcParams['figure.dpi'] = 200\n",
    "plt.rcParams['figure.figsize'] = 5, 3\n",
    "\n",
    "sns.lineplot(data=res, \n",
    "             x='m',\n",
    "             y='edges',\n",
    "             hue='k',\n",
    "             alpha=0.75,\n",
    "             palette='viridis')\n",
    "\n",
    "plt.ylabel(\"% of Edges\")\n",
    "plt.show()\n",
    "\n",
    "sns.lineplot(data=res, \n",
    "             x='m',\n",
    "             y='nodes',\n",
    "             hue='k',\n",
    "             alpha=0.75,\n",
    "             palette='viridis')\n",
    "\n",
    "plt.ylabel(\"% of Nodes\")\n",
    "plt.show()"
   ]
  },
  {
   "cell_type": "code",
   "execution_count": null,
   "id": "0a9e44fa-b948-46a8-aef9-d9ae95d1dfb1",
   "metadata": {},
   "outputs": [],
   "source": [
    "m = 3\n",
    "k = 453\n",
    "mk_hyper = hc.m_k_decomposition(data, m, k)\n",
    "print(mk_hyper)\n",
    "I = hc.xgi_to_incidence(mk_hyper)"
   ]
  },
  {
   "cell_type": "code",
   "execution_count": null,
   "id": "af80d3a1-f19c-4515-8a6f-5effae660033",
   "metadata": {},
   "outputs": [],
   "source": [
    "plt.rcParams['figure.dpi'] = 200\n",
    "plt.rcParams['figure.figsize'] = 8, 4\n",
    "\n",
    "node_params = {\n",
    "    's' : 1,\n",
    "    'ec' : 'C0',\n",
    "    'lw' : 1,\n",
    "    'marker' : \".\",\n",
    "    'zorder' : 2,\n",
    "}\n",
    "\n",
    "line_params = {\n",
    "    'lw' : 0.1,\n",
    "    'alpha' : 0.5,\n",
    "    'zorder' : 1,\n",
    "}\n",
    "\n",
    "sample_size = 500\n",
    "plt2.plot_incidence(ut.sort_by_lowest_index(I.T.sample(sample_size).T), \n",
    "               node_color='C0',\n",
    "               node_params=node_params,\n",
    "               line_params=line_params)\n",
    "\n",
    "plt.title(f\"Sample of {sample_size} Hyperedges from Core\")"
   ]
  },
  {
   "cell_type": "code",
   "execution_count": null,
   "id": "88814f1f-61df-4988-885b-d5ad940a652b",
   "metadata": {},
   "outputs": [],
   "source": [
    "# Calculate singular values\n",
    "sample_size = 20000\n",
    "_, score, _ = np.linalg.svd(df.T.sample(sample_size).T, full_matrices=False)\n",
    "_, shat, _ = np.linalg.svd(I.T.sample(sample_size).T, full_matrices=False)\n",
    "\n",
    "score = score / score.sum()\n",
    "shat = shat / shat.sum()\n",
    "\n",
    "plt.rcParams['figure.dpi'] = 200\n",
    "plt.rcParams['figure.figsize'] = 5, 3\n",
    "plt.plot(score, marker='.', markersize=2, lw=0.5, label='Pore-C', alpha=0.5)\n",
    "plt.plot(shat, marker='.', markersize=2, lw=0.5, label='Core', alpha=0.5)\n",
    "\n",
    "# plt.yscale('log')\n",
    "plt.legend()\n",
    "plt.xlabel(\"Singular Value Index\")\n",
    "plt.ylabel(\"Singular Value\")\n",
    "plt.grid(True)\n",
    "\n",
    "print(score[:10])\n",
    "print()\n",
    "print(shat[:10])\n",
    "\n",
    "\n",
    "# output the condition number "
   ]
  },
  {
   "cell_type": "code",
   "execution_count": null,
   "id": "4e68dbec-6142-4e06-ab80-9d1e40f8a370",
   "metadata": {},
   "outputs": [],
   "source": [
    "# break"
   ]
  },
  {
   "cell_type": "markdown",
   "id": "0c26c780-153b-455d-b669-0f8942d501b1",
   "metadata": {},
   "source": [
    "# M = 3 core"
   ]
  },
  {
   "cell_type": "code",
   "execution_count": null,
   "id": "95278a54-b55c-45bc-b204-54665ae607e6",
   "metadata": {},
   "outputs": [],
   "source": [
    "m = 3\n",
    "K = list(range(10, 500, 5))\n",
    "\n",
    "data = ut.incidence_to_list_of_list(df)\n",
    "data = hc.prepare_for_hypercore_decomp(data, k=2)\n",
    "\n",
    "res = []\n",
    "\n",
    "for k in K:\n",
    "    mk_hyper = hc.m_k_decomposition(data, m, k)\n",
    "\n",
    "    row = {\n",
    "        'm' : m,\n",
    "        'k' : k,\n",
    "        'nodes' : len(mk_hyper.nodes) / n_nodes ,\n",
    "        'edges' : len(mk_hyper.edges) / n_edges,\n",
    "    }\n",
    "    res.append(row)\n",
    "        \n",
    "res = pd.DataFrame(res)\n",
    "res.head()"
   ]
  },
  {
   "cell_type": "code",
   "execution_count": null,
   "id": "b67c4688-7417-4807-b3aa-2f03839ccc4a",
   "metadata": {},
   "outputs": [],
   "source": [
    "plt.rcParams['figure.dpi'] = 200\n",
    "plt.rcParams['figure.figsize'] = 5, 3\n",
    "\n",
    "sns.lineplot(data=res,\n",
    "             x='k',\n",
    "             lw=1,\n",
    "             marker=\".\",\n",
    "             y='nodes')\n",
    "\n",
    "\n",
    "def get_knee_crude(query_values, return_values):\n",
    "    \"\"\"Finds the value at the first sharp change (knee) in a 1D NumPy array.\n",
    "\n",
    "    The function calculates the absolute difference between adjacent elements in \n",
    "    the `query_values` array and finds the index of the maximum difference. This \n",
    "    index is then used to retrieve the corresponding value from the `return_values` \n",
    "    array, which is considered the knee point (sharpest change) in the data.\n",
    "\n",
    "    Args:\n",
    "        query_values: A 1D NumPy array of values to analyze for the knee point.\n",
    "        return_values: A 1D NumPy array with values corresponding to the elements \n",
    "                       in `query_values`. The knee point value will be retrieved \n",
    "                       from this array.\n",
    "\n",
    "    Returns:\n",
    "        The value at the index of the first sharp change (knee) in `query_values`.\n",
    "    \"\"\"\n",
    "    differences = np.abs(np.diff(query_values))  \n",
    "    idx = np.argmax(differences) \n",
    "    return return_values[idx]\n",
    "\n",
    "cut = get_knee_crude(res['nodes'], res['k'])\n",
    "\n",
    "plt.axvline(x=cut, \n",
    "            lw=1, \n",
    "            ls=\":\", \n",
    "            zorder=0,\n",
    "            c='r')\n",
    "\n",
    "ax = plt.gca()\n",
    "xtick_label = ax.get_xticklabels()[ax.get_xticks().searchsorted(cut)] \n",
    "x_text = xtick_label.get_text()  # Get the xtick label as a string\n",
    "\n",
    "ax.text(cut, -0.041, cut, \n",
    "        ha='center', \n",
    "        va='top', \n",
    "        transform=ax.get_xaxis_transform(), \n",
    "        c='r',\n",
    "        rotation=0)\n",
    "\n",
    "plt.ylabel(\"% of Nodes\")\n",
    "plt.show()"
   ]
  },
  {
   "cell_type": "code",
   "execution_count": null,
   "id": "61f6c1d7-6d12-45be-ba77-f8249913721f",
   "metadata": {},
   "outputs": [],
   "source": [
    "m = 3\n",
    "k = 450\n",
    "mk_hyper = hc.m_k_decomposition(data, m, k)\n",
    "print(mk_hyper)"
   ]
  },
  {
   "cell_type": "code",
   "execution_count": null,
   "id": "6012fb62-ae27-4991-b685-dc677f4d3fcb",
   "metadata": {},
   "outputs": [],
   "source": [
    "33770 / df.shape[1]"
   ]
  },
  {
   "cell_type": "code",
   "execution_count": null,
   "id": "e228e882-7159-4df4-a438-fa02abcdc42d",
   "metadata": {},
   "outputs": [],
   "source": [
    "# break"
   ]
  },
  {
   "cell_type": "markdown",
   "id": "1fc1b96f-6e55-410b-ae1b-b5a2d3c36dab",
   "metadata": {},
   "source": [
    "# Validation"
   ]
  },
  {
   "cell_type": "code",
   "execution_count": null,
   "id": "613e9dcc-1f3c-441b-baf7-db1f01490822",
   "metadata": {},
   "outputs": [],
   "source": [
    "m = 3\n",
    "k = 450\n",
    "mk_hyper = hc.m_k_decomposition(data, m, k)\n",
    "print(mk_hyper)\n",
    "\n",
    "I = hc.xgi_to_incidence(mk_hyper)\n",
    "A = matrix.clique_expand_incidence(I, zero_diag=False)  \n",
    "\n",
    "print(f\"{I.shape=} {A.shape=}\")"
   ]
  },
  {
   "cell_type": "code",
   "execution_count": null,
   "id": "ccb491a5-21ff-4f3d-b70a-96049b8b1932",
   "metadata": {},
   "outputs": [],
   "source": [
    "plt.imshow(np.log1p(A))"
   ]
  },
  {
   "cell_type": "code",
   "execution_count": null,
   "id": "4647a5f6-faf4-4572-99c3-475f7af6df94",
   "metadata": {},
   "outputs": [],
   "source": [
    "orders = df.sum(axis=0)\n",
    "orders_core = I.sum(axis=0)\n",
    "\n",
    "tmp = pd.DataFrame({'order': np.concatenate([orders, orders_core])})\n",
    "tmp['label'] = np.where(tmp.index < len(orders), 'Pore-C', 'Core')\n",
    "\n",
    "tmp = tmp[tmp['order'] > 2]\n",
    "\n",
    "gx = tmp.groupby('label').agg(\n",
    "    mean = ('order', 'mean'),\n",
    "    median = ('order', 'median'),\n",
    ")\n",
    "\n",
    "print(gx)\n",
    "\n",
    "\n",
    "plt.rcParams['figure.dpi'] = 200\n",
    "plt.rcParams['figure.figsize'] = 3.5, 2\n",
    "\n",
    "sns.histplot(data=tmp,\n",
    "             x='order',\n",
    "             stat='percent',\n",
    "             discrete=True,\n",
    "             multiple='dodge',\n",
    "             hue='label')\n",
    "\n",
    "\n",
    "plt.gca().set_xticks(sorted(tmp['order'].unique()))\n",
    "plt.xlabel('Order Distribution')\n",
    "sns.move_legend(plt.gca(), \n",
    "                loc='upper right',\n",
    "                title=\"\")\n",
    "plt.show()"
   ]
  },
  {
   "cell_type": "markdown",
   "id": "2b2bea60-72c8-40cf-b018-b2fdce24d89b",
   "metadata": {},
   "source": [
    "# load population Hi-C"
   ]
  },
  {
   "cell_type": "code",
   "execution_count": null,
   "id": "8461b5de-f0d2-4adc-89bc-c3eb328c5525",
   "metadata": {},
   "outputs": [],
   "source": [
    "fpath = \"/scratch/indikar_root/indikar1/shared_data/higher_order/population_hic/chr1_1000000.csv\"\n",
    "\n",
    "Apop = pd.read_csv(fpath)\n",
    "Apop.index = Apop.index.astype(int)\n",
    "Apop.columns = Apop.columns.astype(int)\n",
    "print(f\"{Apop.shape=}\")\n",
    "\n",
    "plt.imshow(np.log1p(Apop))\n",
    "Apop.head()"
   ]
  },
  {
   "cell_type": "code",
   "execution_count": null,
   "id": "ee4f4cff-4ad6-4cf1-be25-539476961f79",
   "metadata": {},
   "outputs": [],
   "source": [
    "reload(matrix)\n",
    "nudge = 3\n",
    "Ahat = Apop.iloc[A.index + nudge].copy()\n",
    "Ahat = Ahat[A.index + nudge]\n",
    "\n",
    "Ahat = matrix.normalize_oe(matrix.normalize_kr(Ahat).todense())\n",
    "Acore = matrix.normalize_oe(matrix.normalize_kr(A).todense())\n",
    "\n",
    "n_outlier = 100\n",
    "Ahat = matrix.handle_outliers(Ahat, n_outlier)\n",
    "Acore = matrix.handle_outliers(Acore, n_outlier)\n",
    "\n",
    "plt.rcParams['figure.dpi'] = 200\n",
    "plt.rcParams['figure.figsize'] = 8, 4\n",
    "fig, axs = plt.subplots(1, 3, sharey=True)\n",
    "\n",
    "axs[0].imshow(Acore)\n",
    "axs[0].set_title('Core')\n",
    "axs[0].set_xticks([])\n",
    "\n",
    "axs[1].imshow(Ahat)\n",
    "axs[1].set_title('Hi-C')\n",
    "axs[1].set_xticks([])\n",
    "\n",
    "axs[2].imshow(Ahat - Acore, cmap='magma')\n",
    "axs[2].set_title('Difference')\n",
    "axs[2].set_xticks([])\n",
    "\n",
    "plt.tight_layout()"
   ]
  },
  {
   "cell_type": "markdown",
   "id": "09d06e87-7d4c-42ca-915f-bd28ae425143",
   "metadata": {},
   "source": [
    "# Scree plots"
   ]
  },
  {
   "cell_type": "code",
   "execution_count": null,
   "id": "9d5727a8-8c5f-4905-98b9-19a411441f1a",
   "metadata": {},
   "outputs": [],
   "source": [
    "# Calculate singular values\n",
    "_, score, _ = np.linalg.svd(Acore, full_matrices=False)\n",
    "_, shat, _ = np.linalg.svd(Ahat, full_matrices=False)\n",
    "\n",
    "score = score / score.sum()\n",
    "shat = shat / shat.sum()\n",
    "\n",
    "plt.rcParams['figure.dpi'] = 200\n",
    "plt.rcParams['figure.figsize'] = 5, 3\n",
    "plt.plot(score, marker='.', markersize=2, lw=0.5, label='Core')\n",
    "plt.plot(shat, marker='.', markersize=2, lw=0.5, label='Hi-C')\n",
    "\n",
    "plt.yscale('log')\n",
    "plt.legend()\n",
    "plt.xlabel(\"Singular Value Index\")\n",
    "plt.ylabel(\"Singular Value\")\n",
    "plt.grid(True)"
   ]
  },
  {
   "cell_type": "code",
   "execution_count": null,
   "id": "20057e5c-b3d0-4f7e-b40e-ba4adf8df2aa",
   "metadata": {},
   "outputs": [],
   "source": [
    "# break"
   ]
  },
  {
   "cell_type": "markdown",
   "id": "03201fea-43ee-4a13-aefe-9c28550c3ab5",
   "metadata": {},
   "source": [
    "# compare core to population"
   ]
  },
  {
   "cell_type": "code",
   "execution_count": null,
   "id": "99dc2841-d2be-4007-8f3f-7e7521432bd7",
   "metadata": {},
   "outputs": [],
   "source": [
    "# clique-expand the population data\n",
    "A_porec = A = matrix.clique_expand_incidence(df, zero_diag=False)  \n",
    "A_porec = A_porec.loc[A.index].copy()\n",
    "A_porec = A_porec[A.index]\n",
    "print(f\"{A_porec.shape=}\")\n",
    "\n",
    "A_porec = matrix.normalize_oe(matrix.normalize_kr(A_porec).todense())\n",
    "\n",
    "n_outlier = 100\n",
    "A_porec = matrix.handle_outliers(A_porec, n_outlier)\n",
    "\n",
    "plt.imshow(A_porec)"
   ]
  },
  {
   "cell_type": "code",
   "execution_count": null,
   "id": "d427ddef-c9f7-4a50-8596-1c0060b39692",
   "metadata": {},
   "outputs": [],
   "source": [
    "# Calculate singular values\n",
    "_, score, _ = np.linalg.svd(Acore, full_matrices=False)\n",
    "_, sporec, _ = np.linalg.svd(A_porec, full_matrices=False)\n",
    "\n",
    "score = score / score.sum()\n",
    "sporec = sporec / sporec.sum()\n",
    "\n",
    "plt.rcParams['figure.dpi'] = 200\n",
    "plt.rcParams['figure.figsize'] = 5, 3\n",
    "plt.plot(score, marker='.', markersize=2, lw=0.5, label='Core')\n",
    "plt.plot(sporec, marker='.', c='C2', markersize=2, lw=0.5, label='Pore-C')\n",
    "\n",
    "plt.yscale('log')\n",
    "plt.legend()\n",
    "plt.xlabel(\"Singular Value Index\")\n",
    "plt.ylabel(\"Singular Value\")\n",
    "plt.grid(True)"
   ]
  },
  {
   "cell_type": "markdown",
   "id": "bf3fedc1-8198-44de-bb7e-febf4cb2de34",
   "metadata": {},
   "source": [
    "# Centrality compairison "
   ]
  },
  {
   "cell_type": "code",
   "execution_count": null,
   "id": "a293def6-10ec-4a38-b15c-c451d82bfe62",
   "metadata": {},
   "outputs": [],
   "source": [
    "def get_centralities(mats, labels):\n",
    "    \"\"\"A function to return centralities \"\"\"\n",
    "    \n",
    "    res = []\n",
    "    for mat, label in zip(mats, labels):\n",
    "        G = nx.from_numpy_array(mat)\n",
    "        tmp = nx.eigenvector_centrality(G, weight='weight')\n",
    "        tmp = pd.DataFrame({\n",
    "            'bin' : tmp.keys(),\n",
    "            'value' : tmp.values(),\n",
    "        })\n",
    "        tmp['label'] = label\n",
    "        tmp['measure'] = 'eigenvector_centrality'\n",
    "    \n",
    "        res.append(tmp)\n",
    "        \n",
    "    return pd.concat(res)\n",
    "        \n",
    "res = get_centralities([Acore, Ahat], ['Core', 'Hi-C'])    \n",
    "res.head()\n",
    "\n",
    "plt.rcParams['figure.dpi'] = 200\n",
    "plt.rcParams['figure.figsize'] = 7, 2\n",
    "sns.lineplot(data=res, \n",
    "             x='bin',\n",
    "             y='value',\n",
    "             hue='label',\n",
    "             lw=1,)\n",
    "\n",
    "sns.move_legend(plt.gca(), \n",
    "                loc='upper left',\n",
    "                title=\"\")\n",
    "\n",
    "plt.xlabel('Loci')\n",
    "plt.ylabel('Centrality')\n",
    "\n",
    "plt.show()\n",
    "\n",
    "tmp = pd.pivot_table(res, \n",
    "               index='bin', \n",
    "               columns='label', \n",
    "               values='value')\n",
    "\n",
    "tmp.corr()"
   ]
  },
  {
   "cell_type": "markdown",
   "id": "3662385b-cbd7-404a-9d1f-43baa42105c2",
   "metadata": {},
   "source": [
    "# Between-ness"
   ]
  },
  {
   "cell_type": "code",
   "execution_count": null,
   "id": "050e43df-a0ae-4768-8bcf-418b3c9c8e06",
   "metadata": {},
   "outputs": [],
   "source": [
    "# Gcore = nx.from_numpy_array(Acore)\n",
    "# Ghat = nx.from_numpy_array(Ahat)\n",
    "\n",
    "# core_btw = nx.edge_betweenness_centrality(Gcore, weight='weight')\n",
    "# hat_btw = nx.edge_betweenness_centrality(Ghat, weight='weight')\n",
    "\n",
    "# tmp = pd.DataFrame({'bin1' : [x[0] for x in hat_btw.keys()],\n",
    "#                     'bin2' : [x[1] for x in hat_btw.keys()],\n",
    "#                     'key' : hat_btw.keys()})\n",
    "\n",
    "# tmp['Core'] = tmp['key'].map(core_btw)\n",
    "# tmp['Hi-C'] = tmp['key'].map(hat_btw)\n",
    "\n",
    "\n",
    "# tmp = tmp[tmp['Core'].notna()]\n",
    "# tmp = tmp[tmp['Hi-C'].notna()]\n",
    "\n",
    "# scipy.stats.pearsonr(tmp['Core'].values, tmp['Hi-C'].values)"
   ]
  },
  {
   "cell_type": "code",
   "execution_count": null,
   "id": "3f197134-6a35-4a19-9552-c0e18da68b97",
   "metadata": {},
   "outputs": [],
   "source": [
    "# break"
   ]
  },
  {
   "cell_type": "markdown",
   "id": "d575e3ea-a10b-4d3f-88ef-64338fafb28a",
   "metadata": {},
   "source": [
    "# Variable k"
   ]
  },
  {
   "cell_type": "code",
   "execution_count": null,
   "id": "df8ebfdc-b12f-40dc-881d-d8d2073d50ca",
   "metadata": {},
   "outputs": [],
   "source": [
    "m = 3\n",
    "n_outlier = 100\n",
    "res = []\n",
    "\n",
    "for k in [10, 110, 210, 310, 410]:\n",
    "    print(f\"{k=}...\")\n",
    "    mk_hyper = hc.m_k_decomposition(data, m, k)\n",
    "    print(mk_hyper)\n",
    "    Itest = hc.xgi_to_incidence(mk_hyper)\n",
    "    Atest = matrix.clique_expand_incidence(Itest, zero_diag=False)  \n",
    "    \n",
    "    nudge = 3\n",
    "    Ahat = Apop.iloc[Atest.index + nudge].copy()\n",
    "    Ahat = Ahat[Atest.index + nudge]\n",
    "\n",
    "    Ahat = matrix.normalize_oe(matrix.normalize_kr(Ahat).todense())\n",
    "    Atest = matrix.normalize_oe(matrix.normalize_kr(Atest).todense())\n",
    "    \n",
    "    Ahat = matrix.handle_outliers(Ahat, n_outlier)\n",
    "    Atest = matrix.handle_outliers(Atest, n_outlier)\n",
    "    \n",
    "    row = {\n",
    "        'k' : k,\n",
    "        'norm' : np.linalg.norm(Ahat - Atest),\n",
    "    }\n",
    "        \n",
    "    res.append(row)\n",
    "    \n",
    "res = pd.DataFrame(res)\n",
    "res.head()"
   ]
  },
  {
   "cell_type": "code",
   "execution_count": null,
   "id": "de053402-a6f2-4fda-9ee8-96f7f67ec423",
   "metadata": {},
   "outputs": [],
   "source": [
    "plt.rcParams['figure.dpi'] = 200\n",
    "plt.rcParams['figure.figsize'] = 3, 3\n",
    "\n",
    "sns.lineplot(data=res,\n",
    "             x='k',\n",
    "             marker=\"o\",\n",
    "             y='norm')\n",
    "\n",
    "plt.ylabel(r\"$||A_{core} - A_{hic}||_F$\")"
   ]
  },
  {
   "cell_type": "markdown",
   "id": "87dfb0b7-55ef-478d-b959-0486fa0b0780",
   "metadata": {},
   "source": [
    "# Permutation test"
   ]
  },
  {
   "cell_type": "code",
   "execution_count": null,
   "id": "71dafe07-6c1c-4f3b-9650-dfb8f7d94131",
   "metadata": {},
   "outputs": [],
   "source": [
    "# @TODO"
   ]
  },
  {
   "cell_type": "markdown",
   "id": "88821bb3-2562-4fcf-8974-d024bd837e8e",
   "metadata": {},
   "source": [
    "# Larntz-Perlman"
   ]
  },
  {
   "cell_type": "code",
   "execution_count": null,
   "id": "cd5f55de-b96d-435b-a2f0-b7b4e2b16bf5",
   "metadata": {},
   "outputs": [],
   "source": [
    "# reprocess the data\n",
    "m = 3\n",
    "k = 100\n",
    "mk_hyper = hc.m_k_decomposition(data, m, k)\n",
    "print(mk_hyper)\n",
    "\n",
    "I = hc.xgi_to_incidence(mk_hyper)\n",
    "A = matrix.clique_expand_incidence(I, zero_diag=False)  \n",
    "\n",
    "print(f\"{I.shape=} {A.shape=}\")\n",
    "\n",
    "reload(matrix)\n",
    "nudge = 3\n",
    "Ahat = Apop.iloc[A.index + nudge].copy()\n",
    "Ahat = Ahat[A.index + nudge]\n",
    "\n",
    "Ahat = matrix.normalize_oe(matrix.normalize_kr(Ahat).todense())\n",
    "Acore = matrix.normalize_oe(matrix.normalize_kr(A).todense())\n",
    "\n",
    "n_outlier = 100\n",
    "Ahat = matrix.handle_outliers(Ahat, n_outlier)\n",
    "Acore = matrix.handle_outliers(Acore, n_outlier)\n",
    "\n",
    "print(f\"{Ahat.shape=} {Acore.shape=}\")"
   ]
  },
  {
   "cell_type": "code",
   "execution_count": null,
   "id": "31f41e84-0c9c-4a5a-b66c-7e59f5f2e7f8",
   "metadata": {},
   "outputs": [],
   "source": [
    "reload(matrix)\n",
    "\n",
    "plt.rcParams['figure.dpi'] = 200\n",
    "plt.rcParams['figure.figsize'] = 8, 4\n",
    "fig, axs = plt.subplots(1, 2, sharey=True)\n",
    "\n",
    "Acore_corr = np.corrcoef(Acore)\n",
    "Ahat_corr = np.corrcoef(Ahat)\n",
    "\n",
    "axs[0].imshow(Acore_corr)\n",
    "axs[0].set_title('Core')\n",
    "axs[0].set_xticks([])\n",
    "\n",
    "axs[1].imshow(Ahat_corr)\n",
    "axs[1].set_title('Hi-C')\n",
    "axs[1].set_xticks([])\n",
    "\n",
    "plt.tight_layout()"
   ]
  },
  {
   "cell_type": "code",
   "execution_count": null,
   "id": "cb7de848-320c-4c0b-9b34-797263aa2f08",
   "metadata": {},
   "outputs": [],
   "source": [
    "reload(matrix)\n",
    "\n",
    "\"\"\"\n",
    "Rejecting the null hypothesis suggests that the two correlation matrices provide evidence of \n",
    "distinct relationships between the variables they represent. There's a statistically significant difference \n",
    "in the way correlations are structured within the matrices.\n",
    "\"\"\"\n",
    "\n",
    "h0, p_mat, s_mat, p_value = matrix.larntzPerlman(Acore_corr, Ahat_corr, sample_size=2)\n",
    "print(f\"Reject H0: {~h0} {p_value=}\") \n",
    "\n",
    "plt.imshow(s_mat, cmap='magma')\n",
    "_ = plt.xticks([])\n",
    "_ = plt.yticks([])\n",
    "plt.title(r\"LP Test $H_0:A_{core} = A_{hic}$ \")"
   ]
  },
  {
   "cell_type": "code",
   "execution_count": null,
   "id": "bb01f29a-36ef-416b-9c83-ad1b082ce516",
   "metadata": {},
   "outputs": [],
   "source": [
    "break"
   ]
  },
  {
   "cell_type": "markdown",
   "id": "4cd44d20-e0ed-47f5-b56a-a1275c13d382",
   "metadata": {},
   "source": [
    "# Reconstruction"
   ]
  },
  {
   "cell_type": "code",
   "execution_count": null,
   "id": "7858dd9f-a1bb-4e3f-bba5-c93233fb515a",
   "metadata": {},
   "outputs": [],
   "source": [
    "# reprocess the data\n",
    "m = 3\n",
    "k = 450\n",
    "mk_hyper = hc.m_k_decomposition(data, m, k)\n",
    "print(mk_hyper)\n",
    "\n",
    "I = hc.xgi_to_incidence(mk_hyper)\n",
    "A = matrix.clique_expand_incidence(I, zero_diag=False)  \n",
    "\n",
    "print(f\"{I.shape=} {A.shape=}\")\n",
    "\n",
    "reload(matrix)\n",
    "nudge = 3\n",
    "Ahat = Apop.iloc[A.index + nudge].copy()\n",
    "Ahat = Ahat[A.index + nudge]\n",
    "\n",
    "Ahat = matrix.normalize_oe(matrix.normalize_kr(Ahat).todense())\n",
    "Acore = matrix.normalize_oe(matrix.normalize_kr(A).todense())\n",
    "\n",
    "n_outlier = 100\n",
    "Ahat = matrix.handle_outliers(Ahat, n_outlier)\n",
    "Acore = matrix.handle_outliers(Acore, n_outlier)\n",
    "\n",
    "print(f\"{Ahat.shape=} {Acore.shape=}\")"
   ]
  },
  {
   "cell_type": "code",
   "execution_count": null,
   "id": "684ab8d4-eb87-4cc9-8719-208fecd70f59",
   "metadata": {},
   "outputs": [],
   "source": [
    "# prepare Hi-C data\n",
    "t = 1.2\n",
    "Ahat_thresolded = np.where(Ahat > t, Ahat, 0)\n",
    "\n",
    "plt.rcParams['figure.dpi'] = 200\n",
    "plt.rcParams['figure.figsize'] = 3, 3\n",
    "\n",
    "plt.imshow(Ahat_thresolded)\n",
    "_ = plt.xticks([])\n",
    "_ = plt.yticks([])\n",
    "plt.title(f\"Binarized at {t=}\")"
   ]
  },
  {
   "cell_type": "code",
   "execution_count": null,
   "id": "098ea2d4-2830-4c01-8382-73be74b62417",
   "metadata": {},
   "outputs": [],
   "source": [
    "# reconstruct the hi-c data\n",
    "g = recon.create_graph_tools_from_adjacency(Ahat_thresolded)\n",
    "hyperedges = recon.learn_hyperedges_mcmc(g, niter=30)\n",
    "\n",
    "print(f\"{len(hyperedges)=}\")"
   ]
  },
  {
   "cell_type": "code",
   "execution_count": null,
   "id": "7d459dbf-b992-43fc-8b83-2917cd47bb7d",
   "metadata": {},
   "outputs": [],
   "source": [
    "Irecon = ut.list_of_list_to_incidence(hyperedges)\n",
    "\n",
    "orders_core = I.sum(axis=0)\n",
    "orders_recon = Irecon.sum(axis=0)\n",
    "\n",
    "tmp = pd.DataFrame({'order': np.concatenate([orders_core, orders_recon])})\n",
    "tmp['label'] = np.where(tmp.index < len(orders_core), 'Core',  'Reconstruction')\n",
    "\n",
    "tmp = tmp[tmp['order'] > 2]\n",
    "\n",
    "gx = tmp.groupby('label').agg(\n",
    "    mean = ('order', 'mean'),\n",
    "    median = ('order', 'median'),\n",
    ")\n",
    "\n",
    "print(gx)\n",
    "\n",
    "plt.rcParams['figure.dpi'] = 200\n",
    "plt.rcParams['figure.figsize'] = 3.5, 2\n",
    "\n",
    "sns.histplot(data=tmp,\n",
    "             x='order',\n",
    "             stat='percent',\n",
    "             discrete=True,\n",
    "             multiple='dodge',\n",
    "             hue='label')\n",
    "\n",
    "plt.gca().set_xticks(sorted(tmp['order'].unique()))\n",
    "plt.xlabel('Order Distribution')\n",
    "sns.move_legend(plt.gca(), \n",
    "                loc='upper right',\n",
    "                title=\"\")\n",
    "plt.show()"
   ]
  },
  {
   "cell_type": "code",
   "execution_count": null,
   "id": "0d65a3f6-61e8-45f7-bcaa-8b899ccb4837",
   "metadata": {},
   "outputs": [],
   "source": []
  },
  {
   "cell_type": "code",
   "execution_count": null,
   "id": "3c0ec45c-87ae-40e1-8ced-f5cd01b33d60",
   "metadata": {},
   "outputs": [],
   "source": []
  },
  {
   "cell_type": "code",
   "execution_count": null,
   "id": "23770226-04d0-4d04-ac9e-8197cad45060",
   "metadata": {},
   "outputs": [],
   "source": []
  },
  {
   "cell_type": "code",
   "execution_count": null,
   "id": "40e774f9-cce2-4bbd-aa97-1f44a60911a1",
   "metadata": {},
   "outputs": [],
   "source": []
  },
  {
   "cell_type": "code",
   "execution_count": null,
   "id": "9e7588fc-746e-472b-a9f8-71e29bd665d0",
   "metadata": {},
   "outputs": [],
   "source": []
  },
  {
   "cell_type": "code",
   "execution_count": null,
   "id": "b1bf5846-07e7-4eab-b051-5a74c78c9f90",
   "metadata": {},
   "outputs": [],
   "source": [
    "break"
   ]
  },
  {
   "cell_type": "markdown",
   "id": "33cb93ce-8bde-4b4b-b5ef-8edc2dd4b500",
   "metadata": {},
   "source": [
    "# test"
   ]
  },
  {
   "cell_type": "code",
   "execution_count": null,
   "id": "c3191922-9950-4759-b93d-4f8cfc1d4485",
   "metadata": {},
   "outputs": [],
   "source": []
  },
  {
   "cell_type": "code",
   "execution_count": null,
   "id": "f3d950f3-8df7-4e31-bec4-7e1efe2bf8a9",
   "metadata": {},
   "outputs": [],
   "source": []
  }
 ],
 "metadata": {
  "kernelspec": {
   "display_name": "higher_order",
   "language": "python",
   "name": "higher_order"
  },
  "language_info": {
   "codemirror_mode": {
    "name": "ipython",
    "version": 3
   },
   "file_extension": ".py",
   "mimetype": "text/x-python",
   "name": "python",
   "nbconvert_exporter": "python",
   "pygments_lexer": "ipython3",
   "version": "3.12.3"
  }
 },
 "nbformat": 4,
 "nbformat_minor": 5
}
