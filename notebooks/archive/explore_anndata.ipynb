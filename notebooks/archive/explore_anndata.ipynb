{
 "cells": [
  {
   "cell_type": "code",
   "execution_count": 1,
   "id": "36acff1d-e27c-469d-be1e-488da2a49f39",
   "metadata": {},
   "outputs": [],
   "source": [
    "import os\n",
    "import sys\n",
    "import pandas as pd\n",
    "import numpy as np\n",
    "import glob\n",
    "import time\n",
    "import gget\n",
    "import scipy\n",
    "from scipy.sparse import csr_matrix\n",
    "import anndata as an\n",
    "import scanpy as sc\n",
    "import matplotlib.pyplot as plt\n",
    "import seaborn as sns\n",
    "import networkx as nx\n",
    "from importlib import reload\n",
    "import warnings\n",
    "import ot\n",
    "\n",
    "from sklearn.decomposition import TruncatedSVD\n",
    "from sklearn.preprocessing import MinMaxScaler\n",
    "\n",
    "\"\"\"WARNING: no warnings\"\"\"\n",
    "warnings.filterwarnings(\"ignore\")\n",
    "\n",
    "# local imports\n",
    "\n",
    "import anndata_utils as anntools\n",
    "\n",
    "source_path = os.path.abspath(\"../source/\")\n",
    "sys.path.append(source_path)\n",
    "import centrality as central\n",
    "import matrix\n",
    "import utils as ut\n",
    "import plotting as plt2"
   ]
  },
  {
   "cell_type": "code",
   "execution_count": 2,
   "id": "88e6f952-3e8b-4a8a-bc07-adf59961e945",
   "metadata": {},
   "outputs": [
    {
     "name": "stdout",
     "output_type": "stream",
     "text": [
      "Time taken to read the file: 141.42 seconds\n",
      "Memory usage: current 3.04 GB, difference +3.04 GB\n"
     ]
    },
    {
     "data": {
      "text/plain": [
       "AnnData object with n_obs × n_vars = 2579 × 2756467\n",
       "    obs: 'bin_index', 'bin_start', 'bin_end', 'bin', 'chrom', 'chrom_bin', 'degree', 'genes', 'n_genes', 'ATACSeq_1', 'ATACSeq_2', 'ATACSeq_3', 'CTCF', 'H3K27ac', 'H3K27me3', 'RNA_1', 'RNA_2', 'RNA_3', 'RNA_4', 'RNA_5', 'RNA_6'\n",
       "    var: 'read_index', 'basename', 'mean_mapq', 'median_mapq', 'n_chromosomes', 'order', 'n_bins', 'read_length_bp', 'genes', 'n_genes'\n",
       "    uns: 'base_resolution', 'chrom_sizes', 'gdf', 'gene_map', 'intervals'\n",
       "    layers: 'H'"
      ]
     },
     "execution_count": 2,
     "metadata": {},
     "output_type": "execute_result"
    }
   ],
   "source": [
    "fpath = \"/scratch/indikar_root/indikar1/shared_data/higher_order/anndata/population_mESC_1000000_features.h5ad\"\n",
    "# fpath = \"/scratch/indikar_root/indikar1/shared_data/higher_order/anndata/singlecell_mESC_1000000_features.h5ad\"\n",
    "start_time = time.time()  # Record the start time\n",
    "adata = sc.read_h5ad(fpath)\n",
    "end_time = time.time()  # Record the end time\n",
    "print(f\"Time taken to read the file: {end_time - start_time:.2f} seconds\")\n",
    "sc.logging.print_memory_usage()\n",
    "adata"
   ]
  },
  {
   "cell_type": "code",
   "execution_count": 3,
   "id": "34afe1f4-370b-43f2-b97b-53bc98cf4491",
   "metadata": {},
   "outputs": [
    {
     "data": {
      "text/plain": [
       "higher_order\n",
       "True     0.80905\n",
       "False    0.19095\n",
       "Name: proportion, dtype: float64"
      ]
     },
     "execution_count": 3,
     "metadata": {},
     "output_type": "execute_result"
    }
   ],
   "source": [
    "adata.var['higher_order'] = adata.var['order'] > 2\n",
    "adata.var['higher_order'].value_counts(normalize=True)"
   ]
  },
  {
   "cell_type": "code",
   "execution_count": 4,
   "id": "4482faa8-948a-407e-8236-12e8d23b5627",
   "metadata": {},
   "outputs": [
    {
     "data": {
      "text/plain": [
       "2.6306605520762627"
      ]
     },
     "execution_count": 4,
     "metadata": {},
     "output_type": "execute_result"
    }
   ],
   "source": [
    "adata.var['n_chromosomes'].mean()"
   ]
  },
  {
   "cell_type": "code",
   "execution_count": 5,
   "id": "55d58b8a-1ce5-4d02-ad24-4c404a935a80",
   "metadata": {},
   "outputs": [
    {
     "name": "stdout",
     "output_type": "stream",
     "text": [
      "Coverage is 0.976 of loci at 1000000Bp resolution\n"
     ]
    }
   ],
   "source": [
    "coverage = adata.X.shape[0] / adata.uns['intervals'].shape[0]\n",
    "resolution = adata.uns['base_resolution']\n",
    "print(f\"Coverage is {coverage:.3f} of loci at {resolution}Bp resolution\")"
   ]
  },
  {
   "cell_type": "code",
   "execution_count": 6,
   "id": "c7440865-9a14-4831-87bf-bd8aa02765fa",
   "metadata": {},
   "outputs": [],
   "source": [
    "# result = []\n",
    "\n",
    "# bins = [2, 3, 4, 5,  float('inf')]  \n",
    "# labels = ['2  ', '3  ', '4  ', '5+',]\n",
    "\n",
    "# for chromosome in adata.uns['chrom_sizes']['chrom']:\n",
    "#     cdata = anntools.extract_chromosome(adata, chromosome)\n",
    "#     var = cdata.var.copy()\n",
    "#     order_binned = pd.cut(var['chrom_order'], bins=bins, labels=labels, right=False)\n",
    "#     row = order_binned.value_counts(normalize=True).to_dict()\n",
    "#     row['chrom'] = chromosome\n",
    "#     result.append(row)\n",
    "\n",
    "# result = pd.DataFrame(result)\n",
    "# result = result.set_index('chrom')\n",
    "# result"
   ]
  },
  {
   "cell_type": "code",
   "execution_count": 7,
   "id": "d7cdab1b-f8aa-4ddc-8368-7bba9519abbf",
   "metadata": {},
   "outputs": [],
   "source": [
    "# plt.rcParams['figure.dpi'] = 200\n",
    "# plt.rcParams['figure.figsize'] = 12, 5\n",
    "\n",
    "# sns.heatmap(\n",
    "#     data=result.T,\n",
    "#     square=True,\n",
    "#     annot=True,\n",
    "#     fmt=\".2f\",  # Format \n",
    "#     cbar_kws={'shrink' : 0.35, 'label' : '% Contacts'},\n",
    "# )\n",
    "\n",
    "# plt.xlabel('Chromosome')\n",
    "# plt.ylabel('Order')\n",
    "# plt.gca().tick_params(axis='y', rotation=0)"
   ]
  },
  {
   "cell_type": "markdown",
   "id": "e9916265-6e78-4acb-969f-15faac74f58b",
   "metadata": {},
   "source": [
    "# Extract Single Chromosome"
   ]
  },
  {
   "cell_type": "code",
   "execution_count": 8,
   "id": "55169cec-c48b-437c-9890-8a16735ea2a4",
   "metadata": {},
   "outputs": [
    {
     "data": {
      "text/plain": [
       "View of AnnData object with n_obs × n_vars = 179 × 186499\n",
       "    obs: 'bin_index', 'bin_start', 'bin_end', 'bin', 'chrom', 'chrom_bin', 'degree', 'genes', 'n_genes', 'ATACSeq_1', 'ATACSeq_2', 'ATACSeq_3', 'CTCF', 'H3K27ac', 'H3K27me3', 'RNA_1', 'RNA_2', 'RNA_3', 'RNA_4', 'RNA_5', 'RNA_6', 'chrom_degree'\n",
       "    var: 'read_index', 'basename', 'mean_mapq', 'median_mapq', 'n_chromosomes', 'order', 'n_bins', 'read_length_bp', 'genes', 'n_genes', 'higher_order', 'chrom_order'\n",
       "    uns: 'base_resolution', 'chrom_sizes', 'gdf', 'gene_map', 'intervals'\n",
       "    layers: 'H'"
      ]
     },
     "execution_count": 8,
     "metadata": {},
     "output_type": "execute_result"
    }
   ],
   "source": [
    "chromosome = \"2\"\n",
    "cdata = anntools.extract_chromosome(adata, chromosome)\n",
    "\n",
    "cdata"
   ]
  },
  {
   "cell_type": "markdown",
   "id": "680d33d1-0689-48c8-a3b6-019ccc628e4c",
   "metadata": {},
   "source": [
    "# A bit of QC"
   ]
  },
  {
   "cell_type": "code",
   "execution_count": 9,
   "id": "48951aa4-d883-4f8b-989e-2c4d34462b18",
   "metadata": {},
   "outputs": [
    {
     "data": {
      "text/html": [
       "<div>\n",
       "<style scoped>\n",
       "    .dataframe tbody tr th:only-of-type {\n",
       "        vertical-align: middle;\n",
       "    }\n",
       "\n",
       "    .dataframe tbody tr th {\n",
       "        vertical-align: top;\n",
       "    }\n",
       "\n",
       "    .dataframe thead th {\n",
       "        text-align: right;\n",
       "    }\n",
       "</style>\n",
       "<table border=\"1\" class=\"dataframe\">\n",
       "  <thead>\n",
       "    <tr style=\"text-align: right;\">\n",
       "      <th></th>\n",
       "      <th>chrom_bin</th>\n",
       "      <th>chrom_degree</th>\n",
       "      <th>degree_outlier</th>\n",
       "    </tr>\n",
       "    <tr>\n",
       "      <th>bin_name</th>\n",
       "      <th></th>\n",
       "      <th></th>\n",
       "      <th></th>\n",
       "    </tr>\n",
       "  </thead>\n",
       "  <tbody>\n",
       "    <tr>\n",
       "      <th>chr2:98</th>\n",
       "      <td>98</td>\n",
       "      <td>93161</td>\n",
       "      <td>True</td>\n",
       "    </tr>\n",
       "    <tr>\n",
       "      <th>chr2:177</th>\n",
       "      <td>177</td>\n",
       "      <td>3700</td>\n",
       "      <td>True</td>\n",
       "    </tr>\n",
       "    <tr>\n",
       "      <th>chr2:174</th>\n",
       "      <td>174</td>\n",
       "      <td>2636</td>\n",
       "      <td>False</td>\n",
       "    </tr>\n",
       "    <tr>\n",
       "      <th>chr2:176</th>\n",
       "      <td>176</td>\n",
       "      <td>2293</td>\n",
       "      <td>False</td>\n",
       "    </tr>\n",
       "    <tr>\n",
       "      <th>chr2:77</th>\n",
       "      <td>77</td>\n",
       "      <td>2283</td>\n",
       "      <td>False</td>\n",
       "    </tr>\n",
       "  </tbody>\n",
       "</table>\n",
       "</div>"
      ],
      "text/plain": [
       "          chrom_bin  chrom_degree  degree_outlier\n",
       "bin_name                                         \n",
       "chr2:98          98         93161            True\n",
       "chr2:177        177          3700            True\n",
       "chr2:174        174          2636           False\n",
       "chr2:176        176          2293           False\n",
       "chr2:77          77          2283           False"
      ]
     },
     "execution_count": 9,
     "metadata": {},
     "output_type": "execute_result"
    }
   ],
   "source": [
    "def find_outliers_iqr(df_column):\n",
    "  \"\"\"\n",
    "  Identifies outliers in a pandas DataFrame column using the IQR method.\n",
    "\n",
    "  Args:\n",
    "    df_column: A pandas Series representing the column to analyze.\n",
    "\n",
    "  Returns:\n",
    "    A boolean mask with True for outliers and False otherwise.\n",
    "  \"\"\"\n",
    "  Q1 = df_column.quantile(0.15)\n",
    "  Q3 = df_column.quantile(0.85)\n",
    "  IQR = Q3 - Q1\n",
    "  lower_bound = Q1 - 1.5 * IQR\n",
    "  upper_bound = Q3 + 1.5 * IQR\n",
    "  return (df_column < lower_bound) | (df_column > upper_bound)\n",
    "\n",
    "cdata.obs['degree_outlier'] = find_outliers_iqr(cdata.obs['chrom_degree'])\n",
    "cdata.obs[['chrom_bin', 'chrom_degree', 'degree_outlier']].sort_values(by='chrom_degree', ascending=False).head()"
   ]
  },
  {
   "cell_type": "markdown",
   "id": "bff7a28b-1c9f-4943-89b7-b05d5c3bd4e7",
   "metadata": {},
   "source": [
    "# Drop the outlier indices"
   ]
  },
  {
   "cell_type": "code",
   "execution_count": 10,
   "id": "dd5e9601-c073-47a3-a0e2-1916b5180640",
   "metadata": {},
   "outputs": [
    {
     "data": {
      "text/plain": [
       "AnnData object with n_obs × n_vars = 176 × 186499\n",
       "    obs: 'bin_index', 'bin_start', 'bin_end', 'bin', 'chrom', 'chrom_bin', 'degree', 'genes', 'n_genes', 'ATACSeq_1', 'ATACSeq_2', 'ATACSeq_3', 'CTCF', 'H3K27ac', 'H3K27me3', 'RNA_1', 'RNA_2', 'RNA_3', 'RNA_4', 'RNA_5', 'RNA_6', 'chrom_degree', 'degree_outlier'\n",
       "    var: 'read_index', 'basename', 'mean_mapq', 'median_mapq', 'n_chromosomes', 'order', 'n_bins', 'read_length_bp', 'genes', 'n_genes', 'higher_order', 'chrom_order'\n",
       "    uns: 'base_resolution', 'chrom_sizes', 'gdf', 'gene_map', 'intervals'\n",
       "    layers: 'H'"
      ]
     },
     "execution_count": 10,
     "metadata": {},
     "output_type": "execute_result"
    }
   ],
   "source": [
    "cdata = cdata[~cdata.obs['degree_outlier'], : ].copy()\n",
    "cdata"
   ]
  },
  {
   "cell_type": "markdown",
   "id": "dc1bdce2-0670-435f-9c96-64ddd9491e99",
   "metadata": {},
   "source": [
    "# Plot Degree and Order"
   ]
  },
  {
   "cell_type": "code",
   "execution_count": 11,
   "id": "5313c65f-2707-44ac-be69-d45cc52bcc1d",
   "metadata": {},
   "outputs": [
    {
     "data": {
      "image/png": "[encoded data removed]",
      "text/plain": [
       "<Figure size 1500x900 with 1 Axes>"
      ]
     },
     "metadata": {},
     "output_type": "display_data"
    },
    {
     "data": {
      "image/png": "[encoded data removed]",
      "text/plain": [
       "<Figure size 1500x900 with 1 Axes>"
      ]
     },
     "metadata": {},
     "output_type": "display_data"
    }
   ],
   "source": [
    "plt.rcParams['figure.dpi'] = 300\n",
    "plt.rcParams['figure.figsize'] = 5, 3\n",
    "\n",
    "sns.histplot(\n",
    "    data=cdata.obs,\n",
    "    x='chrom_degree',\n",
    "    bins=21,\n",
    ")\n",
    "plt.xlabel('Degree')\n",
    "plt.ylabel('Nodes')\n",
    "sns.despine()\n",
    "plt.show()\n",
    "\n",
    "sns.histplot(\n",
    "    data=cdata.var,\n",
    "    x='chrom_order',\n",
    "    discrete=True,\n",
    ")\n",
    "\n",
    "plt.xlabel('Order')\n",
    "plt.ylabel('Hyperedges')\n",
    "sns.despine()\n",
    "plt.show()"
   ]
  },
  {
   "cell_type": "markdown",
   "id": "25fd0568-f9d6-4ed6-8b1d-1ef7249e813d",
   "metadata": {},
   "source": [
    "# Plot incidence matrix"
   ]
  },
  {
   "cell_type": "code",
   "execution_count": 12,
   "id": "39664b78-060a-4115-9d09-8b8034526874",
   "metadata": {},
   "outputs": [
    {
     "name": "stdout",
     "output_type": "stream",
     "text": [
      "H.shape=(176, 186499)\n"
     ]
    },
    {
     "data": {
      "text/html": [
       "<div>\n",
       "<style scoped>\n",
       "    .dataframe tbody tr th:only-of-type {\n",
       "        vertical-align: middle;\n",
       "    }\n",
       "\n",
       "    .dataframe tbody tr th {\n",
       "        vertical-align: top;\n",
       "    }\n",
       "\n",
       "    .dataframe thead th {\n",
       "        text-align: right;\n",
       "    }\n",
       "</style>\n",
       "<table border=\"1\" class=\"dataframe\">\n",
       "  <thead>\n",
       "    <tr style=\"text-align: right;\">\n",
       "      <th>read_name</th>\n",
       "      <th>3db453c3-be68-417e-bf3f-7d660af7d1aa</th>\n",
       "      <th>2e567d50-8451-4643-a981-1cd91a0062c0</th>\n",
       "      <th>32e53ef8-c394-4db7-bb72-e29a3281a26f</th>\n",
       "      <th>3b0686b6-f18f-495d-89f5-8c8b286c2bb1</th>\n",
       "      <th>ef7ff38e-a5fe-4692-b270-9a704ffa2981</th>\n",
       "      <th>b079fedb-5786-48f4-a0f4-f0e72b85a88f</th>\n",
       "      <th>dc63595a-de81-4976-b052-4f514babc44a</th>\n",
       "      <th>b40b53f2-eb37-4ab7-81c8-ba08d8fd43eb</th>\n",
       "      <th>c7e3608d-c42b-4c51-a1be-c8944d9746a5</th>\n",
       "      <th>b0e7292e-f949-46dc-b91c-7efa75d6f52c</th>\n",
       "      <th>...</th>\n",
       "      <th>0a70ae47-a7fc-43a8-b4f4-48bfa6baf150</th>\n",
       "      <th>0cc4844b-a178-468d-80a1-60bada11b821</th>\n",
       "      <th>45c6a088-2ab4-45c6-856f-12b1a508d94b</th>\n",
       "      <th>50de958b-9a35-4f47-ae81-b248a7edeac5</th>\n",
       "      <th>dc0b7b0b-4a14-49a2-8e48-8416b44f8996</th>\n",
       "      <th>851fee48-7d5e-4de9-9f76-234f2727d0df</th>\n",
       "      <th>ab473b94-fd20-41ed-84d3-e2453b279729</th>\n",
       "      <th>f119b2eb-6b7b-4f13-970d-63d4c83f210d</th>\n",
       "      <th>ceec151d-f1cc-41ed-a0ef-f0636e252160</th>\n",
       "      <th>c26a58f7-0a8c-44e8-bbcc-0bddace54970</th>\n",
       "    </tr>\n",
       "  </thead>\n",
       "  <tbody>\n",
       "    <tr>\n",
       "      <th>3</th>\n",
       "      <td>0</td>\n",
       "      <td>0</td>\n",
       "      <td>0</td>\n",
       "      <td>0</td>\n",
       "      <td>0</td>\n",
       "      <td>0</td>\n",
       "      <td>0</td>\n",
       "      <td>0</td>\n",
       "      <td>0</td>\n",
       "      <td>0</td>\n",
       "      <td>...</td>\n",
       "      <td>0</td>\n",
       "      <td>0</td>\n",
       "      <td>0</td>\n",
       "      <td>0</td>\n",
       "      <td>0</td>\n",
       "      <td>0</td>\n",
       "      <td>0</td>\n",
       "      <td>0</td>\n",
       "      <td>0</td>\n",
       "      <td>0</td>\n",
       "    </tr>\n",
       "    <tr>\n",
       "      <th>4</th>\n",
       "      <td>0</td>\n",
       "      <td>0</td>\n",
       "      <td>0</td>\n",
       "      <td>0</td>\n",
       "      <td>0</td>\n",
       "      <td>0</td>\n",
       "      <td>0</td>\n",
       "      <td>0</td>\n",
       "      <td>0</td>\n",
       "      <td>0</td>\n",
       "      <td>...</td>\n",
       "      <td>0</td>\n",
       "      <td>0</td>\n",
       "      <td>0</td>\n",
       "      <td>0</td>\n",
       "      <td>0</td>\n",
       "      <td>0</td>\n",
       "      <td>0</td>\n",
       "      <td>0</td>\n",
       "      <td>0</td>\n",
       "      <td>0</td>\n",
       "    </tr>\n",
       "    <tr>\n",
       "      <th>5</th>\n",
       "      <td>0</td>\n",
       "      <td>0</td>\n",
       "      <td>0</td>\n",
       "      <td>0</td>\n",
       "      <td>0</td>\n",
       "      <td>0</td>\n",
       "      <td>0</td>\n",
       "      <td>0</td>\n",
       "      <td>0</td>\n",
       "      <td>0</td>\n",
       "      <td>...</td>\n",
       "      <td>0</td>\n",
       "      <td>0</td>\n",
       "      <td>0</td>\n",
       "      <td>0</td>\n",
       "      <td>0</td>\n",
       "      <td>0</td>\n",
       "      <td>0</td>\n",
       "      <td>0</td>\n",
       "      <td>0</td>\n",
       "      <td>0</td>\n",
       "    </tr>\n",
       "    <tr>\n",
       "      <th>6</th>\n",
       "      <td>0</td>\n",
       "      <td>0</td>\n",
       "      <td>0</td>\n",
       "      <td>0</td>\n",
       "      <td>0</td>\n",
       "      <td>0</td>\n",
       "      <td>0</td>\n",
       "      <td>0</td>\n",
       "      <td>0</td>\n",
       "      <td>0</td>\n",
       "      <td>...</td>\n",
       "      <td>0</td>\n",
       "      <td>0</td>\n",
       "      <td>0</td>\n",
       "      <td>0</td>\n",
       "      <td>0</td>\n",
       "      <td>0</td>\n",
       "      <td>0</td>\n",
       "      <td>0</td>\n",
       "      <td>0</td>\n",
       "      <td>0</td>\n",
       "    </tr>\n",
       "    <tr>\n",
       "      <th>7</th>\n",
       "      <td>0</td>\n",
       "      <td>0</td>\n",
       "      <td>0</td>\n",
       "      <td>0</td>\n",
       "      <td>0</td>\n",
       "      <td>0</td>\n",
       "      <td>0</td>\n",
       "      <td>0</td>\n",
       "      <td>0</td>\n",
       "      <td>0</td>\n",
       "      <td>...</td>\n",
       "      <td>0</td>\n",
       "      <td>0</td>\n",
       "      <td>0</td>\n",
       "      <td>0</td>\n",
       "      <td>0</td>\n",
       "      <td>0</td>\n",
       "      <td>0</td>\n",
       "      <td>0</td>\n",
       "      <td>0</td>\n",
       "      <td>0</td>\n",
       "    </tr>\n",
       "  </tbody>\n",
       "</table>\n",
       "<p>5 rows × 186499 columns</p>\n",
       "</div>"
      ],
      "text/plain": [
       "read_name  3db453c3-be68-417e-bf3f-7d660af7d1aa  \\\n",
       "3                                             0   \n",
       "4                                             0   \n",
       "5                                             0   \n",
       "6                                             0   \n",
       "7                                             0   \n",
       "\n",
       "read_name  2e567d50-8451-4643-a981-1cd91a0062c0  \\\n",
       "3                                             0   \n",
       "4                                             0   \n",
       "5                                             0   \n",
       "6                                             0   \n",
       "7                                             0   \n",
       "\n",
       "read_name  32e53ef8-c394-4db7-bb72-e29a3281a26f  \\\n",
       "3                                             0   \n",
       "4                                             0   \n",
       "5                                             0   \n",
       "6                                             0   \n",
       "7                                             0   \n",
       "\n",
       "read_name  3b0686b6-f18f-495d-89f5-8c8b286c2bb1  \\\n",
       "3                                             0   \n",
       "4                                             0   \n",
       "5                                             0   \n",
       "6                                             0   \n",
       "7                                             0   \n",
       "\n",
       "read_name  ef7ff38e-a5fe-4692-b270-9a704ffa2981  \\\n",
       "3                                             0   \n",
       "4                                             0   \n",
       "5                                             0   \n",
       "6                                             0   \n",
       "7                                             0   \n",
       "\n",
       "read_name  b079fedb-5786-48f4-a0f4-f0e72b85a88f  \\\n",
       "3                                             0   \n",
       "4                                             0   \n",
       "5                                             0   \n",
       "6                                             0   \n",
       "7                                             0   \n",
       "\n",
       "read_name  dc63595a-de81-4976-b052-4f514babc44a  \\\n",
       "3                                             0   \n",
       "4                                             0   \n",
       "5                                             0   \n",
       "6                                             0   \n",
       "7                                             0   \n",
       "\n",
       "read_name  b40b53f2-eb37-4ab7-81c8-ba08d8fd43eb  \\\n",
       "3                                             0   \n",
       "4                                             0   \n",
       "5                                             0   \n",
       "6                                             0   \n",
       "7                                             0   \n",
       "\n",
       "read_name  c7e3608d-c42b-4c51-a1be-c8944d9746a5  \\\n",
       "3                                             0   \n",
       "4                                             0   \n",
       "5                                             0   \n",
       "6                                             0   \n",
       "7                                             0   \n",
       "\n",
       "read_name  b0e7292e-f949-46dc-b91c-7efa75d6f52c  ...  \\\n",
       "3                                             0  ...   \n",
       "4                                             0  ...   \n",
       "5                                             0  ...   \n",
       "6                                             0  ...   \n",
       "7                                             0  ...   \n",
       "\n",
       "read_name  0a70ae47-a7fc-43a8-b4f4-48bfa6baf150  \\\n",
       "3                                             0   \n",
       "4                                             0   \n",
       "5                                             0   \n",
       "6                                             0   \n",
       "7                                             0   \n",
       "\n",
       "read_name  0cc4844b-a178-468d-80a1-60bada11b821  \\\n",
       "3                                             0   \n",
       "4                                             0   \n",
       "5                                             0   \n",
       "6                                             0   \n",
       "7                                             0   \n",
       "\n",
       "read_name  45c6a088-2ab4-45c6-856f-12b1a508d94b  \\\n",
       "3                                             0   \n",
       "4                                             0   \n",
       "5                                             0   \n",
       "6                                             0   \n",
       "7                                             0   \n",
       "\n",
       "read_name  50de958b-9a35-4f47-ae81-b248a7edeac5  \\\n",
       "3                                             0   \n",
       "4                                             0   \n",
       "5                                             0   \n",
       "6                                             0   \n",
       "7                                             0   \n",
       "\n",
       "read_name  dc0b7b0b-4a14-49a2-8e48-8416b44f8996  \\\n",
       "3                                             0   \n",
       "4                                             0   \n",
       "5                                             0   \n",
       "6                                             0   \n",
       "7                                             0   \n",
       "\n",
       "read_name  851fee48-7d5e-4de9-9f76-234f2727d0df  \\\n",
       "3                                             0   \n",
       "4                                             0   \n",
       "5                                             0   \n",
       "6                                             0   \n",
       "7                                             0   \n",
       "\n",
       "read_name  ab473b94-fd20-41ed-84d3-e2453b279729  \\\n",
       "3                                             0   \n",
       "4                                             0   \n",
       "5                                             0   \n",
       "6                                             0   \n",
       "7                                             0   \n",
       "\n",
       "read_name  f119b2eb-6b7b-4f13-970d-63d4c83f210d  \\\n",
       "3                                             0   \n",
       "4                                             0   \n",
       "5                                             0   \n",
       "6                                             0   \n",
       "7                                             0   \n",
       "\n",
       "read_name  ceec151d-f1cc-41ed-a0ef-f0636e252160  \\\n",
       "3                                             0   \n",
       "4                                             0   \n",
       "5                                             0   \n",
       "6                                             0   \n",
       "7                                             0   \n",
       "\n",
       "read_name  c26a58f7-0a8c-44e8-bbcc-0bddace54970  \n",
       "3                                             0  \n",
       "4                                             0  \n",
       "5                                             0  \n",
       "6                                             0  \n",
       "7                                             0  \n",
       "\n",
       "[5 rows x 186499 columns]"
      ]
     },
     "execution_count": 12,
     "metadata": {},
     "output_type": "execute_result"
    }
   ],
   "source": [
    "H = cdata.to_df()\n",
    "H.index = cdata.obs['chrom_bin'].values\n",
    "H = H.sort_index()\n",
    "print(f\"{H.shape=}\")\n",
    "H.head()"
   ]
  },
  {
   "cell_type": "code",
   "execution_count": 13,
   "id": "d56e7a9c-978c-41ce-b5af-9896110db782",
   "metadata": {},
   "outputs": [
    {
     "data": {
      "text/plain": [
       "([], [])"
      ]
     },
     "execution_count": 13,
     "metadata": {},
     "output_type": "execute_result"
    },
    {
     "data": {
      "image/png": "[encoded data removed]",
      "text/plain": [
       "<Figure size 1000x600 with 1 Axes>"
      ]
     },
     "metadata": {},
     "output_type": "display_data"
    }
   ],
   "source": [
    "sample_size = 100\n",
    "pdf = ut.sort_by_lowest_index(H.T.sample(sample_size).T) # sample and sort\n",
    "\n",
    "# Calculate row and column sums\n",
    "row_sums = pdf.sum(axis=1)\n",
    "col_sums = pdf.sum(axis=0)\n",
    "\n",
    "# Create the heatmap\n",
    "plt.rcParams['figure.dpi'] = 200\n",
    "plt.rcParams['figure.figsize'] = 5, 3\n",
    "\n",
    "sns.heatmap(\n",
    "    data=pdf,\n",
    "    cmap='gnuplot',\n",
    "    cbar=False,\n",
    ")\n",
    "plt.ylabel(f\"Chromosome {chromosome} Loci\")\n",
    "plt.xlabel(f\"Pore-C Read\")\n",
    "plt.xticks([])\n",
    "plt.yticks([])\n"
   ]
  },
  {
   "cell_type": "code",
   "execution_count": 14,
   "id": "be96cee4-df87-4660-921e-70416b48fb4b",
   "metadata": {},
   "outputs": [
    {
     "data": {
      "text/plain": [
       "Text(0.5, 1.0, 'Chromosome 2')"
      ]
     },
     "execution_count": 14,
     "metadata": {},
     "output_type": "execute_result"
    },
    {
     "data": {
      "image/png": "[encoded data removed]",
      "text/plain": [
       "<Figure size 1600x1000 with 1 Axes>"
      ]
     },
     "metadata": {},
     "output_type": "display_data"
    }
   ],
   "source": [
    "node_params = {\n",
    "    's' : 1,\n",
    "    'ec' : 'k',\n",
    "    'lw' : 1,\n",
    "    'marker' : \".\",\n",
    "    'zorder' : 2,\n",
    "}\n",
    "\n",
    "line_params = {\n",
    "    'lw' : 0.1,\n",
    "    'alpha' : 0.5,\n",
    "    'zorder' : 1,\n",
    "}\n",
    "\n",
    "plt.rcParams['figure.dpi'] = 200\n",
    "plt.rcParams['figure.figsize'] = 8, 5\n",
    "\n",
    "sample_size = 500\n",
    "pdf = ut.sort_by_lowest_index(H.T.sample(sample_size).T)\n",
    "\n",
    "plt2.plot_incidence(\n",
    "    pdf, \n",
    "    node_color='k',\n",
    "    node_params=node_params,\n",
    "    line_params=line_params,\n",
    ")\n",
    "\n",
    "plt.title(f\"Chromosome {chromosome}\")"
   ]
  },
  {
   "cell_type": "code",
   "execution_count": 15,
   "id": "00f6c1ce-eddf-4fb8-8499-8ef8c40e226f",
   "metadata": {},
   "outputs": [],
   "source": [
    "# break"
   ]
  },
  {
   "cell_type": "markdown",
   "id": "2f0cd06d-de60-4771-83bf-8f02342f79b8",
   "metadata": {},
   "source": [
    "# Clique-Expand the Data"
   ]
  },
  {
   "cell_type": "code",
   "execution_count": 16,
   "id": "ab5b9ba0-260f-4ab9-aae3-6d8690271d92",
   "metadata": {},
   "outputs": [
    {
     "name": "stdout",
     "output_type": "stream",
     "text": [
      "cdata.obsm['A'].shape=(176, 176)\n",
      "cdata.obsm['A_oe'].shape=(176, 176)\n"
     ]
    },
    {
     "data": {
      "text/plain": [
       "Text(0.5, 51.44444444444443, '')"
      ]
     },
     "execution_count": 16,
     "metadata": {},
     "output_type": "execute_result"
    },
    {
     "data": {
      "image/png": "[encoded data removed]",
      "text/plain": [
       "<Figure size 1600x1000 with 2 Axes>"
      ]
     },
     "metadata": {},
     "output_type": "display_data"
    }
   ],
   "source": [
    "cdata.obsm['A'] = matrix.clique_expand_incidence(cdata.to_df(layer='H'), zero_diag=False) \n",
    "print(f\"{cdata.obsm['A'].shape=}\")\n",
    "\n",
    "# add the KR normalized expansion\n",
    "A_kr = matrix.normalize_kr(cdata.obsm['A'].to_numpy())\n",
    "\n",
    "A_kr = pd.DataFrame(\n",
    "    A_kr.todense(), \n",
    "    index=cdata.obs_names, \n",
    "    columns=cdata.obs_names,\n",
    ")\n",
    "cdata.obsm['A_kr'] = A_kr\n",
    "\n",
    "# add the OE normalized matrix\n",
    "A_oe = matrix.normalize_oe(cdata.obsm['A_kr'].to_numpy())\n",
    "A_oe = pd.DataFrame(\n",
    "    A_oe, \n",
    "    index=cdata.obs_names, \n",
    "    columns=cdata.obs_names,\n",
    ")\n",
    "cdata.obsm['A_oe'] = A_oe\n",
    "\n",
    "print(f\"{cdata.obsm['A_oe'].shape=}\")\n",
    "\n",
    "sns.heatmap(\n",
    "    cdata.obsm['A_oe'],\n",
    "    square=True,\n",
    "    cmap='Reds',\n",
    "    cbar_kws={'shrink' : 0.45, 'label' : 'Contacts'},\n",
    ")\n",
    "\n",
    "plt.yticks([])\n",
    "plt.xticks([])\n",
    "\n",
    "plt.title(f\"Chromosome {chromosome} (O/E)\")\n",
    "plt.ylabel(f\"Loci\")\n",
    "plt.xlabel(\"\")"
   ]
  },
  {
   "cell_type": "markdown",
   "id": "afb240fe-5e6b-451f-9440-bb3579e3d93b",
   "metadata": {},
   "source": [
    "# Network Centralities"
   ]
  },
  {
   "cell_type": "code",
   "execution_count": 17,
   "id": "6ccdd47c-e451-4570-9261-9a511ceb01c4",
   "metadata": {},
   "outputs": [
    {
     "name": "stdout",
     "output_type": "stream",
     "text": [
      "Using obsm key: A_oe\n",
      "Graph with 176 nodes and 15549 edges\n",
      "ce_degree_centrality <function degree_centrality at 0x14b807ba7b00>\n",
      "ce_eigenvector_centrality <function eigenvector_centrality at 0x14b807bc4540>\n",
      "ce_closeness_centrality <function closeness_centrality at 0x14b807ba5800>\n",
      "ce_betweenness_centrality <function betweenness_centrality at 0x14b807b4bec0>\n"
     ]
    },
    {
     "data": {
      "text/html": [
       "<div>\n",
       "<style scoped>\n",
       "    .dataframe tbody tr th:only-of-type {\n",
       "        vertical-align: middle;\n",
       "    }\n",
       "\n",
       "    .dataframe tbody tr th {\n",
       "        vertical-align: top;\n",
       "    }\n",
       "\n",
       "    .dataframe thead th {\n",
       "        text-align: right;\n",
       "    }\n",
       "</style>\n",
       "<table border=\"1\" class=\"dataframe\">\n",
       "  <thead>\n",
       "    <tr style=\"text-align: right;\">\n",
       "      <th></th>\n",
       "      <th>ce_degree_centrality</th>\n",
       "      <th>ce_eigenvector_centrality</th>\n",
       "      <th>ce_closeness_centrality</th>\n",
       "      <th>ce_betweenness_centrality</th>\n",
       "    </tr>\n",
       "    <tr>\n",
       "      <th>bin_name</th>\n",
       "      <th></th>\n",
       "      <th></th>\n",
       "      <th></th>\n",
       "      <th></th>\n",
       "    </tr>\n",
       "  </thead>\n",
       "  <tbody>\n",
       "    <tr>\n",
       "      <th>chr2:3</th>\n",
       "      <td>1.011429</td>\n",
       "      <td>0.075508</td>\n",
       "      <td>1.000000</td>\n",
       "      <td>0.00001</td>\n",
       "    </tr>\n",
       "    <tr>\n",
       "      <th>chr2:4</th>\n",
       "      <td>1.005714</td>\n",
       "      <td>0.075081</td>\n",
       "      <td>0.994318</td>\n",
       "      <td>0.00001</td>\n",
       "    </tr>\n",
       "    <tr>\n",
       "      <th>chr2:5</th>\n",
       "      <td>1.011429</td>\n",
       "      <td>0.075508</td>\n",
       "      <td>1.000000</td>\n",
       "      <td>0.00001</td>\n",
       "    </tr>\n",
       "    <tr>\n",
       "      <th>chr2:6</th>\n",
       "      <td>1.011429</td>\n",
       "      <td>0.075508</td>\n",
       "      <td>1.000000</td>\n",
       "      <td>0.00001</td>\n",
       "    </tr>\n",
       "    <tr>\n",
       "      <th>chr2:7</th>\n",
       "      <td>1.011429</td>\n",
       "      <td>0.075508</td>\n",
       "      <td>1.000000</td>\n",
       "      <td>0.00001</td>\n",
       "    </tr>\n",
       "  </tbody>\n",
       "</table>\n",
       "</div>"
      ],
      "text/plain": [
       "          ce_degree_centrality  ce_eigenvector_centrality  \\\n",
       "bin_name                                                    \n",
       "chr2:3                1.011429                   0.075508   \n",
       "chr2:4                1.005714                   0.075081   \n",
       "chr2:5                1.011429                   0.075508   \n",
       "chr2:6                1.011429                   0.075508   \n",
       "chr2:7                1.011429                   0.075508   \n",
       "\n",
       "          ce_closeness_centrality  ce_betweenness_centrality  \n",
       "bin_name                                                      \n",
       "chr2:3                   1.000000                    0.00001  \n",
       "chr2:4                   0.994318                    0.00001  \n",
       "chr2:5                   1.000000                    0.00001  \n",
       "chr2:6                   1.000000                    0.00001  \n",
       "chr2:7                   1.000000                    0.00001  "
      ]
     },
     "execution_count": 17,
     "metadata": {},
     "output_type": "execute_result"
    }
   ],
   "source": [
    "ce_centralities = {\n",
    "    'ce_degree_centrality' : nx.degree_centrality,\n",
    "    'ce_eigenvector_centrality' : nx.eigenvector_centrality,\n",
    "    'ce_closeness_centrality' : nx.closeness_centrality,\n",
    "    'ce_betweenness_centrality' : nx.betweenness_centrality,\n",
    "}\n",
    "\n",
    "obsm_key = 'A_oe'\n",
    "q_threshold = 0.75\n",
    "print(f\"Using obsm key: {obsm_key}\")\n",
    "A = cdata.obsm[obsm_key]\n",
    "\n",
    "# # binarization\n",
    "# q = np.quantile(A, q_threshold)\n",
    "# print(f\"Threshold: {q=:.3}\")\n",
    "# A_bin = A.applymap(lambda x: 1 if x > q else 0)\n",
    "\n",
    "G = nx.from_pandas_adjacency(A)\n",
    "print(G)\n",
    "\n",
    "for measure_name, func in ce_centralities.items():\n",
    "    print(measure_name, func)\n",
    "    centrality = func(G)\n",
    "    cdata.obs[measure_name] = cdata.obs.index.map(centrality)\n",
    "\n",
    "cdata.obs[list(ce_centralities.keys())].head()"
   ]
  },
  {
   "cell_type": "code",
   "execution_count": 18,
   "id": "81cfbb76-6c47-4d32-b52a-9b56d6a54305",
   "metadata": {},
   "outputs": [
    {
     "data": {
      "text/html": [
       "<div>\n",
       "<style scoped>\n",
       "    .dataframe tbody tr th:only-of-type {\n",
       "        vertical-align: middle;\n",
       "    }\n",
       "\n",
       "    .dataframe tbody tr th {\n",
       "        vertical-align: top;\n",
       "    }\n",
       "\n",
       "    .dataframe thead th {\n",
       "        text-align: right;\n",
       "    }\n",
       "</style>\n",
       "<table border=\"1\" class=\"dataframe\">\n",
       "  <thead>\n",
       "    <tr style=\"text-align: right;\">\n",
       "      <th></th>\n",
       "      <th>n_genes</th>\n",
       "      <th>ATACSeq_1</th>\n",
       "      <th>CTCF</th>\n",
       "      <th>H3K27ac</th>\n",
       "      <th>H3K27me3</th>\n",
       "      <th>ce_eigenvector_centrality</th>\n",
       "    </tr>\n",
       "  </thead>\n",
       "  <tbody>\n",
       "    <tr>\n",
       "      <th>n_genes</th>\n",
       "      <td>1.000000</td>\n",
       "      <td>0.282308</td>\n",
       "      <td>0.444731</td>\n",
       "      <td>0.377527</td>\n",
       "      <td>0.052193</td>\n",
       "      <td>0.134369</td>\n",
       "    </tr>\n",
       "    <tr>\n",
       "      <th>ATACSeq_1</th>\n",
       "      <td>0.282308</td>\n",
       "      <td>1.000000</td>\n",
       "      <td>0.836030</td>\n",
       "      <td>0.728975</td>\n",
       "      <td>0.332647</td>\n",
       "      <td>0.208888</td>\n",
       "    </tr>\n",
       "    <tr>\n",
       "      <th>CTCF</th>\n",
       "      <td>0.444731</td>\n",
       "      <td>0.836030</td>\n",
       "      <td>1.000000</td>\n",
       "      <td>0.877495</td>\n",
       "      <td>0.307813</td>\n",
       "      <td>0.107595</td>\n",
       "    </tr>\n",
       "    <tr>\n",
       "      <th>H3K27ac</th>\n",
       "      <td>0.377527</td>\n",
       "      <td>0.728975</td>\n",
       "      <td>0.877495</td>\n",
       "      <td>1.000000</td>\n",
       "      <td>0.045913</td>\n",
       "      <td>0.075916</td>\n",
       "    </tr>\n",
       "    <tr>\n",
       "      <th>H3K27me3</th>\n",
       "      <td>0.052193</td>\n",
       "      <td>0.332647</td>\n",
       "      <td>0.307813</td>\n",
       "      <td>0.045913</td>\n",
       "      <td>1.000000</td>\n",
       "      <td>0.132978</td>\n",
       "    </tr>\n",
       "    <tr>\n",
       "      <th>ce_eigenvector_centrality</th>\n",
       "      <td>0.134369</td>\n",
       "      <td>0.208888</td>\n",
       "      <td>0.107595</td>\n",
       "      <td>0.075916</td>\n",
       "      <td>0.132978</td>\n",
       "      <td>1.000000</td>\n",
       "    </tr>\n",
       "  </tbody>\n",
       "</table>\n",
       "</div>"
      ],
      "text/plain": [
       "                            n_genes  ATACSeq_1      CTCF   H3K27ac  H3K27me3  \\\n",
       "n_genes                    1.000000   0.282308  0.444731  0.377527  0.052193   \n",
       "ATACSeq_1                  0.282308   1.000000  0.836030  0.728975  0.332647   \n",
       "CTCF                       0.444731   0.836030  1.000000  0.877495  0.307813   \n",
       "H3K27ac                    0.377527   0.728975  0.877495  1.000000  0.045913   \n",
       "H3K27me3                   0.052193   0.332647  0.307813  0.045913  1.000000   \n",
       "ce_eigenvector_centrality  0.134369   0.208888  0.107595  0.075916  0.132978   \n",
       "\n",
       "                           ce_eigenvector_centrality  \n",
       "n_genes                                     0.134369  \n",
       "ATACSeq_1                                   0.208888  \n",
       "CTCF                                        0.107595  \n",
       "H3K27ac                                     0.075916  \n",
       "H3K27me3                                    0.132978  \n",
       "ce_eigenvector_centrality                   1.000000  "
      ]
     },
     "execution_count": 18,
     "metadata": {},
     "output_type": "execute_result"
    }
   ],
   "source": [
    "pdf = cdata.obs.copy()\n",
    "\n",
    "columns = [\n",
    "    'n_genes', \n",
    "    'ATACSeq_1', \n",
    "    'CTCF', \n",
    "    'H3K27ac', \n",
    "    'H3K27me3',\n",
    "    'ce_eigenvector_centrality'\n",
    "]\n",
    "\n",
    "corr = pdf[columns].corr()\n",
    "corr"
   ]
  },
  {
   "cell_type": "code",
   "execution_count": 19,
   "id": "8cf4014c-36f2-4b22-b8d4-1ba3740d2d2b",
   "metadata": {},
   "outputs": [],
   "source": [
    "# pdf = cdata.obs.copy()\n",
    "# pdf = pdf.sort_values(by='chrom_bin')\n",
    "\n",
    "# for centrality in list(ce_centralities.keys()):\n",
    "#     print(centrality)\n",
    "    \n",
    "#     plt.rcParams['figure.dpi'] = 200\n",
    "#     plt.rcParams['figure.figsize'] = 10, 2.5\n",
    "\n",
    "#     y = scipy.stats.zscore(pdf[centrality])\n",
    "    \n",
    "#     sns.barplot(\n",
    "#         data=pdf,\n",
    "#         x='chrom_bin',\n",
    "#         y=y,\n",
    "#         color='deepskyblue',  # Use the calculated colors\n",
    "#         lw=0.25,\n",
    "#     )\n",
    "#     sns.despine()\n",
    "#     plt.title(centrality)\n",
    "#     plt.xlabel(f\"Chromosome {chromosome} Loci\")\n",
    "#     plt.ylabel(f\"Coreness\")\n",
    "#     plt.xticks([])\n",
    "    \n",
    "#     plt.show()"
   ]
  },
  {
   "cell_type": "markdown",
   "id": "d4551737-eaf4-4f8e-9ede-a39c877a2187",
   "metadata": {},
   "source": [
    "# hypergraph normalization"
   ]
  },
  {
   "cell_type": "code",
   "execution_count": 20,
   "id": "de7288d2-28f4-4312-87da-0ada3db3298a",
   "metadata": {},
   "outputs": [
    {
     "name": "stdout",
     "output_type": "stream",
     "text": [
      "Normalization took: 0.11 seconds\n",
      "Balancing matrix took: 1.59 seconds\n",
      "Memory usage: current 3.97 GB, difference +0.92 GB\n"
     ]
    },
    {
     "data": {
      "text/plain": [
       "AnnData object with n_obs × n_vars = 176 × 186499\n",
       "    obs: 'bin_index', 'bin_start', 'bin_end', 'bin', 'chrom', 'chrom_bin', 'degree', 'genes', 'n_genes', 'ATACSeq_1', 'ATACSeq_2', 'ATACSeq_3', 'CTCF', 'H3K27ac', 'H3K27me3', 'RNA_1', 'RNA_2', 'RNA_3', 'RNA_4', 'RNA_5', 'RNA_6', 'chrom_degree', 'degree_outlier', 'ce_degree_centrality', 'ce_eigenvector_centrality', 'ce_closeness_centrality', 'ce_betweenness_centrality'\n",
       "    var: 'read_index', 'basename', 'mean_mapq', 'median_mapq', 'n_chromosomes', 'order', 'n_bins', 'read_length_bp', 'genes', 'n_genes', 'higher_order', 'chrom_order'\n",
       "    uns: 'base_resolution', 'chrom_sizes', 'gdf', 'gene_map', 'intervals'\n",
       "    obsm: 'A', 'A_kr', 'A_oe'\n",
       "    layers: 'H', 'obs_norm', 'var_norm', 'H_balanced'"
      ]
     },
     "execution_count": 20,
     "metadata": {},
     "output_type": "execute_result"
    }
   ],
   "source": [
    "def balance_incidence_matrix(matrix, reg=0.25):\n",
    "    \"\"\"Balances a sparse matrix to be doubly stochastic using Sinkhorn-Knopp.\n",
    "\n",
    "    Args:\n",
    "        matrix: A scipy.sparse matrix.\n",
    "        reg: Regularization parameter for Sinkhorn-Knopp algorithm.\n",
    "\n",
    "    Returns:\n",
    "        A balanced sparse matrix.\n",
    "    \"\"\"\n",
    "    start_time = time.time()\n",
    "    matrix = matrix.toarray()  # Convert to dense array for POT\n",
    "    a = np.ones(matrix.shape[0]) / matrix.shape[0]  # Uniform row distribution\n",
    "    b = np.ones(matrix.shape[1]) / matrix.shape[1]  # Uniform column distribution\n",
    "    balanced_matrix = ot.sinkhorn(a, b, matrix, reg)  # Use input regularization parameter\n",
    "    end_time = time.time()\n",
    "    print(f\"Balancing matrix took: {end_time - start_time:.2f} seconds\")\n",
    "    return csr_matrix(balanced_matrix)  # Convert back to sparse\n",
    "\n",
    "\n",
    "\n",
    "def add_normalized_layers(cdata, target_sum=1):\n",
    "    \"\"\"A function to normalize bins and reads in two ways:\n",
    "    1. Normalize each observation (row) to sum to target_sum.\n",
    "    2. Normalize each variable (column) to sum to target_sum.\n",
    "    \"\"\"\n",
    "\n",
    "    # Normalize by observation (rows)\n",
    "    cdata.layers['obs_norm'] = cdata.X.copy() #create a copy to work on\n",
    "    sc.pp.normalize_total(\n",
    "        cdata,\n",
    "        target_sum=target_sum,\n",
    "        layer='obs_norm', #operate on the copy\n",
    "        inplace=True #modify the layer directly\n",
    "    )\n",
    "\n",
    "    # Normalize by variable (columns)\n",
    "    cdata.layers['var_norm'] = cdata.X.copy()\n",
    "    cdata_T = an.AnnData(cdata.layers['var_norm'].T) #transpose to work on columns\n",
    "    sc.pp.normalize_total(\n",
    "        cdata_T,\n",
    "        target_sum=target_sum,\n",
    "        inplace=True\n",
    "    )\n",
    "    cdata.layers['var_norm'] = cdata_T.X.T #transpose back and assign to the layer\n",
    "\n",
    "    return cdata\n",
    "    \n",
    "start_time = time.time()\n",
    "cdata = add_normalized_layers(cdata, target_sum=1)\n",
    "end_time = time.time()\n",
    "print(f\"Normalization took: {end_time - start_time:.2f} seconds\")\n",
    "\n",
    "cdata.layers['H_balanced'] = balance_incidence_matrix(cdata.layers['H'])\n",
    "\n",
    "# set the layer\n",
    "default_layer = 'H'\n",
    "cdata.X = cdata.layers[default_layer].copy()\n",
    "sc.logging.print_memory_usage()\n",
    "cdata"
   ]
  },
  {
   "cell_type": "markdown",
   "id": "650a7fd7-aee6-4ab7-93a1-4681e6fa4275",
   "metadata": {},
   "source": [
    "# compute hypergraph centralities"
   ]
  },
  {
   "cell_type": "code",
   "execution_count": 21,
   "id": "de2bef81-3417-4c42-b69c-40ac03498d6f",
   "metadata": {},
   "outputs": [
    {
     "name": "stdout",
     "output_type": "stream",
     "text": [
      "linear_centrality calculation took: 2.58 seconds\n",
      "log-exp_centrality calculation took: 0.51 seconds\n",
      "max_centrality calculation took: 0.56 seconds\n",
      "Memory usage: current 4.01 GB, difference +0.04 GB\n"
     ]
    },
    {
     "data": {
      "text/plain": [
       "AnnData object with n_obs × n_vars = 176 × 186499\n",
       "    obs: 'bin_index', 'bin_start', 'bin_end', 'bin', 'chrom', 'chrom_bin', 'degree', 'genes', 'n_genes', 'ATACSeq_1', 'ATACSeq_2', 'ATACSeq_3', 'CTCF', 'H3K27ac', 'H3K27me3', 'RNA_1', 'RNA_2', 'RNA_3', 'RNA_4', 'RNA_5', 'RNA_6', 'chrom_degree', 'degree_outlier', 'ce_degree_centrality', 'ce_eigenvector_centrality', 'ce_closeness_centrality', 'ce_betweenness_centrality', 'singular_value_1', 'PC_1', 'hge_linear_centrality', 'hge_log-exp_centrality', 'hge_max_centrality'\n",
       "    var: 'read_index', 'basename', 'mean_mapq', 'median_mapq', 'n_chromosomes', 'order', 'n_bins', 'read_length_bp', 'genes', 'n_genes', 'higher_order', 'chrom_order', 'hge_linear_centrality', 'hge_log-exp_centrality', 'hge_max_centrality'\n",
       "    uns: 'base_resolution', 'chrom_sizes', 'gdf', 'gene_map', 'intervals', 'pca'\n",
       "    obsm: 'A', 'A_kr', 'A_oe', 'X_pca'\n",
       "    varm: 'PCs'\n",
       "    layers: 'H', 'obs_norm', 'var_norm', 'H_balanced'"
      ]
     },
     "execution_count": 21,
     "metadata": {},
     "output_type": "execute_result"
    }
   ],
   "source": [
    "layer_key = \"H\"\n",
    "\n",
    "sc.pp.pca(\n",
    "    cdata, \n",
    "    n_comps=1,\n",
    "    zero_center=False,\n",
    "    layer=layer_key,\n",
    ")\n",
    "\n",
    "# add the principal singular value of the incidence matrix\n",
    "svd = TruncatedSVD(n_components=1, n_iter=10)\n",
    "cdata.obs['singular_value_1'] = ut.min_max(svd.fit_transform(cdata.layers[layer_key]))\n",
    "cdata.obs['PC_1'] = ut.min_max(cdata.obsm['X_pca'][:, 0])\n",
    "\n",
    "# hypergraph centralities\n",
    "functions = [\n",
    "    \"linear\", \"log-exp\", \"max\"\n",
    "]\n",
    "\n",
    "hge_centralities = []\n",
    "\n",
    "for func in functions:\n",
    "    start_time = time.time()  # Record start time\n",
    "\n",
    "    node, edge = central.nonlinear_eigenvector_centrality(\n",
    "        cdata.layers[layer_key],\n",
    "        function=func,\n",
    "        maxiter=1000,\n",
    "    )\n",
    "\n",
    "    col_name = f\"hge_{func}_centrality\"\n",
    "    hge_centralities.append(col_name)\n",
    "    cdata.obs[col_name] = ut.min_max(node)\n",
    "    cdata.var[col_name] = ut.min_max(edge)\n",
    "\n",
    "    end_time = time.time()  # Record end time\n",
    "    print(f\"{func}_centrality calculation took: {end_time - start_time:.2f} seconds\")\n",
    "\n",
    "sc.logging.print_memory_usage()\n",
    "cdata"
   ]
  },
  {
   "cell_type": "code",
   "execution_count": 22,
   "id": "a34dead5-edf3-4112-9371-83adb5e919c7",
   "metadata": {},
   "outputs": [
    {
     "data": {
      "text/html": [
       "<div>\n",
       "<style scoped>\n",
       "    .dataframe tbody tr th:only-of-type {\n",
       "        vertical-align: middle;\n",
       "    }\n",
       "\n",
       "    .dataframe tbody tr th {\n",
       "        vertical-align: top;\n",
       "    }\n",
       "\n",
       "    .dataframe thead th {\n",
       "        text-align: right;\n",
       "    }\n",
       "</style>\n",
       "<table border=\"1\" class=\"dataframe\">\n",
       "  <thead>\n",
       "    <tr style=\"text-align: right;\">\n",
       "      <th></th>\n",
       "      <th>ce_eigenvector_centrality</th>\n",
       "      <th>singular_value_1</th>\n",
       "      <th>PC_1</th>\n",
       "      <th>hge_linear_centrality</th>\n",
       "      <th>hge_log-exp_centrality</th>\n",
       "      <th>hge_max_centrality</th>\n",
       "    </tr>\n",
       "  </thead>\n",
       "  <tbody>\n",
       "    <tr>\n",
       "      <th>ce_eigenvector_centrality</th>\n",
       "      <td>1.000000</td>\n",
       "      <td>0.282618</td>\n",
       "      <td>0.276321</td>\n",
       "      <td>0.283207</td>\n",
       "      <td>-0.055788</td>\n",
       "      <td>0.239845</td>\n",
       "    </tr>\n",
       "    <tr>\n",
       "      <th>singular_value_1</th>\n",
       "      <td>0.282618</td>\n",
       "      <td>1.000000</td>\n",
       "      <td>0.990006</td>\n",
       "      <td>0.999865</td>\n",
       "      <td>-0.166543</td>\n",
       "      <td>0.782213</td>\n",
       "    </tr>\n",
       "    <tr>\n",
       "      <th>PC_1</th>\n",
       "      <td>0.276321</td>\n",
       "      <td>0.990006</td>\n",
       "      <td>1.000000</td>\n",
       "      <td>0.989942</td>\n",
       "      <td>-0.171989</td>\n",
       "      <td>0.767222</td>\n",
       "    </tr>\n",
       "    <tr>\n",
       "      <th>hge_linear_centrality</th>\n",
       "      <td>0.283207</td>\n",
       "      <td>0.999865</td>\n",
       "      <td>0.989942</td>\n",
       "      <td>1.000000</td>\n",
       "      <td>-0.167181</td>\n",
       "      <td>0.782187</td>\n",
       "    </tr>\n",
       "    <tr>\n",
       "      <th>hge_log-exp_centrality</th>\n",
       "      <td>-0.055788</td>\n",
       "      <td>-0.166543</td>\n",
       "      <td>-0.171989</td>\n",
       "      <td>-0.167181</td>\n",
       "      <td>1.000000</td>\n",
       "      <td>0.422708</td>\n",
       "    </tr>\n",
       "    <tr>\n",
       "      <th>hge_max_centrality</th>\n",
       "      <td>0.239845</td>\n",
       "      <td>0.782213</td>\n",
       "      <td>0.767222</td>\n",
       "      <td>0.782187</td>\n",
       "      <td>0.422708</td>\n",
       "      <td>1.000000</td>\n",
       "    </tr>\n",
       "  </tbody>\n",
       "</table>\n",
       "</div>"
      ],
      "text/plain": [
       "                           ce_eigenvector_centrality  singular_value_1  \\\n",
       "ce_eigenvector_centrality                   1.000000          0.282618   \n",
       "singular_value_1                            0.282618          1.000000   \n",
       "PC_1                                        0.276321          0.990006   \n",
       "hge_linear_centrality                       0.283207          0.999865   \n",
       "hge_log-exp_centrality                     -0.055788         -0.166543   \n",
       "hge_max_centrality                          0.239845          0.782213   \n",
       "\n",
       "                               PC_1  hge_linear_centrality  \\\n",
       "ce_eigenvector_centrality  0.276321               0.283207   \n",
       "singular_value_1           0.990006               0.999865   \n",
       "PC_1                       1.000000               0.989942   \n",
       "hge_linear_centrality      0.989942               1.000000   \n",
       "hge_log-exp_centrality    -0.171989              -0.167181   \n",
       "hge_max_centrality         0.767222               0.782187   \n",
       "\n",
       "                           hge_log-exp_centrality  hge_max_centrality  \n",
       "ce_eigenvector_centrality               -0.055788            0.239845  \n",
       "singular_value_1                        -0.166543            0.782213  \n",
       "PC_1                                    -0.171989            0.767222  \n",
       "hge_linear_centrality                   -0.167181            0.782187  \n",
       "hge_log-exp_centrality                   1.000000            0.422708  \n",
       "hge_max_centrality                       0.422708            1.000000  "
      ]
     },
     "execution_count": 22,
     "metadata": {},
     "output_type": "execute_result"
    }
   ],
   "source": [
    "pdf = cdata.obs.copy()\n",
    "columns = [\n",
    "    'ce_eigenvector_centrality',\n",
    "    'singular_value_1',\n",
    "    'PC_1', \n",
    "    'hge_linear_centrality', \n",
    "    'hge_log-exp_centrality', \n",
    "    'hge_max_centrality',\n",
    "]\n",
    "corr = pdf[columns].corr()\n",
    "corr"
   ]
  },
  {
   "cell_type": "code",
   "execution_count": 23,
   "id": "b95ce835-9194-46d3-9782-c35cb919567a",
   "metadata": {},
   "outputs": [
    {
     "data": {
      "text/html": [
       "<div>\n",
       "<style scoped>\n",
       "    .dataframe tbody tr th:only-of-type {\n",
       "        vertical-align: middle;\n",
       "    }\n",
       "\n",
       "    .dataframe tbody tr th {\n",
       "        vertical-align: top;\n",
       "    }\n",
       "\n",
       "    .dataframe thead th {\n",
       "        text-align: right;\n",
       "    }\n",
       "</style>\n",
       "<table border=\"1\" class=\"dataframe\">\n",
       "  <thead>\n",
       "    <tr style=\"text-align: right;\">\n",
       "      <th></th>\n",
       "      <th>n_genes</th>\n",
       "      <th>ATACSeq_1</th>\n",
       "      <th>CTCF</th>\n",
       "      <th>H3K27ac</th>\n",
       "      <th>H3K27me3</th>\n",
       "      <th>hge_linear_centrality</th>\n",
       "      <th>hge_log-exp_centrality</th>\n",
       "    </tr>\n",
       "  </thead>\n",
       "  <tbody>\n",
       "    <tr>\n",
       "      <th>n_genes</th>\n",
       "      <td>1.000000</td>\n",
       "      <td>0.282308</td>\n",
       "      <td>0.444731</td>\n",
       "      <td>0.377527</td>\n",
       "      <td>0.052193</td>\n",
       "      <td>-0.057015</td>\n",
       "      <td>0.145104</td>\n",
       "    </tr>\n",
       "    <tr>\n",
       "      <th>ATACSeq_1</th>\n",
       "      <td>0.282308</td>\n",
       "      <td>1.000000</td>\n",
       "      <td>0.836030</td>\n",
       "      <td>0.728975</td>\n",
       "      <td>0.332647</td>\n",
       "      <td>0.145610</td>\n",
       "      <td>0.211759</td>\n",
       "    </tr>\n",
       "    <tr>\n",
       "      <th>CTCF</th>\n",
       "      <td>0.444731</td>\n",
       "      <td>0.836030</td>\n",
       "      <td>1.000000</td>\n",
       "      <td>0.877495</td>\n",
       "      <td>0.307813</td>\n",
       "      <td>-0.095980</td>\n",
       "      <td>0.320261</td>\n",
       "    </tr>\n",
       "    <tr>\n",
       "      <th>H3K27ac</th>\n",
       "      <td>0.377527</td>\n",
       "      <td>0.728975</td>\n",
       "      <td>0.877495</td>\n",
       "      <td>1.000000</td>\n",
       "      <td>0.045913</td>\n",
       "      <td>-0.169758</td>\n",
       "      <td>0.365601</td>\n",
       "    </tr>\n",
       "    <tr>\n",
       "      <th>H3K27me3</th>\n",
       "      <td>0.052193</td>\n",
       "      <td>0.332647</td>\n",
       "      <td>0.307813</td>\n",
       "      <td>0.045913</td>\n",
       "      <td>1.000000</td>\n",
       "      <td>0.167932</td>\n",
       "      <td>0.128755</td>\n",
       "    </tr>\n",
       "    <tr>\n",
       "      <th>hge_linear_centrality</th>\n",
       "      <td>-0.057015</td>\n",
       "      <td>0.145610</td>\n",
       "      <td>-0.095980</td>\n",
       "      <td>-0.169758</td>\n",
       "      <td>0.167932</td>\n",
       "      <td>1.000000</td>\n",
       "      <td>-0.167181</td>\n",
       "    </tr>\n",
       "    <tr>\n",
       "      <th>hge_log-exp_centrality</th>\n",
       "      <td>0.145104</td>\n",
       "      <td>0.211759</td>\n",
       "      <td>0.320261</td>\n",
       "      <td>0.365601</td>\n",
       "      <td>0.128755</td>\n",
       "      <td>-0.167181</td>\n",
       "      <td>1.000000</td>\n",
       "    </tr>\n",
       "  </tbody>\n",
       "</table>\n",
       "</div>"
      ],
      "text/plain": [
       "                         n_genes  ATACSeq_1      CTCF   H3K27ac  H3K27me3  \\\n",
       "n_genes                 1.000000   0.282308  0.444731  0.377527  0.052193   \n",
       "ATACSeq_1               0.282308   1.000000  0.836030  0.728975  0.332647   \n",
       "CTCF                    0.444731   0.836030  1.000000  0.877495  0.307813   \n",
       "H3K27ac                 0.377527   0.728975  0.877495  1.000000  0.045913   \n",
       "H3K27me3                0.052193   0.332647  0.307813  0.045913  1.000000   \n",
       "hge_linear_centrality  -0.057015   0.145610 -0.095980 -0.169758  0.167932   \n",
       "hge_log-exp_centrality  0.145104   0.211759  0.320261  0.365601  0.128755   \n",
       "\n",
       "                        hge_linear_centrality  hge_log-exp_centrality  \n",
       "n_genes                             -0.057015                0.145104  \n",
       "ATACSeq_1                            0.145610                0.211759  \n",
       "CTCF                                -0.095980                0.320261  \n",
       "H3K27ac                             -0.169758                0.365601  \n",
       "H3K27me3                             0.167932                0.128755  \n",
       "hge_linear_centrality                1.000000               -0.167181  \n",
       "hge_log-exp_centrality              -0.167181                1.000000  "
      ]
     },
     "execution_count": 23,
     "metadata": {},
     "output_type": "execute_result"
    }
   ],
   "source": [
    "pdf = cdata.obs.copy()\n",
    "\n",
    "columns = [\n",
    "    'n_genes', \n",
    "    'ATACSeq_1', \n",
    "    'CTCF', \n",
    "    'H3K27ac', \n",
    "    'H3K27me3',\n",
    "    'hge_linear_centrality',\n",
    "    'hge_log-exp_centrality',\n",
    "] \n",
    "\n",
    "corr = pdf[columns].corr()\n",
    "corr"
   ]
  },
  {
   "cell_type": "code",
   "execution_count": 24,
   "id": "2f8979d5-93e5-474c-b3c6-1481e4a82115",
   "metadata": {},
   "outputs": [
    {
     "data": {
      "text/html": [
       "<div>\n",
       "<style scoped>\n",
       "    .dataframe tbody tr th:only-of-type {\n",
       "        vertical-align: middle;\n",
       "    }\n",
       "\n",
       "    .dataframe tbody tr th {\n",
       "        vertical-align: top;\n",
       "    }\n",
       "\n",
       "    .dataframe thead th {\n",
       "        text-align: right;\n",
       "    }\n",
       "</style>\n",
       "<table border=\"1\" class=\"dataframe\">\n",
       "  <thead>\n",
       "    <tr style=\"text-align: right;\">\n",
       "      <th></th>\n",
       "      <th>ce_degree_centrality</th>\n",
       "      <th>ce_eigenvector_centrality</th>\n",
       "      <th>ce_closeness_centrality</th>\n",
       "      <th>ce_betweenness_centrality</th>\n",
       "      <th>hge_linear_centrality</th>\n",
       "      <th>hge_log-exp_centrality</th>\n",
       "      <th>hge_max_centrality</th>\n",
       "    </tr>\n",
       "  </thead>\n",
       "  <tbody>\n",
       "    <tr>\n",
       "      <th>ce_degree_centrality</th>\n",
       "      <td>1.000000</td>\n",
       "      <td>0.999997</td>\n",
       "      <td>0.999995</td>\n",
       "      <td>0.943402</td>\n",
       "      <td>0.283083</td>\n",
       "      <td>-0.055607</td>\n",
       "      <td>0.239745</td>\n",
       "    </tr>\n",
       "    <tr>\n",
       "      <th>ce_eigenvector_centrality</th>\n",
       "      <td>0.999997</td>\n",
       "      <td>1.000000</td>\n",
       "      <td>0.999991</td>\n",
       "      <td>0.942525</td>\n",
       "      <td>0.283207</td>\n",
       "      <td>-0.055788</td>\n",
       "      <td>0.239845</td>\n",
       "    </tr>\n",
       "    <tr>\n",
       "      <th>ce_closeness_centrality</th>\n",
       "      <td>0.999995</td>\n",
       "      <td>0.999991</td>\n",
       "      <td>1.000000</td>\n",
       "      <td>0.943390</td>\n",
       "      <td>0.283331</td>\n",
       "      <td>-0.055635</td>\n",
       "      <td>0.239814</td>\n",
       "    </tr>\n",
       "    <tr>\n",
       "      <th>ce_betweenness_centrality</th>\n",
       "      <td>0.943402</td>\n",
       "      <td>0.942525</td>\n",
       "      <td>0.943390</td>\n",
       "      <td>1.000000</td>\n",
       "      <td>0.251201</td>\n",
       "      <td>-0.029584</td>\n",
       "      <td>0.213393</td>\n",
       "    </tr>\n",
       "    <tr>\n",
       "      <th>hge_linear_centrality</th>\n",
       "      <td>0.283083</td>\n",
       "      <td>0.283207</td>\n",
       "      <td>0.283331</td>\n",
       "      <td>0.251201</td>\n",
       "      <td>1.000000</td>\n",
       "      <td>-0.167181</td>\n",
       "      <td>0.782187</td>\n",
       "    </tr>\n",
       "    <tr>\n",
       "      <th>hge_log-exp_centrality</th>\n",
       "      <td>-0.055607</td>\n",
       "      <td>-0.055788</td>\n",
       "      <td>-0.055635</td>\n",
       "      <td>-0.029584</td>\n",
       "      <td>-0.167181</td>\n",
       "      <td>1.000000</td>\n",
       "      <td>0.422708</td>\n",
       "    </tr>\n",
       "    <tr>\n",
       "      <th>hge_max_centrality</th>\n",
       "      <td>0.239745</td>\n",
       "      <td>0.239845</td>\n",
       "      <td>0.239814</td>\n",
       "      <td>0.213393</td>\n",
       "      <td>0.782187</td>\n",
       "      <td>0.422708</td>\n",
       "      <td>1.000000</td>\n",
       "    </tr>\n",
       "  </tbody>\n",
       "</table>\n",
       "</div>"
      ],
      "text/plain": [
       "                           ce_degree_centrality  ce_eigenvector_centrality  \\\n",
       "ce_degree_centrality                   1.000000                   0.999997   \n",
       "ce_eigenvector_centrality              0.999997                   1.000000   \n",
       "ce_closeness_centrality                0.999995                   0.999991   \n",
       "ce_betweenness_centrality              0.943402                   0.942525   \n",
       "hge_linear_centrality                  0.283083                   0.283207   \n",
       "hge_log-exp_centrality                -0.055607                  -0.055788   \n",
       "hge_max_centrality                     0.239745                   0.239845   \n",
       "\n",
       "                           ce_closeness_centrality  ce_betweenness_centrality  \\\n",
       "ce_degree_centrality                      0.999995                   0.943402   \n",
       "ce_eigenvector_centrality                 0.999991                   0.942525   \n",
       "ce_closeness_centrality                   1.000000                   0.943390   \n",
       "ce_betweenness_centrality                 0.943390                   1.000000   \n",
       "hge_linear_centrality                     0.283331                   0.251201   \n",
       "hge_log-exp_centrality                   -0.055635                  -0.029584   \n",
       "hge_max_centrality                        0.239814                   0.213393   \n",
       "\n",
       "                           hge_linear_centrality  hge_log-exp_centrality  \\\n",
       "ce_degree_centrality                    0.283083               -0.055607   \n",
       "ce_eigenvector_centrality               0.283207               -0.055788   \n",
       "ce_closeness_centrality                 0.283331               -0.055635   \n",
       "ce_betweenness_centrality               0.251201               -0.029584   \n",
       "hge_linear_centrality                   1.000000               -0.167181   \n",
       "hge_log-exp_centrality                 -0.167181                1.000000   \n",
       "hge_max_centrality                      0.782187                0.422708   \n",
       "\n",
       "                           hge_max_centrality  \n",
       "ce_degree_centrality                 0.239745  \n",
       "ce_eigenvector_centrality            0.239845  \n",
       "ce_closeness_centrality              0.239814  \n",
       "ce_betweenness_centrality            0.213393  \n",
       "hge_linear_centrality                0.782187  \n",
       "hge_log-exp_centrality               0.422708  \n",
       "hge_max_centrality                   1.000000  "
      ]
     },
     "execution_count": 24,
     "metadata": {},
     "output_type": "execute_result"
    }
   ],
   "source": [
    "corr = pdf[list(ce_centralities.keys()) + hge_centralities].corr()\n",
    "corr"
   ]
  },
  {
   "cell_type": "markdown",
   "id": "91821da3-cd5a-4a5d-9587-b276777887b8",
   "metadata": {},
   "source": [
    "# visualize"
   ]
  },
  {
   "cell_type": "code",
   "execution_count": 25,
   "id": "5f30648f-fbfe-4b1c-a404-dc665f52d0ec",
   "metadata": {},
   "outputs": [
    {
     "name": "stderr",
     "output_type": "stream",
     "text": [
      "Wed Dec 18 10:58:05 2024 INFO Using categorical units to plot a list of strings that are all parsable as floats or dates. If these strings should be plotted as numbers, cast to the appropriate data type before plotting.\n",
      "Wed Dec 18 10:58:05 2024 INFO Using categorical units to plot a list of strings that are all parsable as floats or dates. If these strings should be plotted as numbers, cast to the appropriate data type before plotting.\n"
     ]
    },
    {
     "name": "stdout",
     "output_type": "stream",
     "text": [
      "singular_value_1\n"
     ]
    },
    {
     "data": {
      "image/png": "[encoded data removed]",
      "text/plain": [
       "<Figure size 2000x500 with 1 Axes>"
      ]
     },
     "metadata": {},
     "output_type": "display_data"
    },
    {
     "name": "stderr",
     "output_type": "stream",
     "text": [
      "Wed Dec 18 10:58:05 2024 INFO Using categorical units to plot a list of strings that are all parsable as floats or dates. If these strings should be plotted as numbers, cast to the appropriate data type before plotting.\n",
      "Wed Dec 18 10:58:05 2024 INFO Using categorical units to plot a list of strings that are all parsable as floats or dates. If these strings should be plotted as numbers, cast to the appropriate data type before plotting.\n"
     ]
    },
    {
     "name": "stdout",
     "output_type": "stream",
     "text": [
      "hge_linear_centrality\n"
     ]
    },
    {
     "data": {
      "image/png": "[encoded data removed]",
      "text/plain": [
       "<Figure size 2000x500 with 1 Axes>"
      ]
     },
     "metadata": {},
     "output_type": "display_data"
    },
    {
     "name": "stderr",
     "output_type": "stream",
     "text": [
      "Wed Dec 18 10:58:06 2024 INFO Using categorical units to plot a list of strings that are all parsable as floats or dates. If these strings should be plotted as numbers, cast to the appropriate data type before plotting.\n",
      "Wed Dec 18 10:58:06 2024 INFO Using categorical units to plot a list of strings that are all parsable as floats or dates. If these strings should be plotted as numbers, cast to the appropriate data type before plotting.\n"
     ]
    },
    {
     "name": "stdout",
     "output_type": "stream",
     "text": [
      "hge_log-exp_centrality\n"
     ]
    },
    {
     "data": {
      "image/png": "[encoded data removed]",
      "text/plain": [
       "<Figure size 2000x500 with 1 Axes>"
      ]
     },
     "metadata": {},
     "output_type": "display_data"
    },
    {
     "name": "stderr",
     "output_type": "stream",
     "text": [
      "Wed Dec 18 10:58:06 2024 INFO Using categorical units to plot a list of strings that are all parsable as floats or dates. If these strings should be plotted as numbers, cast to the appropriate data type before plotting.\n",
      "Wed Dec 18 10:58:06 2024 INFO Using categorical units to plot a list of strings that are all parsable as floats or dates. If these strings should be plotted as numbers, cast to the appropriate data type before plotting.\n"
     ]
    },
    {
     "name": "stdout",
     "output_type": "stream",
     "text": [
      "hge_max_centrality\n"
     ]
    },
    {
     "data": {
      "image/png": "[encoded data removed]",
      "text/plain": [
       "<Figure size 2000x500 with 1 Axes>"
      ]
     },
     "metadata": {},
     "output_type": "display_data"
    }
   ],
   "source": [
    "pdf = cdata.obs.copy()\n",
    "pdf = pdf.sort_values(by='chrom_bin')\n",
    "\n",
    "\n",
    "for centrality in ['singular_value_1'] + hge_centralities:\n",
    "    print(centrality)\n",
    "    \n",
    "    plt.rcParams['figure.dpi'] = 200\n",
    "    plt.rcParams['figure.figsize'] = 10, 2.5\n",
    "    \n",
    "    y = scipy.stats.zscore(pdf[centrality])\n",
    "    \n",
    "    sns.barplot(\n",
    "        data=pdf,\n",
    "        x='chrom_bin',\n",
    "        y=y,\n",
    "        color='deepskyblue',  \n",
    "        lw=0.25,\n",
    "    )\n",
    "    sns.despine()\n",
    "    plt.title(centrality)\n",
    "    plt.xlabel(f\"Chromosome {chromosome} Loci\")\n",
    "    plt.ylabel(f\"Coreness\")\n",
    "    plt.xticks([])\n",
    "    \n",
    "    plt.show()"
   ]
  },
  {
   "cell_type": "markdown",
   "id": "848dd0b5-e482-412f-acb6-b41de5577cf8",
   "metadata": {},
   "source": [
    "# Who are the most central nodes?"
   ]
  },
  {
   "cell_type": "code",
   "execution_count": 26,
   "id": "93fb9cce-c747-4e36-a911-e0971a22cb9b",
   "metadata": {},
   "outputs": [
    {
     "data": {
      "text/plain": [
       "Index(['bin_index', 'bin_start', 'bin_end', 'bin', 'chrom', 'chrom_bin',\n",
       "       'degree', 'genes', 'n_genes', 'ATACSeq_1', 'ATACSeq_2', 'ATACSeq_3',\n",
       "       'CTCF', 'H3K27ac', 'H3K27me3', 'RNA_1', 'RNA_2', 'RNA_3', 'RNA_4',\n",
       "       'RNA_5', 'RNA_6', 'chrom_degree', 'degree_outlier',\n",
       "       'ce_degree_centrality', 'ce_eigenvector_centrality',\n",
       "       'ce_closeness_centrality', 'ce_betweenness_centrality',\n",
       "       'singular_value_1', 'PC_1', 'hge_linear_centrality',\n",
       "       'hge_log-exp_centrality', 'hge_max_centrality'],\n",
       "      dtype='object')"
      ]
     },
     "execution_count": 26,
     "metadata": {},
     "output_type": "execute_result"
    }
   ],
   "source": [
    "cdata.obs.columns"
   ]
  },
  {
   "cell_type": "code",
   "execution_count": 27,
   "id": "ca4ecc66-b10c-4c78-be47-37d0da96c615",
   "metadata": {},
   "outputs": [
    {
     "name": "stdout",
     "output_type": "stream",
     "text": [
      "gdf.shape=(29, 4)\n"
     ]
    },
    {
     "data": {
      "text/html": [
       "<div>\n",
       "<style scoped>\n",
       "    .dataframe tbody tr th:only-of-type {\n",
       "        vertical-align: middle;\n",
       "    }\n",
       "\n",
       "    .dataframe tbody tr th {\n",
       "        vertical-align: top;\n",
       "    }\n",
       "\n",
       "    .dataframe thead th {\n",
       "        text-align: right;\n",
       "    }\n",
       "</style>\n",
       "<table border=\"1\" class=\"dataframe\">\n",
       "  <thead>\n",
       "    <tr style=\"text-align: right;\">\n",
       "      <th></th>\n",
       "      <th>gene_name</th>\n",
       "      <th>gene_biotype</th>\n",
       "      <th>read_name</th>\n",
       "      <th>bin_name</th>\n",
       "    </tr>\n",
       "  </thead>\n",
       "  <tbody>\n",
       "    <tr>\n",
       "      <th>236</th>\n",
       "      <td>Prex1</td>\n",
       "      <td>protein_coding</td>\n",
       "      <td>d4114553-6657-41ba-9e86-5d5e5ae7c9be</td>\n",
       "      <td>chr2:166</td>\n",
       "    </tr>\n",
       "    <tr>\n",
       "      <th>467</th>\n",
       "      <td>Znfx1</td>\n",
       "      <td>protein_coding</td>\n",
       "      <td>5a249218-1da6-49a5-9186-c45f82fb14f3</td>\n",
       "      <td>chr2:166</td>\n",
       "    </tr>\n",
       "    <tr>\n",
       "      <th>1140</th>\n",
       "      <td>St8sia6</td>\n",
       "      <td>protein_coding</td>\n",
       "      <td>30ed598f-94ef-4b6b-9644-6da593b24ec9</td>\n",
       "      <td>chr2:13</td>\n",
       "    </tr>\n",
       "    <tr>\n",
       "      <th>1940</th>\n",
       "      <td>Rsu1</td>\n",
       "      <td>protein_coding</td>\n",
       "      <td>f98ae173-4708-438b-998f-6473fc81b644</td>\n",
       "      <td>chr2:13</td>\n",
       "    </tr>\n",
       "    <tr>\n",
       "      <th>2588</th>\n",
       "      <td>Zfp64</td>\n",
       "      <td>protein_coding</td>\n",
       "      <td>1e681cf3-a010-43af-8034-a4b97c7aefb7</td>\n",
       "      <td>chr2:168</td>\n",
       "    </tr>\n",
       "  </tbody>\n",
       "</table>\n",
       "</div>"
      ],
      "text/plain": [
       "     gene_name    gene_biotype                             read_name  bin_name\n",
       "236      Prex1  protein_coding  d4114553-6657-41ba-9e86-5d5e5ae7c9be  chr2:166\n",
       "467      Znfx1  protein_coding  5a249218-1da6-49a5-9186-c45f82fb14f3  chr2:166\n",
       "1140   St8sia6  protein_coding  30ed598f-94ef-4b6b-9644-6da593b24ec9   chr2:13\n",
       "1940      Rsu1  protein_coding  f98ae173-4708-438b-998f-6473fc81b644   chr2:13\n",
       "2588     Zfp64  protein_coding  1e681cf3-a010-43af-8034-a4b97c7aefb7  chr2:168"
      ]
     },
     "execution_count": 27,
     "metadata": {},
     "output_type": "execute_result"
    }
   ],
   "source": [
    "top_n_loci = 5\n",
    "column = \"ce_eigenvector_centrality\"\n",
    "pdf = cdata.obs.copy()\n",
    "pdf = pdf.sort_values(by=column, ascending=False,)\n",
    "\n",
    "# get the genes\n",
    "gdf = cdata.uns['gene_map'].copy()\n",
    "gdf = gdf[gdf['gene_biotype'] == 'protein_coding']\n",
    "gdf = gdf[~gdf['gene_name'].str.startswith('Gm')]\n",
    "gdf = gdf[gdf['bin_name'].isin(pdf.head(top_n_loci).index)]\n",
    "gdf = gdf.drop_duplicates(subset='gene_name')\n",
    "print(f\"{gdf.shape=}\")\n",
    "gdf.head()"
   ]
  },
  {
   "cell_type": "code",
   "execution_count": 28,
   "id": "506e8d7a-62f1-4c9d-863d-bfcef87246f1",
   "metadata": {},
   "outputs": [
    {
     "data": {
      "text/html": [
       "<div>\n",
       "<style scoped>\n",
       "    .dataframe tbody tr th:only-of-type {\n",
       "        vertical-align: middle;\n",
       "    }\n",
       "\n",
       "    .dataframe tbody tr th {\n",
       "        vertical-align: top;\n",
       "    }\n",
       "\n",
       "    .dataframe thead th {\n",
       "        text-align: right;\n",
       "    }\n",
       "</style>\n",
       "<table border=\"1\" class=\"dataframe\">\n",
       "  <thead>\n",
       "    <tr style=\"text-align: right;\">\n",
       "      <th></th>\n",
       "      <th>ATACSeq_1</th>\n",
       "      <th>H3K27ac</th>\n",
       "      <th>H3K27me3</th>\n",
       "      <th>score</th>\n",
       "      <th>chrom_degree</th>\n",
       "    </tr>\n",
       "  </thead>\n",
       "  <tbody>\n",
       "    <tr>\n",
       "      <th>ATACSeq_1</th>\n",
       "      <td>1.000000</td>\n",
       "      <td>0.728975</td>\n",
       "      <td>0.332647</td>\n",
       "      <td>0.257232</td>\n",
       "      <td>0.322747</td>\n",
       "    </tr>\n",
       "    <tr>\n",
       "      <th>H3K27ac</th>\n",
       "      <td>0.728975</td>\n",
       "      <td>1.000000</td>\n",
       "      <td>0.045913</td>\n",
       "      <td>0.021981</td>\n",
       "      <td>0.145613</td>\n",
       "    </tr>\n",
       "    <tr>\n",
       "      <th>H3K27me3</th>\n",
       "      <td>0.332647</td>\n",
       "      <td>0.045913</td>\n",
       "      <td>1.000000</td>\n",
       "      <td>0.233855</td>\n",
       "      <td>0.267041</td>\n",
       "    </tr>\n",
       "    <tr>\n",
       "      <th>score</th>\n",
       "      <td>0.257232</td>\n",
       "      <td>0.021981</td>\n",
       "      <td>0.233855</td>\n",
       "      <td>1.000000</td>\n",
       "      <td>0.960972</td>\n",
       "    </tr>\n",
       "    <tr>\n",
       "      <th>chrom_degree</th>\n",
       "      <td>0.322747</td>\n",
       "      <td>0.145613</td>\n",
       "      <td>0.267041</td>\n",
       "      <td>0.960972</td>\n",
       "      <td>1.000000</td>\n",
       "    </tr>\n",
       "  </tbody>\n",
       "</table>\n",
       "</div>"
      ],
      "text/plain": [
       "              ATACSeq_1   H3K27ac  H3K27me3     score  chrom_degree\n",
       "ATACSeq_1      1.000000  0.728975  0.332647  0.257232      0.322747\n",
       "H3K27ac        0.728975  1.000000  0.045913  0.021981      0.145613\n",
       "H3K27me3       0.332647  0.045913  1.000000  0.233855      0.267041\n",
       "score          0.257232  0.021981  0.233855  1.000000      0.960972\n",
       "chrom_degree   0.322747  0.145613  0.267041  0.960972      1.000000"
      ]
     },
     "execution_count": 28,
     "metadata": {},
     "output_type": "execute_result"
    }
   ],
   "source": [
    "centralities = [\n",
    "    'ce_degree_centrality', \n",
    "    'ce_eigenvector_centrality',\n",
    "    'ce_closeness_centrality',\n",
    "    'ce_betweenness_centrality',\n",
    "    'singular_value_1',\n",
    "    'hge_linear_centrality',\n",
    "    'hge_log-exp_centrality', \n",
    "    'hge_max_centrality',\n",
    "]\n",
    "cdata.obs['score'] = ut.min_max(cdata.obs[centralities].mean(axis=1))\n",
    "cdata.obs[['ATACSeq_1', 'H3K27ac', 'H3K27me3', 'score', 'chrom_degree']].corr()"
   ]
  },
  {
   "cell_type": "code",
   "execution_count": 29,
   "id": "8444169e-b9a4-4ee6-900c-12fe48d402de",
   "metadata": {},
   "outputs": [
    {
     "name": "stdout",
     "output_type": "stream",
     "text": [
      "gdf.shape=(97, 4)\n"
     ]
    },
    {
     "data": {
      "text/html": [
       "<div>\n",
       "<style scoped>\n",
       "    .dataframe tbody tr th:only-of-type {\n",
       "        vertical-align: middle;\n",
       "    }\n",
       "\n",
       "    .dataframe tbody tr th {\n",
       "        vertical-align: top;\n",
       "    }\n",
       "\n",
       "    .dataframe thead th {\n",
       "        text-align: right;\n",
       "    }\n",
       "</style>\n",
       "<table border=\"1\" class=\"dataframe\">\n",
       "  <thead>\n",
       "    <tr style=\"text-align: right;\">\n",
       "      <th></th>\n",
       "      <th>gene_name</th>\n",
       "      <th>gene_biotype</th>\n",
       "      <th>read_name</th>\n",
       "      <th>bin_name</th>\n",
       "    </tr>\n",
       "  </thead>\n",
       "  <tbody>\n",
       "    <tr>\n",
       "      <th>832</th>\n",
       "      <td>Nat10</td>\n",
       "      <td>protein_coding</td>\n",
       "      <td>4df9b62c-5dbc-475f-abd0-abaf5dc9209b</td>\n",
       "      <td>chr2:103</td>\n",
       "    </tr>\n",
       "    <tr>\n",
       "      <th>894</th>\n",
       "      <td>Zfp385b</td>\n",
       "      <td>protein_coding</td>\n",
       "      <td>6e1ca717-143a-4ee4-b379-e4c838952f37</td>\n",
       "      <td>chr2:77</td>\n",
       "    </tr>\n",
       "    <tr>\n",
       "      <th>1110</th>\n",
       "      <td>Wt1</td>\n",
       "      <td>protein_coding</td>\n",
       "      <td>fc2b56ff-d873-4904-89ca-c3065314c16d</td>\n",
       "      <td>chr2:104</td>\n",
       "    </tr>\n",
       "    <tr>\n",
       "      <th>1378</th>\n",
       "      <td>A930018P22Rik</td>\n",
       "      <td>protein_coding</td>\n",
       "      <td>71723aad-5ba9-4de3-b1d7-8715c5c135be</td>\n",
       "      <td>chr2:103</td>\n",
       "    </tr>\n",
       "    <tr>\n",
       "      <th>2264</th>\n",
       "      <td>Hipk3</td>\n",
       "      <td>protein_coding</td>\n",
       "      <td>ff025e5d-14bb-414d-995d-3cdd0f11be70</td>\n",
       "      <td>chr2:104</td>\n",
       "    </tr>\n",
       "  </tbody>\n",
       "</table>\n",
       "</div>"
      ],
      "text/plain": [
       "          gene_name    gene_biotype                             read_name  \\\n",
       "832           Nat10  protein_coding  4df9b62c-5dbc-475f-abd0-abaf5dc9209b   \n",
       "894         Zfp385b  protein_coding  6e1ca717-143a-4ee4-b379-e4c838952f37   \n",
       "1110            Wt1  protein_coding  fc2b56ff-d873-4904-89ca-c3065314c16d   \n",
       "1378  A930018P22Rik  protein_coding  71723aad-5ba9-4de3-b1d7-8715c5c135be   \n",
       "2264          Hipk3  protein_coding  ff025e5d-14bb-414d-995d-3cdd0f11be70   \n",
       "\n",
       "      bin_name  \n",
       "832   chr2:103  \n",
       "894    chr2:77  \n",
       "1110  chr2:104  \n",
       "1378  chr2:103  \n",
       "2264  chr2:104  "
      ]
     },
     "execution_count": 29,
     "metadata": {},
     "output_type": "execute_result"
    }
   ],
   "source": [
    "top_n_loci = 10\n",
    "column = \"score\"\n",
    "pdf = cdata.obs.copy()\n",
    "pdf = pdf.sort_values(by=column, ascending=False,)\n",
    "\n",
    "# get the genes\n",
    "gdf = cdata.uns['gene_map'].copy()\n",
    "gdf = gdf[gdf['gene_biotype'] == 'protein_coding']\n",
    "gdf = gdf[~gdf['gene_name'].str.startswith('Gm')]\n",
    "gdf = gdf[gdf['bin_name'].isin(pdf.head(top_n_loci).index)]\n",
    "gdf = gdf.drop_duplicates(subset='gene_name')\n",
    "print(f\"{gdf.shape=}\")\n",
    "gdf.head()"
   ]
  },
  {
   "cell_type": "code",
   "execution_count": 30,
   "id": "7c660c5c-2ab2-45c6-8be7-e35ac2250ebb",
   "metadata": {},
   "outputs": [
    {
     "name": "stderr",
     "output_type": "stream",
     "text": [
      "Wed Dec 18 10:58:12 2024 INFO Performing Enichr analysis using database PanglaoDB_Augmented_2021. \n",
      "    Please note that there might a more appropriate database for your application. \n",
      "    Go to https://maayanlab.cloud/Enrichr/#libraries for a full list of supported databases.\n",
      "    \n"
     ]
    },
    {
     "data": {
      "text/html": [
       "<div>\n",
       "<style scoped>\n",
       "    .dataframe tbody tr th:only-of-type {\n",
       "        vertical-align: middle;\n",
       "    }\n",
       "\n",
       "    .dataframe tbody tr th {\n",
       "        vertical-align: top;\n",
       "    }\n",
       "\n",
       "    .dataframe thead th {\n",
       "        text-align: right;\n",
       "    }\n",
       "</style>\n",
       "<table border=\"1\" class=\"dataframe\">\n",
       "  <thead>\n",
       "    <tr style=\"text-align: right;\">\n",
       "      <th></th>\n",
       "      <th>rank</th>\n",
       "      <th>path_name</th>\n",
       "      <th>p_val</th>\n",
       "      <th>z_score</th>\n",
       "      <th>combined_score</th>\n",
       "      <th>overlapping_genes</th>\n",
       "      <th>adj_p_val</th>\n",
       "      <th>database</th>\n",
       "    </tr>\n",
       "  </thead>\n",
       "  <tbody>\n",
       "    <tr>\n",
       "      <th>0</th>\n",
       "      <td>1</td>\n",
       "      <td>Erythroblasts</td>\n",
       "      <td>0.003128</td>\n",
       "      <td>7.090681</td>\n",
       "      <td>40.894310</td>\n",
       "      <td>[LMO2, TUBB1, PRG2, CD44]</td>\n",
       "      <td>0.291845</td>\n",
       "      <td>PanglaoDB_Augmented_2021</td>\n",
       "    </tr>\n",
       "    <tr>\n",
       "      <th>1</th>\n",
       "      <td>2</td>\n",
       "      <td>Loop Of Henle Cells</td>\n",
       "      <td>0.005722</td>\n",
       "      <td>5.943304</td>\n",
       "      <td>30.687405</td>\n",
       "      <td>[CALCRL, APLNR, SERPING1, PAMR1]</td>\n",
       "      <td>0.291845</td>\n",
       "      <td>PanglaoDB_Augmented_2021</td>\n",
       "    </tr>\n",
       "    <tr>\n",
       "      <th>2</th>\n",
       "      <td>3</td>\n",
       "      <td>Reticulocytes</td>\n",
       "      <td>0.013788</td>\n",
       "      <td>6.320106</td>\n",
       "      <td>27.074940</td>\n",
       "      <td>[ZDHHC5, NAT10, SSRP1]</td>\n",
       "      <td>0.351013</td>\n",
       "      <td>PanglaoDB_Augmented_2021</td>\n",
       "    </tr>\n",
       "    <tr>\n",
       "      <th>3</th>\n",
       "      <td>4</td>\n",
       "      <td>Satellite Glial Cells</td>\n",
       "      <td>0.018049</td>\n",
       "      <td>5.690627</td>\n",
       "      <td>22.846007</td>\n",
       "      <td>[APLNR, SLC1A2, SERPING1]</td>\n",
       "      <td>0.351013</td>\n",
       "      <td>PanglaoDB_Augmented_2021</td>\n",
       "    </tr>\n",
       "    <tr>\n",
       "      <th>4</th>\n",
       "      <td>5</td>\n",
       "      <td>Airway Goblet Cells</td>\n",
       "      <td>0.019760</td>\n",
       "      <td>5.491582</td>\n",
       "      <td>21.549537</td>\n",
       "      <td>[EHF, SEC23B, OVOL2]</td>\n",
       "      <td>0.351013</td>\n",
       "      <td>PanglaoDB_Augmented_2021</td>\n",
       "    </tr>\n",
       "  </tbody>\n",
       "</table>\n",
       "</div>"
      ],
      "text/plain": [
       "   rank              path_name     p_val   z_score  combined_score  \\\n",
       "0     1          Erythroblasts  0.003128  7.090681       40.894310   \n",
       "1     2    Loop Of Henle Cells  0.005722  5.943304       30.687405   \n",
       "2     3          Reticulocytes  0.013788  6.320106       27.074940   \n",
       "3     4  Satellite Glial Cells  0.018049  5.690627       22.846007   \n",
       "4     5    Airway Goblet Cells  0.019760  5.491582       21.549537   \n",
       "\n",
       "                  overlapping_genes  adj_p_val                  database  \n",
       "0         [LMO2, TUBB1, PRG2, CD44]   0.291845  PanglaoDB_Augmented_2021  \n",
       "1  [CALCRL, APLNR, SERPING1, PAMR1]   0.291845  PanglaoDB_Augmented_2021  \n",
       "2            [ZDHHC5, NAT10, SSRP1]   0.351013  PanglaoDB_Augmented_2021  \n",
       "3         [APLNR, SLC1A2, SERPING1]   0.351013  PanglaoDB_Augmented_2021  \n",
       "4              [EHF, SEC23B, OVOL2]   0.351013  PanglaoDB_Augmented_2021  "
      ]
     },
     "execution_count": 30,
     "metadata": {},
     "output_type": "execute_result"
    }
   ],
   "source": [
    "edf = gget.enrichr(gdf['gene_name'].to_list(), database='celltypes')\n",
    "edf.head()"
   ]
  },
  {
   "cell_type": "code",
   "execution_count": null,
   "id": "2d83c0df-6095-4657-beb3-015cc93baee6",
   "metadata": {},
   "outputs": [],
   "source": []
  },
  {
   "cell_type": "code",
   "execution_count": null,
   "id": "fb8fc7f1-3961-409b-be51-818e35fbaef4",
   "metadata": {},
   "outputs": [],
   "source": []
  },
  {
   "cell_type": "code",
   "execution_count": null,
   "id": "973f4cbe-3a1a-4bad-8ea6-2a8faece38eb",
   "metadata": {},
   "outputs": [],
   "source": []
  },
  {
   "cell_type": "code",
   "execution_count": 31,
   "id": "7814b7f4-0199-4442-bb99-df3814e4121a",
   "metadata": {},
   "outputs": [
    {
     "ename": "SyntaxError",
     "evalue": "'break' outside loop (668683560.py, line 1)",
     "output_type": "error",
     "traceback": [
      "\u001b[0;36m  Cell \u001b[0;32mIn[31], line 1\u001b[0;36m\u001b[0m\n\u001b[0;31m    break\u001b[0m\n\u001b[0m    ^\u001b[0m\n\u001b[0;31mSyntaxError\u001b[0m\u001b[0;31m:\u001b[0m 'break' outside loop\n"
     ]
    }
   ],
   "source": [
    "break"
   ]
  },
  {
   "cell_type": "code",
   "execution_count": null,
   "id": "da31f3d0-62b3-456c-b484-d8af8a6dbd2f",
   "metadata": {},
   "outputs": [],
   "source": []
  },
  {
   "cell_type": "markdown",
   "id": "3a6255a5-2b81-422a-a72b-666de57b1b35",
   "metadata": {},
   "source": [
    "# Plot genes"
   ]
  },
  {
   "cell_type": "code",
   "execution_count": null,
   "id": "6384d43f-e765-4a78-a42b-b9f898099454",
   "metadata": {},
   "outputs": [],
   "source": [
    "pdf = cdata.obs.copy()\n",
    "pdf = pdf.sort_values(by='chrom_bin')\n",
    "\n",
    "columns = ['n_genes',]\n",
    "colors = ['green',]\n",
    "\n",
    "plt.rcParams['figure.dpi'] = 200\n",
    "plt.rcParams['figure.figsize'] = 10, 3\n",
    "\n",
    "for i, column in enumerate(columns):\n",
    "\n",
    "    x = pdf['chrom_bin']\n",
    "    y = pdf[column]\n",
    "    \n",
    "    sns.barplot(\n",
    "        x=x, y=y,\n",
    "        color=colors[i],\n",
    "        lw=0.25,\n",
    "        label=column,\n",
    "    )\n",
    "\n",
    "    plt.xticks([])\n",
    "    sns.despine()\n",
    "    \n",
    "    # # Fill the area under the curve\n",
    "    # plt.fill_between(\n",
    "    #     x, y,\n",
    "    #     color=colors[i],\n",
    "    #     alpha=0.2,\n",
    "    # )"
   ]
  },
  {
   "cell_type": "code",
   "execution_count": null,
   "id": "c50f2e47-12ca-48ff-b2e7-9925586dd3cd",
   "metadata": {},
   "outputs": [],
   "source": [
    "break"
   ]
  },
  {
   "cell_type": "code",
   "execution_count": null,
   "id": "f1723a24-7afc-4fe5-bb61-69ba50df8ad0",
   "metadata": {},
   "outputs": [],
   "source": [
    "pdf = cdata.obs.copy()\n",
    "pdf = pdf.sort_values(by='chrom_bin')\n",
    "\n",
    "for centrality in centralities:\n",
    "    print(centrality)\n",
    "    \n",
    "    plt.rcParams['figure.dpi'] = 200\n",
    "    plt.rcParams['figure.figsize'] = 10, 3\n",
    "\n",
    "    x = pdf['chrom_bin']\n",
    "    y = scipy.stats.zscore(pdf[centrality])\n",
    "    \n",
    "    sns.lineplot(\n",
    "        x=x, y=y,\n",
    "        color='deepskyblue',\n",
    "        lw=0.25,\n",
    "    )\n",
    "\n",
    "    # Fill the area under the curve\n",
    "    plt.fill_between(\n",
    "        x, y,\n",
    "        color='deepskyblue',\n",
    "        alpha=0.2,\n",
    "    )\n",
    "\n",
    "    plt.title(centrality)\n",
    "\n",
    "    plt.show()"
   ]
  },
  {
   "cell_type": "code",
   "execution_count": null,
   "id": "725cc4e5-82dd-482c-b5dc-13f6d992505d",
   "metadata": {},
   "outputs": [],
   "source": []
  },
  {
   "cell_type": "code",
   "execution_count": null,
   "id": "de331b13-b8e5-4d91-bbd6-8877a04852b1",
   "metadata": {},
   "outputs": [],
   "source": []
  },
  {
   "cell_type": "code",
   "execution_count": null,
   "id": "cca7ba45-cb53-46a6-b4e9-972a309965e5",
   "metadata": {},
   "outputs": [],
   "source": [
    "break"
   ]
  },
  {
   "cell_type": "code",
   "execution_count": null,
   "id": "6ef74c5a-f87f-43c6-93ad-372b1fe73f8d",
   "metadata": {},
   "outputs": [],
   "source": []
  },
  {
   "cell_type": "code",
   "execution_count": null,
   "id": "9235ce21-884a-47a3-ad37-0195b03e873f",
   "metadata": {},
   "outputs": [],
   "source": []
  },
  {
   "cell_type": "markdown",
   "id": "3f70331c-dc85-4bb9-8937-513a39b98ab5",
   "metadata": {},
   "source": [
    "# Clustering"
   ]
  },
  {
   "cell_type": "code",
   "execution_count": null,
   "id": "c8fc0cc3-6d59-4ad8-aa7b-fa43ade23d57",
   "metadata": {},
   "outputs": [],
   "source": [
    "sc.pp.pca(\n",
    "    cdata, \n",
    "    n_comps=50,\n",
    "    zero_center=False,\n",
    "    layer=layer_key,\n",
    ")\n",
    "\n",
    "cdata.obs['principal_component_1'] = cdata.obsm['X_pca'][:, 0]\n",
    "cdata.obs['principal_component_2'] = cdata.obsm['X_pca'][:, 1]\n",
    "\n",
    "sc.pl.pca_variance_ratio(cdata)\n",
    "sc.pp.neighbors(cdata)\n",
    "sc.tl.leiden(cdata, resolution=1)\n",
    "sc.tl.umap(cdata)\n",
    "\n",
    "sc.pl.umap(cdata, color=[\n",
    "    'leiden',\n",
    "    'bin_start',\n",
    "    'log_n_genes',\n",
    "    'log_n_tfs',\n",
    "    \n",
    "], ncols=2)\n",
    "\n",
    "cdata"
   ]
  },
  {
   "cell_type": "code",
   "execution_count": null,
   "id": "148a5338-a131-4a99-9e27-869e202092a7",
   "metadata": {},
   "outputs": [],
   "source": [
    "sc.pl.umap(cdata, color=[\n",
    "    'log_n_genes',\n",
    "    'linear_hg_centrality', \n",
    "], ncols=2)\n",
    "\n",
    "cdata"
   ]
  },
  {
   "cell_type": "code",
   "execution_count": null,
   "id": "980770b4-1ba1-4796-961e-050a9fdd16eb",
   "metadata": {},
   "outputs": [],
   "source": [
    "cdata.obs[[\n",
    "    'singular_value_centrality', \n",
    "    'linear_hg_centrality', \n",
    "    'log-exp_hg_centrality', \n",
    "    'max_hg_centrality',\n",
    "]].corr()"
   ]
  },
  {
   "cell_type": "markdown",
   "id": "f9157219-c011-4216-a19a-b08622527e2a",
   "metadata": {},
   "source": [
    "# Plot centralities"
   ]
  },
  {
   "cell_type": "code",
   "execution_count": null,
   "id": "f4d0588b-a3c4-4dbe-b332-8ed5ef8e46d0",
   "metadata": {},
   "outputs": [],
   "source": [
    "cdata.obs.head()"
   ]
  },
  {
   "cell_type": "code",
   "execution_count": null,
   "id": "8545df30-195a-4280-8863-6ff2f6698a86",
   "metadata": {},
   "outputs": [],
   "source": [
    "pdf = cdata.obs.copy()\n",
    "pdf = pdf.sort_values(by='chrom_bin')\n",
    "\n",
    "plt.rcParams['figure.dpi'] = 200\n",
    "plt.rcParams['figure.figsize'] = 10, 3\n",
    "\n",
    "sns.lineplot(\n",
    "    data=pdf,\n",
    "    x='chrom_bin',\n",
    "    y='n_genes',\n",
    "    color='grey',\n",
    "    lw=0.25,\n",
    ")\n",
    "\n",
    "# Fill the area under the curve\n",
    "plt.fill_between(\n",
    "    pdf['chrom_bin'],\n",
    "    pdf['n_genes'],\n",
    "    color='grey',\n",
    "    alpha=0.2,\n",
    ")\n",
    "\n",
    "sns.lineplot(\n",
    "    data=pdf,\n",
    "    x='chrom_bin',\n",
    "    y='n_pt_genes',\n",
    "    color='green',\n",
    "    lw=0.25,\n",
    ")\n",
    "\n",
    "# Fill the area under the curve\n",
    "plt.fill_between(\n",
    "    pdf['chrom_bin'],\n",
    "    pdf['n_pt_genes'],\n",
    "    color='green',\n",
    "    alpha=0.2,\n",
    ")\n",
    "\n",
    "sns.lineplot(\n",
    "    data=pdf,\n",
    "    x='chrom_bin',\n",
    "    y='n_tfs',\n",
    "    color='r',\n",
    "    lw=0.25,\n",
    ")\n",
    "\n",
    "# Fill the area under the curve\n",
    "plt.fill_between(\n",
    "    pdf['chrom_bin'],\n",
    "    pdf['n_tfs'],\n",
    "    color='r',\n",
    "    alpha=0.2,\n",
    ")\n",
    "\n",
    "# plt.ylim([0, 15])\n",
    "# plt.xticks([])\n",
    "# plt.yscale('log')"
   ]
  },
  {
   "cell_type": "code",
   "execution_count": null,
   "id": "0057e6fd-262a-4559-9ce9-c4f85a4134de",
   "metadata": {},
   "outputs": [],
   "source": [
    "break"
   ]
  },
  {
   "cell_type": "code",
   "execution_count": null,
   "id": "40f205a6-284f-474b-991c-e6c928092c7c",
   "metadata": {},
   "outputs": [],
   "source": [
    "cdata.obs.columns"
   ]
  },
  {
   "cell_type": "code",
   "execution_count": null,
   "id": "7fb28861-b50e-4e97-b08a-97dbb5ee421c",
   "metadata": {},
   "outputs": [],
   "source": [
    "pdf = cdata.obs.copy()\n",
    "pdf = pdf.sort_values(by='chrom_bin')\n",
    "\n",
    "plt.rcParams['figure.dpi'] = 200\n",
    "plt.rcParams['figure.figsize'] = 8, 3\n",
    "\n",
    "sns.lineplot(\n",
    "    data=pdf,\n",
    "    x='chrom_bin',\n",
    "    y='singular_value_centrality',\n",
    "    color='C0',\n",
    "    lw=0.25,\n",
    ")\n",
    "\n",
    "# Fill the area under the curve\n",
    "plt.fill_between(\n",
    "    pdf['chrom_bin'],\n",
    "    pdf['singular_value_centrality'],\n",
    "    color='C0',\n",
    "    alpha=0.2,\n",
    ")\n",
    "\n",
    "# plt.xticks([])\n",
    "# plt.yscale('log')"
   ]
  },
  {
   "cell_type": "code",
   "execution_count": null,
   "id": "86dc7da8-8f71-41d8-bd69-47863a188bf4",
   "metadata": {},
   "outputs": [],
   "source": [
    "cdata.obs.column"
   ]
  },
  {
   "cell_type": "code",
   "execution_count": null,
   "id": "f7469a80-4591-460f-a082-388106953f44",
   "metadata": {},
   "outputs": [],
   "source": [
    "cdata.uns['genes']['gene_biotype'].value_counts()"
   ]
  },
  {
   "cell_type": "code",
   "execution_count": null,
   "id": "7b30cd7e-1d09-4dc1-824d-3d9050882b69",
   "metadata": {},
   "outputs": [],
   "source": []
  },
  {
   "cell_type": "code",
   "execution_count": null,
   "id": "43692e24-c131-4196-8e98-487da39d6633",
   "metadata": {},
   "outputs": [],
   "source": []
  },
  {
   "cell_type": "code",
   "execution_count": null,
   "id": "35dc07ee-f7b3-4cf8-a4b3-b325d3f425ba",
   "metadata": {},
   "outputs": [],
   "source": []
  },
  {
   "cell_type": "code",
   "execution_count": null,
   "id": "75a655b1-9d4c-4c33-a1ca-11446e6043dd",
   "metadata": {},
   "outputs": [],
   "source": [
    "break"
   ]
  },
  {
   "cell_type": "markdown",
   "id": "02a6dee5-6cee-40c6-94e7-ff1d081595f1",
   "metadata": {},
   "source": [
    "# Clique Expansion"
   ]
  },
  {
   "cell_type": "code",
   "execution_count": null,
   "id": "6db33abe-c164-44be-87b8-1c2ff1864317",
   "metadata": {},
   "outputs": [],
   "source": [
    "reload(matrix)\n",
    "\n",
    "adata.obsm['A'] = np.dot(adata.X, adata.X.T)\n",
    "print(type(adata.obsm['A']))\n",
    "print(adata.obsm['A'].shape)\n",
    "\n",
    "adata"
   ]
  },
  {
   "cell_type": "code",
   "execution_count": null,
   "id": "ecfc47bb-8438-40fa-9e11-f659c6647541",
   "metadata": {},
   "outputs": [],
   "source": []
  },
  {
   "cell_type": "code",
   "execution_count": null,
   "id": "13653d94-4d98-4a02-a447-ca45bf6dc7d3",
   "metadata": {},
   "outputs": [],
   "source": []
  },
  {
   "cell_type": "code",
   "execution_count": null,
   "id": "b8f1857a-e2bc-4b52-a360-4b366c7c3c90",
   "metadata": {},
   "outputs": [],
   "source": []
  },
  {
   "cell_type": "code",
   "execution_count": null,
   "id": "2ba0fe9c-7eac-44fd-b23d-4489fa85b35b",
   "metadata": {},
   "outputs": [],
   "source": []
  },
  {
   "cell_type": "code",
   "execution_count": null,
   "id": "f624490b-e530-407b-9af4-af08218bc2fd",
   "metadata": {},
   "outputs": [],
   "source": [
    "break"
   ]
  },
  {
   "cell_type": "code",
   "execution_count": null,
   "id": "fc70b247-40c5-4b93-a523-7d3fd7d58ab0",
   "metadata": {},
   "outputs": [],
   "source": []
  },
  {
   "cell_type": "code",
   "execution_count": null,
   "id": "fb0c8917-75b8-462c-97e1-b905bc2016ad",
   "metadata": {},
   "outputs": [],
   "source": []
  },
  {
   "cell_type": "code",
   "execution_count": null,
   "id": "f4e4bf46-d912-49b9-8eee-05866857b111",
   "metadata": {},
   "outputs": [],
   "source": []
  },
  {
   "cell_type": "code",
   "execution_count": null,
   "id": "fe6c0379-4202-4804-bc9d-327bc821cc7f",
   "metadata": {},
   "outputs": [],
   "source": []
  },
  {
   "cell_type": "code",
   "execution_count": null,
   "id": "228277f6-2bf4-4012-95d1-3a2c138ba01d",
   "metadata": {},
   "outputs": [],
   "source": [
    "break"
   ]
  },
  {
   "cell_type": "code",
   "execution_count": null,
   "id": "9168a7fa-87a6-4d56-97c2-03262a0933cb",
   "metadata": {},
   "outputs": [],
   "source": []
  },
  {
   "cell_type": "markdown",
   "id": "696182a2-7d85-4521-86ae-d6f0fb1006bd",
   "metadata": {},
   "source": [
    "# Degree Centrality"
   ]
  },
  {
   "cell_type": "code",
   "execution_count": null,
   "id": "fd80231f-e4eb-429f-9708-505332824c8b",
   "metadata": {},
   "outputs": [],
   "source": [
    "pdf = adata.obs.copy()\n",
    "pdf['n_reads'] = pdf['n_reads'].astype(int)\n",
    "sns.histplot(\n",
    "    data=pdf,\n",
    "    x='n_reads',\n",
    "    log_scale=True,\n",
    ")"
   ]
  },
  {
   "cell_type": "code",
   "execution_count": null,
   "id": "b1a39ead-1781-4bec-bdb4-bb5b6fcf53d0",
   "metadata": {},
   "outputs": [],
   "source": [
    "pdf = adata.obs.copy()\n",
    "pdf = pdf.sort_values(by='bin')\n",
    "print(f\"{pdf.shape=}\")\n",
    "\n",
    "pdf['bin'] = pdf['bin'].astype(int)\n",
    "pdf['n_reads'] = pdf['n_reads'].astype(int)\n",
    "pdf['n_reads_log'] = np.log1p(pdf['n_reads'])\n",
    "\n",
    "plt.rcParams['figure.figsize'] = 10, 5\n",
    "\n",
    "sns.barplot(\n",
    "    data=pdf,\n",
    "    x='bin',\n",
    "    y='n_reads_log',\n",
    "    hue='chrom',\n",
    "    legend=False,\n",
    "    palette='tab20b',\n",
    "    ec='none',\n",
    "    width=0.4,\n",
    ")\n",
    "\n",
    "plt.xticks([])\n",
    "pdf.head()\n"
   ]
  },
  {
   "cell_type": "code",
   "execution_count": null,
   "id": "7772b1dd-825e-4406-a680-8bbdd622fffb",
   "metadata": {},
   "outputs": [],
   "source": [
    "pdf.head(15)"
   ]
  },
  {
   "cell_type": "code",
   "execution_count": null,
   "id": "a5669954-2d8d-4a50-bfed-ce05e14f0c92",
   "metadata": {},
   "outputs": [],
   "source": []
  },
  {
   "cell_type": "code",
   "execution_count": null,
   "id": "2d331977-89c8-4816-a99c-a9d8892efc1d",
   "metadata": {},
   "outputs": [],
   "source": []
  },
  {
   "cell_type": "code",
   "execution_count": null,
   "id": "28694907-241f-417b-8b70-b489be5bcd1b",
   "metadata": {},
   "outputs": [],
   "source": [
    "break"
   ]
  },
  {
   "cell_type": "code",
   "execution_count": null,
   "id": "4fed8125-1806-45a7-abe9-c3962495c953",
   "metadata": {},
   "outputs": [],
   "source": []
  },
  {
   "cell_type": "code",
   "execution_count": null,
   "id": "73b3363b-75f2-4648-a3c7-41d21d63f8e2",
   "metadata": {},
   "outputs": [],
   "source": []
  },
  {
   "cell_type": "code",
   "execution_count": null,
   "id": "38332698-89a1-45d3-8046-9a45706b7ddd",
   "metadata": {},
   "outputs": [],
   "source": []
  },
  {
   "cell_type": "code",
   "execution_count": null,
   "id": "8b8dfe1b-e62e-4cf4-8a75-29d2d7abd0e3",
   "metadata": {},
   "outputs": [],
   "source": []
  },
  {
   "cell_type": "code",
   "execution_count": null,
   "id": "dcfbe66c-786c-4fac-83d8-9bc5f23e54a2",
   "metadata": {},
   "outputs": [],
   "source": []
  },
  {
   "cell_type": "code",
   "execution_count": null,
   "id": "b835bf9f-81d1-49e9-af99-4bf67b46761a",
   "metadata": {},
   "outputs": [],
   "source": []
  },
  {
   "cell_type": "code",
   "execution_count": null,
   "id": "4463e576-2377-48db-8b10-7379c208360b",
   "metadata": {},
   "outputs": [],
   "source": [
    "result = []\n",
    "\n",
    "for chrom, group in adata.obs.groupby('chrom'):\n",
    "    chrom_data = adata[group.index,]\n",
    "    chrom_data = chrom_data[:, chrom_data.X.sum(axis=0) > 1]\n",
    "    \n",
    "    row = {\n",
    "        'chrom' : chrom,\n",
    "        'n_bins' : chrom_data.shape[0],\n",
    "        'n_reads' : chrom_data.shape[1],\n",
    "        'mean_order' : chrom_data.var['order'].mean(),\n",
    "        'median_order' : chrom_data.var['order'].median(),\n",
    "        'chrom_connectivity' : chrom_data.var['n_chromosomes'].mean(),\n",
    "    }\n",
    "    result.append(row)\n",
    "    # break\n",
    "\n",
    "result = pd.DataFrame(result)\n",
    "result.head()"
   ]
  },
  {
   "cell_type": "code",
   "execution_count": null,
   "id": "1c3144f0-7281-4ae2-94b6-a5ce5677604b",
   "metadata": {},
   "outputs": [],
   "source": [
    "sns.barplot(\n",
    "    data=result,\n",
    "    x='chrom',\n",
    "    y='mean_order',\n",
    ")"
   ]
  },
  {
   "cell_type": "markdown",
   "id": "ac2d9bea-314f-4ecc-9106-b269907ec98c",
   "metadata": {},
   "source": [
    "# highest degree centrality"
   ]
  },
  {
   "cell_type": "code",
   "execution_count": null,
   "id": "ab34fec7-d236-4951-a19b-82846b521599",
   "metadata": {},
   "outputs": [],
   "source": [
    "def flatten_list(nested_list):\n",
    "  flat_list = []\n",
    "  for sublist in nested_list:\n",
    "    for item in sublist.split(';'):\n",
    "      flat_list.append(item)\n",
    "  return flat_list"
   ]
  },
  {
   "cell_type": "code",
   "execution_count": null,
   "id": "e87bcc2b-b025-485b-9419-ceca1c7845d5",
   "metadata": {},
   "outputs": [],
   "source": [
    "n_nodes = 50\n",
    "df = adata.obs.copy()\n",
    "df = df.sort_values(by='n_reads', ascending=False)\n",
    "\n",
    "df = df.head(n_nodes)\n",
    "genes = flatten_list(df['genes'].values)\n",
    "print(f\"Total Genes: {len(genes)}\")\n",
    "genes = [x for x in genes if not x.startswith('Gm')] # exclude the predicted genes\n",
    "genes = [x for x in genes if not x.endswith('Rik')] # exclude the Rik genes\n",
    "genes = [x for x in genes if not \"-\" in x] # exclude the predicted genes\n",
    "print(f\"Filtered Genes: {len(genes)}\")\n",
    "genes[:10]"
   ]
  },
  {
   "cell_type": "code",
   "execution_count": null,
   "id": "935c16d6-4385-447f-9b78-74237067611a",
   "metadata": {},
   "outputs": [],
   "source": [
    "database = 'ontology'\n",
    "edf = gget.enrichr(genes, database=database)\n",
    "edf.head(25)"
   ]
  },
  {
   "cell_type": "code",
   "execution_count": null,
   "id": "b73192a7-662a-45c7-9c3d-04d458ca0d35",
   "metadata": {},
   "outputs": [],
   "source": [
    "edf['path_name'].head(25).values"
   ]
  },
  {
   "cell_type": "code",
   "execution_count": null,
   "id": "c333e6a4-da43-45cf-9c38-cf3ed1b62802",
   "metadata": {},
   "outputs": [],
   "source": [
    "break"
   ]
  },
  {
   "cell_type": "code",
   "execution_count": null,
   "id": "4edb0ced-616b-410e-9886-2096c9f97d4d",
   "metadata": {},
   "outputs": [],
   "source": [
    "adata.var.head()"
   ]
  },
  {
   "cell_type": "code",
   "execution_count": null,
   "id": "cee03c70-6113-4f18-8257-05ab70409310",
   "metadata": {},
   "outputs": [],
   "source": []
  },
  {
   "cell_type": "code",
   "execution_count": null,
   "id": "458130b1-bb6f-40e8-ab8d-5097efc152d1",
   "metadata": {},
   "outputs": [],
   "source": [
    "break"
   ]
  },
  {
   "cell_type": "code",
   "execution_count": null,
   "id": "2d4ece3e-c225-4be3-9af8-f6018dec769f",
   "metadata": {},
   "outputs": [],
   "source": []
  },
  {
   "cell_type": "code",
   "execution_count": null,
   "id": "b491d6b1-278b-43c9-8780-fd419db448c5",
   "metadata": {},
   "outputs": [],
   "source": []
  },
  {
   "cell_type": "code",
   "execution_count": null,
   "id": "f776d306-91bd-4eb3-ba41-e2bb6b82fbed",
   "metadata": {},
   "outputs": [],
   "source": []
  },
  {
   "cell_type": "code",
   "execution_count": null,
   "id": "175049d2-d1ef-40c5-90af-d00c291a3ce4",
   "metadata": {},
   "outputs": [],
   "source": []
  },
  {
   "cell_type": "markdown",
   "id": "86e7d4d3-46f8-421b-b700-d0aadcd8583b",
   "metadata": {},
   "source": [
    "# centrality"
   ]
  },
  {
   "cell_type": "code",
   "execution_count": null,
   "id": "34da29a5-5923-41e1-8005-201e07ab2790",
   "metadata": {},
   "outputs": [],
   "source": [
    "# add the principal singular value of the incidence matrix\n",
    "svd = TruncatedSVD(n_components=1, n_iter=7)\n",
    "adata.obs['singular_value_centrality'] = svd.fit_transform(adata.X)\n",
    "adata"
   ]
  },
  {
   "cell_type": "markdown",
   "id": "4b50026f-403e-4585-a92c-5510b5c62126",
   "metadata": {},
   "source": [
    "# Hypergraph Centrality"
   ]
  },
  {
   "cell_type": "code",
   "execution_count": null,
   "id": "ba832b17-74b5-4f95-8192-b49f56b6dc64",
   "metadata": {},
   "outputs": [],
   "source": [
    "functions = [\n",
    "    \"linear\", \"log-exp\", \"max\"\n",
    "]\n",
    "\n",
    "for func in functions:\n",
    "    start_time = time.time()  # Record start time\n",
    "\n",
    "    node, edge = central.nonlinear_eigenvector_centrality(\n",
    "        adata.X,\n",
    "        function=func,\n",
    "        maxiter=1000,\n",
    "    )\n",
    "\n",
    "    col_name = f\"{func}_hg_centrality\"\n",
    "    adata.obs[col_name] = node\n",
    "    adata.var[col_name] = edge\n",
    "\n",
    "    end_time = time.time()  # Record end time\n",
    "    print(f\"{func}_centrality calculation took: {end_time - start_time:.2f} seconds\")\n",
    "\n",
    "adata"
   ]
  },
  {
   "cell_type": "markdown",
   "id": "7d8136e1-e36e-4056-84e4-dec04578c61b",
   "metadata": {},
   "source": [
    "# Clique expansion"
   ]
  },
  {
   "cell_type": "code",
   "execution_count": null,
   "id": "ba9291f8-a035-4763-bf3b-c14b7fd65567",
   "metadata": {},
   "outputs": [],
   "source": [
    "reload(matrix)\n",
    "\n",
    "adata.obsm['A'] = np.dot(adata.X, adata.X.T)\n",
    "print(type(adata.obsm['A']))\n",
    "print(adata.obsm['A'].shape)\n",
    "\n",
    "adata"
   ]
  },
  {
   "cell_type": "markdown",
   "id": "22cc175b-8631-403b-ad81-a177f292b171",
   "metadata": {},
   "source": [
    "# visualize"
   ]
  },
  {
   "cell_type": "code",
   "execution_count": null,
   "id": "bbf2b00e-f405-4677-8ca0-09c532e66746",
   "metadata": {},
   "outputs": [],
   "source": [
    "chr_idx = adata.obs['chrom'] == '2'\n",
    "A = adata.obsm['A'][chr_idx, :][:, chr_idx][3:, 3:]\n",
    "A = np.log1p(A.todense())\n",
    "plt.imshow(A)"
   ]
  },
  {
   "cell_type": "code",
   "execution_count": null,
   "id": "df517c3f-c9a6-43dd-b680-610de4cee606",
   "metadata": {},
   "outputs": [],
   "source": []
  },
  {
   "cell_type": "code",
   "execution_count": null,
   "id": "b4f6a31a-5c22-49e7-be9b-9db29e0f712c",
   "metadata": {},
   "outputs": [],
   "source": []
  },
  {
   "cell_type": "code",
   "execution_count": null,
   "id": "48bac280-6239-4d1a-a74a-2606f1b41dee",
   "metadata": {},
   "outputs": [],
   "source": [
    "chr2 = adata[adata.obs['chrom'] == '2', :]\n",
    "\n",
    "chr2.obsm['A'].shape"
   ]
  },
  {
   "cell_type": "code",
   "execution_count": null,
   "id": "7dba5eb9-340f-4bff-b81f-b08864ffc301",
   "metadata": {},
   "outputs": [],
   "source": []
  },
  {
   "cell_type": "code",
   "execution_count": null,
   "id": "b04220c9-1e3c-448c-92e9-e6ed2f8c585c",
   "metadata": {},
   "outputs": [],
   "source": []
  },
  {
   "cell_type": "code",
   "execution_count": null,
   "id": "2b9dd717-a4b5-4900-ab8a-00ce3f4a65c0",
   "metadata": {},
   "outputs": [],
   "source": []
  },
  {
   "cell_type": "code",
   "execution_count": null,
   "id": "28fb31d1-a9ee-4e34-8178-d8dfce4402b1",
   "metadata": {},
   "outputs": [],
   "source": [
    "# break"
   ]
  },
  {
   "cell_type": "markdown",
   "id": "8de50300-0c9a-44a9-94f0-6b043553bb0c",
   "metadata": {},
   "source": [
    "# Graph centralities"
   ]
  },
  {
   "cell_type": "code",
   "execution_count": null,
   "id": "e2321a10-6f77-4b0e-8311-8b5fe9967119",
   "metadata": {},
   "outputs": [],
   "source": [
    "def compute_centrality_measures(adata, obsm_key='ce'):\n",
    "  \"\"\"\n",
    "  Computes and adds various centrality measures to an AnnData object.\n",
    "\n",
    "  Args:\n",
    "    adata: An AnnData object.\n",
    "    G: A NetworkX graph object.\n",
    "    obsm_key: The obsm string for the matrix to use during graph construction\n",
    "\n",
    "  Returns:\n",
    "    The modified AnnData object with added centrality measures.\n",
    "  \"\"\"\n",
    "  print(f\"Using obsm key: {obsm_key}\")\n",
    "  A = adata.obsm[obsm_key]\n",
    "  print(f\"{A.shape=} {type(A)}\")\n",
    "  G = nx.from_scipy_sparse_array(A)\n",
    "\n",
    "  print(\"\\tComputing degree centrality...\")\n",
    "  adata.obs[f'degree_centrality_{obsm_key}'] = nx.degree_centrality(G).values()\n",
    "\n",
    "  print(\"\\tComputing eigenvector centrality...\")\n",
    "  adata.obs[f'eigenvector_centrality_{obsm_key}'] = nx.eigenvector_centrality(G).values()\n",
    "\n",
    "  print(\"\\tComputing closeness centrality...\")\n",
    "  adata.obs[f'closeness_centrality_{obsm_key}'] = nx.closeness_centrality(G).values()\n",
    "  return adata\n",
    "\n",
    "adata = compute_centrality_measures(adata, obsm_key='A')\n",
    "\n",
    "adata"
   ]
  },
  {
   "cell_type": "code",
   "execution_count": null,
   "id": "aeb5c7c1-24c3-47f9-8512-9ffba8aa2a30",
   "metadata": {},
   "outputs": [],
   "source": [
    "nan_count = np.isnan(adata.obsm['A_oe'].data).sum()\n",
    "nan_count / adata.obsm['A_oe'].size"
   ]
  },
  {
   "cell_type": "markdown",
   "id": "9dfc510b-985a-4720-ba5d-71ac05d3c10a",
   "metadata": {},
   "source": [
    "# Plot"
   ]
  },
  {
   "cell_type": "code",
   "execution_count": null,
   "id": "9a9eb48e-f1c6-440f-84ef-8d7a7b10aa30",
   "metadata": {},
   "outputs": [],
   "source": [
    "centrality_cols = [x for x in adata.obs.columns if 'centrality' in x]\n",
    "corr = adata.obs[centrality_cols].corr()\n",
    "\n",
    "plt.rcParams['figure.dpi'] = 200\n",
    "plt.rcParams['figure.figsize'] = 10, 10\n",
    "\n",
    "sns.heatmap(\n",
    "    corr, \n",
    "    square=True,\n",
    "    lw=1,\n",
    "    cmap='coolwarm',\n",
    "    annot=True,\n",
    "    cbar_kws={'shrink' : 0.3}\n",
    ")"
   ]
  },
  {
   "cell_type": "markdown",
   "id": "f3df2499-1d3f-4865-b633-70c459ac5edd",
   "metadata": {},
   "source": [
    "# investigate"
   ]
  },
  {
   "cell_type": "code",
   "execution_count": null,
   "id": "ed25207d-cd94-49f7-9070-2c0d1b87f071",
   "metadata": {},
   "outputs": [],
   "source": [
    "df.columns"
   ]
  },
  {
   "cell_type": "markdown",
   "id": "f1d9e592-170b-4457-bfcb-b131ddbc79ba",
   "metadata": {},
   "source": [
    "# Compute global centralities"
   ]
  },
  {
   "cell_type": "markdown",
   "id": "3e07c0ad-6458-43a8-a1e0-5c6d8d63a285",
   "metadata": {},
   "source": [
    "##### "
   ]
  }
 ],
 "metadata": {
  "kernelspec": {
   "display_name": "scanpy",
   "language": "python",
   "name": "scanpy"
  },
  "language_info": {
   "codemirror_mode": {
    "name": "ipython",
    "version": 3
   },
   "file_extension": ".py",
   "mimetype": "text/x-python",
   "name": "python",
   "nbconvert_exporter": "python",
   "pygments_lexer": "ipython3",
   "version": "3.12.5"
  }
 },
 "nbformat": 4,
 "nbformat_minor": 5
}
