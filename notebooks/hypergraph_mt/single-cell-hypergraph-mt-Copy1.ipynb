{
 "cells": [
  {
   "cell_type": "code",
   "execution_count": 1,
   "id": "06524c09-b544-4b1f-97ef-8875e29cfa70",
   "metadata": {},
   "outputs": [],
   "source": [
    "import os\n",
    "import sys\n",
    "import pandas as pd\n",
    "import numpy as np\n",
    "import glob\n",
    "import time\n",
    "import gget\n",
    "import scipy\n",
    "from scipy.sparse import csr_matrix\n",
    "import matplotlib.pyplot as plt\n",
    "import seaborn as sns\n",
    "import networkx as nx\n",
    "from importlib import reload\n",
    "\n",
    "import sys\n",
    "sys.path.append('../../Hypergraph-MT/code/HyMT')\n",
    "sys.path.append('../../Hypergraph-MT/code/')\n",
    "import HyMT as hymt"
   ]
  },
  {
   "cell_type": "markdown",
   "id": "bdca7978-82cf-485e-bebf-af90cc08af40",
   "metadata": {},
   "source": [
    "# Load the core"
   ]
  },
  {
   "cell_type": "code",
   "execution_count": 2,
   "id": "7d113022-3b1f-4dd6-bf4a-0091c86ec075",
   "metadata": {},
   "outputs": [
    {
     "name": "stdout",
     "output_type": "stream",
     "text": [
      "H.shape=(17186, 34592)\n",
      "H.shape=(17186, 34592)\n",
      "Hypergraph loaded in: 2.67 seconds\n",
      "\n",
      "First 5 rows of the incidence matrix:\n"
     ]
    },
    {
     "data": {
      "text/html": [
       "<div>\n",
       "<style scoped>\n",
       "    .dataframe tbody tr th:only-of-type {\n",
       "        vertical-align: middle;\n",
       "    }\n",
       "\n",
       "    .dataframe tbody tr th {\n",
       "        vertical-align: top;\n",
       "    }\n",
       "\n",
       "    .dataframe thead th {\n",
       "        text-align: right;\n",
       "    }\n",
       "</style>\n",
       "<table border=\"1\" class=\"dataframe\">\n",
       "  <thead>\n",
       "    <tr style=\"text-align: right;\">\n",
       "      <th></th>\n",
       "      <th>66953ddf-e76d-4cdf-aaf8-be028a2d7b04</th>\n",
       "      <th>c160a170-5af7-412b-9c03-36dfef017384</th>\n",
       "      <th>3b0686b6-f18f-495d-89f5-8c8b286c2bb1</th>\n",
       "      <th>77bc1796-a0a3-4140-a97b-d4a786d17cb2</th>\n",
       "      <th>4f913e8a-799a-488e-a7bd-6ae9566e5c37</th>\n",
       "      <th>da8a0dfa-5deb-48c3-bf6e-bde5534e0578</th>\n",
       "      <th>a425bdc9-37ea-4020-bc7c-5085fb99a3c7</th>\n",
       "      <th>8ad994fd-c214-46f9-99b0-37c2b3f2946e</th>\n",
       "      <th>2ea6e55f-cc78-418a-b241-f134009153a0</th>\n",
       "      <th>05790af8-be74-4b99-8d1b-49074fa8f81d</th>\n",
       "      <th>...</th>\n",
       "      <th>05fc8d13-3610-4bb0-b173-a908dd526cdd</th>\n",
       "      <th>925b2134-befc-44e1-a9c5-97ca1295c96c</th>\n",
       "      <th>2f5a483f-7f31-4028-b91e-8f8c83a5b922</th>\n",
       "      <th>43cef5b9-05dc-4d4a-b20b-349a91ae2224</th>\n",
       "      <th>49c8ea45-81cb-4f76-a7ad-bd753e8f8c7c</th>\n",
       "      <th>eae8359f-2057-4492-93d1-10437e892f0b</th>\n",
       "      <th>fcf0a060-2833-4ff0-a352-d5e702f27f46</th>\n",
       "      <th>6199d009-7ef7-44f6-b10c-c0ac846f362c</th>\n",
       "      <th>0e705646-2f32-40f9-bad9-fbf5f7ef9d79</th>\n",
       "      <th>9f9a0a4e-630b-406a-bb24-7026948c9787</th>\n",
       "    </tr>\n",
       "  </thead>\n",
       "  <tbody>\n",
       "    <tr>\n",
       "      <th>Smarca2</th>\n",
       "      <td>0</td>\n",
       "      <td>0</td>\n",
       "      <td>0</td>\n",
       "      <td>0</td>\n",
       "      <td>0</td>\n",
       "      <td>0</td>\n",
       "      <td>0</td>\n",
       "      <td>0</td>\n",
       "      <td>0</td>\n",
       "      <td>0</td>\n",
       "      <td>...</td>\n",
       "      <td>0</td>\n",
       "      <td>0</td>\n",
       "      <td>0</td>\n",
       "      <td>0</td>\n",
       "      <td>0</td>\n",
       "      <td>0</td>\n",
       "      <td>0</td>\n",
       "      <td>0</td>\n",
       "      <td>0</td>\n",
       "      <td>0</td>\n",
       "    </tr>\n",
       "    <tr>\n",
       "      <th>Sh2d5</th>\n",
       "      <td>0</td>\n",
       "      <td>0</td>\n",
       "      <td>0</td>\n",
       "      <td>0</td>\n",
       "      <td>0</td>\n",
       "      <td>0</td>\n",
       "      <td>0</td>\n",
       "      <td>0</td>\n",
       "      <td>0</td>\n",
       "      <td>0</td>\n",
       "      <td>...</td>\n",
       "      <td>0</td>\n",
       "      <td>0</td>\n",
       "      <td>0</td>\n",
       "      <td>0</td>\n",
       "      <td>0</td>\n",
       "      <td>0</td>\n",
       "      <td>0</td>\n",
       "      <td>0</td>\n",
       "      <td>0</td>\n",
       "      <td>0</td>\n",
       "    </tr>\n",
       "    <tr>\n",
       "      <th>Dyrk1a</th>\n",
       "      <td>0</td>\n",
       "      <td>0</td>\n",
       "      <td>0</td>\n",
       "      <td>0</td>\n",
       "      <td>0</td>\n",
       "      <td>0</td>\n",
       "      <td>0</td>\n",
       "      <td>0</td>\n",
       "      <td>0</td>\n",
       "      <td>0</td>\n",
       "      <td>...</td>\n",
       "      <td>0</td>\n",
       "      <td>0</td>\n",
       "      <td>0</td>\n",
       "      <td>0</td>\n",
       "      <td>0</td>\n",
       "      <td>0</td>\n",
       "      <td>0</td>\n",
       "      <td>0</td>\n",
       "      <td>0</td>\n",
       "      <td>0</td>\n",
       "    </tr>\n",
       "    <tr>\n",
       "      <th>Igf2bp3</th>\n",
       "      <td>0</td>\n",
       "      <td>0</td>\n",
       "      <td>0</td>\n",
       "      <td>0</td>\n",
       "      <td>0</td>\n",
       "      <td>0</td>\n",
       "      <td>0</td>\n",
       "      <td>0</td>\n",
       "      <td>0</td>\n",
       "      <td>0</td>\n",
       "      <td>...</td>\n",
       "      <td>0</td>\n",
       "      <td>0</td>\n",
       "      <td>0</td>\n",
       "      <td>0</td>\n",
       "      <td>0</td>\n",
       "      <td>0</td>\n",
       "      <td>0</td>\n",
       "      <td>0</td>\n",
       "      <td>0</td>\n",
       "      <td>0</td>\n",
       "    </tr>\n",
       "    <tr>\n",
       "      <th>Tmem267</th>\n",
       "      <td>0</td>\n",
       "      <td>0</td>\n",
       "      <td>0</td>\n",
       "      <td>0</td>\n",
       "      <td>0</td>\n",
       "      <td>0</td>\n",
       "      <td>0</td>\n",
       "      <td>0</td>\n",
       "      <td>0</td>\n",
       "      <td>0</td>\n",
       "      <td>...</td>\n",
       "      <td>0</td>\n",
       "      <td>0</td>\n",
       "      <td>0</td>\n",
       "      <td>0</td>\n",
       "      <td>0</td>\n",
       "      <td>0</td>\n",
       "      <td>0</td>\n",
       "      <td>0</td>\n",
       "      <td>0</td>\n",
       "      <td>0</td>\n",
       "    </tr>\n",
       "  </tbody>\n",
       "</table>\n",
       "<p>5 rows × 34592 columns</p>\n",
       "</div>"
      ],
      "text/plain": [
       "         66953ddf-e76d-4cdf-aaf8-be028a2d7b04  \\\n",
       "Smarca2                                     0   \n",
       "Sh2d5                                       0   \n",
       "Dyrk1a                                      0   \n",
       "Igf2bp3                                     0   \n",
       "Tmem267                                     0   \n",
       "\n",
       "         c160a170-5af7-412b-9c03-36dfef017384  \\\n",
       "Smarca2                                     0   \n",
       "Sh2d5                                       0   \n",
       "Dyrk1a                                      0   \n",
       "Igf2bp3                                     0   \n",
       "Tmem267                                     0   \n",
       "\n",
       "         3b0686b6-f18f-495d-89f5-8c8b286c2bb1  \\\n",
       "Smarca2                                     0   \n",
       "Sh2d5                                       0   \n",
       "Dyrk1a                                      0   \n",
       "Igf2bp3                                     0   \n",
       "Tmem267                                     0   \n",
       "\n",
       "         77bc1796-a0a3-4140-a97b-d4a786d17cb2  \\\n",
       "Smarca2                                     0   \n",
       "Sh2d5                                       0   \n",
       "Dyrk1a                                      0   \n",
       "Igf2bp3                                     0   \n",
       "Tmem267                                     0   \n",
       "\n",
       "         4f913e8a-799a-488e-a7bd-6ae9566e5c37  \\\n",
       "Smarca2                                     0   \n",
       "Sh2d5                                       0   \n",
       "Dyrk1a                                      0   \n",
       "Igf2bp3                                     0   \n",
       "Tmem267                                     0   \n",
       "\n",
       "         da8a0dfa-5deb-48c3-bf6e-bde5534e0578  \\\n",
       "Smarca2                                     0   \n",
       "Sh2d5                                       0   \n",
       "Dyrk1a                                      0   \n",
       "Igf2bp3                                     0   \n",
       "Tmem267                                     0   \n",
       "\n",
       "         a425bdc9-37ea-4020-bc7c-5085fb99a3c7  \\\n",
       "Smarca2                                     0   \n",
       "Sh2d5                                       0   \n",
       "Dyrk1a                                      0   \n",
       "Igf2bp3                                     0   \n",
       "Tmem267                                     0   \n",
       "\n",
       "         8ad994fd-c214-46f9-99b0-37c2b3f2946e  \\\n",
       "Smarca2                                     0   \n",
       "Sh2d5                                       0   \n",
       "Dyrk1a                                      0   \n",
       "Igf2bp3                                     0   \n",
       "Tmem267                                     0   \n",
       "\n",
       "         2ea6e55f-cc78-418a-b241-f134009153a0  \\\n",
       "Smarca2                                     0   \n",
       "Sh2d5                                       0   \n",
       "Dyrk1a                                      0   \n",
       "Igf2bp3                                     0   \n",
       "Tmem267                                     0   \n",
       "\n",
       "         05790af8-be74-4b99-8d1b-49074fa8f81d  ...  \\\n",
       "Smarca2                                     0  ...   \n",
       "Sh2d5                                       0  ...   \n",
       "Dyrk1a                                      0  ...   \n",
       "Igf2bp3                                     0  ...   \n",
       "Tmem267                                     0  ...   \n",
       "\n",
       "         05fc8d13-3610-4bb0-b173-a908dd526cdd  \\\n",
       "Smarca2                                     0   \n",
       "Sh2d5                                       0   \n",
       "Dyrk1a                                      0   \n",
       "Igf2bp3                                     0   \n",
       "Tmem267                                     0   \n",
       "\n",
       "         925b2134-befc-44e1-a9c5-97ca1295c96c  \\\n",
       "Smarca2                                     0   \n",
       "Sh2d5                                       0   \n",
       "Dyrk1a                                      0   \n",
       "Igf2bp3                                     0   \n",
       "Tmem267                                     0   \n",
       "\n",
       "         2f5a483f-7f31-4028-b91e-8f8c83a5b922  \\\n",
       "Smarca2                                     0   \n",
       "Sh2d5                                       0   \n",
       "Dyrk1a                                      0   \n",
       "Igf2bp3                                     0   \n",
       "Tmem267                                     0   \n",
       "\n",
       "         43cef5b9-05dc-4d4a-b20b-349a91ae2224  \\\n",
       "Smarca2                                     0   \n",
       "Sh2d5                                       0   \n",
       "Dyrk1a                                      0   \n",
       "Igf2bp3                                     0   \n",
       "Tmem267                                     0   \n",
       "\n",
       "         49c8ea45-81cb-4f76-a7ad-bd753e8f8c7c  \\\n",
       "Smarca2                                     0   \n",
       "Sh2d5                                       0   \n",
       "Dyrk1a                                      0   \n",
       "Igf2bp3                                     0   \n",
       "Tmem267                                     0   \n",
       "\n",
       "         eae8359f-2057-4492-93d1-10437e892f0b  \\\n",
       "Smarca2                                     0   \n",
       "Sh2d5                                       0   \n",
       "Dyrk1a                                      0   \n",
       "Igf2bp3                                     0   \n",
       "Tmem267                                     0   \n",
       "\n",
       "         fcf0a060-2833-4ff0-a352-d5e702f27f46  \\\n",
       "Smarca2                                     0   \n",
       "Sh2d5                                       0   \n",
       "Dyrk1a                                      0   \n",
       "Igf2bp3                                     0   \n",
       "Tmem267                                     0   \n",
       "\n",
       "         6199d009-7ef7-44f6-b10c-c0ac846f362c  \\\n",
       "Smarca2                                     0   \n",
       "Sh2d5                                       0   \n",
       "Dyrk1a                                      0   \n",
       "Igf2bp3                                     0   \n",
       "Tmem267                                     0   \n",
       "\n",
       "         0e705646-2f32-40f9-bad9-fbf5f7ef9d79  \\\n",
       "Smarca2                                     0   \n",
       "Sh2d5                                       0   \n",
       "Dyrk1a                                      0   \n",
       "Igf2bp3                                     0   \n",
       "Tmem267                                     0   \n",
       "\n",
       "         9f9a0a4e-630b-406a-bb24-7026948c9787  \n",
       "Smarca2                                     0  \n",
       "Sh2d5                                       0  \n",
       "Dyrk1a                                      0  \n",
       "Igf2bp3                                     0  \n",
       "Tmem267                                     0  \n",
       "\n",
       "[5 rows x 34592 columns]"
      ]
     },
     "execution_count": 2,
     "metadata": {},
     "output_type": "execute_result"
    }
   ],
   "source": [
    "start_time = time.time()\n",
    "\n",
    "# load the hypergraph:\n",
    "fpath = \"/scratch/indikar_root/indikar1/shared_data/higher_order/transcription_clusters/core_incidence_1000000_protien_coding_only.pkl\"\n",
    "H = pd.read_pickle(fpath)\n",
    "print(f\"{H.shape=}\")\n",
    "\n",
    "end_time = time.time()\n",
    "total_time = end_time - start_time\n",
    "\n",
    "print(f\"{H.shape=}\")\n",
    "print(f\"Hypergraph loaded in: {total_time:.2f} seconds\")\n",
    "\n",
    "print(\"\\nFirst 5 rows of the incidence matrix:\")\n",
    "H.head()"
   ]
  },
  {
   "cell_type": "markdown",
   "id": "fa24ed4f-26ea-461b-8f9d-84b5acd9df0a",
   "metadata": {},
   "source": [
    "# Load the single-cell"
   ]
  },
  {
   "cell_type": "code",
   "execution_count": 3,
   "id": "69fd9f3c-2d9a-40ff-9d0f-8803413b6f6e",
   "metadata": {},
   "outputs": [
    {
     "name": "stdout",
     "output_type": "stream",
     "text": [
      "(raw) Hsc.shape=(4420, 6370)\n",
      "(reindexed) Hsc.shape=(17186, 6370)\n"
     ]
    },
    {
     "data": {
      "text/html": [
       "<div>\n",
       "<style scoped>\n",
       "    .dataframe tbody tr th:only-of-type {\n",
       "        vertical-align: middle;\n",
       "    }\n",
       "\n",
       "    .dataframe tbody tr th {\n",
       "        vertical-align: top;\n",
       "    }\n",
       "\n",
       "    .dataframe thead th {\n",
       "        text-align: right;\n",
       "    }\n",
       "</style>\n",
       "<table border=\"1\" class=\"dataframe\">\n",
       "  <thead>\n",
       "    <tr style=\"text-align: right;\">\n",
       "      <th></th>\n",
       "      <th>o3b03:3e6dd122-d8f5-562f-86de-fc4e384a667a</th>\n",
       "      <th>o3b96:1c1ffd57-ddd5-46cd-9c32-1dfa892c18be</th>\n",
       "      <th>o3b96:0759fe0f-df87-42e6-96c9-698671d5a7e2</th>\n",
       "      <th>o3b96:375781eb-927e-45ee-9155-ab4052b430bb</th>\n",
       "      <th>o1b59:ec5db31e-c0ae-44c5-91e0-bc40f486a37f</th>\n",
       "      <th>o3b50:c4af0102-ded4-4b11-bbf8-cbfdc1c1ae29_1</th>\n",
       "      <th>o3b50:b2098de7-780c-5e25-aef7-fc2fd55a730d_1</th>\n",
       "      <th>o3b03:6efe764e-ad6c-419b-8173-5a2e393b975d</th>\n",
       "      <th>o3b50:7faebcef-ab2e-43ed-accf-6bc9acd1655a_1</th>\n",
       "      <th>o3b50:d216bf99-0efd-4cb9-8908-6b97fafb3710</th>\n",
       "      <th>...</th>\n",
       "      <th>o3b31:00bd62b4-fdcf-4933-81bc-9a7b2dc280ca</th>\n",
       "      <th>o1b54:9b7f1801-2d0a-4d8e-8dff-3331cc9ae865_2</th>\n",
       "      <th>o4b27:78e6b31b-535d-4369-9369-b35b2f0d2c14</th>\n",
       "      <th>o1b31:4088b82d-702d-464f-8b9f-6f8adc4a312d</th>\n",
       "      <th>o4b46:533deccf-b0e3-4ccf-9339-12ca025a5b62</th>\n",
       "      <th>o1b22:a992959f-ead4-4dd6-853a-8c4fb93bc864</th>\n",
       "      <th>o1b44:38e3c9e2-b4c9-5b67-99c4-4f998703f861_1</th>\n",
       "      <th>o3b71:94739dfb-5f52-4d4b-9195-41ecf186ed0f</th>\n",
       "      <th>o3b26:066b320c-18bc-4efa-8ecc-0f18e1cf010a</th>\n",
       "      <th>o1b05:628d946e-d517-4b88-830b-f25c1d38d1a1</th>\n",
       "    </tr>\n",
       "  </thead>\n",
       "  <tbody>\n",
       "    <tr>\n",
       "      <th>Smarca2</th>\n",
       "      <td>0.0</td>\n",
       "      <td>0.0</td>\n",
       "      <td>0.0</td>\n",
       "      <td>0.0</td>\n",
       "      <td>0.0</td>\n",
       "      <td>0.0</td>\n",
       "      <td>0.0</td>\n",
       "      <td>0.0</td>\n",
       "      <td>0.0</td>\n",
       "      <td>0.0</td>\n",
       "      <td>...</td>\n",
       "      <td>0.0</td>\n",
       "      <td>0.0</td>\n",
       "      <td>0.0</td>\n",
       "      <td>0.0</td>\n",
       "      <td>0.0</td>\n",
       "      <td>0.0</td>\n",
       "      <td>0.0</td>\n",
       "      <td>0.0</td>\n",
       "      <td>0.0</td>\n",
       "      <td>0.0</td>\n",
       "    </tr>\n",
       "    <tr>\n",
       "      <th>Sh2d5</th>\n",
       "      <td>0.0</td>\n",
       "      <td>0.0</td>\n",
       "      <td>0.0</td>\n",
       "      <td>0.0</td>\n",
       "      <td>0.0</td>\n",
       "      <td>0.0</td>\n",
       "      <td>0.0</td>\n",
       "      <td>0.0</td>\n",
       "      <td>0.0</td>\n",
       "      <td>0.0</td>\n",
       "      <td>...</td>\n",
       "      <td>0.0</td>\n",
       "      <td>0.0</td>\n",
       "      <td>0.0</td>\n",
       "      <td>0.0</td>\n",
       "      <td>0.0</td>\n",
       "      <td>0.0</td>\n",
       "      <td>0.0</td>\n",
       "      <td>0.0</td>\n",
       "      <td>0.0</td>\n",
       "      <td>0.0</td>\n",
       "    </tr>\n",
       "    <tr>\n",
       "      <th>Dyrk1a</th>\n",
       "      <td>0.0</td>\n",
       "      <td>0.0</td>\n",
       "      <td>0.0</td>\n",
       "      <td>0.0</td>\n",
       "      <td>0.0</td>\n",
       "      <td>0.0</td>\n",
       "      <td>0.0</td>\n",
       "      <td>0.0</td>\n",
       "      <td>0.0</td>\n",
       "      <td>0.0</td>\n",
       "      <td>...</td>\n",
       "      <td>0.0</td>\n",
       "      <td>0.0</td>\n",
       "      <td>0.0</td>\n",
       "      <td>0.0</td>\n",
       "      <td>0.0</td>\n",
       "      <td>0.0</td>\n",
       "      <td>0.0</td>\n",
       "      <td>0.0</td>\n",
       "      <td>0.0</td>\n",
       "      <td>0.0</td>\n",
       "    </tr>\n",
       "    <tr>\n",
       "      <th>Igf2bp3</th>\n",
       "      <td>0.0</td>\n",
       "      <td>0.0</td>\n",
       "      <td>0.0</td>\n",
       "      <td>0.0</td>\n",
       "      <td>0.0</td>\n",
       "      <td>0.0</td>\n",
       "      <td>0.0</td>\n",
       "      <td>0.0</td>\n",
       "      <td>0.0</td>\n",
       "      <td>0.0</td>\n",
       "      <td>...</td>\n",
       "      <td>0.0</td>\n",
       "      <td>0.0</td>\n",
       "      <td>0.0</td>\n",
       "      <td>0.0</td>\n",
       "      <td>0.0</td>\n",
       "      <td>0.0</td>\n",
       "      <td>0.0</td>\n",
       "      <td>0.0</td>\n",
       "      <td>0.0</td>\n",
       "      <td>0.0</td>\n",
       "    </tr>\n",
       "    <tr>\n",
       "      <th>Tmem267</th>\n",
       "      <td>0.0</td>\n",
       "      <td>0.0</td>\n",
       "      <td>0.0</td>\n",
       "      <td>0.0</td>\n",
       "      <td>0.0</td>\n",
       "      <td>0.0</td>\n",
       "      <td>0.0</td>\n",
       "      <td>0.0</td>\n",
       "      <td>0.0</td>\n",
       "      <td>0.0</td>\n",
       "      <td>...</td>\n",
       "      <td>0.0</td>\n",
       "      <td>0.0</td>\n",
       "      <td>0.0</td>\n",
       "      <td>0.0</td>\n",
       "      <td>0.0</td>\n",
       "      <td>0.0</td>\n",
       "      <td>0.0</td>\n",
       "      <td>0.0</td>\n",
       "      <td>0.0</td>\n",
       "      <td>0.0</td>\n",
       "    </tr>\n",
       "  </tbody>\n",
       "</table>\n",
       "<p>5 rows × 6370 columns</p>\n",
       "</div>"
      ],
      "text/plain": [
       "         o3b03:3e6dd122-d8f5-562f-86de-fc4e384a667a  \\\n",
       "Smarca2                                         0.0   \n",
       "Sh2d5                                           0.0   \n",
       "Dyrk1a                                          0.0   \n",
       "Igf2bp3                                         0.0   \n",
       "Tmem267                                         0.0   \n",
       "\n",
       "         o3b96:1c1ffd57-ddd5-46cd-9c32-1dfa892c18be  \\\n",
       "Smarca2                                         0.0   \n",
       "Sh2d5                                           0.0   \n",
       "Dyrk1a                                          0.0   \n",
       "Igf2bp3                                         0.0   \n",
       "Tmem267                                         0.0   \n",
       "\n",
       "         o3b96:0759fe0f-df87-42e6-96c9-698671d5a7e2  \\\n",
       "Smarca2                                         0.0   \n",
       "Sh2d5                                           0.0   \n",
       "Dyrk1a                                          0.0   \n",
       "Igf2bp3                                         0.0   \n",
       "Tmem267                                         0.0   \n",
       "\n",
       "         o3b96:375781eb-927e-45ee-9155-ab4052b430bb  \\\n",
       "Smarca2                                         0.0   \n",
       "Sh2d5                                           0.0   \n",
       "Dyrk1a                                          0.0   \n",
       "Igf2bp3                                         0.0   \n",
       "Tmem267                                         0.0   \n",
       "\n",
       "         o1b59:ec5db31e-c0ae-44c5-91e0-bc40f486a37f  \\\n",
       "Smarca2                                         0.0   \n",
       "Sh2d5                                           0.0   \n",
       "Dyrk1a                                          0.0   \n",
       "Igf2bp3                                         0.0   \n",
       "Tmem267                                         0.0   \n",
       "\n",
       "         o3b50:c4af0102-ded4-4b11-bbf8-cbfdc1c1ae29_1  \\\n",
       "Smarca2                                           0.0   \n",
       "Sh2d5                                             0.0   \n",
       "Dyrk1a                                            0.0   \n",
       "Igf2bp3                                           0.0   \n",
       "Tmem267                                           0.0   \n",
       "\n",
       "         o3b50:b2098de7-780c-5e25-aef7-fc2fd55a730d_1  \\\n",
       "Smarca2                                           0.0   \n",
       "Sh2d5                                             0.0   \n",
       "Dyrk1a                                            0.0   \n",
       "Igf2bp3                                           0.0   \n",
       "Tmem267                                           0.0   \n",
       "\n",
       "         o3b03:6efe764e-ad6c-419b-8173-5a2e393b975d  \\\n",
       "Smarca2                                         0.0   \n",
       "Sh2d5                                           0.0   \n",
       "Dyrk1a                                          0.0   \n",
       "Igf2bp3                                         0.0   \n",
       "Tmem267                                         0.0   \n",
       "\n",
       "         o3b50:7faebcef-ab2e-43ed-accf-6bc9acd1655a_1  \\\n",
       "Smarca2                                           0.0   \n",
       "Sh2d5                                             0.0   \n",
       "Dyrk1a                                            0.0   \n",
       "Igf2bp3                                           0.0   \n",
       "Tmem267                                           0.0   \n",
       "\n",
       "         o3b50:d216bf99-0efd-4cb9-8908-6b97fafb3710  ...  \\\n",
       "Smarca2                                         0.0  ...   \n",
       "Sh2d5                                           0.0  ...   \n",
       "Dyrk1a                                          0.0  ...   \n",
       "Igf2bp3                                         0.0  ...   \n",
       "Tmem267                                         0.0  ...   \n",
       "\n",
       "         o3b31:00bd62b4-fdcf-4933-81bc-9a7b2dc280ca  \\\n",
       "Smarca2                                         0.0   \n",
       "Sh2d5                                           0.0   \n",
       "Dyrk1a                                          0.0   \n",
       "Igf2bp3                                         0.0   \n",
       "Tmem267                                         0.0   \n",
       "\n",
       "         o1b54:9b7f1801-2d0a-4d8e-8dff-3331cc9ae865_2  \\\n",
       "Smarca2                                           0.0   \n",
       "Sh2d5                                             0.0   \n",
       "Dyrk1a                                            0.0   \n",
       "Igf2bp3                                           0.0   \n",
       "Tmem267                                           0.0   \n",
       "\n",
       "         o4b27:78e6b31b-535d-4369-9369-b35b2f0d2c14  \\\n",
       "Smarca2                                         0.0   \n",
       "Sh2d5                                           0.0   \n",
       "Dyrk1a                                          0.0   \n",
       "Igf2bp3                                         0.0   \n",
       "Tmem267                                         0.0   \n",
       "\n",
       "         o1b31:4088b82d-702d-464f-8b9f-6f8adc4a312d  \\\n",
       "Smarca2                                         0.0   \n",
       "Sh2d5                                           0.0   \n",
       "Dyrk1a                                          0.0   \n",
       "Igf2bp3                                         0.0   \n",
       "Tmem267                                         0.0   \n",
       "\n",
       "         o4b46:533deccf-b0e3-4ccf-9339-12ca025a5b62  \\\n",
       "Smarca2                                         0.0   \n",
       "Sh2d5                                           0.0   \n",
       "Dyrk1a                                          0.0   \n",
       "Igf2bp3                                         0.0   \n",
       "Tmem267                                         0.0   \n",
       "\n",
       "         o1b22:a992959f-ead4-4dd6-853a-8c4fb93bc864  \\\n",
       "Smarca2                                         0.0   \n",
       "Sh2d5                                           0.0   \n",
       "Dyrk1a                                          0.0   \n",
       "Igf2bp3                                         0.0   \n",
       "Tmem267                                         0.0   \n",
       "\n",
       "         o1b44:38e3c9e2-b4c9-5b67-99c4-4f998703f861_1  \\\n",
       "Smarca2                                           0.0   \n",
       "Sh2d5                                             0.0   \n",
       "Dyrk1a                                            0.0   \n",
       "Igf2bp3                                           0.0   \n",
       "Tmem267                                           0.0   \n",
       "\n",
       "         o3b71:94739dfb-5f52-4d4b-9195-41ecf186ed0f  \\\n",
       "Smarca2                                         0.0   \n",
       "Sh2d5                                           0.0   \n",
       "Dyrk1a                                          0.0   \n",
       "Igf2bp3                                         0.0   \n",
       "Tmem267                                         0.0   \n",
       "\n",
       "         o3b26:066b320c-18bc-4efa-8ecc-0f18e1cf010a  \\\n",
       "Smarca2                                         0.0   \n",
       "Sh2d5                                           0.0   \n",
       "Dyrk1a                                          0.0   \n",
       "Igf2bp3                                         0.0   \n",
       "Tmem267                                         0.0   \n",
       "\n",
       "         o1b05:628d946e-d517-4b88-830b-f25c1d38d1a1  \n",
       "Smarca2                                         0.0  \n",
       "Sh2d5                                           0.0  \n",
       "Dyrk1a                                          0.0  \n",
       "Igf2bp3                                         0.0  \n",
       "Tmem267                                         0.0  \n",
       "\n",
       "[5 rows x 6370 columns]"
      ]
     },
     "execution_count": 3,
     "metadata": {},
     "output_type": "execute_result"
    }
   ],
   "source": [
    "fpath = \"/scratch/indikar_root/indikar1/shared_data/higher_order/transcription_clusters/singlecell_core_incidence_1000000_protien_coding_only.pkl\"\n",
    "Hsc = pd.read_pickle(fpath)\n",
    "print(f\"(raw) {Hsc.shape=}\")\n",
    "\n",
    "# add missing genes\n",
    "Hsc = Hsc.reindex(H.index)\n",
    "Hsc = Hsc.fillna(0.0)\n",
    "print(f\"(reindexed) {Hsc.shape=}\")\n",
    "\n",
    "# create an index for the cell ids\n",
    "cell_index = pd.DataFrame(index=Hsc.columns)\n",
    "cell_index['cell_id'] = cell_index.index.str.split(\":\").str[0]\n",
    "cell_index['read_name'] = cell_index.index.str.split(\":\").str[1]\n",
    "cell_index['sample'] = cell_index['cell_id'].str[:2]\n",
    "\n",
    "Hsc.head()"
   ]
  },
  {
   "cell_type": "code",
   "execution_count": 4,
   "id": "9f382030-79af-4a73-9d9f-d16caa1ab9ef",
   "metadata": {},
   "outputs": [
    {
     "data": {
      "image/png": "[encoded data removed]",
      "text/plain": [
       "<Figure size 1050x750 with 1 Axes>"
      ]
     },
     "metadata": {},
     "output_type": "display_data"
    }
   ],
   "source": [
    "plt.rcParams['figure.dpi'] = 300\n",
    "plt.rcParams['figure.figsize'] = 3.5, 2.5\n",
    "\n",
    "hyperedges_per_cell = cell_index['cell_id'].value_counts().reset_index()\n",
    "\n",
    "sns.barplot(\n",
    "    data=hyperedges_per_cell.head(15),\n",
    "    x='cell_id',\n",
    "    y='count',\n",
    "    ec='k',\n",
    ")\n",
    "plt.ylabel('core hyperedges')\n",
    "plt.xlabel('cell')\n",
    "plt.gca().tick_params(axis='x', rotation=90)\n",
    "sns.despine()"
   ]
  },
  {
   "cell_type": "code",
   "execution_count": 5,
   "id": "a5f26bee-e8bc-4e92-8543-045347b76dbd",
   "metadata": {},
   "outputs": [
    {
     "data": {
      "image/png": "[encoded data removed]",
      "text/plain": [
       "<Figure size 1200x1200 with 1 Axes>"
      ]
     },
     "metadata": {},
     "output_type": "display_data"
    }
   ],
   "source": [
    "# Create the line plot\n",
    "n_cells = len(hyperedges_per_cell)\n",
    "\n",
    "plt.rcParams['figure.dpi'] = 300\n",
    "plt.rcParams['figure.figsize'] = 4, 4\n",
    "sns.lineplot(\n",
    "    data=hyperedges_per_cell,\n",
    "    x='cell_id',\n",
    "    y='count',\n",
    "    c='b',\n",
    ")\n",
    "\n",
    "# # Add the horizontal line\n",
    "# threshold = 2\n",
    "# plt.axhline(y=threshold, c='r', lw=1, label=f\"{threshold=}\")\n",
    "# plt.legend()\n",
    "\n",
    "plt.ylabel('core hyperedges')\n",
    "plt.xlabel('cell')\n",
    "plt.gca().tick_params(axis='x', rotation=90)\n",
    "sns.despine()\n",
    "\n",
    "# # Calculate counts above and below the line\n",
    "# above_line = hyperedges_per_cell['count'][hyperedges_per_cell['count'] > threshold].count()\n",
    "# below_line = hyperedges_per_cell['count'][hyperedges_per_cell['count'] < threshold].count()\n",
    "\n",
    "# # Add text annotations to the plot\n",
    "# fontsize = 10\n",
    "# plt.text(0.5, threshold + 0.5, f'pass: {above_line} ({100*(above_line / n_cells ):.2f}%)', fontsize=fontsize) \n",
    "# plt.text(0.5, threshold - 0.7, f'fail: {below_line} ({100*(below_line / n_cells ):.2f}%)', fontsize=fontsize) \n",
    "\n",
    "# Set the y-scale to logarithmic\n",
    "plt.yscale('log')\n",
    "\n",
    "# Remove x-ticks\n",
    "plt.xticks([])\n",
    "\n",
    "# Show the plot\n",
    "plt.show()"
   ]
  },
  {
   "cell_type": "markdown",
   "id": "48a28b7e-7d2a-451d-bb19-7b3e9693a8cb",
   "metadata": {},
   "source": [
    "# load the population parameters"
   ]
  },
  {
   "cell_type": "code",
   "execution_count": 6,
   "id": "8035212f-4806-47c5-b3d8-0826e2f8410b",
   "metadata": {},
   "outputs": [
    {
     "data": {
      "text/plain": [
       "[2, 20, 38, 56, 74, 92, 110, 129, 147, 165]"
      ]
     },
     "execution_count": 6,
     "metadata": {},
     "output_type": "execute_result"
    }
   ],
   "source": [
    "dpath = \"/scratch/indikar_root/indikar1/shared_data/higher_order/hypergraph-mt/\"\n",
    "file_list = glob.glob(f\"{dpath}/u*\")\n",
    "k_list = [int(os.path.basename(x).split(\"_\")[1].split(\".\")[0]) for x in file_list ]\n",
    "k_list = sorted(k_list)\n",
    "k_list[:10]"
   ]
  },
  {
   "cell_type": "code",
   "execution_count": 7,
   "id": "84652ca1-fc9c-4824-8c1c-f7f257c44b59",
   "metadata": {},
   "outputs": [
    {
     "name": "stdout",
     "output_type": "stream",
     "text": [
      "k=2\n",
      "u.shape=(17186, 2)\n",
      "w.shape=(7, 2)\n"
     ]
    }
   ],
   "source": [
    "k = 2\n",
    "print(f\"{k=}\")\n",
    "\n",
    "fpath = f\"/scratch/indikar_root/indikar1/shared_data/higher_order/hypergraph-mt/u_{k}.pkl\"\n",
    "u = pd.read_pickle(fpath)\n",
    "print(f\"{u.shape=}\")\n",
    "\n",
    "fpath = f\"/scratch/indikar_root/indikar1/shared_data/higher_order/hypergraph-mt/w_{k}.pkl\"\n",
    "w = pd.read_pickle(fpath)\n",
    "w = w.reset_index(drop=True) # reset in the index for quick access later\n",
    "print(f\"{w.shape=}\")"
   ]
  },
  {
   "cell_type": "markdown",
   "id": "97c9a648-67d1-4df5-8b5b-9b75e9752e77",
   "metadata": {},
   "source": [
    "# prepare single-cell data"
   ]
  },
  {
   "cell_type": "code",
   "execution_count": 8,
   "id": "0058b8d5-390a-4055-b33f-c53b05de2e7a",
   "metadata": {},
   "outputs": [
    {
     "name": "stdout",
     "output_type": "stream",
     "text": [
      "skipping o1b35 with 7 hyperedges mean order 1.0\n",
      "skipping o2b06 with 3 hyperedges mean order 1.0\n",
      "skipping o2b08 with 4 hyperedges mean order 1.0\n",
      "skipping o2b24 with 3 hyperedges mean order 1.0\n",
      "skipping o2b27 with 6 hyperedges mean order 1.0\n",
      "skipping o2b37 with 4 hyperedges mean order 1.0\n",
      "skipping o2b42 with 4 hyperedges mean order 1.0\n",
      "skipping o2b43 with 6 hyperedges mean order 1.0\n",
      "skipping o2b50 with 5 hyperedges mean order 1.0\n",
      "skipping o2b53 with 4 hyperedges mean order 1.0\n",
      "skipping o2b54 with 9 hyperedges mean order 1.0\n",
      "skipping o2b56 with 4 hyperedges mean order 1.0\n",
      "skipping o2b58 with 4 hyperedges mean order 1.0\n",
      "skipping o2b64 with 5 hyperedges mean order 1.0\n",
      "skipping o2b77 with 5 hyperedges mean order 1.0\n",
      "skipping o2b84 with 4 hyperedges mean order 1.0\n",
      "skipping o2b85 with 4 hyperedges mean order 1.0\n",
      "skipping o2b92 with 7 hyperedges mean order 1.0\n",
      "skipping o2b94 with 3 hyperedges mean order 1.0\n",
      "skipping o2b95 with 5 hyperedges mean order 1.0\n",
      "skipping o3b12 with 2 hyperedges mean order 1.0\n",
      "skipping o4b05 with 3 hyperedges mean order 1.0\n",
      "skipping o4b09 with 5 hyperedges mean order 1.0\n",
      "skipping o4b10 with 6 hyperedges mean order 1.0\n",
      "skipping o4b23 with 3 hyperedges mean order 1.0\n",
      "skipping o4b28 with 4 hyperedges mean order 1.0\n",
      "skipping o4b31 with 5 hyperedges mean order 1.0\n",
      "skipping o4b37 with 4 hyperedges mean order 1.0\n",
      "skipping o4b43 with 3 hyperedges mean order 1.0\n",
      "skipping o4b44 with 5 hyperedges mean order 1.0\n",
      "skipping o4b45 with 6 hyperedges mean order 1.0\n",
      "skipping o4b64 with 2 hyperedges mean order 1.0\n",
      "skipping o4b65 with 5 hyperedges mean order 1.0\n",
      "skipping o4b66 with 7 hyperedges mean order 1.0\n",
      "skipping o4b70 with 8 hyperedges mean order 1.0\n",
      "skipping o4b79 with 5 hyperedges mean order 1.0\n",
      "skipping o4b83 with 11 hyperedges mean order 1.0\n",
      "skipping o4b91 with 5 hyperedges mean order 1.0\n",
      "skipping o4b94 with 6 hyperedges mean order 1.0\n",
      "done\n"
     ]
    }
   ],
   "source": [
    "max_order = 8  # same as population\n",
    "params = {}\n",
    "\n",
    "for cell_id, group in cell_index.groupby('cell_id'):\n",
    "    Bc = Hsc[group.index]\n",
    "    A = np.ones(Bc.shape[1])\n",
    "    hyperedges = Bc.apply(lambda x: tuple(x[x > 0].index), axis=0).to_numpy()\n",
    "\n",
    "    # Hyperedge filtering\n",
    "    orders = [len(e) for e in hyperedges]\n",
    "    if max_order:\n",
    "        edge_idx = [eid for eid, d in enumerate(orders) if 2 <= d <= max_order]\n",
    "    else:\n",
    "        edge_idx = [eid for eid, _ in enumerate(orders)]\n",
    "\n",
    "    passing_orders = np.array(orders)[edge_idx]\n",
    "    unique_orders =  sorted(np.unique(passing_orders))\n",
    "    if not len(unique_orders) > 0:\n",
    "        print(f\"skipping {cell_id} with {len(hyperedges)} hyperedges mean order {np.mean(orders)}\")\n",
    "        continue\n",
    "        \n",
    "    params[cell_id] = {\n",
    "        'A': A,\n",
    "        'B': Bc,\n",
    "        'hyperedges': hyperedges,\n",
    "        'genes': np.where(Bc.values)[0],\n",
    "        'edge_idx': edge_idx,\n",
    "        'orders': passing_orders,\n",
    "        'unique_orders': unique_orders,\n",
    "        'max_order' : np.max(unique_orders),\n",
    "    }\n",
    "\n",
    "print('done')"
   ]
  },
  {
   "cell_type": "markdown",
   "id": "37d0e4c9-ffe1-4c20-9f5c-26dbf8c8582d",
   "metadata": {},
   "source": [
    "# Run the model"
   ]
  },
  {
   "cell_type": "code",
   "execution_count": 9,
   "id": "949ad587-3f54-4ed3-92d1-b896f58a6fc2",
   "metadata": {},
   "outputs": [
    {
     "name": "stdout",
     "output_type": "stream",
     "text": [
      "--------- Cell: o3b50 with 856 hyperedges... ---------\n"
     ]
    },
    {
     "name": "stderr",
     "output_type": "stream",
     "text": [
      "/home/cstansbu/git_repositories/higher-order-single-cell/notebooks/../../Hypergraph-MT/code/HyMT/init_sc.py:99: RuntimeWarning: divide by zero encountered in divide\n",
      "  invDV2 = np.diag(np.sqrt(1.0 / self.node_degree))\n"
     ]
    },
    {
     "name": "stdout",
     "output_type": "stream",
     "text": [
      "psiOmega [-6.29013924]\n",
      "(array([6]), array([1]))\n",
      "i= 16936 []\n",
      "o3b50 maximum likilihood -51933.523\n",
      "--------- Cell: o3b43 with 194 hyperedges... ---------\n"
     ]
    },
    {
     "name": "stderr",
     "output_type": "stream",
     "text": [
      "/home/cstansbu/git_repositories/higher-order-single-cell/notebooks/../../Hypergraph-MT/code/HyMT/init_sc.py:99: RuntimeWarning: divide by zero encountered in divide\n",
      "  invDV2 = np.diag(np.sqrt(1.0 / self.node_degree))\n"
     ]
    },
    {
     "name": "stdout",
     "output_type": "stream",
     "text": [
      "psiOmega [-7.93670529]\n",
      "(array([6]), array([1]))\n",
      "i= 16921 []\n",
      "o3b43 maximum likilihood -5636.988\n",
      "--------- Cell: o1b04 with 114 hyperedges... ---------\n"
     ]
    },
    {
     "name": "stderr",
     "output_type": "stream",
     "text": [
      "/home/cstansbu/git_repositories/higher-order-single-cell/notebooks/../../Hypergraph-MT/code/HyMT/init_sc.py:99: RuntimeWarning: divide by zero encountered in divide\n",
      "  invDV2 = np.diag(np.sqrt(1.0 / self.node_degree))\n"
     ]
    },
    {
     "name": "stdout",
     "output_type": "stream",
     "text": [
      "psiOmega [-4.01814749]\n",
      "(array([6]), array([1]))\n",
      "i= 16906 []\n",
      "o1b04 maximum likilihood 3324839.810\n",
      "--------- Cell: o3b38 with 105 hyperedges... ---------\n"
     ]
    },
    {
     "name": "stderr",
     "output_type": "stream",
     "text": [
      "/home/cstansbu/git_repositories/higher-order-single-cell/notebooks/../../Hypergraph-MT/code/HyMT/init_sc.py:99: RuntimeWarning: divide by zero encountered in divide\n",
      "  invDV2 = np.diag(np.sqrt(1.0 / self.node_degree))\n"
     ]
    },
    {
     "name": "stdout",
     "output_type": "stream",
     "text": [
      "psiOmega [-5.19241675]\n",
      "(array([6]), array([1]))\n",
      "i= 16911 []\n",
      "o3b38 maximum likilihood 3365026.936\n",
      "--------- Cell: o1b59 with 105 hyperedges... ---------\n"
     ]
    },
    {
     "name": "stderr",
     "output_type": "stream",
     "text": [
      "/home/cstansbu/git_repositories/higher-order-single-cell/notebooks/../../Hypergraph-MT/code/HyMT/init_sc.py:99: RuntimeWarning: divide by zero encountered in divide\n",
      "  invDV2 = np.diag(np.sqrt(1.0 / self.node_degree))\n"
     ]
    },
    {
     "name": "stdout",
     "output_type": "stream",
     "text": [
      "psiOmega [-8.18393433]\n",
      "(array([6]), array([1]))\n",
      "i= 16904 []\n",
      "o1b59 maximum likilihood -2306.952\n",
      "--------- Cell: o4b67 with 90 hyperedges... ---------\n"
     ]
    },
    {
     "name": "stderr",
     "output_type": "stream",
     "text": [
      "/home/cstansbu/git_repositories/higher-order-single-cell/notebooks/../../Hypergraph-MT/code/HyMT/init_sc.py:99: RuntimeWarning: divide by zero encountered in divide\n",
      "  invDV2 = np.diag(np.sqrt(1.0 / self.node_degree))\n"
     ]
    },
    {
     "name": "stdout",
     "output_type": "stream",
     "text": [
      "psiOmega [-7.21370781]\n",
      "(array([6]), array([1]))\n",
      "i= 16912 []\n",
      "o4b67 maximum likilihood 1678084.312\n",
      "--------- Cell: o3b54 with 85 hyperedges... ---------\n"
     ]
    },
    {
     "name": "stderr",
     "output_type": "stream",
     "text": [
      "/home/cstansbu/git_repositories/higher-order-single-cell/notebooks/../../Hypergraph-MT/code/HyMT/init_sc.py:99: RuntimeWarning: divide by zero encountered in divide\n",
      "  invDV2 = np.diag(np.sqrt(1.0 / self.node_degree))\n"
     ]
    },
    {
     "name": "stdout",
     "output_type": "stream",
     "text": [
      "psiOmega [-1.41009469]\n",
      "(array([6]), array([1]))\n",
      "i= 16910 []\n",
      "o3b54 maximum likilihood 2443733.820\n",
      "--------- Cell: o1b96 with 85 hyperedges... ---------\n"
     ]
    },
    {
     "name": "stderr",
     "output_type": "stream",
     "text": [
      "/home/cstansbu/git_repositories/higher-order-single-cell/notebooks/../../Hypergraph-MT/code/HyMT/init_sc.py:99: RuntimeWarning: divide by zero encountered in divide\n",
      "  invDV2 = np.diag(np.sqrt(1.0 / self.node_degree))\n"
     ]
    },
    {
     "name": "stdout",
     "output_type": "stream",
     "text": [
      "psiOmega [-6.40400785]\n",
      "(array([6]), array([1]))\n",
      "i= 16911 []\n",
      "o1b96 maximum likilihood 3003032.354\n",
      "--------- Cell: o1b22 with 69 hyperedges... ---------\n"
     ]
    },
    {
     "name": "stderr",
     "output_type": "stream",
     "text": [
      "/home/cstansbu/git_repositories/higher-order-single-cell/notebooks/../../Hypergraph-MT/code/HyMT/init_sc.py:99: RuntimeWarning: divide by zero encountered in divide\n",
      "  invDV2 = np.diag(np.sqrt(1.0 / self.node_degree))\n"
     ]
    },
    {
     "name": "stdout",
     "output_type": "stream",
     "text": [
      "psiOmega [-7.06676288]\n",
      "(array([6]), array([1]))\n",
      "i= 16907 []\n",
      "o1b22 maximum likilihood -1318.925\n",
      "--------- Cell: o3b56 with 69 hyperedges... ---------\n"
     ]
    },
    {
     "name": "stderr",
     "output_type": "stream",
     "text": [
      "/home/cstansbu/git_repositories/higher-order-single-cell/notebooks/../../Hypergraph-MT/code/HyMT/init_sc.py:99: RuntimeWarning: divide by zero encountered in divide\n",
      "  invDV2 = np.diag(np.sqrt(1.0 / self.node_degree))\n"
     ]
    },
    {
     "name": "stdout",
     "output_type": "stream",
     "text": [
      "psiOmega [-8.31570978]\n",
      "(array([6]), array([1]))\n",
      "i= 16907 []\n",
      "o3b56 maximum likilihood 3859985.956\n",
      "--------- Cell: o3b13 with 67 hyperedges... ---------\n"
     ]
    },
    {
     "name": "stderr",
     "output_type": "stream",
     "text": [
      "/home/cstansbu/git_repositories/higher-order-single-cell/notebooks/../../Hypergraph-MT/code/HyMT/init_sc.py:99: RuntimeWarning: divide by zero encountered in divide\n",
      "  invDV2 = np.diag(np.sqrt(1.0 / self.node_degree))\n"
     ]
    },
    {
     "name": "stdout",
     "output_type": "stream",
     "text": [
      "psiOmega [-6.99285809]\n",
      "(array([6]), array([1]))\n",
      "i= 16916 []\n",
      "o3b13 maximum likilihood 1372856.759\n",
      "--------- Cell: o3b82 with 61 hyperedges... ---------\n"
     ]
    },
    {
     "name": "stderr",
     "output_type": "stream",
     "text": [
      "/home/cstansbu/git_repositories/higher-order-single-cell/notebooks/../../Hypergraph-MT/code/HyMT/init_sc.py:99: RuntimeWarning: divide by zero encountered in divide\n",
      "  invDV2 = np.diag(np.sqrt(1.0 / self.node_degree))\n"
     ]
    },
    {
     "name": "stdout",
     "output_type": "stream",
     "text": [
      "psiOmega [-1.46046418]\n",
      "(array([6]), array([1]))\n",
      "i= 16909 []\n",
      "o3b82 maximum likilihood 3724568.670\n",
      "--------- Cell: o1b82 with 61 hyperedges... ---------\n"
     ]
    },
    {
     "name": "stderr",
     "output_type": "stream",
     "text": [
      "/home/cstansbu/git_repositories/higher-order-single-cell/notebooks/../../Hypergraph-MT/code/HyMT/init_sc.py:99: RuntimeWarning: divide by zero encountered in divide\n",
      "  invDV2 = np.diag(np.sqrt(1.0 / self.node_degree))\n"
     ]
    },
    {
     "name": "stdout",
     "output_type": "stream",
     "text": [
      "psiOmega [-1.05967794e+15]\n",
      "(array([7]), array([0]))\n",
      "i= 16904 []\n",
      "o1b82 maximum likilihood 2923408.986\n",
      "--------- Cell: o1b23 with 60 hyperedges... ---------\n"
     ]
    },
    {
     "name": "stderr",
     "output_type": "stream",
     "text": [
      "/home/cstansbu/git_repositories/higher-order-single-cell/notebooks/../../Hypergraph-MT/code/HyMT/init_sc.py:99: RuntimeWarning: divide by zero encountered in divide\n",
      "  invDV2 = np.diag(np.sqrt(1.0 / self.node_degree))\n"
     ]
    },
    {
     "name": "stdout",
     "output_type": "stream",
     "text": [
      "psiOmega [-1.40163436e+15]\n",
      "(array([7]), array([0]))\n",
      "i= 16891 []\n",
      "o1b23 maximum likilihood 3688274.979\n",
      "--------- Cell: o1b53 with 60 hyperedges... ---------\n"
     ]
    },
    {
     "name": "stderr",
     "output_type": "stream",
     "text": [
      "/home/cstansbu/git_repositories/higher-order-single-cell/notebooks/../../Hypergraph-MT/code/HyMT/init_sc.py:99: RuntimeWarning: divide by zero encountered in divide\n",
      "  invDV2 = np.diag(np.sqrt(1.0 / self.node_degree))\n"
     ]
    },
    {
     "name": "stdout",
     "output_type": "stream",
     "text": [
      "psiOmega [-6.38395638e+14]\n",
      "(array([7]), array([0]))\n",
      "i= 16885 []\n",
      "o1b53 maximum likilihood 3308072.430\n",
      "--------- Cell: o1b03 with 57 hyperedges... ---------\n"
     ]
    },
    {
     "name": "stderr",
     "output_type": "stream",
     "text": [
      "/home/cstansbu/git_repositories/higher-order-single-cell/notebooks/../../Hypergraph-MT/code/HyMT/init_sc.py:99: RuntimeWarning: divide by zero encountered in divide\n",
      "  invDV2 = np.diag(np.sqrt(1.0 / self.node_degree))\n"
     ]
    },
    {
     "name": "stdout",
     "output_type": "stream",
     "text": [
      "psiOmega [-3.56464626]\n",
      "(array([6]), array([1]))\n",
      "i= 16906 []\n",
      "o1b03 maximum likilihood -998.245\n",
      "--------- Cell: o1b71 with 56 hyperedges... ---------\n"
     ]
    },
    {
     "name": "stderr",
     "output_type": "stream",
     "text": [
      "/home/cstansbu/git_repositories/higher-order-single-cell/notebooks/../../Hypergraph-MT/code/HyMT/init_sc.py:99: RuntimeWarning: divide by zero encountered in divide\n",
      "  invDV2 = np.diag(np.sqrt(1.0 / self.node_degree))\n"
     ]
    },
    {
     "name": "stdout",
     "output_type": "stream",
     "text": [
      "psiOmega [-3.89276713e+14]\n",
      "(array([7]), array([0]))\n",
      "i= 16888 []\n",
      "o1b71 maximum likilihood 3517381.773\n",
      "--------- Cell: o1b66 with 54 hyperedges... ---------\n"
     ]
    },
    {
     "name": "stderr",
     "output_type": "stream",
     "text": [
      "/home/cstansbu/git_repositories/higher-order-single-cell/notebooks/../../Hypergraph-MT/code/HyMT/init_sc.py:99: RuntimeWarning: divide by zero encountered in divide\n",
      "  invDV2 = np.diag(np.sqrt(1.0 / self.node_degree))\n"
     ]
    },
    {
     "name": "stdout",
     "output_type": "stream",
     "text": [
      "psiOmega [-0.90527776]\n",
      "(array([6]), array([1]))\n",
      "i= 16914 []\n",
      "o1b66 maximum likilihood -898.325\n",
      "--------- Cell: o1b54 with 54 hyperedges... ---------\n"
     ]
    },
    {
     "name": "stderr",
     "output_type": "stream",
     "text": [
      "/home/cstansbu/git_repositories/higher-order-single-cell/notebooks/../../Hypergraph-MT/code/HyMT/init_sc.py:99: RuntimeWarning: divide by zero encountered in divide\n",
      "  invDV2 = np.diag(np.sqrt(1.0 / self.node_degree))\n"
     ]
    },
    {
     "name": "stdout",
     "output_type": "stream",
     "text": [
      "psiOmega [-1.08163922e+15]\n",
      "(array([7]), array([0]))\n",
      "i= 16841 []\n",
      "o1b54 maximum likilihood 4136335.424\n",
      "--------- Cell: o1b47 with 53 hyperedges... ---------\n"
     ]
    },
    {
     "name": "stderr",
     "output_type": "stream",
     "text": [
      "/home/cstansbu/git_repositories/higher-order-single-cell/notebooks/../../Hypergraph-MT/code/HyMT/init_sc.py:99: RuntimeWarning: divide by zero encountered in divide\n",
      "  invDV2 = np.diag(np.sqrt(1.0 / self.node_degree))\n"
     ]
    },
    {
     "name": "stdout",
     "output_type": "stream",
     "text": [
      "psiOmega [-3.83000796]\n",
      "(array([6]), array([1]))\n",
      "i= 16910 []\n",
      "o1b47 maximum likilihood -837.781\n",
      "--------- Cell: o1b58 with 53 hyperedges... ---------\n"
     ]
    },
    {
     "name": "stderr",
     "output_type": "stream",
     "text": [
      "/home/cstansbu/git_repositories/higher-order-single-cell/notebooks/../../Hypergraph-MT/code/HyMT/init_sc.py:99: RuntimeWarning: divide by zero encountered in divide\n",
      "  invDV2 = np.diag(np.sqrt(1.0 / self.node_degree))\n"
     ]
    },
    {
     "name": "stdout",
     "output_type": "stream",
     "text": [
      "psiOmega [-5.69610076e+14]\n",
      "(array([7]), array([0]))\n",
      "i= 16911 []\n",
      "o1b58 maximum likilihood 1790029.619\n",
      "--------- Cell: o1b31 with 51 hyperedges... ---------\n"
     ]
    },
    {
     "name": "stderr",
     "output_type": "stream",
     "text": [
      "/home/cstansbu/git_repositories/higher-order-single-cell/notebooks/../../Hypergraph-MT/code/HyMT/init_sc.py:99: RuntimeWarning: divide by zero encountered in divide\n",
      "  invDV2 = np.diag(np.sqrt(1.0 / self.node_degree))\n"
     ]
    },
    {
     "name": "stdout",
     "output_type": "stream",
     "text": [
      "psiOmega [-7.34799418e+14]\n",
      "(array([7]), array([0]))\n",
      "i= 16866 []\n",
      "o1b31 maximum likilihood 3106773.274\n",
      "--------- Cell: o1b05 with 50 hyperedges... ---------\n"
     ]
    },
    {
     "name": "stderr",
     "output_type": "stream",
     "text": [
      "/home/cstansbu/git_repositories/higher-order-single-cell/notebooks/../../Hypergraph-MT/code/HyMT/init_sc.py:99: RuntimeWarning: divide by zero encountered in divide\n",
      "  invDV2 = np.diag(np.sqrt(1.0 / self.node_degree))\n"
     ]
    },
    {
     "name": "stdout",
     "output_type": "stream",
     "text": [
      "psiOmega [-7.31936817e+14]\n",
      "(array([7]), array([0]))\n",
      "i= 16907 []\n"
     ]
    },
    {
     "name": "stderr",
     "output_type": "stream",
     "text": [
      "2025-01-14 14:12:34,741 - [PID 1685158] - hymt.model.HyMT           - ERROR - w0 must have shape (7, 2). In input was given (6, 2)!\n",
      "Tue Jan 14 14:12:34 2025 ERROR w0 must have shape (7, 2). In input was given (6, 2)!\n"
     ]
    },
    {
     "name": "stdout",
     "output_type": "stream",
     "text": [
      "o1b05 maximum likilihood 2373294.725\n",
      "--------- Cell: o1b30 with 47 hyperedges... ---------\n",
      "WARNING: error with cell o1b30, skipping...\n",
      "--------- Cell: o1b25 with 47 hyperedges... ---------\n"
     ]
    },
    {
     "name": "stderr",
     "output_type": "stream",
     "text": [
      "/home/cstansbu/git_repositories/higher-order-single-cell/notebooks/../../Hypergraph-MT/code/HyMT/init_sc.py:99: RuntimeWarning: divide by zero encountered in divide\n",
      "  invDV2 = np.diag(np.sqrt(1.0 / self.node_degree))\n"
     ]
    },
    {
     "name": "stdout",
     "output_type": "stream",
     "text": [
      "psiOmega [-5.11691989]\n",
      "(array([6]), array([1]))\n",
      "i= 16912 []\n",
      "o1b25 maximum likilihood -848.097\n",
      "--------- Cell: o3b52 with 47 hyperedges... ---------\n"
     ]
    },
    {
     "name": "stderr",
     "output_type": "stream",
     "text": [
      "/home/cstansbu/git_repositories/higher-order-single-cell/notebooks/../../Hypergraph-MT/code/HyMT/init_sc.py:99: RuntimeWarning: divide by zero encountered in divide\n",
      "  invDV2 = np.diag(np.sqrt(1.0 / self.node_degree))\n"
     ]
    },
    {
     "name": "stdout",
     "output_type": "stream",
     "text": [
      "psiOmega [-2.74462361e+14]\n",
      "(array([7]), array([0]))\n",
      "i= 16847 []\n",
      "o3b52 maximum likilihood 4181418.704\n",
      "--------- Cell: o1b43 with 47 hyperedges... ---------\n"
     ]
    },
    {
     "name": "stderr",
     "output_type": "stream",
     "text": [
      "/home/cstansbu/git_repositories/higher-order-single-cell/notebooks/../../Hypergraph-MT/code/HyMT/init_sc.py:99: RuntimeWarning: divide by zero encountered in divide\n",
      "  invDV2 = np.diag(np.sqrt(1.0 / self.node_degree))\n"
     ]
    },
    {
     "name": "stdout",
     "output_type": "stream",
     "text": [
      "psiOmega [-3.87793524e+00 -4.55497127e+13]\n",
      "(array([6, 7]), array([1, 0]))\n",
      "i= 16906 []\n",
      "o1b43 maximum likilihood 2230788.091\n",
      "--------- Cell: o1b37 with 47 hyperedges... ---------\n"
     ]
    },
    {
     "name": "stderr",
     "output_type": "stream",
     "text": [
      "/home/cstansbu/git_repositories/higher-order-single-cell/notebooks/../../Hypergraph-MT/code/HyMT/init_sc.py:99: RuntimeWarning: divide by zero encountered in divide\n",
      "  invDV2 = np.diag(np.sqrt(1.0 / self.node_degree))\n"
     ]
    },
    {
     "name": "stdout",
     "output_type": "stream",
     "text": [
      "psiOmega [-5.50369659]\n",
      "(array([6]), array([1]))\n",
      "i= 16909 []\n",
      "o1b37 maximum likilihood -926.135\n",
      "--------- Cell: o1b41 with 47 hyperedges... ---------\n"
     ]
    },
    {
     "name": "stderr",
     "output_type": "stream",
     "text": [
      "/home/cstansbu/git_repositories/higher-order-single-cell/notebooks/../../Hypergraph-MT/code/HyMT/init_sc.py:99: RuntimeWarning: divide by zero encountered in divide\n",
      "  invDV2 = np.diag(np.sqrt(1.0 / self.node_degree))\n"
     ]
    },
    {
     "name": "stdout",
     "output_type": "stream",
     "text": [
      "psiOmega [-2.74256894e+14]\n",
      "(array([7]), array([0]))\n",
      "i= 16884 []\n",
      "o1b41 maximum likilihood 2284291.381\n",
      "--------- Cell: o1b27 with 46 hyperedges... ---------\n"
     ]
    },
    {
     "name": "stderr",
     "output_type": "stream",
     "text": [
      "/home/cstansbu/git_repositories/higher-order-single-cell/notebooks/../../Hypergraph-MT/code/HyMT/init_sc.py:99: RuntimeWarning: divide by zero encountered in divide\n",
      "  invDV2 = np.diag(np.sqrt(1.0 / self.node_degree))\n"
     ]
    },
    {
     "name": "stdout",
     "output_type": "stream",
     "text": [
      "psiOmega [-8.26732541e+14]\n",
      "(array([7]), array([0]))\n",
      "i= 16867 []\n",
      "o1b27 maximum likilihood 2687057.569\n",
      "--------- Cell: o1b83 with 45 hyperedges... ---------\n"
     ]
    },
    {
     "name": "stderr",
     "output_type": "stream",
     "text": [
      "/home/cstansbu/git_repositories/higher-order-single-cell/notebooks/../../Hypergraph-MT/code/HyMT/init_sc.py:99: RuntimeWarning: divide by zero encountered in divide\n",
      "  invDV2 = np.diag(np.sqrt(1.0 / self.node_degree))\n"
     ]
    },
    {
     "name": "stdout",
     "output_type": "stream",
     "text": [
      "psiOmega [-1.16755947e+15]\n",
      "(array([7]), array([0]))\n",
      "i= 16856 []\n",
      "o1b83 maximum likilihood 3164582.994\n",
      "--------- Cell: o3b93 with 45 hyperedges... ---------\n"
     ]
    },
    {
     "name": "stderr",
     "output_type": "stream",
     "text": [
      "/home/cstansbu/git_repositories/higher-order-single-cell/notebooks/../../Hypergraph-MT/code/HyMT/init_sc.py:99: RuntimeWarning: divide by zero encountered in divide\n",
      "  invDV2 = np.diag(np.sqrt(1.0 / self.node_degree))\n"
     ]
    },
    {
     "name": "stdout",
     "output_type": "stream",
     "text": [
      "psiOmega [-1.00574607e+15]\n",
      "(array([7]), array([0]))\n",
      "i= 16864 []\n",
      "o3b93 maximum likilihood 2969846.998\n",
      "--------- Cell: o1b17 with 44 hyperedges... ---------\n"
     ]
    },
    {
     "name": "stderr",
     "output_type": "stream",
     "text": [
      "/home/cstansbu/git_repositories/higher-order-single-cell/notebooks/../../Hypergraph-MT/code/HyMT/init_sc.py:99: RuntimeWarning: divide by zero encountered in divide\n",
      "  invDV2 = np.diag(np.sqrt(1.0 / self.node_degree))\n"
     ]
    },
    {
     "name": "stdout",
     "output_type": "stream",
     "text": [
      "psiOmega [-4.32188063e+14]\n",
      "(array([7]), array([0]))\n",
      "i= 16851 []\n",
      "o1b17 maximum likilihood 1924068.303\n",
      "--------- Cell: o3b96 with 43 hyperedges... ---------\n"
     ]
    },
    {
     "name": "stderr",
     "output_type": "stream",
     "text": [
      "/home/cstansbu/git_repositories/higher-order-single-cell/notebooks/../../Hypergraph-MT/code/HyMT/init_sc.py:99: RuntimeWarning: divide by zero encountered in divide\n",
      "  invDV2 = np.diag(np.sqrt(1.0 / self.node_degree))\n"
     ]
    },
    {
     "name": "stdout",
     "output_type": "stream",
     "text": [
      "psiOmega [-8.31198088]\n",
      "(array([6]), array([1]))\n",
      "i= 16902 []\n",
      "o3b96 maximum likilihood -863.956\n",
      "--------- Cell: o3b11 with 43 hyperedges... ---------\n"
     ]
    },
    {
     "name": "stderr",
     "output_type": "stream",
     "text": [
      "/home/cstansbu/git_repositories/higher-order-single-cell/notebooks/../../Hypergraph-MT/code/HyMT/init_sc.py:99: RuntimeWarning: divide by zero encountered in divide\n",
      "  invDV2 = np.diag(np.sqrt(1.0 / self.node_degree))\n"
     ]
    },
    {
     "name": "stdout",
     "output_type": "stream",
     "text": [
      "psiOmega [-6.40551023]\n",
      "(array([6]), array([1]))\n",
      "i= 16911 []\n",
      "o3b11 maximum likilihood -709.758\n",
      "--------- Cell: o1b10 with 42 hyperedges... ---------\n"
     ]
    },
    {
     "name": "stderr",
     "output_type": "stream",
     "text": [
      "/home/cstansbu/git_repositories/higher-order-single-cell/notebooks/../../Hypergraph-MT/code/HyMT/init_sc.py:99: RuntimeWarning: divide by zero encountered in divide\n",
      "  invDV2 = np.diag(np.sqrt(1.0 / self.node_degree))\n"
     ]
    },
    {
     "name": "stdout",
     "output_type": "stream",
     "text": [
      "psiOmega [-1.05160757e+15]\n",
      "(array([7]), array([0]))\n",
      "i= 16834 []\n",
      "o1b10 maximum likilihood 4120066.632\n",
      "--------- Cell: o1b29 with 42 hyperedges... ---------\n"
     ]
    },
    {
     "name": "stderr",
     "output_type": "stream",
     "text": [
      "/home/cstansbu/git_repositories/higher-order-single-cell/notebooks/../../Hypergraph-MT/code/HyMT/init_sc.py:99: RuntimeWarning: divide by zero encountered in divide\n",
      "  invDV2 = np.diag(np.sqrt(1.0 / self.node_degree))\n"
     ]
    },
    {
     "name": "stdout",
     "output_type": "stream",
     "text": [
      "psiOmega [-0.00622287]\n",
      "(array([4]), array([1]))\n",
      "i= 17144 []\n",
      "o1b29 maximum likilihood -654.352\n",
      "--------- Cell: o1b61 with 42 hyperedges... ---------\n"
     ]
    },
    {
     "name": "stderr",
     "output_type": "stream",
     "text": [
      "/home/cstansbu/git_repositories/higher-order-single-cell/notebooks/../../Hypergraph-MT/code/HyMT/init_sc.py:99: RuntimeWarning: divide by zero encountered in divide\n",
      "  invDV2 = np.diag(np.sqrt(1.0 / self.node_degree))\n"
     ]
    },
    {
     "name": "stdout",
     "output_type": "stream",
     "text": [
      "psiOmega [-10.33775977]\n",
      "(array([6]), array([1]))\n",
      "i= 16904 []\n",
      "o1b61 maximum likilihood -736.976\n",
      "--------- Cell: o1b45 with 42 hyperedges... ---------\n"
     ]
    },
    {
     "name": "stderr",
     "output_type": "stream",
     "text": [
      "/home/cstansbu/git_repositories/higher-order-single-cell/notebooks/../../Hypergraph-MT/code/HyMT/init_sc.py:99: RuntimeWarning: divide by zero encountered in divide\n",
      "  invDV2 = np.diag(np.sqrt(1.0 / self.node_degree))\n"
     ]
    },
    {
     "name": "stdout",
     "output_type": "stream",
     "text": [
      "psiOmega [-2.91791679]\n",
      "(array([6]), array([1]))\n",
      "i= 16934 []\n",
      "o1b45 maximum likilihood 625067.154\n",
      "--------- Cell: o1b18 with 42 hyperedges... ---------\n"
     ]
    },
    {
     "name": "stderr",
     "output_type": "stream",
     "text": [
      "/home/cstansbu/git_repositories/higher-order-single-cell/notebooks/../../Hypergraph-MT/code/HyMT/init_sc.py:99: RuntimeWarning: divide by zero encountered in divide\n",
      "  invDV2 = np.diag(np.sqrt(1.0 / self.node_degree))\n"
     ]
    },
    {
     "name": "stdout",
     "output_type": "stream",
     "text": [
      "psiOmega [-8.71682028e+13]\n",
      "(array([7]), array([0]))\n",
      "i= 16845 []\n",
      "o1b18 maximum likilihood 3848369.603\n",
      "--------- Cell: o1b78 with 41 hyperedges... ---------\n"
     ]
    },
    {
     "name": "stderr",
     "output_type": "stream",
     "text": [
      "/home/cstansbu/git_repositories/higher-order-single-cell/notebooks/../../Hypergraph-MT/code/HyMT/init_sc.py:99: RuntimeWarning: divide by zero encountered in divide\n",
      "  invDV2 = np.diag(np.sqrt(1.0 / self.node_degree))\n"
     ]
    },
    {
     "name": "stdout",
     "output_type": "stream",
     "text": [
      "psiOmega [-1.24092164e+15]\n",
      "(array([7]), array([0]))\n",
      "i= 16809 []\n",
      "o1b78 maximum likilihood 3587387.689\n",
      "--------- Cell: o1b16 with 40 hyperedges... ---------\n"
     ]
    },
    {
     "name": "stderr",
     "output_type": "stream",
     "text": [
      "/home/cstansbu/git_repositories/higher-order-single-cell/notebooks/../../Hypergraph-MT/code/HyMT/init_sc.py:99: RuntimeWarning: divide by zero encountered in divide\n",
      "  invDV2 = np.diag(np.sqrt(1.0 / self.node_degree))\n"
     ]
    },
    {
     "name": "stdout",
     "output_type": "stream",
     "text": [
      "psiOmega [-8.08171101e+14]\n",
      "(array([7]), array([0]))\n",
      "i= 16865 []\n",
      "o1b16 maximum likilihood 2302450.747\n",
      "--------- Cell: o1b20 with 39 hyperedges... ---------\n"
     ]
    },
    {
     "name": "stderr",
     "output_type": "stream",
     "text": [
      "/home/cstansbu/git_repositories/higher-order-single-cell/notebooks/../../Hypergraph-MT/code/HyMT/init_sc.py:99: RuntimeWarning: divide by zero encountered in divide\n",
      "  invDV2 = np.diag(np.sqrt(1.0 / self.node_degree))\n"
     ]
    },
    {
     "name": "stdout",
     "output_type": "stream",
     "text": [
      "psiOmega [-0.00387966]\n",
      "(array([4]), array([1]))\n",
      "i= 17143 []\n",
      "o1b20 maximum likilihood -656.461\n",
      "--------- Cell: o1b06 with 39 hyperedges... ---------\n"
     ]
    },
    {
     "name": "stderr",
     "output_type": "stream",
     "text": [
      "/home/cstansbu/git_repositories/higher-order-single-cell/notebooks/../../Hypergraph-MT/code/HyMT/init_sc.py:99: RuntimeWarning: divide by zero encountered in divide\n",
      "  invDV2 = np.diag(np.sqrt(1.0 / self.node_degree))\n"
     ]
    },
    {
     "name": "stdout",
     "output_type": "stream",
     "text": [
      "psiOmega [-5.95154352]\n",
      "(array([6]), array([1]))\n",
      "i= 16911 []\n",
      "o1b06 maximum likilihood -558.121\n",
      "--------- Cell: o1b67 with 39 hyperedges... ---------\n"
     ]
    },
    {
     "name": "stderr",
     "output_type": "stream",
     "text": [
      "/home/cstansbu/git_repositories/higher-order-single-cell/notebooks/../../Hypergraph-MT/code/HyMT/init_sc.py:99: RuntimeWarning: divide by zero encountered in divide\n",
      "  invDV2 = np.diag(np.sqrt(1.0 / self.node_degree))\n"
     ]
    },
    {
     "name": "stdout",
     "output_type": "stream",
     "text": [
      "psiOmega [-1.24867994e+15]\n",
      "(array([7]), array([0]))\n",
      "i= 16835 []\n",
      "o1b67 maximum likilihood 3348090.016\n",
      "--------- Cell: o1b09 with 38 hyperedges... ---------\n"
     ]
    },
    {
     "name": "stderr",
     "output_type": "stream",
     "text": [
      "/home/cstansbu/git_repositories/higher-order-single-cell/notebooks/../../Hypergraph-MT/code/HyMT/init_sc.py:99: RuntimeWarning: divide by zero encountered in divide\n",
      "  invDV2 = np.diag(np.sqrt(1.0 / self.node_degree))\n"
     ]
    },
    {
     "name": "stdout",
     "output_type": "stream",
     "text": [
      "psiOmega [-3.34675351]\n",
      "(array([6]), array([1]))\n",
      "i= 16915 []\n",
      "o1b09 maximum likilihood -638.294\n",
      "--------- Cell: o3b55 with 37 hyperedges... ---------\n"
     ]
    },
    {
     "name": "stderr",
     "output_type": "stream",
     "text": [
      "/home/cstansbu/git_repositories/higher-order-single-cell/notebooks/../../Hypergraph-MT/code/HyMT/init_sc.py:99: RuntimeWarning: divide by zero encountered in divide\n",
      "  invDV2 = np.diag(np.sqrt(1.0 / self.node_degree))\n"
     ]
    },
    {
     "name": "stdout",
     "output_type": "stream",
     "text": [
      "psiOmega [-1.76919914]\n",
      "(array([6]), array([1]))\n",
      "i= 16908 []\n",
      "o3b55 maximum likilihood -763.930\n",
      "--------- Cell: o1b46 with 36 hyperedges... ---------\n"
     ]
    },
    {
     "name": "stderr",
     "output_type": "stream",
     "text": [
      "/home/cstansbu/git_repositories/higher-order-single-cell/notebooks/../../Hypergraph-MT/code/HyMT/init_sc.py:99: RuntimeWarning: divide by zero encountered in divide\n",
      "  invDV2 = np.diag(np.sqrt(1.0 / self.node_degree))\n"
     ]
    },
    {
     "name": "stdout",
     "output_type": "stream",
     "text": [
      "psiOmega [-5.81758989]\n",
      "(array([6]), array([1]))\n",
      "i= 16911 []\n"
     ]
    },
    {
     "name": "stderr",
     "output_type": "stream",
     "text": [
      "2025-01-14 14:24:33,934 - [PID 1685158] - hymt.model.HyMT           - ERROR - w0 must have shape (7, 2). In input was given (6, 2)!\n",
      "Tue Jan 14 14:24:33 2025 ERROR w0 must have shape (7, 2). In input was given (6, 2)!\n"
     ]
    },
    {
     "name": "stdout",
     "output_type": "stream",
     "text": [
      "o1b46 maximum likilihood -520.910\n",
      "--------- Cell: o1b62 with 35 hyperedges... ---------\n",
      "WARNING: error with cell o1b62, skipping...\n",
      "--------- Cell: o1b91 with 34 hyperedges... ---------\n"
     ]
    },
    {
     "name": "stderr",
     "output_type": "stream",
     "text": [
      "/home/cstansbu/git_repositories/higher-order-single-cell/notebooks/../../Hypergraph-MT/code/HyMT/init_sc.py:99: RuntimeWarning: divide by zero encountered in divide\n",
      "  invDV2 = np.diag(np.sqrt(1.0 / self.node_degree))\n"
     ]
    },
    {
     "name": "stdout",
     "output_type": "stream",
     "text": [
      "psiOmega [-5.17284077e+14]\n",
      "(array([7]), array([0]))\n",
      "i= 16859 []\n",
      "o1b91 maximum likilihood 2086294.826\n",
      "--------- Cell: o1b39 with 34 hyperedges... ---------\n"
     ]
    },
    {
     "name": "stderr",
     "output_type": "stream",
     "text": [
      "/home/cstansbu/git_repositories/higher-order-single-cell/notebooks/../../Hypergraph-MT/code/HyMT/init_sc.py:99: RuntimeWarning: divide by zero encountered in divide\n",
      "  invDV2 = np.diag(np.sqrt(1.0 / self.node_degree))\n"
     ]
    },
    {
     "name": "stdout",
     "output_type": "stream",
     "text": [
      "psiOmega [-1.19570871e+15]\n",
      "(array([7]), array([0]))\n",
      "i= 16799 []\n",
      "o1b39 maximum likilihood 4853135.534\n",
      "--------- Cell: o1b32 with 33 hyperedges... ---------\n"
     ]
    },
    {
     "name": "stderr",
     "output_type": "stream",
     "text": [
      "/home/cstansbu/git_repositories/higher-order-single-cell/notebooks/../../Hypergraph-MT/code/HyMT/init_sc.py:99: RuntimeWarning: divide by zero encountered in divide\n",
      "  invDV2 = np.diag(np.sqrt(1.0 / self.node_degree))\n"
     ]
    },
    {
     "name": "stdout",
     "output_type": "stream",
     "text": [
      "psiOmega [-4.79355902e+14]\n",
      "(array([7]), array([0]))\n",
      "i= 16823 []\n",
      "o1b32 maximum likilihood 2680390.162\n",
      "--------- Cell: o1b72 with 32 hyperedges... ---------\n"
     ]
    },
    {
     "name": "stderr",
     "output_type": "stream",
     "text": [
      "/home/cstansbu/git_repositories/higher-order-single-cell/notebooks/../../Hypergraph-MT/code/HyMT/init_sc.py:99: RuntimeWarning: divide by zero encountered in divide\n",
      "  invDV2 = np.diag(np.sqrt(1.0 / self.node_degree))\n"
     ]
    },
    {
     "name": "stdout",
     "output_type": "stream",
     "text": [
      "psiOmega [-4.6606202]\n",
      "(array([6]), array([1]))\n",
      "i= 16911 []\n",
      "o1b72 maximum likilihood -405.143\n",
      "--------- Cell: o1b64 with 31 hyperedges... ---------\n"
     ]
    },
    {
     "name": "stderr",
     "output_type": "stream",
     "text": [
      "/home/cstansbu/git_repositories/higher-order-single-cell/notebooks/../../Hypergraph-MT/code/HyMT/init_sc.py:99: RuntimeWarning: divide by zero encountered in divide\n",
      "  invDV2 = np.diag(np.sqrt(1.0 / self.node_degree))\n"
     ]
    },
    {
     "name": "stdout",
     "output_type": "stream",
     "text": [
      "psiOmega [-1.10170311e+15]\n",
      "(array([7]), array([0]))\n",
      "i= 16794 []\n",
      "o1b64 maximum likilihood 3657898.406\n",
      "--------- Cell: o1b33 with 31 hyperedges... ---------\n"
     ]
    },
    {
     "name": "stderr",
     "output_type": "stream",
     "text": [
      "/home/cstansbu/git_repositories/higher-order-single-cell/notebooks/../../Hypergraph-MT/code/HyMT/init_sc.py:99: RuntimeWarning: divide by zero encountered in divide\n",
      "  invDV2 = np.diag(np.sqrt(1.0 / self.node_degree))\n"
     ]
    },
    {
     "name": "stdout",
     "output_type": "stream",
     "text": [
      "psiOmega [-7.37713358e+14]\n",
      "(array([7]), array([0]))\n",
      "i= 16784 []\n",
      "o1b33 maximum likilihood 4063239.198\n",
      "--------- Cell: o1b42 with 31 hyperedges... ---------\n"
     ]
    },
    {
     "name": "stderr",
     "output_type": "stream",
     "text": [
      "/home/cstansbu/git_repositories/higher-order-single-cell/notebooks/../../Hypergraph-MT/code/HyMT/init_sc.py:99: RuntimeWarning: divide by zero encountered in divide\n",
      "  invDV2 = np.diag(np.sqrt(1.0 / self.node_degree))\n"
     ]
    },
    {
     "name": "stdout",
     "output_type": "stream",
     "text": [
      "psiOmega [-0.00181479]\n",
      "(array([4]), array([1]))\n",
      "i= 17143 []\n",
      "o1b42 maximum likilihood -465.898\n",
      "--------- Cell: o1b51 with 31 hyperedges... ---------\n"
     ]
    },
    {
     "name": "stderr",
     "output_type": "stream",
     "text": [
      "/home/cstansbu/git_repositories/higher-order-single-cell/notebooks/../../Hypergraph-MT/code/HyMT/init_sc.py:99: RuntimeWarning: divide by zero encountered in divide\n",
      "  invDV2 = np.diag(np.sqrt(1.0 / self.node_degree))\n"
     ]
    },
    {
     "name": "stdout",
     "output_type": "stream",
     "text": [
      "psiOmega [-3.1052921e+14]\n",
      "(array([7]), array([0]))\n",
      "i= 16835 []\n",
      "o1b51 maximum likilihood 2023016.602\n",
      "--------- Cell: o3b51 with 31 hyperedges... ---------\n"
     ]
    },
    {
     "name": "stderr",
     "output_type": "stream",
     "text": [
      "/home/cstansbu/git_repositories/higher-order-single-cell/notebooks/../../Hypergraph-MT/code/HyMT/init_sc.py:99: RuntimeWarning: divide by zero encountered in divide\n",
      "  invDV2 = np.diag(np.sqrt(1.0 / self.node_degree))\n"
     ]
    },
    {
     "name": "stdout",
     "output_type": "stream",
     "text": [
      "psiOmega [-7.58116524]\n",
      "(array([6]), array([1]))\n",
      "i= 16903 []\n",
      "o3b51 maximum likilihood -369.557\n",
      "--------- Cell: o1b69 with 31 hyperedges... ---------\n"
     ]
    },
    {
     "name": "stderr",
     "output_type": "stream",
     "text": [
      "/home/cstansbu/git_repositories/higher-order-single-cell/notebooks/../../Hypergraph-MT/code/HyMT/init_sc.py:99: RuntimeWarning: divide by zero encountered in divide\n",
      "  invDV2 = np.diag(np.sqrt(1.0 / self.node_degree))\n"
     ]
    },
    {
     "name": "stdout",
     "output_type": "stream",
     "text": [
      "psiOmega [-3.81664178]\n",
      "(array([6]), array([1]))\n",
      "i= 16898 []\n",
      "o1b69 maximum likilihood -387.730\n",
      "--------- Cell: o3b09 with 29 hyperedges... ---------\n"
     ]
    },
    {
     "name": "stderr",
     "output_type": "stream",
     "text": [
      "/home/cstansbu/git_repositories/higher-order-single-cell/notebooks/../../Hypergraph-MT/code/HyMT/init_sc.py:99: RuntimeWarning: divide by zero encountered in divide\n",
      "  invDV2 = np.diag(np.sqrt(1.0 / self.node_degree))\n"
     ]
    },
    {
     "name": "stdout",
     "output_type": "stream",
     "text": [
      "psiOmega [-2.40679607]\n",
      "(array([6]), array([1]))\n",
      "i= 16913 []\n",
      "o3b09 maximum likilihood -224.410\n",
      "--------- Cell: o1b52 with 29 hyperedges... ---------\n"
     ]
    },
    {
     "name": "stderr",
     "output_type": "stream",
     "text": [
      "/home/cstansbu/git_repositories/higher-order-single-cell/notebooks/../../Hypergraph-MT/code/HyMT/init_sc.py:99: RuntimeWarning: divide by zero encountered in divide\n",
      "  invDV2 = np.diag(np.sqrt(1.0 / self.node_degree))\n"
     ]
    },
    {
     "name": "stdout",
     "output_type": "stream",
     "text": [
      "psiOmega [-5.6401762e+14]\n",
      "(array([7]), array([0]))\n",
      "i= 16794 []\n",
      "o1b52 maximum likilihood 3494005.058\n",
      "--------- Cell: o3b92 with 29 hyperedges... ---------\n"
     ]
    },
    {
     "name": "stderr",
     "output_type": "stream",
     "text": [
      "/home/cstansbu/git_repositories/higher-order-single-cell/notebooks/../../Hypergraph-MT/code/HyMT/init_sc.py:99: RuntimeWarning: divide by zero encountered in divide\n",
      "  invDV2 = np.diag(np.sqrt(1.0 / self.node_degree))\n"
     ]
    },
    {
     "name": "stdout",
     "output_type": "stream",
     "text": [
      "psiOmega [-6.90228725]\n",
      "(array([6]), array([1]))\n",
      "i= 16909 []\n",
      "o3b92 maximum likilihood -332.676\n",
      "--------- Cell: o3b79 with 28 hyperedges... ---------\n"
     ]
    },
    {
     "name": "stderr",
     "output_type": "stream",
     "text": [
      "/home/cstansbu/git_repositories/higher-order-single-cell/notebooks/../../Hypergraph-MT/code/HyMT/init_sc.py:99: RuntimeWarning: divide by zero encountered in divide\n",
      "  invDV2 = np.diag(np.sqrt(1.0 / self.node_degree))\n"
     ]
    },
    {
     "name": "stdout",
     "output_type": "stream",
     "text": [
      "psiOmega [-6.9378123]\n",
      "(array([6]), array([1]))\n",
      "i= 16920 []\n",
      "o3b79 maximum likilihood -264.584\n",
      "--------- Cell: o3b18 with 28 hyperedges... ---------\n"
     ]
    },
    {
     "name": "stderr",
     "output_type": "stream",
     "text": [
      "/home/cstansbu/git_repositories/higher-order-single-cell/notebooks/../../Hypergraph-MT/code/HyMT/init_sc.py:99: RuntimeWarning: divide by zero encountered in divide\n",
      "  invDV2 = np.diag(np.sqrt(1.0 / self.node_degree))\n"
     ]
    },
    {
     "name": "stdout",
     "output_type": "stream",
     "text": [
      "psiOmega [-0.41301928]\n",
      "(array([6]), array([1]))\n",
      "i= 16910 []\n",
      "o3b18 maximum likilihood -262.102\n",
      "--------- Cell: o2b91 with 28 hyperedges... ---------\n"
     ]
    },
    {
     "name": "stderr",
     "output_type": "stream",
     "text": [
      "/home/cstansbu/git_repositories/higher-order-single-cell/notebooks/../../Hypergraph-MT/code/HyMT/init_sc.py:99: RuntimeWarning: divide by zero encountered in divide\n",
      "  invDV2 = np.diag(np.sqrt(1.0 / self.node_degree))\n"
     ]
    },
    {
     "name": "stdout",
     "output_type": "stream",
     "text": [
      "psiOmega [-8.57918762]\n",
      "(array([6]), array([1]))\n",
      "i= 16908 []\n"
     ]
    },
    {
     "name": "stderr",
     "output_type": "stream",
     "text": [
      "2025-01-14 14:31:06,120 - [PID 1685158] - hymt.model.HyMT           - ERROR - w0 must have shape (7, 2). In input was given (6, 2)!\n",
      "Tue Jan 14 14:31:06 2025 ERROR w0 must have shape (7, 2). In input was given (6, 2)!\n"
     ]
    },
    {
     "name": "stdout",
     "output_type": "stream",
     "text": [
      "o2b91 maximum likilihood -242.600\n",
      "--------- Cell: o1b81 with 28 hyperedges... ---------\n",
      "WARNING: error with cell o1b81, skipping...\n",
      "--------- Cell: o1b48 with 27 hyperedges... ---------\n"
     ]
    },
    {
     "name": "stderr",
     "output_type": "stream",
     "text": [
      "/home/cstansbu/git_repositories/higher-order-single-cell/notebooks/../../Hypergraph-MT/code/HyMT/init_sc.py:99: RuntimeWarning: divide by zero encountered in divide\n",
      "  invDV2 = np.diag(np.sqrt(1.0 / self.node_degree))\n"
     ]
    },
    {
     "name": "stdout",
     "output_type": "stream",
     "text": [
      "psiOmega [-9.34056937e+14]\n",
      "(array([7]), array([0]))\n",
      "i= 16796 []\n",
      "o1b48 maximum likilihood 3229737.251\n",
      "--------- Cell: o1b57 with 27 hyperedges... ---------\n"
     ]
    },
    {
     "name": "stderr",
     "output_type": "stream",
     "text": [
      "/home/cstansbu/git_repositories/higher-order-single-cell/notebooks/../../Hypergraph-MT/code/HyMT/init_sc.py:99: RuntimeWarning: divide by zero encountered in divide\n",
      "  invDV2 = np.diag(np.sqrt(1.0 / self.node_degree))\n"
     ]
    },
    {
     "name": "stdout",
     "output_type": "stream",
     "text": [
      "psiOmega [-1.19424186e+15]\n",
      "(array([7]), array([0]))\n",
      "i= 16766 []\n",
      "o1b57 maximum likilihood 4847325.570\n",
      "--------- Cell: o1b75 with 27 hyperedges... ---------\n"
     ]
    },
    {
     "name": "stderr",
     "output_type": "stream",
     "text": [
      "/home/cstansbu/git_repositories/higher-order-single-cell/notebooks/../../Hypergraph-MT/code/HyMT/init_sc.py:99: RuntimeWarning: divide by zero encountered in divide\n",
      "  invDV2 = np.diag(np.sqrt(1.0 / self.node_degree))\n"
     ]
    },
    {
     "name": "stdout",
     "output_type": "stream",
     "text": [
      "psiOmega [-3.98064119]\n",
      "(array([6]), array([1]))\n",
      "i= 16904 []\n",
      "o1b75 maximum likilihood -379.194\n",
      "--------- Cell: o3b88 with 27 hyperedges... ---------\n"
     ]
    },
    {
     "name": "stderr",
     "output_type": "stream",
     "text": [
      "/home/cstansbu/git_repositories/higher-order-single-cell/notebooks/../../Hypergraph-MT/code/HyMT/init_sc.py:99: RuntimeWarning: divide by zero encountered in divide\n",
      "  invDV2 = np.diag(np.sqrt(1.0 / self.node_degree))\n"
     ]
    },
    {
     "name": "stdout",
     "output_type": "stream",
     "text": [
      "psiOmega [-1.41525202e+15]\n",
      "(array([7]), array([0]))\n",
      "i= 16762 []\n",
      "o3b88 maximum likilihood 4095084.845\n",
      "--------- Cell: o1b93 with 27 hyperedges... ---------\n"
     ]
    },
    {
     "name": "stderr",
     "output_type": "stream",
     "text": [
      "/home/cstansbu/git_repositories/higher-order-single-cell/notebooks/../../Hypergraph-MT/code/HyMT/init_sc.py:99: RuntimeWarning: divide by zero encountered in divide\n",
      "  invDV2 = np.diag(np.sqrt(1.0 / self.node_degree))\n"
     ]
    },
    {
     "name": "stdout",
     "output_type": "stream",
     "text": [
      "psiOmega [-5.02990959e+14]\n",
      "(array([7]), array([0]))\n",
      "i= 16791 []\n"
     ]
    },
    {
     "name": "stderr",
     "output_type": "stream",
     "text": [
      "2025-01-14 14:33:21,054 - [PID 1685158] - hymt.model.HyMT           - ERROR - w0 must have shape (7, 2). In input was given (6, 2)!\n",
      "Tue Jan 14 14:33:21 2025 ERROR w0 must have shape (7, 2). In input was given (6, 2)!\n"
     ]
    },
    {
     "name": "stdout",
     "output_type": "stream",
     "text": [
      "o1b93 maximum likilihood 3118505.139\n",
      "--------- Cell: o1b08 with 27 hyperedges... ---------\n",
      "WARNING: error with cell o1b08, skipping...\n",
      "--------- Cell: o1b94 with 27 hyperedges... ---------\n"
     ]
    },
    {
     "name": "stderr",
     "output_type": "stream",
     "text": [
      "/home/cstansbu/git_repositories/higher-order-single-cell/notebooks/../../Hypergraph-MT/code/HyMT/init_sc.py:99: RuntimeWarning: divide by zero encountered in divide\n",
      "  invDV2 = np.diag(np.sqrt(1.0 / self.node_degree))\n"
     ]
    },
    {
     "name": "stdout",
     "output_type": "stream",
     "text": [
      "psiOmega [-7.3718716]\n",
      "(array([6]), array([1]))\n",
      "i= 16907 []\n",
      "o1b94 maximum likilihood -414.832\n",
      "--------- Cell: o4b74 with 26 hyperedges... ---------\n"
     ]
    },
    {
     "name": "stderr",
     "output_type": "stream",
     "text": [
      "/home/cstansbu/git_repositories/higher-order-single-cell/notebooks/../../Hypergraph-MT/code/HyMT/init_sc.py:99: RuntimeWarning: divide by zero encountered in divide\n",
      "  invDV2 = np.diag(np.sqrt(1.0 / self.node_degree))\n"
     ]
    },
    {
     "name": "stdout",
     "output_type": "stream",
     "text": [
      "psiOmega [-5.31752099]\n",
      "(array([6]), array([1]))\n",
      "i= 16901 []\n",
      "o4b74 maximum likilihood -353.376\n",
      "--------- Cell: o1b49 with 26 hyperedges... ---------\n"
     ]
    },
    {
     "name": "stderr",
     "output_type": "stream",
     "text": [
      "/home/cstansbu/git_repositories/higher-order-single-cell/notebooks/../../Hypergraph-MT/code/HyMT/init_sc.py:99: RuntimeWarning: divide by zero encountered in divide\n",
      "  invDV2 = np.diag(np.sqrt(1.0 / self.node_degree))\n"
     ]
    },
    {
     "name": "stdout",
     "output_type": "stream",
     "text": [
      "psiOmega [-5.92436419e+14]\n",
      "(array([7]), array([0]))\n",
      "i= 16770 []\n"
     ]
    },
    {
     "name": "stderr",
     "output_type": "stream",
     "text": [
      "2025-01-14 14:34:37,205 - [PID 1685158] - hymt.model.HyMT           - ERROR - w0 must have shape (6, 2). In input was given (5, 2)!\n",
      "Tue Jan 14 14:34:37 2025 ERROR w0 must have shape (6, 2). In input was given (5, 2)!\n",
      "2025-01-14 14:34:37,251 - [PID 1685158] - hymt.model.HyMT           - ERROR - w0 must have shape (7, 2). In input was given (6, 2)!\n",
      "Tue Jan 14 14:34:37 2025 ERROR w0 must have shape (7, 2). In input was given (6, 2)!\n"
     ]
    },
    {
     "name": "stdout",
     "output_type": "stream",
     "text": [
      "o1b49 maximum likilihood 4086716.492\n",
      "--------- Cell: o1b70 with 26 hyperedges... ---------\n",
      "WARNING: error with cell o1b70, skipping...\n",
      "--------- Cell: o1b89 with 25 hyperedges... ---------\n",
      "WARNING: error with cell o1b89, skipping...\n",
      "--------- Cell: o3b33 with 25 hyperedges... ---------\n"
     ]
    },
    {
     "name": "stderr",
     "output_type": "stream",
     "text": [
      "/home/cstansbu/git_repositories/higher-order-single-cell/notebooks/../../Hypergraph-MT/code/HyMT/init_sc.py:99: RuntimeWarning: divide by zero encountered in divide\n",
      "  invDV2 = np.diag(np.sqrt(1.0 / self.node_degree))\n"
     ]
    },
    {
     "name": "stdout",
     "output_type": "stream",
     "text": [
      "psiOmega [-1.07656727e+15]\n",
      "(array([7]), array([0]))\n",
      "i= 16779 []\n",
      "o3b33 maximum likilihood 3320682.246\n",
      "--------- Cell: o3b03 with 25 hyperedges... ---------\n"
     ]
    },
    {
     "name": "stderr",
     "output_type": "stream",
     "text": [
      "/home/cstansbu/git_repositories/higher-order-single-cell/notebooks/../../Hypergraph-MT/code/HyMT/init_sc.py:99: RuntimeWarning: divide by zero encountered in divide\n",
      "  invDV2 = np.diag(np.sqrt(1.0 / self.node_degree))\n"
     ]
    },
    {
     "name": "stdout",
     "output_type": "stream",
     "text": [
      "psiOmega [-1.13355749]\n",
      "(array([6]), array([1]))\n",
      "i= 16906 []\n",
      "o3b03 maximum likilihood -288.100\n",
      "--------- Cell: o1b76 with 25 hyperedges... ---------\n"
     ]
    },
    {
     "name": "stderr",
     "output_type": "stream",
     "text": [
      "/home/cstansbu/git_repositories/higher-order-single-cell/notebooks/../../Hypergraph-MT/code/HyMT/init_sc.py:99: RuntimeWarning: divide by zero encountered in divide\n",
      "  invDV2 = np.diag(np.sqrt(1.0 / self.node_degree))\n"
     ]
    },
    {
     "name": "stdout",
     "output_type": "stream",
     "text": [
      "psiOmega [-8.42391636e+14]\n",
      "(array([7]), array([0]))\n",
      "i= 16747 []\n"
     ]
    },
    {
     "name": "stderr",
     "output_type": "stream",
     "text": [
      "2025-01-14 14:35:59,057 - [PID 1685158] - hymt.model.HyMT           - ERROR - w0 must have shape (7, 2). In input was given (5, 2)!\n",
      "Tue Jan 14 14:35:59 2025 ERROR w0 must have shape (7, 2). In input was given (5, 2)!\n"
     ]
    },
    {
     "name": "stdout",
     "output_type": "stream",
     "text": [
      "o1b76 maximum likilihood 5176722.226\n",
      "--------- Cell: o1b38 with 25 hyperedges... ---------\n",
      "WARNING: error with cell o1b38, skipping...\n",
      "--------- Cell: o1b95 with 25 hyperedges... ---------\n"
     ]
    },
    {
     "name": "stderr",
     "output_type": "stream",
     "text": [
      "/home/cstansbu/git_repositories/higher-order-single-cell/notebooks/../../Hypergraph-MT/code/HyMT/init_sc.py:99: RuntimeWarning: divide by zero encountered in divide\n",
      "  invDV2 = np.diag(np.sqrt(1.0 / self.node_degree))\n"
     ]
    },
    {
     "name": "stdout",
     "output_type": "stream",
     "text": [
      "psiOmega [-7.08213582]\n",
      "(array([6]), array([1]))\n",
      "i= 16908 []\n",
      "o1b95 maximum likilihood -201.141\n",
      "--------- Cell: o3b24 with 24 hyperedges... ---------\n"
     ]
    },
    {
     "name": "stderr",
     "output_type": "stream",
     "text": [
      "/home/cstansbu/git_repositories/higher-order-single-cell/notebooks/../../Hypergraph-MT/code/HyMT/init_sc.py:99: RuntimeWarning: divide by zero encountered in divide\n",
      "  invDV2 = np.diag(np.sqrt(1.0 / self.node_degree))\n"
     ]
    },
    {
     "name": "stdout",
     "output_type": "stream",
     "text": [
      "psiOmega [-6.55213544]\n",
      "(array([6]), array([1]))\n",
      "i= 16912 []\n",
      "o3b24 maximum likilihood -260.800\n",
      "--------- Cell: o3b74 with 24 hyperedges... ---------\n"
     ]
    },
    {
     "name": "stderr",
     "output_type": "stream",
     "text": [
      "/home/cstansbu/git_repositories/higher-order-single-cell/notebooks/../../Hypergraph-MT/code/HyMT/init_sc.py:99: RuntimeWarning: divide by zero encountered in divide\n",
      "  invDV2 = np.diag(np.sqrt(1.0 / self.node_degree))\n"
     ]
    },
    {
     "name": "stdout",
     "output_type": "stream",
     "text": [
      "psiOmega [-1.098702e+15]\n",
      "(array([7]), array([0]))\n",
      "i= 16778 []\n"
     ]
    },
    {
     "name": "stderr",
     "output_type": "stream",
     "text": [
      "2025-01-14 14:37:18,532 - [PID 1685158] - hymt.model.HyMT           - ERROR - w0 must have shape (5, 2). In input was given (4, 2)!\n",
      "Tue Jan 14 14:37:18 2025 ERROR w0 must have shape (5, 2). In input was given (4, 2)!\n"
     ]
    },
    {
     "name": "stdout",
     "output_type": "stream",
     "text": [
      "o3b74 maximum likilihood 3333141.244\n",
      "--------- Cell: o3b44 with 23 hyperedges... ---------\n",
      "WARNING: error with cell o3b44, skipping...\n",
      "--------- Cell: o1b56 with 23 hyperedges... ---------\n"
     ]
    },
    {
     "name": "stderr",
     "output_type": "stream",
     "text": [
      "/home/cstansbu/git_repositories/higher-order-single-cell/notebooks/../../Hypergraph-MT/code/HyMT/init_sc.py:99: RuntimeWarning: divide by zero encountered in divide\n",
      "  invDV2 = np.diag(np.sqrt(1.0 / self.node_degree))\n"
     ]
    },
    {
     "name": "stdout",
     "output_type": "stream",
     "text": [
      "psiOmega [-1.99813616]\n",
      "(array([6]), array([1]))\n",
      "i= 16914 []\n",
      "o1b56 maximum likilihood -162.136\n",
      "--------- Cell: o1b24 with 23 hyperedges... ---------\n"
     ]
    },
    {
     "name": "stderr",
     "output_type": "stream",
     "text": [
      "/home/cstansbu/git_repositories/higher-order-single-cell/notebooks/../../Hypergraph-MT/code/HyMT/init_sc.py:99: RuntimeWarning: divide by zero encountered in divide\n",
      "  invDV2 = np.diag(np.sqrt(1.0 / self.node_degree))\n"
     ]
    },
    {
     "name": "stdout",
     "output_type": "stream",
     "text": [
      "psiOmega [-5.48603703]\n",
      "(array([6]), array([1]))\n",
      "i= 16912 []\n"
     ]
    },
    {
     "name": "stderr",
     "output_type": "stream",
     "text": [
      "2025-01-14 14:38:14,927 - [PID 1685158] - hymt.model.HyMT           - ERROR - w0 must have shape (7, 2). In input was given (6, 2)!\n",
      "Tue Jan 14 14:38:14 2025 ERROR w0 must have shape (7, 2). In input was given (6, 2)!\n"
     ]
    },
    {
     "name": "stdout",
     "output_type": "stream",
     "text": [
      "o1b24 maximum likilihood -240.017\n",
      "--------- Cell: o3b78 with 22 hyperedges... ---------\n",
      "WARNING: error with cell o3b78, skipping...\n",
      "--------- Cell: o3b60 with 22 hyperedges... ---------\n"
     ]
    },
    {
     "name": "stderr",
     "output_type": "stream",
     "text": [
      "/home/cstansbu/git_repositories/higher-order-single-cell/notebooks/../../Hypergraph-MT/code/HyMT/init_sc.py:99: RuntimeWarning: divide by zero encountered in divide\n",
      "  invDV2 = np.diag(np.sqrt(1.0 / self.node_degree))\n"
     ]
    },
    {
     "name": "stdout",
     "output_type": "stream",
     "text": [
      "psiOmega [-5.84475298e+08]\n",
      "(array([5]), array([0]))\n",
      "i= 17102 []\n",
      "o3b60 maximum likilihood -433.666\n",
      "--------- Cell: o3b59 with 22 hyperedges... ---------\n"
     ]
    },
    {
     "name": "stderr",
     "output_type": "stream",
     "text": [
      "/home/cstansbu/git_repositories/higher-order-single-cell/notebooks/../../Hypergraph-MT/code/HyMT/init_sc.py:99: RuntimeWarning: divide by zero encountered in divide\n",
      "  invDV2 = np.diag(np.sqrt(1.0 / self.node_degree))\n"
     ]
    },
    {
     "name": "stdout",
     "output_type": "stream",
     "text": [
      "psiOmega [-3.48628947]\n",
      "(array([6]), array([1]))\n",
      "i= 16915 []\n",
      "o3b59 maximum likilihood -289.304\n",
      "--------- Cell: o1b07 with 21 hyperedges... ---------\n"
     ]
    },
    {
     "name": "stderr",
     "output_type": "stream",
     "text": [
      "/home/cstansbu/git_repositories/higher-order-single-cell/notebooks/../../Hypergraph-MT/code/HyMT/init_sc.py:99: RuntimeWarning: divide by zero encountered in divide\n",
      "  invDV2 = np.diag(np.sqrt(1.0 / self.node_degree))\n"
     ]
    },
    {
     "name": "stdout",
     "output_type": "stream",
     "text": [
      "psiOmega [-0.00805806]\n",
      "(array([4]), array([1]))\n",
      "i= 17142 []\n",
      "o1b07 maximum likilihood -255.874\n",
      "--------- Cell: o3b19 with 21 hyperedges... ---------\n"
     ]
    },
    {
     "name": "stderr",
     "output_type": "stream",
     "text": [
      "/home/cstansbu/git_repositories/higher-order-single-cell/notebooks/../../Hypergraph-MT/code/HyMT/init_sc.py:99: RuntimeWarning: divide by zero encountered in divide\n",
      "  invDV2 = np.diag(np.sqrt(1.0 / self.node_degree))\n"
     ]
    },
    {
     "name": "stdout",
     "output_type": "stream",
     "text": [
      "psiOmega [-7.54968306]\n",
      "(array([6]), array([1]))\n",
      "i= 16908 []\n",
      "o3b19 maximum likilihood -164.347\n",
      "--------- Cell: o3b07 with 21 hyperedges... ---------\n"
     ]
    },
    {
     "name": "stderr",
     "output_type": "stream",
     "text": [
      "/home/cstansbu/git_repositories/higher-order-single-cell/notebooks/../../Hypergraph-MT/code/HyMT/init_sc.py:99: RuntimeWarning: divide by zero encountered in divide\n",
      "  invDV2 = np.diag(np.sqrt(1.0 / self.node_degree))\n"
     ]
    },
    {
     "name": "stdout",
     "output_type": "stream",
     "text": [
      "psiOmega [-9.72189169]\n",
      "(array([6]), array([1]))\n",
      "i= 16906 []\n",
      "o3b07 maximum likilihood -183.032\n",
      "--------- Cell: o3b58 with 21 hyperedges... ---------\n"
     ]
    },
    {
     "name": "stderr",
     "output_type": "stream",
     "text": [
      "/home/cstansbu/git_repositories/higher-order-single-cell/notebooks/../../Hypergraph-MT/code/HyMT/init_sc.py:99: RuntimeWarning: divide by zero encountered in divide\n",
      "  invDV2 = np.diag(np.sqrt(1.0 / self.node_degree))\n"
     ]
    },
    {
     "name": "stdout",
     "output_type": "stream",
     "text": [
      "psiOmega [-6.08363708e+08]\n",
      "(array([5]), array([0]))\n",
      "i= 17090 []\n"
     ]
    },
    {
     "name": "stderr",
     "output_type": "stream",
     "text": [
      "2025-01-14 14:40:56,622 - [PID 1685158] - hymt.model.HyMT           - ERROR - w0 must have shape (7, 2). In input was given (6, 2)!\n",
      "Tue Jan 14 14:40:56 2025 ERROR w0 must have shape (7, 2). In input was given (6, 2)!\n"
     ]
    },
    {
     "name": "stdout",
     "output_type": "stream",
     "text": [
      "o3b58 maximum likilihood -446.214\n",
      "--------- Cell: o3b49 with 21 hyperedges... ---------\n",
      "WARNING: error with cell o3b49, skipping...\n",
      "--------- Cell: o3b75 with 20 hyperedges... ---------\n"
     ]
    },
    {
     "name": "stderr",
     "output_type": "stream",
     "text": [
      "/home/cstansbu/git_repositories/higher-order-single-cell/notebooks/../../Hypergraph-MT/code/HyMT/init_sc.py:99: RuntimeWarning: divide by zero encountered in divide\n",
      "  invDV2 = np.diag(np.sqrt(1.0 / self.node_degree))\n"
     ]
    },
    {
     "name": "stdout",
     "output_type": "stream",
     "text": [
      "psiOmega [-6.78022979]\n",
      "(array([6]), array([1]))\n",
      "i= 16906 []\n"
     ]
    },
    {
     "name": "stderr",
     "output_type": "stream",
     "text": [
      "2025-01-14 14:41:28,397 - [PID 1685158] - hymt.model.HyMT           - ERROR - w0 must have shape (7, 2). In input was given (5, 2)!\n",
      "Tue Jan 14 14:41:28 2025 ERROR w0 must have shape (7, 2). In input was given (5, 2)!\n",
      "2025-01-14 14:41:28,442 - [PID 1685158] - hymt.model.HyMT           - ERROR - w0 must have shape (6, 2). In input was given (5, 2)!\n",
      "Tue Jan 14 14:41:28 2025 ERROR w0 must have shape (6, 2). In input was given (5, 2)!\n"
     ]
    },
    {
     "name": "stdout",
     "output_type": "stream",
     "text": [
      "o3b75 maximum likilihood -168.828\n",
      "--------- Cell: o3b95 with 20 hyperedges... ---------\n",
      "WARNING: error with cell o3b95, skipping...\n",
      "--------- Cell: o3b77 with 20 hyperedges... ---------\n",
      "WARNING: error with cell o3b77, skipping...\n",
      "--------- Cell: o1b34 with 20 hyperedges... ---------\n"
     ]
    },
    {
     "name": "stderr",
     "output_type": "stream",
     "text": [
      "/home/cstansbu/git_repositories/higher-order-single-cell/notebooks/../../Hypergraph-MT/code/HyMT/init_sc.py:99: RuntimeWarning: divide by zero encountered in divide\n",
      "  invDV2 = np.diag(np.sqrt(1.0 / self.node_degree))\n"
     ]
    },
    {
     "name": "stdout",
     "output_type": "stream",
     "text": [
      "psiOmega [-8.08177364]\n",
      "(array([6]), array([1]))\n",
      "i= 16908 []\n",
      "o1b34 maximum likilihood -207.803\n",
      "--------- Cell: o1b84 with 19 hyperedges... ---------\n"
     ]
    },
    {
     "name": "stderr",
     "output_type": "stream",
     "text": [
      "/home/cstansbu/git_repositories/higher-order-single-cell/notebooks/../../Hypergraph-MT/code/HyMT/init_sc.py:99: RuntimeWarning: divide by zero encountered in divide\n",
      "  invDV2 = np.diag(np.sqrt(1.0 / self.node_degree))\n"
     ]
    },
    {
     "name": "stdout",
     "output_type": "stream",
     "text": [
      "psiOmega [-2.56437811e+14]\n",
      "(array([7]), array([0]))\n",
      "i= 16775 []\n",
      "o1b84 maximum likilihood 2494310.128\n",
      "--------- Cell: o3b66 with 19 hyperedges... ---------\n"
     ]
    },
    {
     "name": "stderr",
     "output_type": "stream",
     "text": [
      "/home/cstansbu/git_repositories/higher-order-single-cell/notebooks/../../Hypergraph-MT/code/HyMT/init_sc.py:99: RuntimeWarning: divide by zero encountered in divide\n",
      "  invDV2 = np.diag(np.sqrt(1.0 / self.node_degree))\n"
     ]
    },
    {
     "name": "stdout",
     "output_type": "stream",
     "text": [
      "psiOmega [-1.31210978e+15]\n",
      "(array([7]), array([0]))\n",
      "i= 16756 []\n",
      "o3b66 maximum likilihood 3965452.713\n",
      "--------- Cell: o1b63 with 19 hyperedges... ---------\n"
     ]
    },
    {
     "name": "stderr",
     "output_type": "stream",
     "text": [
      "/home/cstansbu/git_repositories/higher-order-single-cell/notebooks/../../Hypergraph-MT/code/HyMT/init_sc.py:99: RuntimeWarning: divide by zero encountered in divide\n",
      "  invDV2 = np.diag(np.sqrt(1.0 / self.node_degree))\n"
     ]
    },
    {
     "name": "stdout",
     "output_type": "stream",
     "text": [
      "psiOmega [-9.82805957e+14]\n",
      "(array([7]), array([0]))\n",
      "i= 16737 []\n",
      "o1b63 maximum likilihood 5631416.543\n",
      "--------- Cell: o3b06 with 19 hyperedges... ---------\n"
     ]
    },
    {
     "name": "stderr",
     "output_type": "stream",
     "text": [
      "/home/cstansbu/git_repositories/higher-order-single-cell/notebooks/../../Hypergraph-MT/code/HyMT/init_sc.py:99: RuntimeWarning: divide by zero encountered in divide\n",
      "  invDV2 = np.diag(np.sqrt(1.0 / self.node_degree))\n"
     ]
    },
    {
     "name": "stdout",
     "output_type": "stream",
     "text": [
      "psiOmega [-1.24364789e+08]\n",
      "(array([5]), array([0]))\n",
      "i= 17089 []\n",
      "o3b06 maximum likilihood -406.949\n",
      "--------- Cell: o1b92 with 18 hyperedges... ---------\n"
     ]
    },
    {
     "name": "stderr",
     "output_type": "stream",
     "text": [
      "/home/cstansbu/git_repositories/higher-order-single-cell/notebooks/../../Hypergraph-MT/code/HyMT/init_sc.py:99: RuntimeWarning: divide by zero encountered in divide\n",
      "  invDV2 = np.diag(np.sqrt(1.0 / self.node_degree))\n"
     ]
    },
    {
     "name": "stdout",
     "output_type": "stream",
     "text": [
      "psiOmega [-3.28339936]\n",
      "(array([6]), array([1]))\n",
      "i= 16912 []\n",
      "o1b92 maximum likilihood -79.899\n",
      "--------- Cell: o1b40 with 18 hyperedges... ---------\n"
     ]
    },
    {
     "name": "stderr",
     "output_type": "stream",
     "text": [
      "/home/cstansbu/git_repositories/higher-order-single-cell/notebooks/../../Hypergraph-MT/code/HyMT/init_sc.py:99: RuntimeWarning: divide by zero encountered in divide\n",
      "  invDV2 = np.diag(np.sqrt(1.0 / self.node_degree))\n"
     ]
    },
    {
     "name": "stdout",
     "output_type": "stream",
     "text": [
      "psiOmega [-3.60905866e+14]\n",
      "(array([7]), array([0]))\n",
      "i= 16737 []\n"
     ]
    },
    {
     "name": "stderr",
     "output_type": "stream",
     "text": [
      "2025-01-14 14:44:39,878 - [PID 1685158] - hymt.model.HyMT           - ERROR - w0 must have shape (6, 2). In input was given (5, 2)!\n",
      "Tue Jan 14 14:44:39 2025 ERROR w0 must have shape (6, 2). In input was given (5, 2)!\n",
      "2025-01-14 14:44:39,922 - [PID 1685158] - hymt.model.HyMT           - ERROR - w0 must have shape (5, 2). In input was given (4, 2)!\n",
      "Tue Jan 14 14:44:39 2025 ERROR w0 must have shape (5, 2). In input was given (4, 2)!\n"
     ]
    },
    {
     "name": "stdout",
     "output_type": "stream",
     "text": [
      "o1b40 maximum likilihood 3942903.212\n",
      "--------- Cell: o3b23 with 17 hyperedges... ---------\n",
      "WARNING: error with cell o3b23, skipping...\n",
      "--------- Cell: o2b05 with 17 hyperedges... ---------\n",
      "WARNING: error with cell o2b05, skipping...\n",
      "--------- Cell: o3b80 with 16 hyperedges... ---------\n"
     ]
    },
    {
     "name": "stderr",
     "output_type": "stream",
     "text": [
      "/home/cstansbu/git_repositories/higher-order-single-cell/notebooks/../../Hypergraph-MT/code/HyMT/init_sc.py:99: RuntimeWarning: divide by zero encountered in divide\n",
      "  invDV2 = np.diag(np.sqrt(1.0 / self.node_degree))\n"
     ]
    },
    {
     "name": "stdout",
     "output_type": "stream",
     "text": [
      "psiOmega [-4.28837065e+08]\n",
      "(array([5]), array([0]))\n",
      "i= 17093 []\n",
      "o3b80 maximum likilihood -375.422\n",
      "--------- Cell: o1b88 with 16 hyperedges... ---------\n"
     ]
    },
    {
     "name": "stderr",
     "output_type": "stream",
     "text": [
      "/home/cstansbu/git_repositories/higher-order-single-cell/notebooks/../../Hypergraph-MT/code/HyMT/init_sc.py:99: RuntimeWarning: divide by zero encountered in divide\n",
      "  invDV2 = np.diag(np.sqrt(1.0 / self.node_degree))\n"
     ]
    },
    {
     "name": "stdout",
     "output_type": "stream",
     "text": [
      "psiOmega [-9.0004848]\n",
      "(array([6]), array([1]))\n",
      "i= 16906 []\n",
      "o1b88 maximum likilihood 24.795\n",
      "--------- Cell: o3b45 with 16 hyperedges... ---------\n"
     ]
    },
    {
     "name": "stderr",
     "output_type": "stream",
     "text": [
      "/home/cstansbu/git_repositories/higher-order-single-cell/notebooks/../../Hypergraph-MT/code/HyMT/init_sc.py:99: RuntimeWarning: divide by zero encountered in divide\n",
      "  invDV2 = np.diag(np.sqrt(1.0 / self.node_degree))\n"
     ]
    },
    {
     "name": "stdout",
     "output_type": "stream",
     "text": [
      "psiOmega [-1.16072262e+15]\n",
      "(array([7]), array([0]))\n",
      "i= 16714 []\n"
     ]
    },
    {
     "name": "stderr",
     "output_type": "stream",
     "text": [
      "2025-01-14 14:46:06,474 - [PID 1685158] - hymt.model.HyMT           - ERROR - w0 must have shape (7, 2). In input was given (6, 2)!\n",
      "Tue Jan 14 14:46:06 2025 ERROR w0 must have shape (7, 2). In input was given (6, 2)!\n",
      "2025-01-14 14:46:06,517 - [PID 1685158] - hymt.model.HyMT           - ERROR - w0 must have shape (7, 2). In input was given (6, 2)!\n",
      "Tue Jan 14 14:46:06 2025 ERROR w0 must have shape (7, 2). In input was given (6, 2)!\n",
      "2025-01-14 14:46:06,561 - [PID 1685158] - hymt.model.HyMT           - ERROR - w0 must have shape (6, 2). In input was given (5, 2)!\n",
      "Tue Jan 14 14:46:06 2025 ERROR w0 must have shape (6, 2). In input was given (5, 2)!\n"
     ]
    },
    {
     "name": "stdout",
     "output_type": "stream",
     "text": [
      "o3b45 maximum likilihood 6006338.084\n",
      "--------- Cell: o3b14 with 16 hyperedges... ---------\n",
      "WARNING: error with cell o3b14, skipping...\n",
      "--------- Cell: o1b44 with 16 hyperedges... ---------\n",
      "WARNING: error with cell o1b44, skipping...\n",
      "--------- Cell: o3b30 with 16 hyperedges... ---------\n",
      "WARNING: error with cell o3b30, skipping...\n",
      "--------- Cell: o3b40 with 16 hyperedges... ---------\n"
     ]
    },
    {
     "name": "stderr",
     "output_type": "stream",
     "text": [
      "/home/cstansbu/git_repositories/higher-order-single-cell/notebooks/../../Hypergraph-MT/code/HyMT/init_sc.py:99: RuntimeWarning: divide by zero encountered in divide\n",
      "  invDV2 = np.diag(np.sqrt(1.0 / self.node_degree))\n"
     ]
    },
    {
     "name": "stdout",
     "output_type": "stream",
     "text": [
      "psiOmega [-7.67489609]\n",
      "(array([6]), array([1]))\n",
      "i= 16908 []\n",
      "o3b40 maximum likilihood -19.547\n",
      "--------- Cell: o3b04 with 16 hyperedges... ---------\n"
     ]
    },
    {
     "name": "stderr",
     "output_type": "stream",
     "text": [
      "/home/cstansbu/git_repositories/higher-order-single-cell/notebooks/../../Hypergraph-MT/code/HyMT/init_sc.py:99: RuntimeWarning: divide by zero encountered in divide\n",
      "  invDV2 = np.diag(np.sqrt(1.0 / self.node_degree))\n"
     ]
    },
    {
     "name": "stdout",
     "output_type": "stream",
     "text": [
      "psiOmega [-4.12418853e+14]\n",
      "(array([7]), array([0]))\n",
      "i= 16761 []\n",
      "o3b04 maximum likilihood 3301950.625\n",
      "--------- Cell: o3b76 with 16 hyperedges... ---------\n"
     ]
    },
    {
     "name": "stderr",
     "output_type": "stream",
     "text": [
      "/home/cstansbu/git_repositories/higher-order-single-cell/notebooks/../../Hypergraph-MT/code/HyMT/init_sc.py:99: RuntimeWarning: divide by zero encountered in divide\n",
      "  invDV2 = np.diag(np.sqrt(1.0 / self.node_degree))\n"
     ]
    },
    {
     "name": "stdout",
     "output_type": "stream",
     "text": [
      "psiOmega [-7.5417163e+14]\n",
      "(array([7]), array([0]))\n",
      "i= 16779 []\n",
      "o3b76 maximum likilihood 2235909.656\n",
      "--------- Cell: o3b34 with 15 hyperedges... ---------\n"
     ]
    },
    {
     "name": "stderr",
     "output_type": "stream",
     "text": [
      "/home/cstansbu/git_repositories/higher-order-single-cell/notebooks/../../Hypergraph-MT/code/HyMT/init_sc.py:99: RuntimeWarning: divide by zero encountered in divide\n",
      "  invDV2 = np.diag(np.sqrt(1.0 / self.node_degree))\n"
     ]
    },
    {
     "name": "stdout",
     "output_type": "stream",
     "text": [
      "psiOmega [-2.47347001e+14]\n",
      "(array([7]), array([0]))\n",
      "i= 16775 []\n"
     ]
    },
    {
     "name": "stderr",
     "output_type": "stream",
     "text": [
      "2025-01-14 14:48:14,874 - [PID 1685158] - hymt.model.HyMT           - ERROR - w0 must have shape (7, 2). In input was given (6, 2)!\n",
      "Tue Jan 14 14:48:14 2025 ERROR w0 must have shape (7, 2). In input was given (6, 2)!\n"
     ]
    },
    {
     "name": "stdout",
     "output_type": "stream",
     "text": [
      "o3b34 maximum likilihood 1863967.416\n",
      "--------- Cell: o3b08 with 15 hyperedges... ---------\n",
      "WARNING: error with cell o3b08, skipping...\n",
      "--------- Cell: o3b71 with 15 hyperedges... ---------\n"
     ]
    },
    {
     "name": "stderr",
     "output_type": "stream",
     "text": [
      "/home/cstansbu/git_repositories/higher-order-single-cell/notebooks/../../Hypergraph-MT/code/HyMT/init_sc.py:99: RuntimeWarning: divide by zero encountered in divide\n",
      "  invDV2 = np.diag(np.sqrt(1.0 / self.node_degree))\n"
     ]
    },
    {
     "name": "stdout",
     "output_type": "stream",
     "text": [
      "psiOmega [-0.00794579]\n",
      "(array([4]), array([1]))\n",
      "i= 17142 []\n",
      "o3b71 maximum likilihood -332.783\n",
      "--------- Cell: o3b70 with 15 hyperedges... ---------\n"
     ]
    },
    {
     "name": "stderr",
     "output_type": "stream",
     "text": [
      "/home/cstansbu/git_repositories/higher-order-single-cell/notebooks/../../Hypergraph-MT/code/HyMT/init_sc.py:99: RuntimeWarning: divide by zero encountered in divide\n",
      "  invDV2 = np.diag(np.sqrt(1.0 / self.node_degree))\n"
     ]
    },
    {
     "name": "stdout",
     "output_type": "stream",
     "text": [
      "psiOmega [-4.72686846]\n",
      "(array([6]), array([1]))\n",
      "i= 16923 []\n"
     ]
    },
    {
     "name": "stderr",
     "output_type": "stream",
     "text": [
      "2025-01-14 14:49:13,790 - [PID 1685158] - hymt.model.HyMT           - ERROR - w0 must have shape (7, 2). In input was given (6, 2)!\n",
      "Tue Jan 14 14:49:13 2025 ERROR w0 must have shape (7, 2). In input was given (6, 2)!\n",
      "2025-01-14 14:49:13,853 - [PID 1685158] - hymt.model.HyMT           - ERROR - w0 must have shape (7, 2). In input was given (6, 2)!\n",
      "Tue Jan 14 14:49:13 2025 ERROR w0 must have shape (7, 2). In input was given (6, 2)!\n"
     ]
    },
    {
     "name": "stdout",
     "output_type": "stream",
     "text": [
      "o3b70 maximum likilihood -30.999\n",
      "--------- Cell: o3b67 with 15 hyperedges... ---------\n",
      "WARNING: error with cell o3b67, skipping...\n",
      "--------- Cell: o4b87 with 14 hyperedges... ---------\n",
      "WARNING: error with cell o4b87, skipping...\n",
      "--------- Cell: o4b40 with 14 hyperedges... ---------\n"
     ]
    },
    {
     "name": "stderr",
     "output_type": "stream",
     "text": [
      "/home/cstansbu/git_repositories/higher-order-single-cell/notebooks/../../Hypergraph-MT/code/HyMT/init_sc.py:99: RuntimeWarning: divide by zero encountered in divide\n",
      "  invDV2 = np.diag(np.sqrt(1.0 / self.node_degree))\n"
     ]
    },
    {
     "name": "stdout",
     "output_type": "stream",
     "text": [
      "psiOmega [-1.70044305e+08]\n",
      "(array([5]), array([0]))\n",
      "i= 17072 []\n",
      "o4b40 maximum likilihood -307.884\n",
      "--------- Cell: o3b21 with 14 hyperedges... ---------\n"
     ]
    },
    {
     "name": "stderr",
     "output_type": "stream",
     "text": [
      "/home/cstansbu/git_repositories/higher-order-single-cell/notebooks/../../Hypergraph-MT/code/HyMT/init_sc.py:99: RuntimeWarning: divide by zero encountered in divide\n",
      "  invDV2 = np.diag(np.sqrt(1.0 / self.node_degree))\n"
     ]
    },
    {
     "name": "stdout",
     "output_type": "stream",
     "text": [
      "psiOmega [-26162163.65582645]\n",
      "(array([5]), array([0]))\n",
      "i= 17081 []\n"
     ]
    },
    {
     "name": "stderr",
     "output_type": "stream",
     "text": [
      "2025-01-14 14:50:17,412 - [PID 1685158] - hymt.model.HyMT           - ERROR - w0 must have shape (7, 2). In input was given (6, 2)!\n",
      "Tue Jan 14 14:50:17 2025 ERROR w0 must have shape (7, 2). In input was given (6, 2)!\n"
     ]
    },
    {
     "name": "stdout",
     "output_type": "stream",
     "text": [
      "o3b21 maximum likilihood -305.319\n",
      "--------- Cell: o3b46 with 14 hyperedges... ---------\n",
      "WARNING: error with cell o3b46, skipping...\n",
      "--------- Cell: o3b36 with 14 hyperedges... ---------\n"
     ]
    },
    {
     "name": "stderr",
     "output_type": "stream",
     "text": [
      "/home/cstansbu/git_repositories/higher-order-single-cell/notebooks/../../Hypergraph-MT/code/HyMT/init_sc.py:99: RuntimeWarning: divide by zero encountered in divide\n",
      "  invDV2 = np.diag(np.sqrt(1.0 / self.node_degree))\n"
     ]
    },
    {
     "name": "stdout",
     "output_type": "stream",
     "text": [
      "psiOmega [-0.68591445]\n",
      "(array([6]), array([1]))\n",
      "i= 16910 []\n"
     ]
    },
    {
     "name": "stderr",
     "output_type": "stream",
     "text": [
      "2025-01-14 14:50:45,055 - [PID 1685158] - hymt.model.HyMT           - ERROR - w0 must have shape (7, 2). In input was given (6, 2)!\n",
      "Tue Jan 14 14:50:45 2025 ERROR w0 must have shape (7, 2). In input was given (6, 2)!\n"
     ]
    },
    {
     "name": "stdout",
     "output_type": "stream",
     "text": [
      "o3b36 maximum likilihood 68.647\n",
      "--------- Cell: o3b27 with 14 hyperedges... ---------\n",
      "WARNING: error with cell o3b27, skipping...\n",
      "--------- Cell: o3b69 with 13 hyperedges... ---------\n"
     ]
    },
    {
     "name": "stderr",
     "output_type": "stream",
     "text": [
      "2025-01-14 14:50:45,152 - [PID 1685158] - hymt.model.HyMT           - ERROR - w0 must have shape (7, 2). In input was given (6, 2)!\n",
      "Tue Jan 14 14:50:45 2025 ERROR w0 must have shape (7, 2). In input was given (6, 2)!\n",
      "2025-01-14 14:50:45,245 - [PID 1685158] - hymt.model.HyMT           - ERROR - w0 must have shape (7, 2). In input was given (5, 2)!\n",
      "Tue Jan 14 14:50:45 2025 ERROR w0 must have shape (7, 2). In input was given (5, 2)!\n",
      "2025-01-14 14:50:45,332 - [PID 1685158] - hymt.model.HyMT           - ERROR - w0 must have shape (7, 2). In input was given (5, 2)!\n",
      "Tue Jan 14 14:50:45 2025 ERROR w0 must have shape (7, 2). In input was given (5, 2)!\n"
     ]
    },
    {
     "name": "stdout",
     "output_type": "stream",
     "text": [
      "WARNING: error with cell o3b69, skipping...\n",
      "--------- Cell: o3b64 with 13 hyperedges... ---------\n",
      "WARNING: error with cell o3b64, skipping...\n",
      "--------- Cell: o1b86 with 13 hyperedges... ---------\n",
      "WARNING: error with cell o1b86, skipping...\n",
      "--------- Cell: o1b87 with 13 hyperedges... ---------\n"
     ]
    },
    {
     "name": "stderr",
     "output_type": "stream",
     "text": [
      "2025-01-14 14:50:45,422 - [PID 1685158] - hymt.model.HyMT           - ERROR - w0 must have shape (7, 2). In input was given (6, 2)!\n",
      "Tue Jan 14 14:50:45 2025 ERROR w0 must have shape (7, 2). In input was given (6, 2)!\n",
      "/home/cstansbu/git_repositories/higher-order-single-cell/notebooks/../../Hypergraph-MT/code/HyMT/init_sc.py:99: RuntimeWarning: divide by zero encountered in divide\n",
      "  invDV2 = np.diag(np.sqrt(1.0 / self.node_degree))\n"
     ]
    },
    {
     "name": "stdout",
     "output_type": "stream",
     "text": [
      "WARNING: error with cell o1b87, skipping...\n",
      "--------- Cell: o3b63 with 13 hyperedges... ---------\n",
      "psiOmega [-0.00126519]\n",
      "(array([4]), array([1]))\n",
      "i= 17141 []\n",
      "o3b63 maximum likilihood -265.237\n",
      "--------- Cell: o1b21 with 13 hyperedges... ---------\n"
     ]
    },
    {
     "name": "stderr",
     "output_type": "stream",
     "text": [
      "/home/cstansbu/git_repositories/higher-order-single-cell/notebooks/../../Hypergraph-MT/code/HyMT/init_sc.py:99: RuntimeWarning: divide by zero encountered in divide\n",
      "  invDV2 = np.diag(np.sqrt(1.0 / self.node_degree))\n"
     ]
    },
    {
     "name": "stdout",
     "output_type": "stream",
     "text": [
      "psiOmega [-5.92685839e+08]\n",
      "(array([5]), array([0]))\n",
      "i= 17064 []\n"
     ]
    },
    {
     "name": "stderr",
     "output_type": "stream",
     "text": [
      "2025-01-14 14:51:58,383 - [PID 1685158] - hymt.model.HyMT           - ERROR - w0 must have shape (7, 2). In input was given (5, 2)!\n",
      "Tue Jan 14 14:51:58 2025 ERROR w0 must have shape (7, 2). In input was given (5, 2)!\n"
     ]
    },
    {
     "name": "stdout",
     "output_type": "stream",
     "text": [
      "o1b21 maximum likilihood -280.967\n",
      "--------- Cell: o3b68 with 13 hyperedges... ---------\n",
      "WARNING: error with cell o3b68, skipping...\n",
      "--------- Cell: o3b84 with 13 hyperedges... ---------\n"
     ]
    },
    {
     "name": "stderr",
     "output_type": "stream",
     "text": [
      "/home/cstansbu/git_repositories/higher-order-single-cell/notebooks/../../Hypergraph-MT/code/HyMT/init_sc.py:99: RuntimeWarning: divide by zero encountered in divide\n",
      "  invDV2 = np.diag(np.sqrt(1.0 / self.node_degree))\n"
     ]
    },
    {
     "name": "stdout",
     "output_type": "stream",
     "text": [
      "psiOmega [-0.00488098]\n",
      "(array([4]), array([1]))\n",
      "i= 17141 []\n"
     ]
    },
    {
     "name": "stderr",
     "output_type": "stream",
     "text": [
      "2025-01-14 14:52:36,621 - [PID 1685158] - hymt.model.HyMT           - ERROR - w0 must have shape (6, 2). In input was given (5, 2)!\n",
      "Tue Jan 14 14:52:36 2025 ERROR w0 must have shape (6, 2). In input was given (5, 2)!\n"
     ]
    },
    {
     "name": "stdout",
     "output_type": "stream",
     "text": [
      "o3b84 maximum likilihood -304.469\n",
      "--------- Cell: o2b45 with 13 hyperedges... ---------\n",
      "WARNING: error with cell o2b45, skipping...\n",
      "--------- Cell: o3b87 with 13 hyperedges... ---------\n"
     ]
    },
    {
     "name": "stderr",
     "output_type": "stream",
     "text": [
      "/home/cstansbu/git_repositories/higher-order-single-cell/notebooks/../../Hypergraph-MT/code/HyMT/init_sc.py:99: RuntimeWarning: divide by zero encountered in divide\n",
      "  invDV2 = np.diag(np.sqrt(1.0 / self.node_degree))\n"
     ]
    },
    {
     "name": "stdout",
     "output_type": "stream",
     "text": [
      "psiOmega [-9.71624556]\n",
      "(array([6]), array([1]))\n",
      "i= 16902 []\n"
     ]
    },
    {
     "name": "stderr",
     "output_type": "stream",
     "text": [
      "2025-01-14 14:53:17,754 - [PID 1685158] - hymt.model.HyMT           - ERROR - w0 must have shape (5, 2). In input was given (4, 2)!\n",
      "Tue Jan 14 14:53:17 2025 ERROR w0 must have shape (5, 2). In input was given (4, 2)!\n"
     ]
    },
    {
     "name": "stdout",
     "output_type": "stream",
     "text": [
      "o3b87 maximum likilihood 10.302\n",
      "--------- Cell: o3b35 with 12 hyperedges... ---------\n",
      "WARNING: error with cell o3b35, skipping...\n",
      "--------- Cell: o1b55 with 12 hyperedges... ---------\n"
     ]
    },
    {
     "name": "stderr",
     "output_type": "stream",
     "text": [
      "/home/cstansbu/git_repositories/higher-order-single-cell/notebooks/../../Hypergraph-MT/code/HyMT/init_sc.py:99: RuntimeWarning: divide by zero encountered in divide\n",
      "  invDV2 = np.diag(np.sqrt(1.0 / self.node_degree))\n"
     ]
    },
    {
     "name": "stdout",
     "output_type": "stream",
     "text": [
      "psiOmega [-3.33055139e+14]\n",
      "(array([7]), array([0]))\n",
      "i= 16782 []\n"
     ]
    },
    {
     "name": "stderr",
     "output_type": "stream",
     "text": [
      "2025-01-14 14:53:47,368 - [PID 1685158] - hymt.model.HyMT           - ERROR - w0 must have shape (5, 2). In input was given (4, 2)!\n",
      "Tue Jan 14 14:53:47 2025 ERROR w0 must have shape (5, 2). In input was given (4, 2)!\n",
      "2025-01-14 14:53:47,461 - [PID 1685158] - hymt.model.HyMT           - ERROR - w0 must have shape (7, 2). In input was given (5, 2)!\n"
     ]
    },
    {
     "name": "stdout",
     "output_type": "stream",
     "text": [
      "o1b55 maximum likilihood 1736784.251\n",
      "--------- Cell: o3b42 with 12 hyperedges... ---------\n",
      "WARNING: error with cell o3b42, skipping...\n",
      "--------- Cell: o2b57 with 12 hyperedges... ---------\n"
     ]
    },
    {
     "name": "stderr",
     "output_type": "stream",
     "text": [
      "Tue Jan 14 14:53:47 2025 ERROR w0 must have shape (7, 2). In input was given (5, 2)!\n",
      "/home/cstansbu/git_repositories/higher-order-single-cell/notebooks/../../Hypergraph-MT/code/HyMT/init_sc.py:99: RuntimeWarning: divide by zero encountered in divide\n",
      "  invDV2 = np.diag(np.sqrt(1.0 / self.node_degree))\n"
     ]
    },
    {
     "name": "stdout",
     "output_type": "stream",
     "text": [
      "WARNING: error with cell o2b57, skipping...\n",
      "--------- Cell: o1b12 with 12 hyperedges... ---------\n",
      "psiOmega [-0.00773848]\n",
      "(array([4]), array([1]))\n",
      "i= 17142 []\n"
     ]
    },
    {
     "name": "stderr",
     "output_type": "stream",
     "text": [
      "2025-01-14 14:54:15,558 - [PID 1685158] - hymt.model.HyMT           - ERROR - w0 must have shape (6, 2). In input was given (4, 2)!\n",
      "Tue Jan 14 14:54:15 2025 ERROR w0 must have shape (6, 2). In input was given (4, 2)!\n",
      "2025-01-14 14:54:15,601 - [PID 1685158] - hymt.model.HyMT           - ERROR - w0 must have shape (7, 2). In input was given (5, 2)!\n",
      "Tue Jan 14 14:54:15 2025 ERROR w0 must have shape (7, 2). In input was given (5, 2)!\n",
      "2025-01-14 14:54:15,644 - [PID 1685158] - hymt.model.HyMT           - ERROR - w0 must have shape (7, 2). In input was given (5, 2)!\n",
      "Tue Jan 14 14:54:15 2025 ERROR w0 must have shape (7, 2). In input was given (5, 2)!\n",
      "2025-01-14 14:54:15,685 - [PID 1685158] - hymt.model.HyMT           - ERROR - w0 must have shape (6, 2). In input was given (4, 2)!\n",
      "Tue Jan 14 14:54:15 2025 ERROR w0 must have shape (6, 2). In input was given (4, 2)!\n"
     ]
    },
    {
     "name": "stdout",
     "output_type": "stream",
     "text": [
      "o1b12 maximum likilihood -256.354\n",
      "--------- Cell: o2b87 with 11 hyperedges... ---------\n",
      "WARNING: error with cell o2b87, skipping...\n",
      "--------- Cell: o2b65 with 11 hyperedges... ---------\n",
      "WARNING: error with cell o2b65, skipping...\n",
      "--------- Cell: o3b57 with 11 hyperedges... ---------\n",
      "WARNING: error with cell o3b57, skipping...\n",
      "--------- Cell: o3b16 with 11 hyperedges... ---------\n",
      "WARNING: error with cell o3b16, skipping...\n",
      "--------- Cell: o4b76 with 11 hyperedges... ---------\n"
     ]
    },
    {
     "name": "stderr",
     "output_type": "stream",
     "text": [
      "/home/cstansbu/git_repositories/higher-order-single-cell/notebooks/../../Hypergraph-MT/code/HyMT/init_sc.py:99: RuntimeWarning: divide by zero encountered in divide\n",
      "  invDV2 = np.diag(np.sqrt(1.0 / self.node_degree))\n"
     ]
    },
    {
     "name": "stdout",
     "output_type": "stream",
     "text": [
      "psiOmega [-5.4138154e+14]\n",
      "(array([7]), array([0]))\n",
      "i= 16755 []\n"
     ]
    },
    {
     "name": "stderr",
     "output_type": "stream",
     "text": [
      "2025-01-14 14:54:44,461 - [PID 1685158] - hymt.model.HyMT           - ERROR - w0 must have shape (6, 2). In input was given (4, 2)!\n",
      "Tue Jan 14 14:54:44 2025 ERROR w0 must have shape (6, 2). In input was given (4, 2)!\n",
      "2025-01-14 14:54:44,504 - [PID 1685158] - hymt.model.HyMT           - ERROR - w0 must have shape (5, 2). In input was given (4, 2)!\n",
      "Tue Jan 14 14:54:44 2025 ERROR w0 must have shape (5, 2). In input was given (4, 2)!\n",
      "2025-01-14 14:54:44,546 - [PID 1685158] - hymt.model.HyMT           - ERROR - w0 must have shape (7, 2). In input was given (6, 2)!\n",
      "Tue Jan 14 14:54:44 2025 ERROR w0 must have shape (7, 2). In input was given (6, 2)!\n"
     ]
    },
    {
     "name": "stdout",
     "output_type": "stream",
     "text": [
      "o4b76 maximum likilihood 2498207.499\n",
      "--------- Cell: o1b26 with 11 hyperedges... ---------\n",
      "WARNING: error with cell o1b26, skipping...\n",
      "--------- Cell: o1b28 with 11 hyperedges... ---------\n",
      "WARNING: error with cell o1b28, skipping...\n",
      "--------- Cell: o1b79 with 11 hyperedges... ---------\n",
      "WARNING: error with cell o1b79, skipping...\n",
      "--------- Cell: o3b20 with 11 hyperedges... ---------\n"
     ]
    },
    {
     "name": "stderr",
     "output_type": "stream",
     "text": [
      "/home/cstansbu/git_repositories/higher-order-single-cell/notebooks/../../Hypergraph-MT/code/HyMT/init_sc.py:99: RuntimeWarning: divide by zero encountered in divide\n",
      "  invDV2 = np.diag(np.sqrt(1.0 / self.node_degree))\n"
     ]
    },
    {
     "name": "stdout",
     "output_type": "stream",
     "text": [
      "psiOmega [-1.30175358e+08]\n",
      "(array([5]), array([0]))\n",
      "i= 17063 []\n",
      "o3b20 maximum likilihood -240.661\n",
      "--------- Cell: o1b14 with 11 hyperedges... ---------\n"
     ]
    },
    {
     "name": "stderr",
     "output_type": "stream",
     "text": [
      "/home/cstansbu/git_repositories/higher-order-single-cell/notebooks/../../Hypergraph-MT/code/HyMT/init_sc.py:99: RuntimeWarning: divide by zero encountered in divide\n",
      "  invDV2 = np.diag(np.sqrt(1.0 / self.node_degree))\n",
      "2025-01-14 14:55:32,121 - [PID 1685158] - hymt.model.HyMT           - ERROR - w0 must have shape (7, 2). In input was given (5, 2)!\n",
      "Tue Jan 14 14:55:32 2025 ERROR w0 must have shape (7, 2). In input was given (5, 2)!\n"
     ]
    },
    {
     "name": "stdout",
     "output_type": "stream",
     "text": [
      "o1b14 maximum likilihood -124.086\n",
      "--------- Cell: o1b77 with 11 hyperedges... ---------\n",
      "WARNING: error with cell o1b77, skipping...\n",
      "--------- Cell: o4b07 with 11 hyperedges... ---------\n"
     ]
    },
    {
     "name": "stderr",
     "output_type": "stream",
     "text": [
      "/home/cstansbu/git_repositories/higher-order-single-cell/notebooks/../../Hypergraph-MT/code/HyMT/init_sc.py:99: RuntimeWarning: divide by zero encountered in divide\n",
      "  invDV2 = np.diag(np.sqrt(1.0 / self.node_degree))\n"
     ]
    },
    {
     "name": "stdout",
     "output_type": "stream",
     "text": [
      "psiOmega [-0.00412639]\n",
      "(array([4]), array([1]))\n",
      "i= 17141 []\n",
      "o4b07 maximum likilihood -225.648\n",
      "--------- Cell: o3b94 with 11 hyperedges... ---------\n"
     ]
    },
    {
     "name": "stderr",
     "output_type": "stream",
     "text": [
      "/home/cstansbu/git_repositories/higher-order-single-cell/notebooks/../../Hypergraph-MT/code/HyMT/init_sc.py:99: RuntimeWarning: divide by zero encountered in divide\n",
      "  invDV2 = np.diag(np.sqrt(1.0 / self.node_degree))\n"
     ]
    },
    {
     "name": "stdout",
     "output_type": "stream",
     "text": [
      "psiOmega [-0.12557397]\n",
      "(array([6]), array([1]))\n",
      "i= 16903 []\n",
      "o3b94 maximum likilihood 106.104\n",
      "--------- Cell: o3b62 with 10 hyperedges... ---------\n"
     ]
    },
    {
     "name": "stderr",
     "output_type": "stream",
     "text": [
      "/home/cstansbu/git_repositories/higher-order-single-cell/notebooks/../../Hypergraph-MT/code/HyMT/init_sc.py:99: RuntimeWarning: divide by zero encountered in divide\n",
      "  invDV2 = np.diag(np.sqrt(1.0 / self.node_degree))\n"
     ]
    },
    {
     "name": "stdout",
     "output_type": "stream",
     "text": [
      "psiOmega [-2.6753439e+08]\n",
      "(array([5]), array([0]))\n",
      "i= 17068 []\n",
      "o3b62 maximum likilihood -232.687\n",
      "--------- Cell: o3b47 with 10 hyperedges... ---------\n"
     ]
    },
    {
     "name": "stderr",
     "output_type": "stream",
     "text": [
      "/home/cstansbu/git_repositories/higher-order-single-cell/notebooks/../../Hypergraph-MT/code/HyMT/init_sc.py:99: RuntimeWarning: divide by zero encountered in divide\n",
      "  invDV2 = np.diag(np.sqrt(1.0 / self.node_degree))\n"
     ]
    },
    {
     "name": "stdout",
     "output_type": "stream",
     "text": [
      "psiOmega [-0.00117095]\n",
      "(array([4]), array([1]))\n",
      "i= 17141 []\n",
      "o3b47 maximum likilihood -253.276\n",
      "--------- Cell: o3b10 with 10 hyperedges... ---------\n"
     ]
    },
    {
     "name": "stderr",
     "output_type": "stream",
     "text": [
      "/home/cstansbu/git_repositories/higher-order-single-cell/notebooks/../../Hypergraph-MT/code/HyMT/init_sc.py:99: RuntimeWarning: divide by zero encountered in divide\n",
      "  invDV2 = np.diag(np.sqrt(1.0 / self.node_degree))\n"
     ]
    },
    {
     "name": "stdout",
     "output_type": "stream",
     "text": [
      "psiOmega [-7.15630687]\n",
      "(array([6]), array([1]))\n",
      "i= 16912 []\n"
     ]
    },
    {
     "name": "stderr",
     "output_type": "stream",
     "text": [
      "2025-01-14 14:57:56,893 - [PID 1685158] - hymt.model.HyMT           - ERROR - w0 must have shape (7, 2). In input was given (6, 2)!\n",
      "Tue Jan 14 14:57:56 2025 ERROR w0 must have shape (7, 2). In input was given (6, 2)!\n"
     ]
    },
    {
     "name": "stdout",
     "output_type": "stream",
     "text": [
      "o3b10 maximum likilihood 50.895\n",
      "--------- Cell: o1b02 with 10 hyperedges... ---------\n",
      "WARNING: error with cell o1b02, skipping...\n",
      "--------- Cell: o2b78 with 10 hyperedges... ---------\n"
     ]
    },
    {
     "name": "stderr",
     "output_type": "stream",
     "text": [
      "/home/cstansbu/git_repositories/higher-order-single-cell/notebooks/../../Hypergraph-MT/code/HyMT/init_sc.py:99: RuntimeWarning: divide by zero encountered in divide\n",
      "  invDV2 = np.diag(np.sqrt(1.0 / self.node_degree))\n"
     ]
    },
    {
     "name": "stdout",
     "output_type": "stream",
     "text": [
      "psiOmega [-0.0059196]\n",
      "(array([4]), array([1]))\n",
      "i= 17141 []\n"
     ]
    },
    {
     "name": "stderr",
     "output_type": "stream",
     "text": [
      "2025-01-14 14:58:20,056 - [PID 1685158] - hymt.model.HyMT           - ERROR - w0 must have shape (6, 2). In input was given (4, 2)!\n",
      "Tue Jan 14 14:58:20 2025 ERROR w0 must have shape (6, 2). In input was given (4, 2)!\n",
      "2025-01-14 14:58:20,099 - [PID 1685158] - hymt.model.HyMT           - ERROR - w0 must have shape (5, 2). In input was given (4, 2)!\n",
      "Tue Jan 14 14:58:20 2025 ERROR w0 must have shape (5, 2). In input was given (4, 2)!\n",
      "2025-01-14 14:58:20,141 - [PID 1685158] - hymt.model.HyMT           - ERROR - w0 must have shape (5, 2). In input was given (4, 2)!\n",
      "Tue Jan 14 14:58:20 2025 ERROR w0 must have shape (5, 2). In input was given (4, 2)!\n",
      "2025-01-14 14:58:20,183 - [PID 1685158] - hymt.model.HyMT           - ERROR - w0 must have shape (6, 2). In input was given (4, 2)!\n",
      "Tue Jan 14 14:58:20 2025 ERROR w0 must have shape (6, 2). In input was given (4, 2)!\n"
     ]
    },
    {
     "name": "stdout",
     "output_type": "stream",
     "text": [
      "o2b78 maximum likilihood -225.511\n",
      "--------- Cell: o2b70 with 10 hyperedges... ---------\n",
      "WARNING: error with cell o2b70, skipping...\n",
      "--------- Cell: o2b21 with 10 hyperedges... ---------\n",
      "WARNING: error with cell o2b21, skipping...\n",
      "--------- Cell: o1b68 with 9 hyperedges... ---------\n",
      "WARNING: error with cell o1b68, skipping...\n",
      "--------- Cell: o2b76 with 9 hyperedges... ---------\n",
      "WARNING: error with cell o2b76, skipping...\n",
      "--------- Cell: o4b22 with 9 hyperedges... ---------\n"
     ]
    },
    {
     "name": "stderr",
     "output_type": "stream",
     "text": [
      "2025-01-14 14:58:20,226 - [PID 1685158] - hymt.model.HyMT           - ERROR - w0 must have shape (5, 2). In input was given (4, 2)!\n",
      "Tue Jan 14 14:58:20 2025 ERROR w0 must have shape (5, 2). In input was given (4, 2)!\n",
      "2025-01-14 14:58:20,269 - [PID 1685158] - hymt.model.HyMT           - ERROR - w0 must have shape (6, 2). In input was given (5, 2)!\n",
      "Tue Jan 14 14:58:20 2025 ERROR w0 must have shape (6, 2). In input was given (5, 2)!\n",
      "2025-01-14 14:58:20,311 - [PID 1685158] - hymt.model.HyMT           - ERROR - w0 must have shape (4, 2). In input was given (3, 2)!\n",
      "Tue Jan 14 14:58:20 2025 ERROR w0 must have shape (4, 2). In input was given (3, 2)!\n",
      "2025-01-14 14:58:20,353 - [PID 1685158] - hymt.model.HyMT           - ERROR - w0 must have shape (7, 2). In input was given (6, 2)!\n",
      "Tue Jan 14 14:58:20 2025 ERROR w0 must have shape (7, 2). In input was given (6, 2)!\n",
      "2025-01-14 14:58:20,394 - [PID 1685158] - hymt.model.HyMT           - ERROR - w0 must have shape (5, 2). In input was given (4, 2)!\n",
      "Tue Jan 14 14:58:20 2025 ERROR w0 must have shape (5, 2). In input was given (4, 2)!\n"
     ]
    },
    {
     "name": "stdout",
     "output_type": "stream",
     "text": [
      "WARNING: error with cell o4b22, skipping...\n",
      "--------- Cell: o3b02 with 9 hyperedges... ---------\n",
      "WARNING: error with cell o3b02, skipping...\n",
      "--------- Cell: o3b65 with 9 hyperedges... ---------\n",
      "WARNING: error with cell o3b65, skipping...\n",
      "--------- Cell: o4b18 with 9 hyperedges... ---------\n",
      "WARNING: error with cell o4b18, skipping...\n",
      "--------- Cell: o1b85 with 9 hyperedges... ---------\n",
      "WARNING: error with cell o1b85, skipping...\n",
      "--------- Cell: o3b26 with 9 hyperedges... ---------\n"
     ]
    },
    {
     "name": "stderr",
     "output_type": "stream",
     "text": [
      "/home/cstansbu/git_repositories/higher-order-single-cell/notebooks/../../Hypergraph-MT/code/HyMT/init_sc.py:99: RuntimeWarning: divide by zero encountered in divide\n",
      "  invDV2 = np.diag(np.sqrt(1.0 / self.node_degree))\n"
     ]
    },
    {
     "name": "stdout",
     "output_type": "stream",
     "text": [
      "psiOmega [-4.69707335e+08]\n",
      "(array([5]), array([0]))\n",
      "i= 17059 []\n"
     ]
    },
    {
     "name": "stderr",
     "output_type": "stream",
     "text": [
      "2025-01-14 14:58:44,014 - [PID 1685158] - hymt.model.HyMT           - ERROR - w0 must have shape (6, 2). In input was given (3, 2)!\n",
      "Tue Jan 14 14:58:44 2025 ERROR w0 must have shape (6, 2). In input was given (3, 2)!\n"
     ]
    },
    {
     "name": "stdout",
     "output_type": "stream",
     "text": [
      "o3b26 maximum likilihood -216.551\n",
      "--------- Cell: o3b53 with 9 hyperedges... ---------\n",
      "WARNING: error with cell o3b53, skipping...\n",
      "--------- Cell: o2b16 with 9 hyperedges... ---------\n"
     ]
    },
    {
     "name": "stderr",
     "output_type": "stream",
     "text": [
      "/home/cstansbu/git_repositories/higher-order-single-cell/notebooks/../../Hypergraph-MT/code/HyMT/init_sc.py:99: RuntimeWarning: divide by zero encountered in divide\n",
      "  invDV2 = np.diag(np.sqrt(1.0 / self.node_degree))\n"
     ]
    },
    {
     "name": "stdout",
     "output_type": "stream",
     "text": [
      "psiOmega [-0.0056949]\n",
      "(array([4]), array([1]))\n",
      "i= 17141 []\n"
     ]
    },
    {
     "name": "stderr",
     "output_type": "stream",
     "text": [
      "2025-01-14 14:59:11,440 - [PID 1685158] - hymt.model.HyMT           - ERROR - w0 must have shape (5, 2). In input was given (4, 2)!\n",
      "Tue Jan 14 14:59:11 2025 ERROR w0 must have shape (5, 2). In input was given (4, 2)!\n",
      "2025-01-14 14:59:11,531 - [PID 1685158] - hymt.model.HyMT           - ERROR - w0 must have shape (5, 2). In input was given (3, 2)!\n",
      "Tue Jan 14 14:59:11 2025 ERROR w0 must have shape (5, 2). In input was given (3, 2)!\n"
     ]
    },
    {
     "name": "stdout",
     "output_type": "stream",
     "text": [
      "o2b16 maximum likilihood -180.428\n",
      "--------- Cell: o2b59 with 9 hyperedges... ---------\n",
      "WARNING: error with cell o2b59, skipping...\n",
      "--------- Cell: o4b41 with 8 hyperedges... ---------\n",
      "WARNING: error with cell o4b41, skipping...\n",
      "--------- Cell: o2b46 with 8 hyperedges... ---------\n"
     ]
    },
    {
     "name": "stderr",
     "output_type": "stream",
     "text": [
      "2025-01-14 14:59:11,615 - [PID 1685158] - hymt.model.HyMT           - ERROR - w0 must have shape (4, 2). In input was given (3, 2)!\n",
      "Tue Jan 14 14:59:11 2025 ERROR w0 must have shape (4, 2). In input was given (3, 2)!\n",
      "2025-01-14 14:59:11,700 - [PID 1685158] - hymt.model.HyMT           - ERROR - w0 must have shape (7, 2). In input was given (4, 2)!\n",
      "Tue Jan 14 14:59:11 2025 ERROR w0 must have shape (7, 2). In input was given (4, 2)!\n",
      "2025-01-14 14:59:11,790 - [PID 1685158] - hymt.model.HyMT           - ERROR - w0 must have shape (7, 2). In input was given (5, 2)!\n",
      "Tue Jan 14 14:59:11 2025 ERROR w0 must have shape (7, 2). In input was given (5, 2)!\n"
     ]
    },
    {
     "name": "stdout",
     "output_type": "stream",
     "text": [
      "WARNING: error with cell o2b46, skipping...\n",
      "--------- Cell: o1b11 with 8 hyperedges... ---------\n",
      "WARNING: error with cell o1b11, skipping...\n",
      "--------- Cell: o3b25 with 8 hyperedges... ---------\n",
      "WARNING: error with cell o3b25, skipping...\n",
      "--------- Cell: o4b46 with 8 hyperedges... ---------\n"
     ]
    },
    {
     "name": "stderr",
     "output_type": "stream",
     "text": [
      "/home/cstansbu/git_repositories/higher-order-single-cell/notebooks/../../Hypergraph-MT/code/HyMT/init_sc.py:99: RuntimeWarning: divide by zero encountered in divide\n",
      "  invDV2 = np.diag(np.sqrt(1.0 / self.node_degree))\n",
      "2025-01-14 14:59:46,793 - [PID 1685158] - hymt.model.HyMT           - ERROR - w0 must have shape (5, 2). In input was given (4, 2)!\n",
      "Tue Jan 14 14:59:46 2025 ERROR w0 must have shape (5, 2). In input was given (4, 2)!\n",
      "2025-01-14 14:59:46,835 - [PID 1685158] - hymt.model.HyMT           - ERROR - w0 must have shape (4, 2). In input was given (3, 2)!\n",
      "Tue Jan 14 14:59:46 2025 ERROR w0 must have shape (4, 2). In input was given (3, 2)!\n",
      "2025-01-14 14:59:46,876 - [PID 1685158] - hymt.model.HyMT           - ERROR - w0 must have shape (7, 2). In input was given (4, 2)!\n",
      "Tue Jan 14 14:59:46 2025 ERROR w0 must have shape (7, 2). In input was given (4, 2)!\n",
      "2025-01-14 14:59:46,919 - [PID 1685158] - hymt.model.HyMT           - ERROR - w0 must have shape (6, 2). In input was given (5, 2)!\n",
      "Tue Jan 14 14:59:46 2025 ERROR w0 must have shape (6, 2). In input was given (5, 2)!\n"
     ]
    },
    {
     "name": "stdout",
     "output_type": "stream",
     "text": [
      "o4b46 maximum likilihood -54.727\n",
      "--------- Cell: o3b37 with 8 hyperedges... ---------\n",
      "WARNING: error with cell o3b37, skipping...\n",
      "--------- Cell: o3b61 with 8 hyperedges... ---------\n",
      "WARNING: error with cell o3b61, skipping...\n",
      "--------- Cell: o4b30 with 8 hyperedges... ---------\n",
      "WARNING: error with cell o4b30, skipping...\n",
      "--------- Cell: o1b74 with 7 hyperedges... ---------\n",
      "WARNING: error with cell o1b74, skipping...\n",
      "--------- Cell: o4b52 with 7 hyperedges... ---------\n"
     ]
    },
    {
     "name": "stderr",
     "output_type": "stream",
     "text": [
      "2025-01-14 14:59:46,962 - [PID 1685158] - hymt.model.HyMT           - ERROR - w0 must have shape (7, 2). In input was given (6, 2)!\n",
      "Tue Jan 14 14:59:46 2025 ERROR w0 must have shape (7, 2). In input was given (6, 2)!\n",
      "2025-01-14 14:59:47,004 - [PID 1685158] - hymt.model.HyMT           - ERROR - w0 must have shape (7, 2). In input was given (3, 2)!\n",
      "Tue Jan 14 14:59:47 2025 ERROR w0 must have shape (7, 2). In input was given (3, 2)!\n",
      "2025-01-14 14:59:47,045 - [PID 1685158] - hymt.model.HyMT           - ERROR - w0 must have shape (5, 2). In input was given (4, 2)!\n",
      "Tue Jan 14 14:59:47 2025 ERROR w0 must have shape (5, 2). In input was given (4, 2)!\n",
      "2025-01-14 14:59:47,087 - [PID 1685158] - hymt.model.HyMT           - ERROR - w0 must have shape (5, 2). In input was given (4, 2)!\n",
      "Tue Jan 14 14:59:47 2025 ERROR w0 must have shape (5, 2). In input was given (4, 2)!\n",
      "2025-01-14 14:59:47,128 - [PID 1685158] - hymt.model.HyMT           - ERROR - w0 must have shape (6, 2). In input was given (4, 2)!\n",
      "Tue Jan 14 14:59:47 2025 ERROR w0 must have shape (6, 2). In input was given (4, 2)!\n"
     ]
    },
    {
     "name": "stdout",
     "output_type": "stream",
     "text": [
      "WARNING: error with cell o4b52, skipping...\n",
      "--------- Cell: o2b69 with 7 hyperedges... ---------\n",
      "WARNING: error with cell o2b69, skipping...\n",
      "--------- Cell: o3b15 with 7 hyperedges... ---------\n",
      "WARNING: error with cell o3b15, skipping...\n",
      "--------- Cell: o3b72 with 7 hyperedges... ---------\n",
      "WARNING: error with cell o3b72, skipping...\n",
      "--------- Cell: o1b73 with 7 hyperedges... ---------\n",
      "WARNING: error with cell o1b73, skipping...\n",
      "--------- Cell: o1b13 with 7 hyperedges... ---------\n"
     ]
    },
    {
     "name": "stderr",
     "output_type": "stream",
     "text": [
      "2025-01-14 14:59:47,171 - [PID 1685158] - hymt.model.HyMT           - ERROR - w0 must have shape (5, 2). In input was given (4, 2)!\n",
      "Tue Jan 14 14:59:47 2025 ERROR w0 must have shape (5, 2). In input was given (4, 2)!\n",
      "2025-01-14 14:59:47,212 - [PID 1685158] - hymt.model.HyMT           - ERROR - w0 must have shape (6, 2). In input was given (4, 2)!\n",
      "Tue Jan 14 14:59:47 2025 ERROR w0 must have shape (6, 2). In input was given (4, 2)!\n",
      "2025-01-14 14:59:47,254 - [PID 1685158] - hymt.model.HyMT           - ERROR - w0 must have shape (5, 2). In input was given (4, 2)!\n",
      "Tue Jan 14 14:59:47 2025 ERROR w0 must have shape (5, 2). In input was given (4, 2)!\n",
      "2025-01-14 14:59:47,296 - [PID 1685158] - hymt.model.HyMT           - ERROR - w0 must have shape (5, 2). In input was given (4, 2)!\n",
      "Tue Jan 14 14:59:47 2025 ERROR w0 must have shape (5, 2). In input was given (4, 2)!\n",
      "2025-01-14 14:59:47,339 - [PID 1685158] - hymt.model.HyMT           - ERROR - w0 must have shape (5, 2). In input was given (4, 2)!\n",
      "Tue Jan 14 14:59:47 2025 ERROR w0 must have shape (5, 2). In input was given (4, 2)!\n"
     ]
    },
    {
     "name": "stdout",
     "output_type": "stream",
     "text": [
      "WARNING: error with cell o1b13, skipping...\n",
      "--------- Cell: o4b04 with 7 hyperedges... ---------\n",
      "WARNING: error with cell o4b04, skipping...\n",
      "--------- Cell: o2b17 with 7 hyperedges... ---------\n",
      "WARNING: error with cell o2b17, skipping...\n",
      "--------- Cell: o4b96 with 7 hyperedges... ---------\n",
      "WARNING: error with cell o4b96, skipping...\n",
      "--------- Cell: o3b31 with 7 hyperedges... ---------\n",
      "WARNING: error with cell o3b31, skipping...\n",
      "--------- Cell: o3b28 with 7 hyperedges... ---------\n"
     ]
    },
    {
     "name": "stderr",
     "output_type": "stream",
     "text": [
      "2025-01-14 14:59:47,382 - [PID 1685158] - hymt.model.HyMT           - ERROR - w0 must have shape (7, 2). In input was given (4, 2)!\n",
      "Tue Jan 14 14:59:47 2025 ERROR w0 must have shape (7, 2). In input was given (4, 2)!\n",
      "/home/cstansbu/git_repositories/higher-order-single-cell/notebooks/../../Hypergraph-MT/code/HyMT/init_sc.py:99: RuntimeWarning: divide by zero encountered in divide\n",
      "  invDV2 = np.diag(np.sqrt(1.0 / self.node_degree))\n"
     ]
    },
    {
     "name": "stdout",
     "output_type": "stream",
     "text": [
      "WARNING: error with cell o3b28, skipping...\n",
      "--------- Cell: o2b74 with 7 hyperedges... ---------\n",
      "psiOmega [-0.00503937]\n",
      "(array([4]), array([1]))\n",
      "i= 17141 []\n"
     ]
    },
    {
     "name": "stderr",
     "output_type": "stream",
     "text": [
      "2025-01-14 15:00:10,752 - [PID 1685158] - hymt.model.HyMT           - ERROR - w0 must have shape (5, 2). In input was given (4, 2)!\n",
      "Tue Jan 14 15:00:10 2025 ERROR w0 must have shape (5, 2). In input was given (4, 2)!\n"
     ]
    },
    {
     "name": "stdout",
     "output_type": "stream",
     "text": [
      "o2b74 maximum likilihood -119.613\n",
      "--------- Cell: o2b29 with 6 hyperedges... ---------\n",
      "WARNING: error with cell o2b29, skipping...\n",
      "--------- Cell: o4b84 with 6 hyperedges... ---------\n"
     ]
    },
    {
     "name": "stderr",
     "output_type": "stream",
     "text": [
      "/home/cstansbu/git_repositories/higher-order-single-cell/notebooks/../../Hypergraph-MT/code/HyMT/init_sc.py:99: RuntimeWarning: divide by zero encountered in divide\n",
      "  invDV2 = np.diag(np.sqrt(1.0 / self.node_degree))\n"
     ]
    },
    {
     "name": "stdout",
     "output_type": "stream",
     "text": [
      "psiOmega [-0.00813648]\n",
      "(array([4]), array([1]))\n",
      "i= 17141 []\n"
     ]
    },
    {
     "name": "stderr",
     "output_type": "stream",
     "text": [
      "2025-01-14 15:00:33,999 - [PID 1685158] - hymt.model.HyMT           - ERROR - w0 must have shape (5, 2). In input was given (3, 2)!\n",
      "Tue Jan 14 15:00:33 2025 ERROR w0 must have shape (5, 2). In input was given (3, 2)!\n",
      "2025-01-14 15:00:34,041 - [PID 1685158] - hymt.model.HyMT           - ERROR - w0 must have shape (4, 2). In input was given (3, 2)!\n",
      "Tue Jan 14 15:00:34 2025 ERROR w0 must have shape (4, 2). In input was given (3, 2)!\n",
      "2025-01-14 15:00:34,082 - [PID 1685158] - hymt.model.HyMT           - ERROR - w0 must have shape (5, 2). In input was given (4, 2)!\n",
      "Tue Jan 14 15:00:34 2025 ERROR w0 must have shape (5, 2). In input was given (4, 2)!\n",
      "2025-01-14 15:00:34,125 - [PID 1685158] - hymt.model.HyMT           - ERROR - w0 must have shape (5, 2). In input was given (3, 2)!\n",
      "Tue Jan 14 15:00:34 2025 ERROR w0 must have shape (5, 2). In input was given (3, 2)!\n"
     ]
    },
    {
     "name": "stdout",
     "output_type": "stream",
     "text": [
      "o4b84 maximum likilihood -136.880\n",
      "--------- Cell: o2b31 with 6 hyperedges... ---------\n",
      "WARNING: error with cell o2b31, skipping...\n",
      "--------- Cell: o3b91 with 6 hyperedges... ---------\n",
      "WARNING: error with cell o3b91, skipping...\n",
      "--------- Cell: o4b81 with 6 hyperedges... ---------\n",
      "WARNING: error with cell o4b81, skipping...\n",
      "--------- Cell: o3b86 with 6 hyperedges... ---------\n",
      "WARNING: error with cell o3b86, skipping...\n",
      "--------- Cell: o1b19 with 6 hyperedges... ---------\n"
     ]
    },
    {
     "name": "stderr",
     "output_type": "stream",
     "text": [
      "2025-01-14 15:00:34,168 - [PID 1685158] - hymt.model.HyMT           - ERROR - w0 must have shape (7, 2). In input was given (4, 2)!\n",
      "Tue Jan 14 15:00:34 2025 ERROR w0 must have shape (7, 2). In input was given (4, 2)!\n",
      "2025-01-14 15:00:34,209 - [PID 1685158] - hymt.model.HyMT           - ERROR - w0 must have shape (4, 2). In input was given (3, 2)!\n",
      "Tue Jan 14 15:00:34 2025 ERROR w0 must have shape (4, 2). In input was given (3, 2)!\n",
      "2025-01-14 15:00:34,251 - [PID 1685158] - hymt.model.HyMT           - ERROR - w0 must have shape (5, 2). In input was given (3, 2)!\n",
      "Tue Jan 14 15:00:34 2025 ERROR w0 must have shape (5, 2). In input was given (3, 2)!\n",
      "2025-01-14 15:00:34,293 - [PID 1685158] - hymt.model.HyMT           - ERROR - w0 must have shape (6, 2). In input was given (4, 2)!\n",
      "Tue Jan 14 15:00:34 2025 ERROR w0 must have shape (6, 2). In input was given (4, 2)!\n",
      "/home/cstansbu/git_repositories/higher-order-single-cell/notebooks/../../Hypergraph-MT/code/HyMT/init_sc.py:99: RuntimeWarning: divide by zero encountered in divide\n",
      "  invDV2 = np.diag(np.sqrt(1.0 / self.node_degree))\n"
     ]
    },
    {
     "name": "stdout",
     "output_type": "stream",
     "text": [
      "WARNING: error with cell o1b19, skipping...\n",
      "--------- Cell: o3b39 with 6 hyperedges... ---------\n",
      "WARNING: error with cell o3b39, skipping...\n",
      "--------- Cell: o2b71 with 6 hyperedges... ---------\n",
      "WARNING: error with cell o2b71, skipping...\n",
      "--------- Cell: o3b01 with 6 hyperedges... ---------\n",
      "WARNING: error with cell o3b01, skipping...\n",
      "--------- Cell: o2b18 with 6 hyperedges... ---------\n",
      "psiOmega [-0.00148283]\n",
      "(array([4]), array([1]))\n",
      "i= 17140 []\n"
     ]
    },
    {
     "name": "stderr",
     "output_type": "stream",
     "text": [
      "2025-01-14 15:01:03,698 - [PID 1685158] - hymt.model.HyMT           - ERROR - w0 must have shape (6, 2). In input was given (5, 2)!\n",
      "Tue Jan 14 15:01:03 2025 ERROR w0 must have shape (6, 2). In input was given (5, 2)!\n",
      "2025-01-14 15:01:03,740 - [PID 1685158] - hymt.model.HyMT           - ERROR - w0 must have shape (5, 2). In input was given (3, 2)!\n",
      "Tue Jan 14 15:01:03 2025 ERROR w0 must have shape (5, 2). In input was given (3, 2)!\n",
      "2025-01-14 15:01:03,782 - [PID 1685158] - hymt.model.HyMT           - ERROR - w0 must have shape (4, 2). In input was given (3, 2)!\n",
      "Tue Jan 14 15:01:03 2025 ERROR w0 must have shape (4, 2). In input was given (3, 2)!\n",
      "2025-01-14 15:01:03,824 - [PID 1685158] - hymt.model.HyMT           - ERROR - w0 must have shape (5, 2). In input was given (4, 2)!\n",
      "Tue Jan 14 15:01:03 2025 ERROR w0 must have shape (5, 2). In input was given (4, 2)!\n"
     ]
    },
    {
     "name": "stdout",
     "output_type": "stream",
     "text": [
      "o2b18 maximum likilihood -138.211\n",
      "--------- Cell: o4b50 with 6 hyperedges... ---------\n",
      "WARNING: error with cell o4b50, skipping...\n",
      "--------- Cell: o4b38 with 6 hyperedges... ---------\n",
      "WARNING: error with cell o4b38, skipping...\n",
      "--------- Cell: o4b73 with 6 hyperedges... ---------\n",
      "WARNING: error with cell o4b73, skipping...\n",
      "--------- Cell: o3b90 with 6 hyperedges... ---------\n",
      "WARNING: error with cell o3b90, skipping...\n",
      "--------- Cell: o2b81 with 6 hyperedges... ---------\n"
     ]
    },
    {
     "name": "stderr",
     "output_type": "stream",
     "text": [
      "2025-01-14 15:01:03,866 - [PID 1685158] - hymt.model.HyMT           - ERROR - w0 must have shape (6, 2). In input was given (4, 2)!\n",
      "Tue Jan 14 15:01:03 2025 ERROR w0 must have shape (6, 2). In input was given (4, 2)!\n",
      "/home/cstansbu/git_repositories/higher-order-single-cell/notebooks/../../Hypergraph-MT/code/HyMT/init_sc.py:99: RuntimeWarning: divide by zero encountered in divide\n",
      "  invDV2 = np.diag(np.sqrt(1.0 / self.node_degree))\n"
     ]
    },
    {
     "name": "stdout",
     "output_type": "stream",
     "text": [
      "WARNING: error with cell o2b81, skipping...\n",
      "--------- Cell: o2b96 with 6 hyperedges... ---------\n",
      "i= 353 [5]\n"
     ]
    },
    {
     "name": "stderr",
     "output_type": "stream",
     "text": [
      "2025-01-14 15:01:33,443 - [PID 1685158] - hymt.model.HyMT           - ERROR - w0 must have shape (6, 2). In input was given (4, 2)!\n",
      "Tue Jan 14 15:01:33 2025 ERROR w0 must have shape (6, 2). In input was given (4, 2)!\n",
      "2025-01-14 15:01:33,549 - [PID 1685158] - hymt.model.HyMT           - ERROR - w0 must have shape (6, 2). In input was given (4, 2)!\n",
      "Tue Jan 14 15:01:33 2025 ERROR w0 must have shape (6, 2). In input was given (4, 2)!\n"
     ]
    },
    {
     "name": "stdout",
     "output_type": "stream",
     "text": [
      "o2b96 maximum likilihood -55.065\n",
      "--------- Cell: o2b09 with 6 hyperedges... ---------\n",
      "WARNING: error with cell o2b09, skipping...\n",
      "--------- Cell: o3b73 with 5 hyperedges... ---------\n",
      "WARNING: error with cell o3b73, skipping...\n",
      "--------- Cell: o1b80 with 5 hyperedges... ---------\n"
     ]
    },
    {
     "name": "stderr",
     "output_type": "stream",
     "text": [
      "2025-01-14 15:01:33,657 - [PID 1685158] - hymt.model.HyMT           - ERROR - w0 must have shape (6, 2). In input was given (3, 2)!\n",
      "Tue Jan 14 15:01:33 2025 ERROR w0 must have shape (6, 2). In input was given (3, 2)!\n",
      "2025-01-14 15:01:33,766 - [PID 1685158] - hymt.model.HyMT           - ERROR - w0 must have shape (4, 2). In input was given (2, 2)!\n",
      "Tue Jan 14 15:01:33 2025 ERROR w0 must have shape (4, 2). In input was given (2, 2)!\n"
     ]
    },
    {
     "name": "stdout",
     "output_type": "stream",
     "text": [
      "WARNING: error with cell o1b80, skipping...\n",
      "--------- Cell: o3b48 with 5 hyperedges... ---------\n",
      "WARNING: error with cell o3b48, skipping...\n",
      "--------- Cell: o3b85 with 5 hyperedges... ---------\n"
     ]
    },
    {
     "name": "stderr",
     "output_type": "stream",
     "text": [
      "2025-01-14 15:01:33,889 - [PID 1685158] - hymt.model.HyMT           - ERROR - w0 must have shape (5, 2). In input was given (3, 2)!\n",
      "Tue Jan 14 15:01:33 2025 ERROR w0 must have shape (5, 2). In input was given (3, 2)!\n",
      "2025-01-14 15:01:33,977 - [PID 1685158] - hymt.model.HyMT           - ERROR - w0 must have shape (3, 2). In input was given (2, 2)!\n",
      "Tue Jan 14 15:01:33 2025 ERROR w0 must have shape (3, 2). In input was given (2, 2)!\n",
      "2025-01-14 15:01:34,067 - [PID 1685158] - hymt.model.HyMT           - ERROR - w0 must have shape (4, 2). In input was given (3, 2)!\n",
      "Tue Jan 14 15:01:34 2025 ERROR w0 must have shape (4, 2). In input was given (3, 2)!\n"
     ]
    },
    {
     "name": "stdout",
     "output_type": "stream",
     "text": [
      "WARNING: error with cell o3b85, skipping...\n",
      "--------- Cell: o2b61 with 5 hyperedges... ---------\n",
      "WARNING: error with cell o2b61, skipping...\n",
      "--------- Cell: o2b44 with 5 hyperedges... ---------\n",
      "WARNING: error with cell o2b44, skipping...\n",
      "--------- Cell: o3b81 with 5 hyperedges... ---------\n"
     ]
    },
    {
     "name": "stderr",
     "output_type": "stream",
     "text": [
      "2025-01-14 15:01:34,162 - [PID 1685158] - hymt.model.HyMT           - ERROR - w0 must have shape (6, 2). In input was given (4, 2)!\n",
      "Tue Jan 14 15:01:34 2025 ERROR w0 must have shape (6, 2). In input was given (4, 2)!\n",
      "2025-01-14 15:01:34,258 - [PID 1685158] - hymt.model.HyMT           - ERROR - w0 must have shape (4, 2). In input was given (3, 2)!\n",
      "Tue Jan 14 15:01:34 2025 ERROR w0 must have shape (4, 2). In input was given (3, 2)!\n",
      "2025-01-14 15:01:34,347 - [PID 1685158] - hymt.model.HyMT           - ERROR - w0 must have shape (2, 2). In input was given (1, 2)!\n",
      "Tue Jan 14 15:01:34 2025 ERROR w0 must have shape (2, 2). In input was given (1, 2)!\n"
     ]
    },
    {
     "name": "stdout",
     "output_type": "stream",
     "text": [
      "WARNING: error with cell o3b81, skipping...\n",
      "--------- Cell: o4b56 with 5 hyperedges... ---------\n",
      "WARNING: error with cell o4b56, skipping...\n",
      "--------- Cell: o2b30 with 5 hyperedges... ---------\n",
      "WARNING: error with cell o2b30, skipping...\n",
      "--------- Cell: o1b60 with 5 hyperedges... ---------\n"
     ]
    },
    {
     "name": "stderr",
     "output_type": "stream",
     "text": [
      "2025-01-14 15:01:34,417 - [PID 1685158] - hymt.model.HyMT           - ERROR - w0 must have shape (5, 2). In input was given (3, 2)!\n",
      "Tue Jan 14 15:01:34 2025 ERROR w0 must have shape (5, 2). In input was given (3, 2)!\n",
      "2025-01-14 15:01:34,504 - [PID 1685158] - hymt.model.HyMT           - ERROR - w0 must have shape (5, 2). In input was given (3, 2)!\n",
      "Tue Jan 14 15:01:34 2025 ERROR w0 must have shape (5, 2). In input was given (3, 2)!\n",
      "2025-01-14 15:01:34,626 - [PID 1685158] - hymt.model.HyMT           - ERROR - w0 must have shape (6, 2). In input was given (2, 2)!\n"
     ]
    },
    {
     "name": "stdout",
     "output_type": "stream",
     "text": [
      "WARNING: error with cell o1b60, skipping...\n",
      "--------- Cell: o3b89 with 5 hyperedges... ---------\n",
      "WARNING: error with cell o3b89, skipping...\n",
      "--------- Cell: o4b62 with 5 hyperedges... ---------\n"
     ]
    },
    {
     "name": "stderr",
     "output_type": "stream",
     "text": [
      "Tue Jan 14 15:01:34 2025 ERROR w0 must have shape (6, 2). In input was given (2, 2)!\n",
      "2025-01-14 15:01:34,714 - [PID 1685158] - hymt.model.HyMT           - ERROR - w0 must have shape (4, 2). In input was given (2, 2)!\n",
      "Tue Jan 14 15:01:34 2025 ERROR w0 must have shape (4, 2). In input was given (2, 2)!\n",
      "/home/cstansbu/git_repositories/higher-order-single-cell/notebooks/../../Hypergraph-MT/code/HyMT/init_sc.py:99: RuntimeWarning: divide by zero encountered in divide\n",
      "  invDV2 = np.diag(np.sqrt(1.0 / self.node_degree))\n"
     ]
    },
    {
     "name": "stdout",
     "output_type": "stream",
     "text": [
      "WARNING: error with cell o4b62, skipping...\n",
      "--------- Cell: o2b10 with 5 hyperedges... ---------\n",
      "WARNING: error with cell o2b10, skipping...\n",
      "--------- Cell: o2b23 with 4 hyperedges... ---------\n",
      "psiOmega [-0.00623458]\n",
      "(array([4]), array([1]))\n",
      "i= 17141 []\n",
      "o2b23 maximum likilihood -95.837\n",
      "--------- Cell: o1b15 with 4 hyperedges... ---------\n"
     ]
    },
    {
     "name": "stderr",
     "output_type": "stream",
     "text": [
      "/home/cstansbu/git_repositories/higher-order-single-cell/notebooks/../../Hypergraph-MT/code/HyMT/init_sc.py:99: RuntimeWarning: divide by zero encountered in divide\n",
      "  invDV2 = np.diag(np.sqrt(1.0 / self.node_degree))\n"
     ]
    },
    {
     "name": "stdout",
     "output_type": "stream",
     "text": [
      "psiOmega [-473.6314205]\n",
      "(array([3]), array([0]))\n",
      "i= 17181 []\n"
     ]
    },
    {
     "name": "stderr",
     "output_type": "stream",
     "text": [
      "2025-01-14 15:02:32,257 - [PID 1685158] - hymt.model.HyMT           - ERROR - w0 must have shape (3, 2). In input was given (2, 2)!\n",
      "Tue Jan 14 15:02:32 2025 ERROR w0 must have shape (3, 2). In input was given (2, 2)!\n",
      "2025-01-14 15:02:32,349 - [PID 1685158] - hymt.model.HyMT           - ERROR - w0 must have shape (3, 2). In input was given (2, 2)!\n",
      "Tue Jan 14 15:02:32 2025 ERROR w0 must have shape (3, 2). In input was given (2, 2)!\n"
     ]
    },
    {
     "name": "stdout",
     "output_type": "stream",
     "text": [
      "o1b15 maximum likilihood -31.411\n",
      "--------- Cell: o4b51 with 4 hyperedges... ---------\n",
      "WARNING: error with cell o4b51, skipping...\n",
      "--------- Cell: o4b27 with 4 hyperedges... ---------\n",
      "WARNING: error with cell o4b27, skipping...\n",
      "--------- Cell: o2b86 with 4 hyperedges... ---------\n"
     ]
    },
    {
     "name": "stderr",
     "output_type": "stream",
     "text": [
      "2025-01-14 15:02:32,441 - [PID 1685158] - hymt.model.HyMT           - ERROR - w0 must have shape (6, 2). In input was given (3, 2)!\n",
      "Tue Jan 14 15:02:32 2025 ERROR w0 must have shape (6, 2). In input was given (3, 2)!\n",
      "2025-01-14 15:02:32,536 - [PID 1685158] - hymt.model.HyMT           - ERROR - w0 must have shape (6, 2). In input was given (2, 2)!\n",
      "Tue Jan 14 15:02:32 2025 ERROR w0 must have shape (6, 2). In input was given (2, 2)!\n",
      "2025-01-14 15:02:32,622 - [PID 1685158] - hymt.model.HyMT           - ERROR - w0 must have shape (7, 2). In input was given (3, 2)!\n",
      "Tue Jan 14 15:02:32 2025 ERROR w0 must have shape (7, 2). In input was given (3, 2)!\n"
     ]
    },
    {
     "name": "stdout",
     "output_type": "stream",
     "text": [
      "WARNING: error with cell o2b86, skipping...\n",
      "--------- Cell: o2b33 with 4 hyperedges... ---------\n",
      "WARNING: error with cell o2b33, skipping...\n",
      "--------- Cell: o2b39 with 4 hyperedges... ---------\n",
      "WARNING: error with cell o2b39, skipping...\n",
      "--------- Cell: o3b22 with 4 hyperedges... ---------\n"
     ]
    },
    {
     "name": "stderr",
     "output_type": "stream",
     "text": [
      "2025-01-14 15:02:32,706 - [PID 1685158] - hymt.model.HyMT           - ERROR - w0 must have shape (4, 2). In input was given (3, 2)!\n",
      "Tue Jan 14 15:02:32 2025 ERROR w0 must have shape (4, 2). In input was given (3, 2)!\n",
      "2025-01-14 15:02:32,791 - [PID 1685158] - hymt.model.HyMT           - ERROR - w0 must have shape (5, 2). In input was given (2, 2)!\n",
      "Tue Jan 14 15:02:32 2025 ERROR w0 must have shape (5, 2). In input was given (2, 2)!\n",
      "2025-01-14 15:02:32,859 - [PID 1685158] - hymt.model.HyMT           - ERROR - w0 must have shape (5, 2). In input was given (3, 2)!\n",
      "Tue Jan 14 15:02:32 2025 ERROR w0 must have shape (5, 2). In input was given (3, 2)!\n"
     ]
    },
    {
     "name": "stdout",
     "output_type": "stream",
     "text": [
      "WARNING: error with cell o3b22, skipping...\n",
      "--------- Cell: o4b89 with 4 hyperedges... ---------\n",
      "WARNING: error with cell o4b89, skipping...\n",
      "--------- Cell: o3b29 with 4 hyperedges... ---------\n",
      "WARNING: error with cell o3b29, skipping...\n",
      "--------- Cell: o4b53 with 4 hyperedges... ---------\n"
     ]
    },
    {
     "name": "stderr",
     "output_type": "stream",
     "text": [
      "2025-01-14 15:02:32,946 - [PID 1685158] - hymt.model.HyMT           - ERROR - w0 must have shape (3, 2). In input was given (2, 2)!\n",
      "Tue Jan 14 15:02:32 2025 ERROR w0 must have shape (3, 2). In input was given (2, 2)!\n",
      "2025-01-14 15:02:33,031 - [PID 1685158] - hymt.model.HyMT           - ERROR - w0 must have shape (4, 2). In input was given (2, 2)!\n",
      "Tue Jan 14 15:02:33 2025 ERROR w0 must have shape (4, 2). In input was given (2, 2)!\n",
      "2025-01-14 15:02:33,111 - [PID 1685158] - hymt.model.HyMT           - ERROR - w0 must have shape (6, 2). In input was given (3, 2)!\n",
      "Tue Jan 14 15:02:33 2025 ERROR w0 must have shape (6, 2). In input was given (3, 2)!\n"
     ]
    },
    {
     "name": "stdout",
     "output_type": "stream",
     "text": [
      "WARNING: error with cell o4b53, skipping...\n",
      "--------- Cell: o1b36 with 4 hyperedges... ---------\n",
      "WARNING: error with cell o1b36, skipping...\n",
      "--------- Cell: o3b17 with 4 hyperedges... ---------\n",
      "WARNING: error with cell o3b17, skipping...\n",
      "--------- Cell: o4b20 with 4 hyperedges... ---------\n"
     ]
    },
    {
     "name": "stderr",
     "output_type": "stream",
     "text": [
      "2025-01-14 15:02:33,200 - [PID 1685158] - hymt.model.HyMT           - ERROR - w0 must have shape (4, 2). In input was given (3, 2)!\n",
      "Tue Jan 14 15:02:33 2025 ERROR w0 must have shape (4, 2). In input was given (3, 2)!\n",
      "2025-01-14 15:02:33,281 - [PID 1685158] - hymt.model.HyMT           - ERROR - w0 must have shape (3, 2). In input was given (2, 2)!\n",
      "Tue Jan 14 15:02:33 2025 ERROR w0 must have shape (3, 2). In input was given (2, 2)!\n",
      "2025-01-14 15:02:33,365 - [PID 1685158] - hymt.model.HyMT           - ERROR - w0 must have shape (5, 2). In input was given (3, 2)!\n",
      "Tue Jan 14 15:02:33 2025 ERROR w0 must have shape (5, 2). In input was given (3, 2)!\n"
     ]
    },
    {
     "name": "stdout",
     "output_type": "stream",
     "text": [
      "WARNING: error with cell o4b20, skipping...\n",
      "--------- Cell: o3b41 with 4 hyperedges... ---------\n",
      "WARNING: error with cell o3b41, skipping...\n",
      "--------- Cell: o1b90 with 4 hyperedges... ---------\n",
      "WARNING: error with cell o1b90, skipping...\n",
      "--------- Cell: o2b75 with 3 hyperedges... ---------\n"
     ]
    },
    {
     "name": "stderr",
     "output_type": "stream",
     "text": [
      "2025-01-14 15:02:33,451 - [PID 1685158] - hymt.model.HyMT           - ERROR - w0 must have shape (7, 2). In input was given (3, 2)!\n",
      "Tue Jan 14 15:02:33 2025 ERROR w0 must have shape (7, 2). In input was given (3, 2)!\n",
      "2025-01-14 15:02:33,546 - [PID 1685158] - hymt.model.HyMT           - ERROR - w0 must have shape (3, 2). In input was given (2, 2)!\n",
      "Tue Jan 14 15:02:33 2025 ERROR w0 must have shape (3, 2). In input was given (2, 2)!\n",
      "/home/cstansbu/git_repositories/higher-order-single-cell/notebooks/../../Hypergraph-MT/code/HyMT/init_sc.py:99: RuntimeWarning: divide by zero encountered in divide\n",
      "  invDV2 = np.diag(np.sqrt(1.0 / self.node_degree))\n"
     ]
    },
    {
     "name": "stdout",
     "output_type": "stream",
     "text": [
      "WARNING: error with cell o2b75, skipping...\n",
      "--------- Cell: o3b83 with 3 hyperedges... ---------\n",
      "WARNING: error with cell o3b83, skipping...\n",
      "--------- Cell: o1b50 with 3 hyperedges... ---------\n",
      "psiOmega [-517.80752349]\n",
      "(array([3]), array([0]))\n",
      "i= 17177 []\n"
     ]
    },
    {
     "name": "stderr",
     "output_type": "stream",
     "text": [
      "2025-01-14 15:02:58,820 - [PID 1685158] - hymt.model.HyMT           - ERROR - w0 must have shape (7, 2). In input was given (2, 2)!\n",
      "Tue Jan 14 15:02:58 2025 ERROR w0 must have shape (7, 2). In input was given (2, 2)!\n",
      "2025-01-14 15:02:58,862 - [PID 1685158] - hymt.model.HyMT           - ERROR - w0 must have shape (4, 2). In input was given (2, 2)!\n",
      "Tue Jan 14 15:02:58 2025 ERROR w0 must have shape (4, 2). In input was given (2, 2)!\n",
      "2025-01-14 15:02:58,903 - [PID 1685158] - hymt.model.HyMT           - ERROR - w0 must have shape (4, 2). In input was given (3, 2)!\n",
      "Tue Jan 14 15:02:58 2025 ERROR w0 must have shape (4, 2). In input was given (3, 2)!\n",
      "2025-01-14 15:02:58,944 - [PID 1685158] - hymt.model.HyMT           - ERROR - w0 must have shape (3, 2). In input was given (2, 2)!\n",
      "Tue Jan 14 15:02:58 2025 ERROR w0 must have shape (3, 2). In input was given (2, 2)!\n"
     ]
    },
    {
     "name": "stdout",
     "output_type": "stream",
     "text": [
      "o1b50 maximum likilihood -23.709\n",
      "--------- Cell: o2b34 with 3 hyperedges... ---------\n",
      "WARNING: error with cell o2b34, skipping...\n",
      "--------- Cell: o3b05 with 3 hyperedges... ---------\n",
      "WARNING: error with cell o3b05, skipping...\n",
      "--------- Cell: o3b32 with 3 hyperedges... ---------\n",
      "WARNING: error with cell o3b32, skipping...\n",
      "--------- Cell: o2b63 with 3 hyperedges... ---------\n",
      "WARNING: error with cell o2b63, skipping...\n",
      "--------- Cell: o2b22 with 3 hyperedges... ---------\n"
     ]
    },
    {
     "name": "stderr",
     "output_type": "stream",
     "text": [
      "2025-01-14 15:02:58,985 - [PID 1685158] - hymt.model.HyMT           - ERROR - w0 must have shape (3, 2). In input was given (2, 2)!\n",
      "Tue Jan 14 15:02:58 2025 ERROR w0 must have shape (3, 2). In input was given (2, 2)!\n",
      "2025-01-14 15:02:59,026 - [PID 1685158] - hymt.model.HyMT           - ERROR - w0 must have shape (7, 2). In input was given (3, 2)!\n",
      "Tue Jan 14 15:02:59 2025 ERROR w0 must have shape (7, 2). In input was given (3, 2)!\n",
      "2025-01-14 15:02:59,066 - [PID 1685158] - hymt.model.HyMT           - ERROR - w0 must have shape (3, 2). In input was given (2, 2)!\n",
      "Tue Jan 14 15:02:59 2025 ERROR w0 must have shape (3, 2). In input was given (2, 2)!\n",
      "2025-01-14 15:02:59,107 - [PID 1685158] - hymt.model.HyMT           - ERROR - w0 must have shape (4, 2). In input was given (2, 2)!\n",
      "Tue Jan 14 15:02:59 2025 ERROR w0 must have shape (4, 2). In input was given (2, 2)!\n",
      "2025-01-14 15:02:59,147 - [PID 1685158] - hymt.model.HyMT           - ERROR - w0 must have shape (5, 2). In input was given (2, 2)!\n",
      "Tue Jan 14 15:02:59 2025 ERROR w0 must have shape (5, 2). In input was given (2, 2)!\n",
      "2025-01-14 15:02:59,188 - [PID 1685158] - hymt.model.HyMT           - ERROR - w0 must have shape (5, 2). In input was given (2, 2)!\n"
     ]
    },
    {
     "name": "stdout",
     "output_type": "stream",
     "text": [
      "WARNING: error with cell o2b22, skipping...\n",
      "--------- Cell: o4b42 with 3 hyperedges... ---------\n",
      "WARNING: error with cell o4b42, skipping...\n",
      "--------- Cell: o4b26 with 3 hyperedges... ---------\n",
      "WARNING: error with cell o4b26, skipping...\n",
      "--------- Cell: o4b39 with 2 hyperedges... ---------\n",
      "WARNING: error with cell o4b39, skipping...\n",
      "--------- Cell: o2b28 with 2 hyperedges... ---------\n",
      "WARNING: error with cell o2b28, skipping...\n",
      "--------- Cell: o1b01 with 2 hyperedges... ---------\n"
     ]
    },
    {
     "name": "stderr",
     "output_type": "stream",
     "text": [
      "Tue Jan 14 15:02:59 2025 ERROR w0 must have shape (5, 2). In input was given (2, 2)!\n",
      "/home/cstansbu/git_repositories/higher-order-single-cell/notebooks/../../Hypergraph-MT/code/HyMT/init_sc.py:99: RuntimeWarning: divide by zero encountered in divide\n",
      "  invDV2 = np.diag(np.sqrt(1.0 / self.node_degree))\n"
     ]
    },
    {
     "name": "stdout",
     "output_type": "stream",
     "text": [
      "WARNING: error with cell o1b01, skipping...\n",
      "--------- Cell: o2b19 with 2 hyperedges... ---------\n",
      "WARNING: error with cell o2b19, skipping...\n",
      "--------- Cell: o4b77 with 2 hyperedges... ---------\n",
      "WARNING: error with cell o4b77, skipping...\n",
      "--------- Cell: o4b48 with 2 hyperedges... ---------\n"
     ]
    },
    {
     "name": "stderr",
     "output_type": "stream",
     "text": [
      "/home/cstansbu/git_repositories/higher-order-single-cell/notebooks/../../Hypergraph-MT/code/HyMT/model.py:696: RuntimeWarning: invalid value encountered in divide\n",
      "  self.u[i, ks] = u_tmp / u_tmp_den\n",
      "2025-01-14 15:03:08,261 - [PID 1685158] - hymt.model.HyMT           - ERROR - w0 must have shape (4, 2). In input was given (2, 2)!\n",
      "Tue Jan 14 15:03:08 2025 ERROR w0 must have shape (4, 2). In input was given (2, 2)!\n",
      "2025-01-14 15:03:08,302 - [PID 1685158] - hymt.model.HyMT           - ERROR - w0 must have shape (5, 2). In input was given (2, 2)!\n",
      "Tue Jan 14 15:03:08 2025 ERROR w0 must have shape (5, 2). In input was given (2, 2)!\n",
      "2025-01-14 15:03:08,344 - [PID 1685158] - hymt.model.HyMT           - ERROR - w0 must have shape (3, 2). In input was given (2, 2)!\n",
      "Tue Jan 14 15:03:08 2025 ERROR w0 must have shape (3, 2). In input was given (2, 2)!\n",
      "2025-01-14 15:03:08,386 - [PID 1685158] - hymt.model.HyMT           - ERROR - w0 must have shape (6, 2). In input was given (2, 2)!\n",
      "Tue Jan 14 15:03:08 2025 ERROR w0 must have shape (6, 2). In input was given (2, 2)!\n"
     ]
    },
    {
     "name": "stdout",
     "output_type": "stream",
     "text": [
      "WARNING: error with cell o4b48, skipping...\n",
      "--------- Cell: o2b07 with 2 hyperedges... ---------\n",
      "WARNING: error with cell o2b07, skipping...\n",
      "--------- Cell: o4b57 with 2 hyperedges... ---------\n",
      "WARNING: error with cell o4b57, skipping...\n",
      "--------- Cell: o4b61 with 2 hyperedges... ---------\n",
      "WARNING: error with cell o4b61, skipping...\n",
      "--------- Cell: o4b78 with 2 hyperedges... ---------\n",
      "WARNING: error with cell o4b78, skipping...\n",
      "--------- Cell: o1b65 with 2 hyperedges... ---------\n",
      "WARNING: error with cell o1b65, skipping...\n",
      "--------- Cell: o2b62 with 2 hyperedges... ---------\n",
      "WARNING: error with cell o2b62, skipping...\n",
      "--------- Cell: o4b88 with 2 hyperedges... ---------\n"
     ]
    },
    {
     "name": "stderr",
     "output_type": "stream",
     "text": [
      "2025-01-14 15:03:08,427 - [PID 1685158] - hymt.model.HyMT           - ERROR - w0 must have shape (6, 2). In input was given (2, 2)!\n",
      "Tue Jan 14 15:03:08 2025 ERROR w0 must have shape (6, 2). In input was given (2, 2)!\n",
      "2025-01-14 15:03:08,466 - [PID 1685158] - hymt.model.HyMT           - ERROR - w0 must have shape (3, 2). In input was given (2, 2)!\n",
      "Tue Jan 14 15:03:08 2025 ERROR w0 must have shape (3, 2). In input was given (2, 2)!\n",
      "2025-01-14 15:03:08,507 - [PID 1685158] - hymt.model.HyMT           - ERROR - w0 must have shape (5, 2). In input was given (2, 2)!\n",
      "Tue Jan 14 15:03:08 2025 ERROR w0 must have shape (5, 2). In input was given (2, 2)!\n",
      "2025-01-14 15:03:08,548 - [PID 1685158] - hymt.model.HyMT           - ERROR - w0 must have shape (5, 2). In input was given (2, 2)!\n",
      "Tue Jan 14 15:03:08 2025 ERROR w0 must have shape (5, 2). In input was given (2, 2)!\n",
      "2025-01-14 15:03:08,590 - [PID 1685158] - hymt.model.HyMT           - ERROR - w0 must have shape (3, 2). In input was given (2, 2)!\n",
      "Tue Jan 14 15:03:08 2025 ERROR w0 must have shape (3, 2). In input was given (2, 2)!\n"
     ]
    },
    {
     "name": "stdout",
     "output_type": "stream",
     "text": [
      "WARNING: error with cell o4b88, skipping...\n",
      "--------- Cell: o2b89 with 2 hyperedges... ---------\n",
      "WARNING: error with cell o2b89, skipping...\n",
      "--------- Cell: o4b54 with 2 hyperedges... ---------\n",
      "WARNING: error with cell o4b54, skipping...\n",
      "--------- Cell: o2b02 with 2 hyperedges... ---------\n",
      "WARNING: error with cell o2b02, skipping...\n",
      "--------- Cell: o4b24 with 2 hyperedges... ---------\n",
      "WARNING: error with cell o4b24, skipping...\n",
      "--------- Cell: o4b80 with 2 hyperedges... ---------\n",
      "WARNING: error with cell o4b80, skipping...\n",
      "--------- Cell: o2b13 with 2 hyperedges... ---------\n",
      "WARNING: error with cell o2b13, skipping...\n",
      "--------- Cell: o2b12 with 2 hyperedges... ---------\n",
      "WARNING: error with cell o2b12, skipping...\n",
      "--------- Cell: o4b34 with 2 hyperedges... ---------\n"
     ]
    },
    {
     "name": "stderr",
     "output_type": "stream",
     "text": [
      "2025-01-14 15:03:08,633 - [PID 1685158] - hymt.model.HyMT           - ERROR - w0 must have shape (3, 2). In input was given (2, 2)!\n",
      "Tue Jan 14 15:03:08 2025 ERROR w0 must have shape (3, 2). In input was given (2, 2)!\n",
      "2025-01-14 15:03:08,673 - [PID 1685158] - hymt.model.HyMT           - ERROR - w0 must have shape (3, 2). In input was given (2, 2)!\n",
      "Tue Jan 14 15:03:08 2025 ERROR w0 must have shape (3, 2). In input was given (2, 2)!\n"
     ]
    },
    {
     "name": "stdout",
     "output_type": "stream",
     "text": [
      "WARNING: error with cell o4b34, skipping...\n",
      "--------- Cell: o2b67 with 2 hyperedges... ---------\n",
      "WARNING: error with cell o2b67, skipping...\n",
      "done.\n",
      "130\n"
     ]
    }
   ],
   "source": [
    "results = {}\n",
    "\n",
    "min_count = 100\n",
    "for idx, row in hyperedges_per_cell.iterrows():\n",
    "    cell_id = row['cell_id']\n",
    "    count = row['count']\n",
    "\n",
    "    # exclude cells with too few hyperedges\n",
    "    if not count >= int(k):\n",
    "        break\n",
    "\n",
    "    print(f\"--------- Cell: {cell_id} with {count} hyperedges... ---------\")\n",
    "    \n",
    "    param_dict = params[cell_id]\n",
    "    start_time = time.time()\n",
    "    model = hymt.model.HyMT(\n",
    "        verbose=False,\n",
    "        num_realizations=3,\n",
    "        max_iter=100,\n",
    "    )\n",
    "\n",
    "    A = param_dict['A']\n",
    "    B = param_dict['B']\n",
    "    gene_idx = param_dict['genes']\n",
    "    hyperedges = param_dict['hyperedges']\n",
    "    edge_idx = param_dict['edge_idx']\n",
    "    max_order = param_dict['max_order']\n",
    "    unique_orders = param_dict['unique_orders']\n",
    "    w_index = [x - 2 for x in unique_orders]\n",
    "\n",
    "    # skip cells with a single hyperedge\n",
    "    if not B.shape[1] >= k:\n",
    "        print(f\"skipping {cell_id} with {B.shape=}\")\n",
    "        continue\n",
    "    \n",
    "    \"\"\"Modify w based on observed hyperedge order distribution \"\"\"\n",
    "    wc = w.iloc[w_index].copy()\n",
    "\n",
    "    # cell specific config depends on wc\n",
    "    conf_inf = {\n",
    "        \"seed\": 10,\n",
    "        \"constraintU\": False,\n",
    "        \"fix_communities\": False,\n",
    "        \"fix_w\": True,\n",
    "        \"gammaU\": 0,\n",
    "        \"gammaW\": 0,\n",
    "        \"initialize_u\": u.to_numpy(), \n",
    "        \"initialize_w\": wc.to_numpy(),  \n",
    "        \"out_inference\": False,\n",
    "        \"plot_loglik\": False,\n",
    "    }    \n",
    "\n",
    "    try:\n",
    "        uc, wc, maxL = model.fit(\n",
    "            A[edge_idx], \n",
    "            hyperedges[edge_idx], \n",
    "            B.to_numpy()[:, edge_idx],\n",
    "            K=k,\n",
    "            **conf_inf,\n",
    "        )\n",
    "    except:\n",
    "        print(f\"WARNING: error with cell {cell_id}, skipping...\")\n",
    "        continue\n",
    "\n",
    "    uc = pd.DataFrame.sparse.from_spmatrix(\n",
    "        csr_matrix(uc), \n",
    "        index=B.index,\n",
    "        columns=u.columns,\n",
    "    )\n",
    "\n",
    "    wc = pd.DataFrame.sparse.from_spmatrix(\n",
    "        csr_matrix(wc),\n",
    "        columns=u.columns,\n",
    "    )\n",
    "\n",
    "    print(f\"{cell_id} maximum likilihood {maxL:.3f}\")\n",
    "    \n",
    "    results[cell_id] = {\n",
    "        'u' : uc,\n",
    "        'w' : wc,\n",
    "        'maxL' : maxL,\n",
    "    }\n",
    "\n",
    "print(\"done.\")\n",
    "print(len(results))"
   ]
  },
  {
   "cell_type": "markdown",
   "id": "3485ad57-3680-4ece-b066-5ce0b9e28ade",
   "metadata": {},
   "source": [
    "# Save the outputs"
   ]
  },
  {
   "cell_type": "code",
   "execution_count": 21,
   "id": "b36b8312-f01f-4086-9609-d986988d57a0",
   "metadata": {},
   "outputs": [
    {
     "name": "stdout",
     "output_type": "stream",
     "text": [
      "u_matrix.shape=(17186, 130)\n"
     ]
    },
    {
     "data": {
      "text/html": [
       "<div>\n",
       "<style scoped>\n",
       "    .dataframe tbody tr th:only-of-type {\n",
       "        vertical-align: middle;\n",
       "    }\n",
       "\n",
       "    .dataframe tbody tr th {\n",
       "        vertical-align: top;\n",
       "    }\n",
       "\n",
       "    .dataframe thead th {\n",
       "        text-align: right;\n",
       "    }\n",
       "</style>\n",
       "<table border=\"1\" class=\"dataframe\">\n",
       "  <thead>\n",
       "    <tr style=\"text-align: right;\">\n",
       "      <th></th>\n",
       "      <th>o3b50</th>\n",
       "      <th>o3b43</th>\n",
       "      <th>o1b04</th>\n",
       "      <th>o3b38</th>\n",
       "      <th>o1b59</th>\n",
       "      <th>o4b67</th>\n",
       "      <th>o3b54</th>\n",
       "      <th>o1b96</th>\n",
       "      <th>o1b22</th>\n",
       "      <th>o3b56</th>\n",
       "      <th>...</th>\n",
       "      <th>o3b26</th>\n",
       "      <th>o2b16</th>\n",
       "      <th>o4b46</th>\n",
       "      <th>o2b74</th>\n",
       "      <th>o4b84</th>\n",
       "      <th>o2b18</th>\n",
       "      <th>o2b96</th>\n",
       "      <th>o2b23</th>\n",
       "      <th>o1b15</th>\n",
       "      <th>o1b50</th>\n",
       "    </tr>\n",
       "  </thead>\n",
       "  <tbody>\n",
       "    <tr>\n",
       "      <th>Smarca2</th>\n",
       "      <td>0.0</td>\n",
       "      <td>0.0</td>\n",
       "      <td>0.0</td>\n",
       "      <td>0.0</td>\n",
       "      <td>0.0</td>\n",
       "      <td>0.0</td>\n",
       "      <td>0.0</td>\n",
       "      <td>0.0</td>\n",
       "      <td>0.0</td>\n",
       "      <td>0.0</td>\n",
       "      <td>...</td>\n",
       "      <td>0.0</td>\n",
       "      <td>0.0</td>\n",
       "      <td>0.0</td>\n",
       "      <td>0.0</td>\n",
       "      <td>0.0</td>\n",
       "      <td>0.0</td>\n",
       "      <td>0.0</td>\n",
       "      <td>0.0</td>\n",
       "      <td>0.0</td>\n",
       "      <td>0.0</td>\n",
       "    </tr>\n",
       "    <tr>\n",
       "      <th>Sh2d5</th>\n",
       "      <td>0.0</td>\n",
       "      <td>0.0</td>\n",
       "      <td>0.0</td>\n",
       "      <td>0.0</td>\n",
       "      <td>0.0</td>\n",
       "      <td>0.0</td>\n",
       "      <td>0.0</td>\n",
       "      <td>0.0</td>\n",
       "      <td>0.0</td>\n",
       "      <td>0.0</td>\n",
       "      <td>...</td>\n",
       "      <td>0.0</td>\n",
       "      <td>0.0</td>\n",
       "      <td>0.0</td>\n",
       "      <td>0.0</td>\n",
       "      <td>0.0</td>\n",
       "      <td>0.0</td>\n",
       "      <td>0.0</td>\n",
       "      <td>0.0</td>\n",
       "      <td>0.0</td>\n",
       "      <td>0.0</td>\n",
       "    </tr>\n",
       "    <tr>\n",
       "      <th>Dyrk1a</th>\n",
       "      <td>0.0</td>\n",
       "      <td>0.0</td>\n",
       "      <td>0.0</td>\n",
       "      <td>0.0</td>\n",
       "      <td>0.0</td>\n",
       "      <td>0.0</td>\n",
       "      <td>0.0</td>\n",
       "      <td>0.0</td>\n",
       "      <td>0.0</td>\n",
       "      <td>0.0</td>\n",
       "      <td>...</td>\n",
       "      <td>0.0</td>\n",
       "      <td>0.0</td>\n",
       "      <td>0.0</td>\n",
       "      <td>0.0</td>\n",
       "      <td>0.0</td>\n",
       "      <td>0.0</td>\n",
       "      <td>0.0</td>\n",
       "      <td>0.0</td>\n",
       "      <td>0.0</td>\n",
       "      <td>0.0</td>\n",
       "    </tr>\n",
       "    <tr>\n",
       "      <th>Igf2bp3</th>\n",
       "      <td>0.0</td>\n",
       "      <td>0.0</td>\n",
       "      <td>0.0</td>\n",
       "      <td>0.0</td>\n",
       "      <td>0.0</td>\n",
       "      <td>0.0</td>\n",
       "      <td>0.0</td>\n",
       "      <td>0.0</td>\n",
       "      <td>0.0</td>\n",
       "      <td>0.0</td>\n",
       "      <td>...</td>\n",
       "      <td>0.0</td>\n",
       "      <td>0.0</td>\n",
       "      <td>0.0</td>\n",
       "      <td>0.0</td>\n",
       "      <td>0.0</td>\n",
       "      <td>0.0</td>\n",
       "      <td>0.0</td>\n",
       "      <td>0.0</td>\n",
       "      <td>0.0</td>\n",
       "      <td>0.0</td>\n",
       "    </tr>\n",
       "    <tr>\n",
       "      <th>Tmem267</th>\n",
       "      <td>0.0</td>\n",
       "      <td>0.0</td>\n",
       "      <td>0.0</td>\n",
       "      <td>0.0</td>\n",
       "      <td>0.0</td>\n",
       "      <td>0.0</td>\n",
       "      <td>0.0</td>\n",
       "      <td>0.0</td>\n",
       "      <td>0.0</td>\n",
       "      <td>0.0</td>\n",
       "      <td>...</td>\n",
       "      <td>0.0</td>\n",
       "      <td>0.0</td>\n",
       "      <td>0.0</td>\n",
       "      <td>0.0</td>\n",
       "      <td>0.0</td>\n",
       "      <td>0.0</td>\n",
       "      <td>0.0</td>\n",
       "      <td>0.0</td>\n",
       "      <td>0.0</td>\n",
       "      <td>0.0</td>\n",
       "    </tr>\n",
       "  </tbody>\n",
       "</table>\n",
       "<p>5 rows × 130 columns</p>\n",
       "</div>"
      ],
      "text/plain": [
       "         o3b50  o3b43  o1b04  o3b38  o1b59  o4b67  o3b54  o1b96  o1b22  o3b56  \\\n",
       "Smarca2    0.0    0.0    0.0    0.0    0.0    0.0    0.0    0.0    0.0    0.0   \n",
       "Sh2d5      0.0    0.0    0.0    0.0    0.0    0.0    0.0    0.0    0.0    0.0   \n",
       "Dyrk1a     0.0    0.0    0.0    0.0    0.0    0.0    0.0    0.0    0.0    0.0   \n",
       "Igf2bp3    0.0    0.0    0.0    0.0    0.0    0.0    0.0    0.0    0.0    0.0   \n",
       "Tmem267    0.0    0.0    0.0    0.0    0.0    0.0    0.0    0.0    0.0    0.0   \n",
       "\n",
       "         ...  o3b26  o2b16  o4b46  o2b74  o4b84  o2b18  o2b96  o2b23  o1b15  \\\n",
       "Smarca2  ...    0.0    0.0    0.0    0.0    0.0    0.0    0.0    0.0    0.0   \n",
       "Sh2d5    ...    0.0    0.0    0.0    0.0    0.0    0.0    0.0    0.0    0.0   \n",
       "Dyrk1a   ...    0.0    0.0    0.0    0.0    0.0    0.0    0.0    0.0    0.0   \n",
       "Igf2bp3  ...    0.0    0.0    0.0    0.0    0.0    0.0    0.0    0.0    0.0   \n",
       "Tmem267  ...    0.0    0.0    0.0    0.0    0.0    0.0    0.0    0.0    0.0   \n",
       "\n",
       "         o1b50  \n",
       "Smarca2    0.0  \n",
       "Sh2d5      0.0  \n",
       "Dyrk1a     0.0  \n",
       "Igf2bp3    0.0  \n",
       "Tmem267    0.0  \n",
       "\n",
       "[5 rows x 130 columns]"
      ]
     },
     "execution_count": 21,
     "metadata": {},
     "output_type": "execute_result"
    }
   ],
   "source": [
    "outdir = \"/scratch/indikar_root/indikar1/shared_data/higher_order/single_cell_hypergraph_mt/\"\n",
    "\n",
    "u_matrix = []\n",
    "\n",
    "for cell_id, res_dict in results.items():\n",
    "\n",
    "    res_dict['u'].to_pickle(\n",
    "        f\"{outdir}u_{cell_id}.pkl\"\n",
    "    )\n",
    "\n",
    "    res_dict['w'].to_pickle(\n",
    "        f\"{outdir}w_{cell_id}.pkl\"\n",
    "    )\n",
    "\n",
    "    u_sum = pd.DataFrame(res_dict['u'].sum(axis=1), columns=[cell_id])\n",
    "    u_matrix.append(u_sum)\n",
    "\n",
    "u_matrix = pd.concat(u_matrix, axis=1, ignore_index=False)\n",
    "print(f\"{u_matrix.shape=}\")\n",
    "u_matrix.head()"
   ]
  },
  {
   "cell_type": "code",
   "execution_count": 23,
   "id": "4c73e453-b9dc-46f7-83a1-38d0d9809d7e",
   "metadata": {},
   "outputs": [
    {
     "data": {
      "text/html": [
       "<div>\n",
       "<style scoped>\n",
       "    .dataframe tbody tr th:only-of-type {\n",
       "        vertical-align: middle;\n",
       "    }\n",
       "\n",
       "    .dataframe tbody tr th {\n",
       "        vertical-align: top;\n",
       "    }\n",
       "\n",
       "    .dataframe thead th {\n",
       "        text-align: right;\n",
       "    }\n",
       "</style>\n",
       "<table border=\"1\" class=\"dataframe\">\n",
       "  <thead>\n",
       "    <tr style=\"text-align: right;\">\n",
       "      <th></th>\n",
       "      <th>o3b50</th>\n",
       "      <th>o3b43</th>\n",
       "      <th>o1b04</th>\n",
       "      <th>o3b38</th>\n",
       "      <th>o1b59</th>\n",
       "      <th>o4b67</th>\n",
       "      <th>o3b54</th>\n",
       "      <th>o1b96</th>\n",
       "      <th>o1b22</th>\n",
       "      <th>o3b56</th>\n",
       "      <th>...</th>\n",
       "      <th>o3b26</th>\n",
       "      <th>o2b16</th>\n",
       "      <th>o4b46</th>\n",
       "      <th>o2b74</th>\n",
       "      <th>o4b84</th>\n",
       "      <th>o2b18</th>\n",
       "      <th>o2b96</th>\n",
       "      <th>o2b23</th>\n",
       "      <th>o1b15</th>\n",
       "      <th>o1b50</th>\n",
       "    </tr>\n",
       "  </thead>\n",
       "  <tbody>\n",
       "    <tr>\n",
       "      <th>Smarca2</th>\n",
       "      <td>0.0</td>\n",
       "      <td>0.0</td>\n",
       "      <td>0.0</td>\n",
       "      <td>0.0</td>\n",
       "      <td>0.0</td>\n",
       "      <td>0.0</td>\n",
       "      <td>0.0</td>\n",
       "      <td>0.0</td>\n",
       "      <td>0.0</td>\n",
       "      <td>0.0</td>\n",
       "      <td>...</td>\n",
       "      <td>0.0</td>\n",
       "      <td>0.0</td>\n",
       "      <td>0.0</td>\n",
       "      <td>0.0</td>\n",
       "      <td>0.0</td>\n",
       "      <td>0.0</td>\n",
       "      <td>0.0</td>\n",
       "      <td>0.0</td>\n",
       "      <td>0.0</td>\n",
       "      <td>0.0</td>\n",
       "    </tr>\n",
       "    <tr>\n",
       "      <th>Sh2d5</th>\n",
       "      <td>0.0</td>\n",
       "      <td>0.0</td>\n",
       "      <td>0.0</td>\n",
       "      <td>0.0</td>\n",
       "      <td>0.0</td>\n",
       "      <td>0.0</td>\n",
       "      <td>0.0</td>\n",
       "      <td>0.0</td>\n",
       "      <td>0.0</td>\n",
       "      <td>0.0</td>\n",
       "      <td>...</td>\n",
       "      <td>0.0</td>\n",
       "      <td>0.0</td>\n",
       "      <td>0.0</td>\n",
       "      <td>0.0</td>\n",
       "      <td>0.0</td>\n",
       "      <td>0.0</td>\n",
       "      <td>0.0</td>\n",
       "      <td>0.0</td>\n",
       "      <td>0.0</td>\n",
       "      <td>0.0</td>\n",
       "    </tr>\n",
       "    <tr>\n",
       "      <th>Dyrk1a</th>\n",
       "      <td>0.0</td>\n",
       "      <td>0.0</td>\n",
       "      <td>0.0</td>\n",
       "      <td>0.0</td>\n",
       "      <td>0.0</td>\n",
       "      <td>0.0</td>\n",
       "      <td>0.0</td>\n",
       "      <td>0.0</td>\n",
       "      <td>0.0</td>\n",
       "      <td>0.0</td>\n",
       "      <td>...</td>\n",
       "      <td>0.0</td>\n",
       "      <td>0.0</td>\n",
       "      <td>0.0</td>\n",
       "      <td>0.0</td>\n",
       "      <td>0.0</td>\n",
       "      <td>0.0</td>\n",
       "      <td>0.0</td>\n",
       "      <td>0.0</td>\n",
       "      <td>0.0</td>\n",
       "      <td>0.0</td>\n",
       "    </tr>\n",
       "    <tr>\n",
       "      <th>Igf2bp3</th>\n",
       "      <td>0.0</td>\n",
       "      <td>0.0</td>\n",
       "      <td>0.0</td>\n",
       "      <td>0.0</td>\n",
       "      <td>0.0</td>\n",
       "      <td>0.0</td>\n",
       "      <td>0.0</td>\n",
       "      <td>0.0</td>\n",
       "      <td>0.0</td>\n",
       "      <td>0.0</td>\n",
       "      <td>...</td>\n",
       "      <td>0.0</td>\n",
       "      <td>0.0</td>\n",
       "      <td>0.0</td>\n",
       "      <td>0.0</td>\n",
       "      <td>0.0</td>\n",
       "      <td>0.0</td>\n",
       "      <td>0.0</td>\n",
       "      <td>0.0</td>\n",
       "      <td>0.0</td>\n",
       "      <td>0.0</td>\n",
       "    </tr>\n",
       "    <tr>\n",
       "      <th>Tmem267</th>\n",
       "      <td>0.0</td>\n",
       "      <td>0.0</td>\n",
       "      <td>0.0</td>\n",
       "      <td>0.0</td>\n",
       "      <td>0.0</td>\n",
       "      <td>0.0</td>\n",
       "      <td>0.0</td>\n",
       "      <td>0.0</td>\n",
       "      <td>0.0</td>\n",
       "      <td>0.0</td>\n",
       "      <td>...</td>\n",
       "      <td>0.0</td>\n",
       "      <td>0.0</td>\n",
       "      <td>0.0</td>\n",
       "      <td>0.0</td>\n",
       "      <td>0.0</td>\n",
       "      <td>0.0</td>\n",
       "      <td>0.0</td>\n",
       "      <td>0.0</td>\n",
       "      <td>0.0</td>\n",
       "      <td>0.0</td>\n",
       "    </tr>\n",
       "  </tbody>\n",
       "</table>\n",
       "<p>5 rows × 130 columns</p>\n",
       "</div>"
      ],
      "text/plain": [
       "         o3b50  o3b43  o1b04  o3b38  o1b59  o4b67  o3b54  o1b96  o1b22  o3b56  \\\n",
       "Smarca2    0.0    0.0    0.0    0.0    0.0    0.0    0.0    0.0    0.0    0.0   \n",
       "Sh2d5      0.0    0.0    0.0    0.0    0.0    0.0    0.0    0.0    0.0    0.0   \n",
       "Dyrk1a     0.0    0.0    0.0    0.0    0.0    0.0    0.0    0.0    0.0    0.0   \n",
       "Igf2bp3    0.0    0.0    0.0    0.0    0.0    0.0    0.0    0.0    0.0    0.0   \n",
       "Tmem267    0.0    0.0    0.0    0.0    0.0    0.0    0.0    0.0    0.0    0.0   \n",
       "\n",
       "         ...  o3b26  o2b16  o4b46  o2b74  o4b84  o2b18  o2b96  o2b23  o1b15  \\\n",
       "Smarca2  ...    0.0    0.0    0.0    0.0    0.0    0.0    0.0    0.0    0.0   \n",
       "Sh2d5    ...    0.0    0.0    0.0    0.0    0.0    0.0    0.0    0.0    0.0   \n",
       "Dyrk1a   ...    0.0    0.0    0.0    0.0    0.0    0.0    0.0    0.0    0.0   \n",
       "Igf2bp3  ...    0.0    0.0    0.0    0.0    0.0    0.0    0.0    0.0    0.0   \n",
       "Tmem267  ...    0.0    0.0    0.0    0.0    0.0    0.0    0.0    0.0    0.0   \n",
       "\n",
       "         o1b50  \n",
       "Smarca2    0.0  \n",
       "Sh2d5      0.0  \n",
       "Dyrk1a     0.0  \n",
       "Igf2bp3    0.0  \n",
       "Tmem267    0.0  \n",
       "\n",
       "[5 rows x 130 columns]"
      ]
     },
     "execution_count": 23,
     "metadata": {},
     "output_type": "execute_result"
    }
   ],
   "source": [
    "outpath = \"/scratch/indikar_root/indikar1/shared_data/higher_order/single_cell_hypergraph_mt/combined_u.pkl\"\n",
    "u_matrix.to_pickle(outpath)\n",
    "u_matrix.head()"
   ]
  },
  {
   "cell_type": "code",
   "execution_count": null,
   "id": "a73573fb-9bce-4dad-97fc-22b29e0adf2f",
   "metadata": {},
   "outputs": [],
   "source": []
  },
  {
   "cell_type": "code",
   "execution_count": 22,
   "id": "a1c3965b-8032-4bde-b2b0-115607b39cbb",
   "metadata": {},
   "outputs": [
    {
     "data": {
      "text/plain": [
       "o3b50     689.076142\n",
       "o3b43     442.223640\n",
       "o1b04     351.999976\n",
       "o3b38     298.999976\n",
       "o1b59     409.469891\n",
       "            ...     \n",
       "o2b18      15.999994\n",
       "o2b96    1566.807318\n",
       "o2b23      13.999994\n",
       "o1b15    1300.000000\n",
       "o1b50     900.000000\n",
       "Length: 130, dtype: float64"
      ]
     },
     "execution_count": 22,
     "metadata": {},
     "output_type": "execute_result"
    }
   ],
   "source": [
    "u_matrix.sum()"
   ]
  },
  {
   "cell_type": "code",
   "execution_count": null,
   "id": "183b2fc5-9752-416f-935d-cd9fb841462a",
   "metadata": {},
   "outputs": [],
   "source": []
  },
  {
   "cell_type": "code",
   "execution_count": null,
   "id": "39f4264f-34d7-4b0c-b8ac-99515afd1ed1",
   "metadata": {},
   "outputs": [],
   "source": []
  },
  {
   "cell_type": "code",
   "execution_count": null,
   "id": "5521c900-f940-409f-b5e3-753477650c34",
   "metadata": {},
   "outputs": [],
   "source": []
  },
  {
   "cell_type": "code",
   "execution_count": null,
   "id": "526fbcee-fa1a-4685-9a53-0d69de267875",
   "metadata": {},
   "outputs": [],
   "source": []
  },
  {
   "cell_type": "code",
   "execution_count": 18,
   "id": "4bf10227-5d61-448a-882b-8aeb231bd481",
   "metadata": {},
   "outputs": [
    {
     "data": {
      "text/html": [
       "<div>\n",
       "<style scoped>\n",
       "    .dataframe tbody tr th:only-of-type {\n",
       "        vertical-align: middle;\n",
       "    }\n",
       "\n",
       "    .dataframe tbody tr th {\n",
       "        vertical-align: top;\n",
       "    }\n",
       "\n",
       "    .dataframe thead th {\n",
       "        text-align: right;\n",
       "    }\n",
       "</style>\n",
       "<table border=\"1\" class=\"dataframe\">\n",
       "  <thead>\n",
       "    <tr style=\"text-align: right;\">\n",
       "      <th></th>\n",
       "      <th>o3b50</th>\n",
       "    </tr>\n",
       "  </thead>\n",
       "  <tbody>\n",
       "    <tr>\n",
       "      <th>Smarca2</th>\n",
       "      <td>0.0</td>\n",
       "    </tr>\n",
       "    <tr>\n",
       "      <th>Sh2d5</th>\n",
       "      <td>0.0</td>\n",
       "    </tr>\n",
       "    <tr>\n",
       "      <th>Dyrk1a</th>\n",
       "      <td>0.0</td>\n",
       "    </tr>\n",
       "    <tr>\n",
       "      <th>Igf2bp3</th>\n",
       "      <td>0.0</td>\n",
       "    </tr>\n",
       "    <tr>\n",
       "      <th>Tmem267</th>\n",
       "      <td>0.0</td>\n",
       "    </tr>\n",
       "    <tr>\n",
       "      <th>...</th>\n",
       "      <td>...</td>\n",
       "    </tr>\n",
       "    <tr>\n",
       "      <th>Chmp1a</th>\n",
       "      <td>0.0</td>\n",
       "    </tr>\n",
       "    <tr>\n",
       "      <th>Or6c7</th>\n",
       "      <td>0.0</td>\n",
       "    </tr>\n",
       "    <tr>\n",
       "      <th>Svs5</th>\n",
       "      <td>0.0</td>\n",
       "    </tr>\n",
       "    <tr>\n",
       "      <th>Glrx</th>\n",
       "      <td>0.0</td>\n",
       "    </tr>\n",
       "    <tr>\n",
       "      <th>Cryzl2</th>\n",
       "      <td>0.0</td>\n",
       "    </tr>\n",
       "  </tbody>\n",
       "</table>\n",
       "<p>17186 rows × 1 columns</p>\n",
       "</div>"
      ],
      "text/plain": [
       "         o3b50\n",
       "Smarca2    0.0\n",
       "Sh2d5      0.0\n",
       "Dyrk1a     0.0\n",
       "Igf2bp3    0.0\n",
       "Tmem267    0.0\n",
       "...        ...\n",
       "Chmp1a     0.0\n",
       "Or6c7      0.0\n",
       "Svs5       0.0\n",
       "Glrx       0.0\n",
       "Cryzl2     0.0\n",
       "\n",
       "[17186 rows x 1 columns]"
      ]
     },
     "execution_count": 18,
     "metadata": {},
     "output_type": "execute_result"
    }
   ],
   "source": []
  },
  {
   "cell_type": "code",
   "execution_count": null,
   "id": "634b65eb-02b9-41f1-b308-75087bb3516f",
   "metadata": {},
   "outputs": [],
   "source": []
  },
  {
   "cell_type": "code",
   "execution_count": 10,
   "id": "b6ea295a-2075-41dd-bb7b-d0c4e2531ef7",
   "metadata": {},
   "outputs": [
    {
     "ename": "SyntaxError",
     "evalue": "'break' outside loop (668683560.py, line 1)",
     "output_type": "error",
     "traceback": [
      "\u001b[0;36m  Cell \u001b[0;32mIn[10], line 1\u001b[0;36m\u001b[0m\n\u001b[0;31m    break\u001b[0m\n\u001b[0m    ^\u001b[0m\n\u001b[0;31mSyntaxError\u001b[0m\u001b[0;31m:\u001b[0m 'break' outside loop\n"
     ]
    }
   ],
   "source": [
    "break"
   ]
  },
  {
   "cell_type": "code",
   "execution_count": null,
   "id": "7e613c6f-b709-499e-8e00-e18e3c1ce968",
   "metadata": {},
   "outputs": [],
   "source": []
  },
  {
   "cell_type": "code",
   "execution_count": null,
   "id": "290c5f1f-912b-427f-8b0b-bf1bc2020771",
   "metadata": {},
   "outputs": [],
   "source": []
  },
  {
   "cell_type": "code",
   "execution_count": null,
   "id": "3bb55e44-ba95-4e4c-8e8e-4ce689b9991b",
   "metadata": {},
   "outputs": [],
   "source": []
  },
  {
   "cell_type": "code",
   "execution_count": null,
   "id": "8ac11005-33d5-4893-ab36-51d15ed6f03a",
   "metadata": {},
   "outputs": [],
   "source": []
  },
  {
   "cell_type": "code",
   "execution_count": null,
   "id": "f0d0c393-9a50-4f75-a97a-a29610c896e3",
   "metadata": {},
   "outputs": [],
   "source": [
    "break"
   ]
  }
 ],
 "metadata": {
  "kernelspec": {
   "display_name": "scanpy",
   "language": "python",
   "name": "scanpy"
  },
  "language_info": {
   "codemirror_mode": {
    "name": "ipython",
    "version": 3
   },
   "file_extension": ".py",
   "mimetype": "text/x-python",
   "name": "python",
   "nbconvert_exporter": "python",
   "pygments_lexer": "ipython3",
   "version": "3.12.5"
  }
 },
 "nbformat": 4,
 "nbformat_minor": 5
}
