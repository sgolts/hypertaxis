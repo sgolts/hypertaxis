{
 "cells": [
  {
   "cell_type": "code",
   "execution_count": 8,
   "id": "eba4215c-80b6-45d6-b4ce-826778cb6f41",
   "metadata": {},
   "outputs": [],
   "source": [
    "import pandas as pd\n",
    "import os\n",
    "import shutil\n",
    "import sys"
   ]
  },
  {
   "cell_type": "code",
   "execution_count": 17,
   "id": "5c73ba3f-a038-428d-bbef-dc8a1068a1db",
   "metadata": {},
   "outputs": [
    {
     "name": "stdout",
     "output_type": "stream",
     "text": [
      "1CDU...\n",
      "1CDX3...\n",
      "1CDX4...\n",
      "1CDX2...\n",
      "1CDS2...\n",
      "1CDES...\n",
      "1CDS1...\n",
      "1CDX1...\n",
      "done\n"
     ]
    }
   ],
   "source": [
    "dpath = \"/nfs/turbo/umms-indikar/shared/projects/poreC/data/nagano2017/matrices/\"\n",
    "output_paths = \"/nfs/turbo/umms-indikar/shared/projects/poreC/data/nagano2017/matrices/all_mats/\"\n",
    "\n",
    "inpath = [\n",
    " '1CDU',\n",
    " '1CDX3',\n",
    " '1CDX4',\n",
    " '1CDX2',\n",
    " '1CDS2',\n",
    " '1CDES',\n",
    " '1CDS1',\n",
    " '1CDX1',\n",
    "]\n",
    "\n",
    "for cond in inpath:\n",
    "    subdir_path = f\"{dpath}{cond}\"\n",
    "    print(f\"{cond}...\")\n",
    "    \n",
    "    for cell_id in os.listdir(subdir_path):\n",
    "        cell_str = cell_id.replace(\".\", \"_\")\n",
    "        source = f\"{subdir_path}/{cell_id}/adj\"\n",
    "        desitination = f\"{output_paths}{cell_str}.csv\"\n",
    "        \n",
    "        tmp = pd.read_csv(source, sep='\\t')\n",
    "        tmp.to_csv(desitination, index=False)\n",
    "        \n",
    "print('done')"
   ]
  },
  {
   "cell_type": "code",
   "execution_count": null,
   "id": "29fb4afe-dfe4-41d6-b202-e27c45ee3472",
   "metadata": {},
   "outputs": [],
   "source": []
  }
 ],
 "metadata": {
  "kernelspec": {
   "display_name": "Python 3 (ipykernel)",
   "language": "python",
   "name": "python3"
  },
  "language_info": {
   "codemirror_mode": {
    "name": "ipython",
    "version": 3
   },
   "file_extension": ".py",
   "mimetype": "text/x-python",
   "name": "python",
   "nbconvert_exporter": "python",
   "pygments_lexer": "ipython3",
   "version": "3.10.9"
  }
 },
 "nbformat": 4,
 "nbformat_minor": 5
}
