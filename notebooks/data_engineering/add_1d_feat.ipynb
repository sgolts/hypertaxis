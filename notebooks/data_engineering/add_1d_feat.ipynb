{
 "cells": [
  {
   "cell_type": "code",
   "execution_count": 1,
   "id": "1acbf8e8-cca6-4b48-89d5-e420a261b1d7",
   "metadata": {},
   "outputs": [],
   "source": [
    "import os\n",
    "import sys\n",
    "import pandas as pd\n",
    "import numpy as np\n",
    "import glob\n",
    "import time\n",
    "import scipy\n",
    "from scipy.sparse import csr_matrix\n",
    "import anndata as an\n",
    "import scanpy as sc\n",
    "import pyBigWig"
   ]
  },
  {
   "cell_type": "code",
   "execution_count": 2,
   "id": "e5a970c5-17fe-47d0-a79c-7d6250cea650",
   "metadata": {},
   "outputs": [
    {
     "name": "stdout",
     "output_type": "stream",
     "text": [
      "Time taken to read the file: 23.76 seconds\n",
      "Memory usage: current 1.38 GB, difference +1.38 GB\n"
     ]
    },
    {
     "data": {
      "text/plain": [
       "AnnData object with n_obs × n_vars = 2579 × 2756467\n",
       "    obs: 'bin_index', 'chrom', 'bin_start', 'bin_end', 'bin', 'chrom_bin', 'n_reads', 'n_genes', 'n_tfs', 'n_pt_genes', 'total_gene_bp', 'genes', 'total_len_bp'\n",
       "    var: 'read_index', 'mean_mapq', 'median_mapq', 'n_chromosomes', 'order', 'n_bins', 'read_length_bp'\n",
       "    uns: 'base_resolution', 'chrom_sizes', 'genes', 'intervals'\n",
       "    layers: 'H'"
      ]
     },
     "execution_count": 2,
     "metadata": {},
     "output_type": "execute_result"
    }
   ],
   "source": [
    "anndata_path = \"/scratch/indikar_root/indikar1/shared_data/higher_order/anndata/population_mESC_1000000_raw.h5ad\"\n",
    "\n",
    "start_time = time.time()  # Record the start time\n",
    "adata = sc.read_h5ad(anndata_path)\n",
    "end_time = time.time()  # Record the end time\n",
    "print(f\"Time taken to read the file: {end_time - start_time:.2f} seconds\")\n",
    "sc.logging.print_memory_usage()\n",
    "adata"
   ]
  },
  {
   "cell_type": "code",
   "execution_count": 6,
   "id": "4900793a-0f41-4dd4-8dfb-5fdf7f22708d",
   "metadata": {},
   "outputs": [
    {
     "data": {
      "text/html": [
       "<div>\n",
       "<style scoped>\n",
       "    .dataframe tbody tr th:only-of-type {\n",
       "        vertical-align: middle;\n",
       "    }\n",
       "\n",
       "    .dataframe tbody tr th {\n",
       "        vertical-align: top;\n",
       "    }\n",
       "\n",
       "    .dataframe thead th {\n",
       "        text-align: right;\n",
       "    }\n",
       "</style>\n",
       "<table border=\"1\" class=\"dataframe\">\n",
       "  <thead>\n",
       "    <tr style=\"text-align: right;\">\n",
       "      <th></th>\n",
       "      <th>bin_index</th>\n",
       "      <th>chrom</th>\n",
       "      <th>bin_start</th>\n",
       "      <th>bin_end</th>\n",
       "      <th>bin</th>\n",
       "      <th>chrom_bin</th>\n",
       "      <th>n_reads</th>\n",
       "      <th>n_genes</th>\n",
       "      <th>n_tfs</th>\n",
       "      <th>n_pt_genes</th>\n",
       "      <th>total_gene_bp</th>\n",
       "      <th>genes</th>\n",
       "      <th>total_len_bp</th>\n",
       "    </tr>\n",
       "    <tr>\n",
       "      <th>bin_name</th>\n",
       "      <th></th>\n",
       "      <th></th>\n",
       "      <th></th>\n",
       "      <th></th>\n",
       "      <th></th>\n",
       "      <th></th>\n",
       "      <th></th>\n",
       "      <th></th>\n",
       "      <th></th>\n",
       "      <th></th>\n",
       "      <th></th>\n",
       "      <th></th>\n",
       "      <th></th>\n",
       "    </tr>\n",
       "  </thead>\n",
       "  <tbody>\n",
       "    <tr>\n",
       "      <th>chr1:153</th>\n",
       "      <td>0</td>\n",
       "      <td>1</td>\n",
       "      <td>153000000</td>\n",
       "      <td>154000000</td>\n",
       "      <td>153</td>\n",
       "      <td>153</td>\n",
       "      <td>5728</td>\n",
       "      <td>31</td>\n",
       "      <td>0</td>\n",
       "      <td>13.0</td>\n",
       "      <td>616889.0</td>\n",
       "      <td>Gm8818;Shcbp1l;Gm25588;Gm37669;Rgs8;5530400K19...</td>\n",
       "      <td>616889</td>\n",
       "    </tr>\n",
       "    <tr>\n",
       "      <th>chr1:66</th>\n",
       "      <td>1</td>\n",
       "      <td>1</td>\n",
       "      <td>66000000</td>\n",
       "      <td>67000000</td>\n",
       "      <td>66</td>\n",
       "      <td>66</td>\n",
       "      <td>5065</td>\n",
       "      <td>27</td>\n",
       "      <td>0</td>\n",
       "      <td>6.0</td>\n",
       "      <td>710064.0</td>\n",
       "      <td>Gm15659;Gm8812;Map2;Gm24729;Gm25411;Unc80;Rpe;...</td>\n",
       "      <td>710064</td>\n",
       "    </tr>\n",
       "    <tr>\n",
       "      <th>chr1:23</th>\n",
       "      <td>2</td>\n",
       "      <td>1</td>\n",
       "      <td>23000000</td>\n",
       "      <td>24000000</td>\n",
       "      <td>23</td>\n",
       "      <td>23</td>\n",
       "      <td>4774</td>\n",
       "      <td>15</td>\n",
       "      <td>0</td>\n",
       "      <td>4.0</td>\n",
       "      <td>413106.0</td>\n",
       "      <td>Gm24176;Mir30a;Gm27028;Mir30c-2;Gm29107;Gm7784...</td>\n",
       "      <td>413106</td>\n",
       "    </tr>\n",
       "    <tr>\n",
       "      <th>chr1:188</th>\n",
       "      <td>3</td>\n",
       "      <td>1</td>\n",
       "      <td>188000000</td>\n",
       "      <td>189000000</td>\n",
       "      <td>188</td>\n",
       "      <td>188</td>\n",
       "      <td>5367</td>\n",
       "      <td>8</td>\n",
       "      <td>0</td>\n",
       "      <td>3.0</td>\n",
       "      <td>797832.0</td>\n",
       "      <td>Ush2a;Gm25269;Gm37178;Gm25095;Kctd3;Gm18698;Kc...</td>\n",
       "      <td>797832</td>\n",
       "    </tr>\n",
       "    <tr>\n",
       "      <th>chr1:97</th>\n",
       "      <td>4</td>\n",
       "      <td>1</td>\n",
       "      <td>97000000</td>\n",
       "      <td>98000000</td>\n",
       "      <td>97</td>\n",
       "      <td>97</td>\n",
       "      <td>4444</td>\n",
       "      <td>14</td>\n",
       "      <td>0</td>\n",
       "      <td>5.0</td>\n",
       "      <td>779945.0</td>\n",
       "      <td>Gm7133;Gm53038;Gin1;Gm56241;Gm24465;Gm7135;Slc...</td>\n",
       "      <td>779945</td>\n",
       "    </tr>\n",
       "  </tbody>\n",
       "</table>\n",
       "</div>"
      ],
      "text/plain": [
       "          bin_index chrom  bin_start    bin_end  bin  chrom_bin  n_reads  \\\n",
       "bin_name                                                                   \n",
       "chr1:153          0     1  153000000  154000000  153        153     5728   \n",
       "chr1:66           1     1   66000000   67000000   66         66     5065   \n",
       "chr1:23           2     1   23000000   24000000   23         23     4774   \n",
       "chr1:188          3     1  188000000  189000000  188        188     5367   \n",
       "chr1:97           4     1   97000000   98000000   97         97     4444   \n",
       "\n",
       "          n_genes  n_tfs  n_pt_genes  total_gene_bp  \\\n",
       "bin_name                                              \n",
       "chr1:153       31      0        13.0       616889.0   \n",
       "chr1:66        27      0         6.0       710064.0   \n",
       "chr1:23        15      0         4.0       413106.0   \n",
       "chr1:188        8      0         3.0       797832.0   \n",
       "chr1:97        14      0         5.0       779945.0   \n",
       "\n",
       "                                                      genes  total_len_bp  \n",
       "bin_name                                                                   \n",
       "chr1:153  Gm8818;Shcbp1l;Gm25588;Gm37669;Rgs8;5530400K19...        616889  \n",
       "chr1:66   Gm15659;Gm8812;Map2;Gm24729;Gm25411;Unc80;Rpe;...        710064  \n",
       "chr1:23   Gm24176;Mir30a;Gm27028;Mir30c-2;Gm29107;Gm7784...        413106  \n",
       "chr1:188  Ush2a;Gm25269;Gm37178;Gm25095;Kctd3;Gm18698;Kc...        797832  \n",
       "chr1:97   Gm7133;Gm53038;Gin1;Gm56241;Gm24465;Gm7135;Slc...        779945  "
      ]
     },
     "execution_count": 6,
     "metadata": {},
     "output_type": "execute_result"
    }
   ],
   "source": [
    "adata.obs.head()"
   ]
  },
  {
   "cell_type": "code",
   "execution_count": null,
   "id": "062d5a38-54cc-48f9-b3c3-188030f4ff35",
   "metadata": {},
   "outputs": [],
   "source": []
  },
  {
   "cell_type": "code",
   "execution_count": null,
   "id": "bbfe5d14-9f1b-4cdf-8c24-a62eb5161fca",
   "metadata": {},
   "outputs": [],
   "source": []
  },
  {
   "cell_type": "code",
   "execution_count": 3,
   "id": "53cc06d5-c240-4935-9f9f-366ed83b8298",
   "metadata": {},
   "outputs": [
    {
     "ename": "SyntaxError",
     "evalue": "'break' outside loop (668683560.py, line 1)",
     "output_type": "error",
     "traceback": [
      "\u001b[0;36m  Cell \u001b[0;32mIn[3], line 1\u001b[0;36m\u001b[0m\n\u001b[0;31m    break\u001b[0m\n\u001b[0m    ^\u001b[0m\n\u001b[0;31mSyntaxError\u001b[0m\u001b[0;31m:\u001b[0m 'break' outside loop\n"
     ]
    }
   ],
   "source": [
    "break"
   ]
  },
  {
   "cell_type": "code",
   "execution_count": null,
   "id": "6e08686a-f5ca-40f7-af9d-4b7553229d9d",
   "metadata": {},
   "outputs": [],
   "source": []
  },
  {
   "cell_type": "code",
   "execution_count": null,
   "id": "f18fc19c-288d-4e7a-a2c6-6b8e767cd7c8",
   "metadata": {},
   "outputs": [],
   "source": [
    "adata.obs['bin_end'].min()"
   ]
  },
  {
   "cell_type": "code",
   "execution_count": null,
   "id": "8bb0bbeb-a147-4e89-afb2-2c9d51d763e6",
   "metadata": {},
   "outputs": [],
   "source": [
    "feature_path = \"/scratch/indikar_root/indikar1/shared_data/higher_order/features/ATACSeq_1.bw\"\n",
    "bw = pyBigWig.open(feature_path)  \n",
    "basename = os.path.basename(feature_path).replace(\".bw\", \"\")\n",
    "print(basename)\n",
    "\n",
    "feature_map = {}\n",
    "start_time = time.time()  # Record the start time\n",
    "row_count = 0  # Initialize a counter\n",
    "\n",
    "for idx, row in adata.obs.iterrows():\n",
    "    chrom = row['chrom']\n",
    "    start = row['bin_start']\n",
    "    end = row['bin_end']\n",
    "    try:\n",
    "        value = bw.stats(f\"chr{chrom}\", start, end, type='mean')[0]\n",
    "        feature_map[idx] = value\n",
    "    except:\n",
    "        print(f\"ERROR: {idx}\")\n",
    "        feature_map[idx] = 0.0\n",
    "\n",
    "    # Print periodic status updates\n",
    "    row_count += 1\n",
    "    if row_count % 10000 == 0:  # Adjust the interval as needed\n",
    "        elapsed_time = time.time() - start_time\n",
    "        print(f\"Processed {row_count} rows in {elapsed_time:.2f} seconds\")\n",
    "\n",
    "adata.obs[basename] = adata.obs.index.map(feature_map)\n",
    "adata.obs[basename].head()"
   ]
  },
  {
   "cell_type": "code",
   "execution_count": null,
   "id": "8b8e0e81-8a81-4f3c-92d1-a577274f0cb0",
   "metadata": {},
   "outputs": [],
   "source": [
    "adata.obs[['n_reads', 'ATACSeq_1']].corr()"
   ]
  },
  {
   "cell_type": "code",
   "execution_count": null,
   "id": "a0016b6a-fb0a-4acb-98be-5c3c7e45c57f",
   "metadata": {},
   "outputs": [],
   "source": []
  }
 ],
 "metadata": {
  "kernelspec": {
   "display_name": "scanpy",
   "language": "python",
   "name": "scanpy"
  },
  "language_info": {
   "codemirror_mode": {
    "name": "ipython",
    "version": 3
   },
   "file_extension": ".py",
   "mimetype": "text/x-python",
   "name": "python",
   "nbconvert_exporter": "python",
   "pygments_lexer": "ipython3",
   "version": "3.12.5"
  }
 },
 "nbformat": 4,
 "nbformat_minor": 5
}
