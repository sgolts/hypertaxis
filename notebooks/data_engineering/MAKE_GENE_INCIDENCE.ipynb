{
 "cells": [
  {
   "cell_type": "code",
   "execution_count": 1,
   "id": "724cc7e6-1860-453b-bcb4-21fcc6410748",
   "metadata": {},
   "outputs": [],
   "source": [
    "import os\n",
    "import sys\n",
    "import pandas as pd\n",
    "import numpy as np\n",
    "import pyranges as pr\n",
    "import pyBigWig\n",
    "import glob\n",
    "import time\n",
    "from scipy.sparse import csr_matrix\n",
    "import anndata as an\n",
    "import scanpy as sc"
   ]
  },
  {
   "cell_type": "markdown",
   "id": "91b9a8b0-ef7e-466f-ae3c-7ba8b3048342",
   "metadata": {},
   "source": [
    "# Load chrom sizes table"
   ]
  },
  {
   "cell_type": "code",
   "execution_count": 2,
   "id": "7d1b727b-2664-4542-a243-7aa8b540fa60",
   "metadata": {},
   "outputs": [
    {
     "data": {
      "text/html": [
       "<div>\n",
       "<style scoped>\n",
       "    .dataframe tbody tr th:only-of-type {\n",
       "        vertical-align: middle;\n",
       "    }\n",
       "\n",
       "    .dataframe tbody tr th {\n",
       "        vertical-align: top;\n",
       "    }\n",
       "\n",
       "    .dataframe thead th {\n",
       "        text-align: right;\n",
       "    }\n",
       "</style>\n",
       "<table border=\"1\" class=\"dataframe\">\n",
       "  <thead>\n",
       "    <tr style=\"text-align: right;\">\n",
       "      <th></th>\n",
       "      <th>chrom</th>\n",
       "      <th>size</th>\n",
       "      <th>bp_start</th>\n",
       "    </tr>\n",
       "  </thead>\n",
       "  <tbody>\n",
       "    <tr>\n",
       "      <th>0</th>\n",
       "      <td>1</td>\n",
       "      <td>195154279</td>\n",
       "      <td>0</td>\n",
       "    </tr>\n",
       "    <tr>\n",
       "      <th>1</th>\n",
       "      <td>2</td>\n",
       "      <td>181755017</td>\n",
       "      <td>195154279</td>\n",
       "    </tr>\n",
       "    <tr>\n",
       "      <th>2</th>\n",
       "      <td>3</td>\n",
       "      <td>159745316</td>\n",
       "      <td>376909296</td>\n",
       "    </tr>\n",
       "    <tr>\n",
       "      <th>3</th>\n",
       "      <td>4</td>\n",
       "      <td>156860686</td>\n",
       "      <td>536654612</td>\n",
       "    </tr>\n",
       "    <tr>\n",
       "      <th>4</th>\n",
       "      <td>5</td>\n",
       "      <td>151758149</td>\n",
       "      <td>693515298</td>\n",
       "    </tr>\n",
       "  </tbody>\n",
       "</table>\n",
       "</div>"
      ],
      "text/plain": [
       "  chrom       size   bp_start\n",
       "0     1  195154279          0\n",
       "1     2  181755017  195154279\n",
       "2     3  159745316  376909296\n",
       "3     4  156860686  536654612\n",
       "4     5  151758149  693515298"
      ]
     },
     "execution_count": 2,
     "metadata": {},
     "output_type": "execute_result"
    }
   ],
   "source": [
    "fpath = \"/scratch/indikar_root/indikar1/shared_data/higher_order/reference/chrom_sizes.csv\"\n",
    "cdf = pd.read_csv(fpath)\n",
    "cdf.head()"
   ]
  },
  {
   "cell_type": "markdown",
   "id": "38ed0699-30d0-4197-875e-e0fd15b6f647",
   "metadata": {},
   "source": [
    "# load restriction fragments"
   ]
  },
  {
   "cell_type": "code",
   "execution_count": 3,
   "id": "071bb475-5335-4c83-ad54-33c152da9248",
   "metadata": {},
   "outputs": [
    {
     "name": "stdout",
     "output_type": "stream",
     "text": [
      "df.shape=(12876595, 5)\n"
     ]
    },
    {
     "data": {
      "text/html": [
       "<div>\n",
       "<style scoped>\n",
       "    .dataframe tbody tr th:only-of-type {\n",
       "        vertical-align: middle;\n",
       "    }\n",
       "\n",
       "    .dataframe tbody tr th {\n",
       "        vertical-align: top;\n",
       "    }\n",
       "\n",
       "    .dataframe thead th {\n",
       "        text-align: right;\n",
       "    }\n",
       "</style>\n",
       "<table border=\"1\" class=\"dataframe\">\n",
       "  <thead>\n",
       "    <tr style=\"text-align: right;\">\n",
       "      <th></th>\n",
       "      <th>Chromosome</th>\n",
       "      <th>Start</th>\n",
       "      <th>End</th>\n",
       "      <th>fragment_id</th>\n",
       "      <th>fragment_length</th>\n",
       "    </tr>\n",
       "  </thead>\n",
       "  <tbody>\n",
       "    <tr>\n",
       "      <th>0</th>\n",
       "      <td>1</td>\n",
       "      <td>0</td>\n",
       "      <td>3050051</td>\n",
       "      <td>0</td>\n",
       "      <td>3050051</td>\n",
       "    </tr>\n",
       "    <tr>\n",
       "      <th>1</th>\n",
       "      <td>1</td>\n",
       "      <td>3050051</td>\n",
       "      <td>3050056</td>\n",
       "      <td>1</td>\n",
       "      <td>5</td>\n",
       "    </tr>\n",
       "    <tr>\n",
       "      <th>2</th>\n",
       "      <td>1</td>\n",
       "      <td>3050056</td>\n",
       "      <td>3050844</td>\n",
       "      <td>2</td>\n",
       "      <td>788</td>\n",
       "    </tr>\n",
       "    <tr>\n",
       "      <th>3</th>\n",
       "      <td>1</td>\n",
       "      <td>3050844</td>\n",
       "      <td>3050907</td>\n",
       "      <td>3</td>\n",
       "      <td>63</td>\n",
       "    </tr>\n",
       "    <tr>\n",
       "      <th>4</th>\n",
       "      <td>1</td>\n",
       "      <td>3050907</td>\n",
       "      <td>3050947</td>\n",
       "      <td>4</td>\n",
       "      <td>40</td>\n",
       "    </tr>\n",
       "  </tbody>\n",
       "</table>\n",
       "</div>"
      ],
      "text/plain": [
       "  Chromosome    Start      End  fragment_id  fragment_length\n",
       "0          1        0  3050051            0          3050051\n",
       "1          1  3050051  3050056            1                5\n",
       "2          1  3050056  3050844            2              788\n",
       "3          1  3050844  3050907            3               63\n",
       "4          1  3050907  3050947            4               40"
      ]
     },
     "execution_count": 3,
     "metadata": {},
     "output_type": "execute_result"
    }
   ],
   "source": [
    "fpath = \"/scratch/indikar_root/indikar1/shared_data/higher_order/reference/fragments.parquet\"\n",
    "df = pd.read_parquet(fpath)\n",
    "print(f\"{df.shape=}\")\n",
    "df = df[df['Chromosome'].isin(cdf['chrom'])]\n",
    "df.head()"
   ]
  },
  {
   "cell_type": "markdown",
   "id": "0420b54e-b73d-4b0e-8aba-78fad31b70df",
   "metadata": {},
   "source": [
    "# load gene annotations"
   ]
  },
  {
   "cell_type": "code",
   "execution_count": 4,
   "id": "3a3eb3aa-c165-4a13-926c-0343e7729b07",
   "metadata": {},
   "outputs": [
    {
     "name": "stdout",
     "output_type": "stream",
     "text": [
      "Raw gdf.shape=(56655, 10)\n",
      "Protein Coding gdf.shape=(21608, 10)\n"
     ]
    },
    {
     "data": {
      "text/html": [
       "<div>\n",
       "<style scoped>\n",
       "    .dataframe tbody tr th:only-of-type {\n",
       "        vertical-align: middle;\n",
       "    }\n",
       "\n",
       "    .dataframe tbody tr th {\n",
       "        vertical-align: top;\n",
       "    }\n",
       "\n",
       "    .dataframe thead th {\n",
       "        text-align: right;\n",
       "    }\n",
       "</style>\n",
       "<table border=\"1\" class=\"dataframe\">\n",
       "  <thead>\n",
       "    <tr style=\"text-align: right;\">\n",
       "      <th></th>\n",
       "      <th>gene_id</th>\n",
       "      <th>gene_name</th>\n",
       "      <th>gene_source</th>\n",
       "      <th>gene_biotype</th>\n",
       "      <th>Chromosome</th>\n",
       "      <th>Start</th>\n",
       "      <th>End</th>\n",
       "      <th>length</th>\n",
       "      <th>midpoint</th>\n",
       "      <th>is_tf</th>\n",
       "    </tr>\n",
       "  </thead>\n",
       "  <tbody>\n",
       "    <tr>\n",
       "      <th>11</th>\n",
       "      <td>ENSMUSG00000051285</td>\n",
       "      <td>Pcmtd1</td>\n",
       "      <td>ensembl_havana</td>\n",
       "      <td>protein_coding</td>\n",
       "      <td>1</td>\n",
       "      <td>7159143</td>\n",
       "      <td>7243852</td>\n",
       "      <td>84709</td>\n",
       "      <td>7201497</td>\n",
       "      <td>False</td>\n",
       "    </tr>\n",
       "    <tr>\n",
       "      <th>21</th>\n",
       "      <td>ENSMUSG00000026312</td>\n",
       "      <td>Cdh7</td>\n",
       "      <td>ensembl_havana</td>\n",
       "      <td>protein_coding</td>\n",
       "      <td>1</td>\n",
       "      <td>109910160</td>\n",
       "      <td>110067887</td>\n",
       "      <td>157727</td>\n",
       "      <td>109989023</td>\n",
       "      <td>False</td>\n",
       "    </tr>\n",
       "    <tr>\n",
       "      <th>24</th>\n",
       "      <td>ENSMUSG00000039748</td>\n",
       "      <td>Exo1</td>\n",
       "      <td>ensembl_havana</td>\n",
       "      <td>protein_coding</td>\n",
       "      <td>1</td>\n",
       "      <td>175708146</td>\n",
       "      <td>175741055</td>\n",
       "      <td>32909</td>\n",
       "      <td>175724600</td>\n",
       "      <td>False</td>\n",
       "    </tr>\n",
       "    <tr>\n",
       "      <th>26</th>\n",
       "      <td>ENSMUSG00000104158</td>\n",
       "      <td>Becn2</td>\n",
       "      <td>havana</td>\n",
       "      <td>protein_coding</td>\n",
       "      <td>1</td>\n",
       "      <td>175747894</td>\n",
       "      <td>175749791</td>\n",
       "      <td>1897</td>\n",
       "      <td>175748842</td>\n",
       "      <td>False</td>\n",
       "    </tr>\n",
       "    <tr>\n",
       "      <th>40</th>\n",
       "      <td>ENSMUSG00000033007</td>\n",
       "      <td>Asic4</td>\n",
       "      <td>ensembl_havana</td>\n",
       "      <td>protein_coding</td>\n",
       "      <td>1</td>\n",
       "      <td>75427079</td>\n",
       "      <td>75450987</td>\n",
       "      <td>23908</td>\n",
       "      <td>75439033</td>\n",
       "      <td>False</td>\n",
       "    </tr>\n",
       "  </tbody>\n",
       "</table>\n",
       "</div>"
      ],
      "text/plain": [
       "               gene_id gene_name     gene_source    gene_biotype Chromosome  \\\n",
       "11  ENSMUSG00000051285    Pcmtd1  ensembl_havana  protein_coding          1   \n",
       "21  ENSMUSG00000026312      Cdh7  ensembl_havana  protein_coding          1   \n",
       "24  ENSMUSG00000039748      Exo1  ensembl_havana  protein_coding          1   \n",
       "26  ENSMUSG00000104158     Becn2          havana  protein_coding          1   \n",
       "40  ENSMUSG00000033007     Asic4  ensembl_havana  protein_coding          1   \n",
       "\n",
       "        Start        End  length   midpoint  is_tf  \n",
       "11    7159143    7243852   84709    7201497  False  \n",
       "21  109910160  110067887  157727  109989023  False  \n",
       "24  175708146  175741055   32909  175724600  False  \n",
       "26  175747894  175749791    1897  175748842  False  \n",
       "40   75427079   75450987   23908   75439033  False  "
      ]
     },
     "execution_count": 4,
     "metadata": {},
     "output_type": "execute_result"
    }
   ],
   "source": [
    "# load the gene annotations\n",
    "fpath = \"/scratch/indikar_root/indikar1/shared_data/higher_order/reference/gene_table.parquet\"\n",
    "gdf = pd.read_parquet(fpath)\n",
    "print(f\"Raw {gdf.shape=}\")\n",
    "gdf = gdf[gdf['gene_biotype'] == 'protein_coding']\n",
    "print(f\"Protein Coding {gdf.shape=}\")\n",
    "gdf.head()"
   ]
  },
  {
   "cell_type": "markdown",
   "id": "3f0fa0fc-14f3-45ae-96dc-5a7282d32555",
   "metadata": {},
   "source": [
    "# load expression"
   ]
  },
  {
   "cell_type": "code",
   "execution_count": 5,
   "id": "f294cc99-ec73-4773-8c71-8c67176b24f3",
   "metadata": {},
   "outputs": [
    {
     "name": "stdout",
     "output_type": "stream",
     "text": [
      "Raw edf.shape=(51883, 2)\n",
      "gdf.shape=(21608, 11)\n"
     ]
    },
    {
     "data": {
      "text/html": [
       "<div>\n",
       "<style scoped>\n",
       "    .dataframe tbody tr th:only-of-type {\n",
       "        vertical-align: middle;\n",
       "    }\n",
       "\n",
       "    .dataframe tbody tr th {\n",
       "        vertical-align: top;\n",
       "    }\n",
       "\n",
       "    .dataframe thead th {\n",
       "        text-align: right;\n",
       "    }\n",
       "</style>\n",
       "<table border=\"1\" class=\"dataframe\">\n",
       "  <thead>\n",
       "    <tr style=\"text-align: right;\">\n",
       "      <th></th>\n",
       "      <th>gene_id</th>\n",
       "      <th>gene_name</th>\n",
       "      <th>gene_source</th>\n",
       "      <th>gene_biotype</th>\n",
       "      <th>Chromosome</th>\n",
       "      <th>Start</th>\n",
       "      <th>End</th>\n",
       "      <th>length</th>\n",
       "      <th>midpoint</th>\n",
       "      <th>is_tf</th>\n",
       "      <th>TPM</th>\n",
       "    </tr>\n",
       "  </thead>\n",
       "  <tbody>\n",
       "    <tr>\n",
       "      <th>0</th>\n",
       "      <td>ENSMUSG00000051285</td>\n",
       "      <td>Pcmtd1</td>\n",
       "      <td>ensembl_havana</td>\n",
       "      <td>protein_coding</td>\n",
       "      <td>1</td>\n",
       "      <td>7159143</td>\n",
       "      <td>7243852</td>\n",
       "      <td>84709</td>\n",
       "      <td>7201497</td>\n",
       "      <td>False</td>\n",
       "      <td>18.45</td>\n",
       "    </tr>\n",
       "    <tr>\n",
       "      <th>1</th>\n",
       "      <td>ENSMUSG00000026312</td>\n",
       "      <td>Cdh7</td>\n",
       "      <td>ensembl_havana</td>\n",
       "      <td>protein_coding</td>\n",
       "      <td>1</td>\n",
       "      <td>109910160</td>\n",
       "      <td>110067887</td>\n",
       "      <td>157727</td>\n",
       "      <td>109989023</td>\n",
       "      <td>False</td>\n",
       "      <td>0.00</td>\n",
       "    </tr>\n",
       "    <tr>\n",
       "      <th>2</th>\n",
       "      <td>ENSMUSG00000039748</td>\n",
       "      <td>Exo1</td>\n",
       "      <td>ensembl_havana</td>\n",
       "      <td>protein_coding</td>\n",
       "      <td>1</td>\n",
       "      <td>175708146</td>\n",
       "      <td>175741055</td>\n",
       "      <td>32909</td>\n",
       "      <td>175724600</td>\n",
       "      <td>False</td>\n",
       "      <td>43.11</td>\n",
       "    </tr>\n",
       "    <tr>\n",
       "      <th>3</th>\n",
       "      <td>ENSMUSG00000104158</td>\n",
       "      <td>Becn2</td>\n",
       "      <td>havana</td>\n",
       "      <td>protein_coding</td>\n",
       "      <td>1</td>\n",
       "      <td>175747894</td>\n",
       "      <td>175749791</td>\n",
       "      <td>1897</td>\n",
       "      <td>175748842</td>\n",
       "      <td>False</td>\n",
       "      <td>0.00</td>\n",
       "    </tr>\n",
       "    <tr>\n",
       "      <th>4</th>\n",
       "      <td>ENSMUSG00000033007</td>\n",
       "      <td>Asic4</td>\n",
       "      <td>ensembl_havana</td>\n",
       "      <td>protein_coding</td>\n",
       "      <td>1</td>\n",
       "      <td>75427079</td>\n",
       "      <td>75450987</td>\n",
       "      <td>23908</td>\n",
       "      <td>75439033</td>\n",
       "      <td>False</td>\n",
       "      <td>0.10</td>\n",
       "    </tr>\n",
       "  </tbody>\n",
       "</table>\n",
       "</div>"
      ],
      "text/plain": [
       "              gene_id gene_name     gene_source    gene_biotype Chromosome  \\\n",
       "0  ENSMUSG00000051285    Pcmtd1  ensembl_havana  protein_coding          1   \n",
       "1  ENSMUSG00000026312      Cdh7  ensembl_havana  protein_coding          1   \n",
       "2  ENSMUSG00000039748      Exo1  ensembl_havana  protein_coding          1   \n",
       "3  ENSMUSG00000104158     Becn2          havana  protein_coding          1   \n",
       "4  ENSMUSG00000033007     Asic4  ensembl_havana  protein_coding          1   \n",
       "\n",
       "       Start        End  length   midpoint  is_tf    TPM  \n",
       "0    7159143    7243852   84709    7201497  False  18.45  \n",
       "1  109910160  110067887  157727  109989023  False   0.00  \n",
       "2  175708146  175741055   32909  175724600  False  43.11  \n",
       "3  175747894  175749791    1897  175748842  False   0.00  \n",
       "4   75427079   75450987   23908   75439033  False   0.10  "
      ]
     },
     "execution_count": 5,
     "metadata": {},
     "output_type": "execute_result"
    }
   ],
   "source": [
    "# load the gene annotations\n",
    "fpath = \"/scratch/indikar_root/indikar1/shared_data/higher_order/expression_table/rna_table.parquet\"\n",
    "edf = pd.read_parquet(fpath, columns=['ens_gene_id', 'TPM'])\n",
    "edf.columns = ['gene_id', 'TPM']\n",
    "print(f\"Raw {edf.shape=}\")\n",
    "\n",
    "gdf = pd.merge(gdf, edf, how='left')\n",
    "print(f\"{gdf.shape=}\")\n",
    "gdf.head()"
   ]
  },
  {
   "cell_type": "markdown",
   "id": "2cd228e7-83ad-432c-957f-8a89584c6da8",
   "metadata": {},
   "source": [
    "# Merge genes on Restriction Fragments"
   ]
  },
  {
   "cell_type": "code",
   "execution_count": 6,
   "id": "ac295fbd-e125-4615-9464-0d50d195bb6a",
   "metadata": {},
   "outputs": [
    {
     "name": "stdout",
     "output_type": "stream",
     "text": [
      "df.shape=(12472365, 5)\n",
      "gdf.shape=(21608, 11)\n",
      "merged_df.shape=(12614520, 16)\n",
      "merged_df.shape=(12472365, 16)\n"
     ]
    },
    {
     "data": {
      "text/html": [
       "<div>\n",
       "<style scoped>\n",
       "    .dataframe tbody tr th:only-of-type {\n",
       "        vertical-align: middle;\n",
       "    }\n",
       "\n",
       "    .dataframe tbody tr th {\n",
       "        vertical-align: top;\n",
       "    }\n",
       "\n",
       "    .dataframe thead th {\n",
       "        text-align: right;\n",
       "    }\n",
       "</style>\n",
       "<table border=\"1\" class=\"dataframe\">\n",
       "  <thead>\n",
       "    <tr style=\"text-align: right;\">\n",
       "      <th></th>\n",
       "      <th>Chromosome</th>\n",
       "      <th>Start</th>\n",
       "      <th>End</th>\n",
       "      <th>fragment_id</th>\n",
       "      <th>fragment_length</th>\n",
       "      <th>gene_id</th>\n",
       "      <th>gene_name</th>\n",
       "      <th>gene_source</th>\n",
       "      <th>gene_biotype</th>\n",
       "      <th>Start_gene</th>\n",
       "      <th>End_gene</th>\n",
       "      <th>length</th>\n",
       "      <th>midpoint</th>\n",
       "      <th>is_tf</th>\n",
       "      <th>TPM</th>\n",
       "      <th>Overlap</th>\n",
       "    </tr>\n",
       "  </thead>\n",
       "  <tbody>\n",
       "    <tr>\n",
       "      <th>0</th>\n",
       "      <td>1</td>\n",
       "      <td>0</td>\n",
       "      <td>3050051</td>\n",
       "      <td>0</td>\n",
       "      <td>3050051</td>\n",
       "      <td>-1</td>\n",
       "      <td>-1</td>\n",
       "      <td>-1</td>\n",
       "      <td>-1</td>\n",
       "      <td>-1</td>\n",
       "      <td>-1</td>\n",
       "      <td>-1</td>\n",
       "      <td>-1</td>\n",
       "      <td>-1</td>\n",
       "      <td>-1.0</td>\n",
       "      <td>-1</td>\n",
       "    </tr>\n",
       "    <tr>\n",
       "      <th>1</th>\n",
       "      <td>1</td>\n",
       "      <td>3050051</td>\n",
       "      <td>3050056</td>\n",
       "      <td>1</td>\n",
       "      <td>5</td>\n",
       "      <td>-1</td>\n",
       "      <td>-1</td>\n",
       "      <td>-1</td>\n",
       "      <td>-1</td>\n",
       "      <td>-1</td>\n",
       "      <td>-1</td>\n",
       "      <td>-1</td>\n",
       "      <td>-1</td>\n",
       "      <td>-1</td>\n",
       "      <td>-1.0</td>\n",
       "      <td>-3050052</td>\n",
       "    </tr>\n",
       "    <tr>\n",
       "      <th>2</th>\n",
       "      <td>1</td>\n",
       "      <td>3050056</td>\n",
       "      <td>3050844</td>\n",
       "      <td>2</td>\n",
       "      <td>788</td>\n",
       "      <td>-1</td>\n",
       "      <td>-1</td>\n",
       "      <td>-1</td>\n",
       "      <td>-1</td>\n",
       "      <td>-1</td>\n",
       "      <td>-1</td>\n",
       "      <td>-1</td>\n",
       "      <td>-1</td>\n",
       "      <td>-1</td>\n",
       "      <td>-1.0</td>\n",
       "      <td>-3050057</td>\n",
       "    </tr>\n",
       "    <tr>\n",
       "      <th>3</th>\n",
       "      <td>1</td>\n",
       "      <td>3050844</td>\n",
       "      <td>3050907</td>\n",
       "      <td>3</td>\n",
       "      <td>63</td>\n",
       "      <td>-1</td>\n",
       "      <td>-1</td>\n",
       "      <td>-1</td>\n",
       "      <td>-1</td>\n",
       "      <td>-1</td>\n",
       "      <td>-1</td>\n",
       "      <td>-1</td>\n",
       "      <td>-1</td>\n",
       "      <td>-1</td>\n",
       "      <td>-1.0</td>\n",
       "      <td>-3050845</td>\n",
       "    </tr>\n",
       "    <tr>\n",
       "      <th>4</th>\n",
       "      <td>1</td>\n",
       "      <td>3050907</td>\n",
       "      <td>3050947</td>\n",
       "      <td>4</td>\n",
       "      <td>40</td>\n",
       "      <td>-1</td>\n",
       "      <td>-1</td>\n",
       "      <td>-1</td>\n",
       "      <td>-1</td>\n",
       "      <td>-1</td>\n",
       "      <td>-1</td>\n",
       "      <td>-1</td>\n",
       "      <td>-1</td>\n",
       "      <td>-1</td>\n",
       "      <td>-1.0</td>\n",
       "      <td>-3050908</td>\n",
       "    </tr>\n",
       "  </tbody>\n",
       "</table>\n",
       "</div>"
      ],
      "text/plain": [
       "  Chromosome    Start      End  fragment_id  fragment_length gene_id  \\\n",
       "0          1        0  3050051            0          3050051      -1   \n",
       "1          1  3050051  3050056            1                5      -1   \n",
       "2          1  3050056  3050844            2              788      -1   \n",
       "3          1  3050844  3050907            3               63      -1   \n",
       "4          1  3050907  3050947            4               40      -1   \n",
       "\n",
       "  gene_name gene_source gene_biotype  Start_gene  End_gene  length  midpoint  \\\n",
       "0        -1          -1           -1          -1        -1      -1        -1   \n",
       "1        -1          -1           -1          -1        -1      -1        -1   \n",
       "2        -1          -1           -1          -1        -1      -1        -1   \n",
       "3        -1          -1           -1          -1        -1      -1        -1   \n",
       "4        -1          -1           -1          -1        -1      -1        -1   \n",
       "\n",
       "  is_tf  TPM  Overlap  \n",
       "0    -1 -1.0       -1  \n",
       "1    -1 -1.0 -3050052  \n",
       "2    -1 -1.0 -3050057  \n",
       "3    -1 -1.0 -3050845  \n",
       "4    -1 -1.0 -3050908  "
      ]
     },
     "execution_count": 6,
     "metadata": {},
     "output_type": "execute_result"
    }
   ],
   "source": [
    "# Convert to PyRanges objects\n",
    "pr_df = pr.PyRanges(df)\n",
    "pr_gdf = pr.PyRanges(gdf)\n",
    "\n",
    "# Perform the join. \n",
    "merged_pr = pr_df.join(\n",
    "    pr_gdf, \n",
    "    how=\"left\",\n",
    "    suffix=\"_gene\",\n",
    "    report_overlap=True,\n",
    "    preserve_order=True,\n",
    ") # left join keeps all rows from df\n",
    "\n",
    "# Convert back to pandas DataFrame\n",
    "merged_df = merged_pr.df\n",
    "print(f\"{df.shape=}\")\n",
    "print(f\"{gdf.shape=}\")\n",
    "print(f\"{merged_df.shape=}\")\n",
    "\n",
    "# Select the best overlap for each interval\n",
    "merged_df = merged_df.sort_values(by=['Chromosome', 'Start', 'Overlap'], ascending=[True, True, False])\n",
    "merged_df = merged_df.drop_duplicates(subset=['fragment_id',], keep='first')\n",
    "print(f\"{merged_df.shape=}\")\n",
    "merged_df.head()"
   ]
  },
  {
   "cell_type": "code",
   "execution_count": null,
   "id": "b3cdc191-1b72-4aff-8980-ad62f78098b5",
   "metadata": {},
   "outputs": [],
   "source": []
  },
  {
   "cell_type": "code",
   "execution_count": null,
   "id": "a8a8f176-214c-4053-876f-fe7d20778c29",
   "metadata": {},
   "outputs": [],
   "source": []
  },
  {
   "cell_type": "code",
   "execution_count": 7,
   "id": "97a8af03-8cad-417c-86f2-4e5275d663e9",
   "metadata": {},
   "outputs": [
    {
     "ename": "SyntaxError",
     "evalue": "'break' outside loop (668683560.py, line 1)",
     "output_type": "error",
     "traceback": [
      "\u001b[0;36m  Cell \u001b[0;32mIn[7], line 1\u001b[0;36m\u001b[0m\n\u001b[0;31m    break\u001b[0m\n\u001b[0m    ^\u001b[0m\n\u001b[0;31mSyntaxError\u001b[0m\u001b[0;31m:\u001b[0m 'break' outside loop\n"
     ]
    }
   ],
   "source": [
    "break"
   ]
  },
  {
   "cell_type": "code",
   "execution_count": null,
   "id": "df0be9e7-24fd-42d7-a5c1-6b410f638f35",
   "metadata": {},
   "outputs": [],
   "source": []
  },
  {
   "cell_type": "code",
   "execution_count": null,
   "id": "98831a4c-4502-47bd-aa0a-da1d50aa7502",
   "metadata": {},
   "outputs": [],
   "source": []
  },
  {
   "cell_type": "code",
   "execution_count": null,
   "id": "6eea23b9-6475-4c89-88bb-77a57a4926fc",
   "metadata": {},
   "outputs": [],
   "source": [
    "break"
   ]
  },
  {
   "cell_type": "markdown",
   "id": "128bde8b-6bf3-464f-979e-3074cf539176",
   "metadata": {},
   "source": [
    "# load feature paths"
   ]
  },
  {
   "cell_type": "code",
   "execution_count": 8,
   "id": "fa84541f-95dc-4516-9548-88913ba44554",
   "metadata": {},
   "outputs": [
    {
     "data": {
      "text/plain": [
       "{'ATACSeq_1': <pyBigWig.bigWigFile at 0x1505e33b6b50>,\n",
       " 'ATACSeq_2': <pyBigWig.bigWigFile at 0x1505e33ae220>,\n",
       " 'ATACSeq_3': <pyBigWig.bigWigFile at 0x1505e33b1590>,\n",
       " 'CTCF': <pyBigWig.bigWigFile at 0x1505e33d3e10>,\n",
       " 'H3K27ac': <pyBigWig.bigWigFile at 0x1505e33bd950>,\n",
       " 'H3K27me3': <pyBigWig.bigWigFile at 0x1505e33b7ae0>,\n",
       " 'RNA_1': <pyBigWig.bigWigFile at 0x1505e34f4bd0>,\n",
       " 'RNA_2': <pyBigWig.bigWigFile at 0x1505e34b9080>,\n",
       " 'RNA_3': <pyBigWig.bigWigFile at 0x1506cd427420>,\n",
       " 'RNA_4': <pyBigWig.bigWigFile at 0x1505e338e8e0>,\n",
       " 'RNA_5': <pyBigWig.bigWigFile at 0x1505e34ea580>,\n",
       " 'RNA_6': <pyBigWig.bigWigFile at 0x1506fd890300>,\n",
       " 'PolII': <pyBigWig.bigWigFile at 0x1505e34ac120>}"
      ]
     },
     "execution_count": 8,
     "metadata": {},
     "output_type": "execute_result"
    }
   ],
   "source": [
    "# load the feature paths\n",
    "feature_paths = \"../config/linear_features.txt\"\n",
    "feature_paths = pd.read_csv(feature_paths)\n",
    "\n",
    "wigs = {}\n",
    "for jidx, feature_row in feature_paths.iterrows():\n",
    "    file_id = feature_row['file_id']\n",
    "    file_path = feature_row['file_path']\n",
    "    bigwig = pyBigWig.open(file_path)\n",
    "\n",
    "    wigs[file_id] = bigwig\n",
    "\n",
    "wigs"
   ]
  },
  {
   "cell_type": "markdown",
   "id": "13e23f02-a17c-4bb2-9918-174f3022ec6e",
   "metadata": {},
   "source": [
    "# merge features"
   ]
  },
  {
   "cell_type": "code",
   "execution_count": 11,
   "id": "6b03aa92-5c19-482e-ad62-39896f4a7ba2",
   "metadata": {},
   "outputs": [
    {
     "data": {
      "text/html": [
       "<div>\n",
       "<style scoped>\n",
       "    .dataframe tbody tr th:only-of-type {\n",
       "        vertical-align: middle;\n",
       "    }\n",
       "\n",
       "    .dataframe tbody tr th {\n",
       "        vertical-align: top;\n",
       "    }\n",
       "\n",
       "    .dataframe thead th {\n",
       "        text-align: right;\n",
       "    }\n",
       "</style>\n",
       "<table border=\"1\" class=\"dataframe\">\n",
       "  <thead>\n",
       "    <tr style=\"text-align: right;\">\n",
       "      <th></th>\n",
       "      <th>ATACSeq_1</th>\n",
       "      <th>ATACSeq_2</th>\n",
       "      <th>ATACSeq_3</th>\n",
       "      <th>CTCF</th>\n",
       "      <th>H3K27ac</th>\n",
       "      <th>H3K27me3</th>\n",
       "      <th>RNA_1</th>\n",
       "      <th>RNA_2</th>\n",
       "      <th>RNA_3</th>\n",
       "      <th>RNA_4</th>\n",
       "      <th>RNA_5</th>\n",
       "      <th>RNA_6</th>\n",
       "      <th>PolII</th>\n",
       "    </tr>\n",
       "    <tr>\n",
       "      <th>index</th>\n",
       "      <th></th>\n",
       "      <th></th>\n",
       "      <th></th>\n",
       "      <th></th>\n",
       "      <th></th>\n",
       "      <th></th>\n",
       "      <th></th>\n",
       "      <th></th>\n",
       "      <th></th>\n",
       "      <th></th>\n",
       "      <th></th>\n",
       "      <th></th>\n",
       "      <th></th>\n",
       "    </tr>\n",
       "  </thead>\n",
       "  <tbody>\n",
       "    <tr>\n",
       "      <th>0</th>\n",
       "      <td>0.057623</td>\n",
       "      <td>0.017762</td>\n",
       "      <td>0.018069</td>\n",
       "      <td>0.009718</td>\n",
       "      <td>0.024774</td>\n",
       "      <td>0.015503</td>\n",
       "      <td>0.239711</td>\n",
       "      <td>None</td>\n",
       "      <td>0.13278</td>\n",
       "      <td>0.271721</td>\n",
       "      <td>None</td>\n",
       "      <td>0.104429</td>\n",
       "      <td>0.008725</td>\n",
       "    </tr>\n",
       "  </tbody>\n",
       "</table>\n",
       "</div>"
      ],
      "text/plain": [
       "       ATACSeq_1  ATACSeq_2  ATACSeq_3      CTCF   H3K27ac  H3K27me3  \\\n",
       "index                                                                  \n",
       "0       0.057623   0.017762   0.018069  0.009718  0.024774  0.015503   \n",
       "\n",
       "          RNA_1 RNA_2    RNA_3     RNA_4 RNA_5     RNA_6     PolII  \n",
       "index                                                               \n",
       "0      0.239711  None  0.13278  0.271721  None  0.104429  0.008725  "
      ]
     },
     "execution_count": 11,
     "metadata": {},
     "output_type": "execute_result"
    }
   ],
   "source": [
    "feature_rows = []\n",
    "\n",
    "for idx, row in merged_df.iterrows():\n",
    "    chrom = row['Chromosome']\n",
    "    start = row['Start']\n",
    "    end = row['End']\n",
    "\n",
    "    new_row = {'index' : idx}\n",
    "\n",
    "    for k, bw in wigs.items():\n",
    "        try:\n",
    "            value = bw.stats(f\"chr{chrom}\", start, end, type='mean')[0]\n",
    "        except:\n",
    "            value = pd.NA\n",
    "\n",
    "        new_row[k] = value\n",
    "    feature_rows.append(new_row)\n",
    "    break\n",
    "    \n",
    "features = pd.DataFrame(feature_rows)\n",
    "features = features.set_index('index')\n",
    "features.head()"
   ]
  },
  {
   "cell_type": "code",
   "execution_count": null,
   "id": "41d410b1-7d2d-4845-a0c7-82d172d94ba8",
   "metadata": {},
   "outputs": [],
   "source": []
  },
  {
   "cell_type": "code",
   "execution_count": null,
   "id": "ca042596-2fcc-42d8-a237-ac57924fd9c2",
   "metadata": {},
   "outputs": [],
   "source": []
  },
  {
   "cell_type": "code",
   "execution_count": null,
   "id": "f40b7713-c18c-4b6b-9865-0bdc3758e9cb",
   "metadata": {},
   "outputs": [],
   "source": []
  },
  {
   "cell_type": "code",
   "execution_count": null,
   "id": "c9c842de-2c56-4a1d-962b-8d206b72bf5c",
   "metadata": {},
   "outputs": [],
   "source": [
    "break"
   ]
  },
  {
   "cell_type": "code",
   "execution_count": null,
   "id": "4835b66e-49cc-4198-a359-d87ea507b9be",
   "metadata": {},
   "outputs": [],
   "source": []
  },
  {
   "cell_type": "code",
   "execution_count": null,
   "id": "ccadbead-0545-4cc7-a082-f1cdf6eeb493",
   "metadata": {},
   "outputs": [],
   "source": []
  },
  {
   "cell_type": "code",
   "execution_count": null,
   "id": "6eeb943c-c027-4f7d-84c5-bc56196d4a61",
   "metadata": {},
   "outputs": [],
   "source": []
  },
  {
   "cell_type": "markdown",
   "id": "0ab5490a-1eb1-4f4a-96d9-73a4d30e9ca2",
   "metadata": {},
   "source": [
    "# Load genes"
   ]
  },
  {
   "cell_type": "code",
   "execution_count": null,
   "id": "505dcb51-0602-45e9-8817-8b39fe77cf41",
   "metadata": {},
   "outputs": [],
   "source": [
    "# load the gene annotations\n",
    "fpath = \"/scratch/indikar_root/indikar1/shared_data/higher_order/reference/gene_table.parquet\"\n",
    "gdf = pd.read_parquet(fpath)\n",
    "print(f\"Raw {gdf.shape=}\")\n",
    "print(f\"Protein Coding {gdf.shape=}\")\n",
    "gdf.head()"
   ]
  },
  {
   "cell_type": "code",
   "execution_count": null,
   "id": "fbc75089-54fb-449b-a88c-a0d737a51433",
   "metadata": {},
   "outputs": [],
   "source": []
  },
  {
   "cell_type": "code",
   "execution_count": null,
   "id": "2838da75-20d1-4821-91db-fd114148777c",
   "metadata": {},
   "outputs": [],
   "source": []
  },
  {
   "cell_type": "code",
   "execution_count": null,
   "id": "9df177a8-36b1-40ee-aad5-194cca8d08df",
   "metadata": {},
   "outputs": [],
   "source": [
    "break"
   ]
  },
  {
   "cell_type": "code",
   "execution_count": null,
   "id": "afe8a739-fd93-49a0-8392-76dc3a096f2c",
   "metadata": {},
   "outputs": [],
   "source": []
  },
  {
   "cell_type": "code",
   "execution_count": null,
   "id": "2cb94267-9eb3-4a38-8e25-2032e61852fb",
   "metadata": {},
   "outputs": [],
   "source": []
  },
  {
   "cell_type": "code",
   "execution_count": null,
   "id": "91f871ce-1f55-4379-b40b-dca04fa7eb7e",
   "metadata": {},
   "outputs": [],
   "source": []
  },
  {
   "cell_type": "code",
   "execution_count": null,
   "id": "ba16a20a-096f-48c3-a608-0e080486316c",
   "metadata": {},
   "outputs": [],
   "source": [
    "bw.chroms()"
   ]
  },
  {
   "cell_type": "code",
   "execution_count": null,
   "id": "543b5f32-8391-4dca-ae7c-dc768db7cd53",
   "metadata": {},
   "outputs": [],
   "source": [
    "break"
   ]
  },
  {
   "cell_type": "code",
   "execution_count": null,
   "id": "e23833d3-133a-4034-afe5-471c28701cbf",
   "metadata": {},
   "outputs": [],
   "source": []
  },
  {
   "cell_type": "code",
   "execution_count": null,
   "id": "a2c6b373-a314-4523-b6e6-157c52f8f877",
   "metadata": {},
   "outputs": [],
   "source": []
  },
  {
   "cell_type": "code",
   "execution_count": null,
   "id": "153f52d0-9d0a-4c2e-89d3-8795a4e682ca",
   "metadata": {},
   "outputs": [],
   "source": []
  },
  {
   "cell_type": "code",
   "execution_count": null,
   "id": "efa51a5f-0db6-4111-8cd8-d5f9d78fad5e",
   "metadata": {},
   "outputs": [],
   "source": [
    "df['Chromosome'].value_counts()"
   ]
  },
  {
   "cell_type": "code",
   "execution_count": null,
   "id": "fe8f3eae-ee01-4737-b0b7-aff7aaa1e239",
   "metadata": {},
   "outputs": [],
   "source": []
  },
  {
   "cell_type": "code",
   "execution_count": null,
   "id": "e400548f-ee35-438d-bf45-aa6cadb6bb00",
   "metadata": {},
   "outputs": [],
   "source": [
    "break"
   ]
  },
  {
   "cell_type": "code",
   "execution_count": null,
   "id": "bfd6a068-b391-45cf-846f-b65894e203c0",
   "metadata": {},
   "outputs": [],
   "source": []
  },
  {
   "cell_type": "code",
   "execution_count": null,
   "id": "ab757637-0bf6-4be2-95bc-9e68bd20e0d4",
   "metadata": {},
   "outputs": [],
   "source": []
  },
  {
   "cell_type": "code",
   "execution_count": null,
   "id": "f6d54268-5e8e-4ccb-a89a-775a83450b4e",
   "metadata": {},
   "outputs": [],
   "source": []
  },
  {
   "cell_type": "code",
   "execution_count": null,
   "id": "37a45e53-0748-49f0-99de-c465fdd3764d",
   "metadata": {},
   "outputs": [],
   "source": [
    "fpath = \"/scratch/indikar_root/indikar1/shared_data/higher_order/pore_c/population_mESC.read_level.parquet\"\n",
    "\n",
    "columns = [\n",
    "    'read_name', \n",
    "    'chrom',\n",
    "    'ref_start',\n",
    "    'ref_end',\n",
    "    'mapping_quality',\n",
    "    'basename',\n",
    "]\n",
    "\n",
    "df = pd.read_parquet(fpath, columns=columns)\n",
    "print(f\"{df.shape=}\")\n",
    "df = df.rename(columns={\n",
    "    'chrom' : 'Chromosome',\n",
    "    'ref_start' : 'Start',\n",
    "    'ref_end' : 'End',\n",
    "})\n",
    "df.head()"
   ]
  },
  {
   "cell_type": "code",
   "execution_count": null,
   "id": "6e4ce59a-0c4c-48a7-b143-e757ff556b7d",
   "metadata": {},
   "outputs": [],
   "source": [
    "df.drop_duplicates(subset=['Start', 'End']).shape"
   ]
  },
  {
   "cell_type": "code",
   "execution_count": null,
   "id": "f657890a-8751-4bcf-ab81-483d43140034",
   "metadata": {},
   "outputs": [],
   "source": [
    "12155831 / 14877807"
   ]
  },
  {
   "cell_type": "code",
   "execution_count": null,
   "id": "34959ee8-e5ad-4772-969f-7a8c7d9d128b",
   "metadata": {},
   "outputs": [],
   "source": []
  },
  {
   "cell_type": "code",
   "execution_count": null,
   "id": "d08ac075-8b49-446b-a6f2-a462f6f97065",
   "metadata": {},
   "outputs": [],
   "source": []
  },
  {
   "cell_type": "code",
   "execution_count": null,
   "id": "07f663b9-2e05-4526-81bc-628b4bfa6fb1",
   "metadata": {},
   "outputs": [],
   "source": []
  },
  {
   "cell_type": "code",
   "execution_count": null,
   "id": "cacbe080-9459-4488-87dd-99f3d5ab20fe",
   "metadata": {},
   "outputs": [],
   "source": [
    "for idx, row in df.iterrows():\n",
    "\n",
    "    print(row['read_name'])\n",
    "\n",
    "    break"
   ]
  },
  {
   "cell_type": "code",
   "execution_count": null,
   "id": "1a23c764-e329-49db-8d6b-a2f0ffbf9163",
   "metadata": {},
   "outputs": [],
   "source": []
  },
  {
   "cell_type": "code",
   "execution_count": null,
   "id": "1bce2d71-78fc-4fd8-85af-2c4e8a482849",
   "metadata": {},
   "outputs": [],
   "source": []
  },
  {
   "cell_type": "code",
   "execution_count": null,
   "id": "ebb5b838-797c-4c00-9dc9-8fab5cde91c1",
   "metadata": {},
   "outputs": [],
   "source": []
  },
  {
   "cell_type": "code",
   "execution_count": null,
   "id": "46a48531-e34e-4951-8c46-29a21f990e47",
   "metadata": {},
   "outputs": [],
   "source": [
    "break"
   ]
  },
  {
   "cell_type": "code",
   "execution_count": null,
   "id": "f10aed4c-a0e9-409e-b1bb-3cb786f3ac43",
   "metadata": {},
   "outputs": [],
   "source": []
  },
  {
   "cell_type": "code",
   "execution_count": null,
   "id": "a6be1a8b-a55e-442f-9050-269d566cbed3",
   "metadata": {},
   "outputs": [],
   "source": []
  },
  {
   "cell_type": "code",
   "execution_count": null,
   "id": "c7239990-3cf3-4713-ab8f-ddde9a561a0a",
   "metadata": {},
   "outputs": [],
   "source": []
  },
  {
   "cell_type": "code",
   "execution_count": null,
   "id": "6c915ca9-eb18-46b4-a848-103cb6a86904",
   "metadata": {},
   "outputs": [],
   "source": [
    "# load the gene annotations\n",
    "fpath = \"/scratch/indikar_root/indikar1/shared_data/higher_order/reference/gene_table.parquet\"\n",
    "gdf = pd.read_parquet(fpath)\n",
    "print(f\"Raw {gdf.shape=}\")\n",
    "gdf = gdf[gdf['gene_biotype'] == 'protein_coding']\n",
    "print(f\"Protein Coding {gdf.shape=}\")\n",
    "gdf.head()"
   ]
  },
  {
   "cell_type": "code",
   "execution_count": null,
   "id": "97dc8f75-0b56-4d56-84d2-1a1d77ff49ac",
   "metadata": {},
   "outputs": [],
   "source": []
  }
 ],
 "metadata": {
  "kernelspec": {
   "display_name": "scanpy",
   "language": "python",
   "name": "scanpy"
  },
  "language_info": {
   "codemirror_mode": {
    "name": "ipython",
    "version": 3
   },
   "file_extension": ".py",
   "mimetype": "text/x-python",
   "name": "python",
   "nbconvert_exporter": "python",
   "pygments_lexer": "ipython3",
   "version": "3.12.5"
  }
 },
 "nbformat": 4,
 "nbformat_minor": 5
}
