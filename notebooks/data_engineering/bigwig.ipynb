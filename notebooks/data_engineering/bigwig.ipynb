{
 "cells": [
  {
   "cell_type": "code",
   "execution_count": 36,
   "id": "978f6119-3e83-466b-a0eb-1020d0aee4e8",
   "metadata": {},
   "outputs": [],
   "source": [
    "import pandas as pd\n",
    "import sys\n",
    "import pyBigWig\n",
    "import numpy as np\n",
    "import glob\n",
    "import os"
   ]
  },
  {
   "cell_type": "code",
   "execution_count": null,
   "id": "08d348fe-05a1-4059-bce3-ab66b2320a17",
   "metadata": {},
   "outputs": [],
   "source": [
    "dpath = \"/nfs/turbo/umms-indikar/shared/projects/poreC/data/4DN_Features/ATACSeq/\"\n",
    "file_list = glob.glob(f\"{dpath}*.bw\")\n",
    "file_list"
   ]
  },
  {
   "cell_type": "code",
   "execution_count": 44,
   "id": "d22a461c-6e71-4f9c-9a33-9e9257f5fa71",
   "metadata": {},
   "outputs": [
    {
     "data": {
      "text/plain": [
       "\u001b[0;31mDocstring:\u001b[0m\n",
       "Return summary statistics for a given range. On error, this function throws a\n",
       "runtime exception.\n",
       "\n",
       "Positional arguments:\n",
       "    chr:   Chromosome name\n",
       "\n",
       "Keyword arguments:\n",
       "    start: Starting position\n",
       "    end:   Ending position\n",
       "    type:  Summary type (mean, min, max, coverage, std, sum), default 'mean'.\n",
       "    nBins: Number of bins into which the range should be divided before\n",
       "           computing summary statistics. The default is 1.\n",
       "    exact: By default, pyBigWig uses the same method as Kent's tools from UCSC\n",
       "           for computing statistics. This means that 'zoom levels' may be\n",
       "           used, rather than actual values (please see the pyBigWig repository\n",
       "           on github for further information on this). To avoid this behaviour,\n",
       "           simply specify 'exact=True'. Note that values returned will then\n",
       "           differ from what UCSC, IGV, and similar other tools will report.\n",
       "\n",
       ">>> import pyBigWig\n",
       ">>> bw = pyBigWig.open(\"test/test.bw\")\n",
       ">>> bw.stats(\"1\", 0, 3)\n",
       "[0.2000000054637591]\n",
       "\n",
       "This is the mean value over the range 1:1-3 (in 1-based coordinates). If\n",
       "the start and end positions aren't given the entire chromosome is used.\n",
       "There are additional optional parameters 'type' and 'nBins'. 'type'\n",
       "specifies the type of summary information to calculate, which is 'mean'\n",
       "by default. Other possibilites for 'type' are: 'min' (minimum value),\n",
       "'max' (maximum value), 'coverage' (number of covered bases), and 'std'\n",
       " (standard deviation). 'nBins' defines how many bins the region will be\n",
       " divided into and defaults to 1.\n",
       "\n",
       ">>> bw.stats(\"1\", 0, 3, type=\"min\")\n",
       "[0.10000000149011612]\n",
       ">>> bw.stats(\"1\", 0, 3, type=\"max\")\n",
       "[0.30000001192092896]\n",
       ">>> bw.stats(\"1\", 0, 10, type=\"coverage\")\n",
       "[0.30000000000000004]\n",
       ">>> bw.stats(\"1\", 0, 3, type=\"std\")\n",
       "[0.10000000521540645]\n",
       ">>> bw.stats(\"1\",99,200, type=\"max\", nBins=2)\n",
       "[1.399999976158142, 1.5]\n",
       "\u001b[0;31mType:\u001b[0m      builtin_function_or_method"
      ]
     },
     "metadata": {},
     "output_type": "display_data"
    }
   ],
   "source": [
    "chrom = \"chr1\"\n",
    "resolution = 1000000\n",
    "n_bins = int(np.ceil(chrom_length / resolution))\n",
    "bw = pyBigWig.open(file_list[0])\n",
    "\n",
    "?bw.stats\n",
    "\n",
    "# bw.stats(chrom, nBins=n_bins, exact=True) "
   ]
  },
  {
   "cell_type": "code",
   "execution_count": null,
   "id": "5f7f58f6-cb56-4e20-bb34-920b0fa5c275",
   "metadata": {},
   "outputs": [],
   "source": []
  },
  {
   "cell_type": "code",
   "execution_count": 37,
   "id": "5ed04924-2268-47d3-969c-0f8b32badf2b",
   "metadata": {},
   "outputs": [
    {
     "data": {
      "text/html": [
       "<div>\n",
       "<style scoped>\n",
       "    .dataframe tbody tr th:only-of-type {\n",
       "        vertical-align: middle;\n",
       "    }\n",
       "\n",
       "    .dataframe tbody tr th {\n",
       "        vertical-align: top;\n",
       "    }\n",
       "\n",
       "    .dataframe thead th {\n",
       "        text-align: right;\n",
       "    }\n",
       "</style>\n",
       "<table border=\"1\" class=\"dataframe\">\n",
       "  <thead>\n",
       "    <tr style=\"text-align: right;\">\n",
       "      <th></th>\n",
       "      <th>4DNFIXT1TVT4</th>\n",
       "      <th>4DNFIPVAKPXA</th>\n",
       "      <th>4DNFI3ARZKH6</th>\n",
       "    </tr>\n",
       "  </thead>\n",
       "  <tbody>\n",
       "    <tr>\n",
       "      <th>0</th>\n",
       "      <td>0.000000</td>\n",
       "      <td>0.000000</td>\n",
       "      <td>0.000000</td>\n",
       "    </tr>\n",
       "    <tr>\n",
       "      <th>1</th>\n",
       "      <td>0.000000</td>\n",
       "      <td>0.000000</td>\n",
       "      <td>0.000000</td>\n",
       "    </tr>\n",
       "    <tr>\n",
       "      <th>2</th>\n",
       "      <td>0.008348</td>\n",
       "      <td>0.018883</td>\n",
       "      <td>0.025384</td>\n",
       "    </tr>\n",
       "    <tr>\n",
       "      <th>3</th>\n",
       "      <td>0.372963</td>\n",
       "      <td>0.330261</td>\n",
       "      <td>0.504449</td>\n",
       "    </tr>\n",
       "    <tr>\n",
       "      <th>4</th>\n",
       "      <td>0.585346</td>\n",
       "      <td>0.522941</td>\n",
       "      <td>0.679549</td>\n",
       "    </tr>\n",
       "  </tbody>\n",
       "</table>\n",
       "</div>"
      ],
      "text/plain": [
       "   4DNFIXT1TVT4  4DNFIPVAKPXA  4DNFI3ARZKH6\n",
       "0      0.000000      0.000000      0.000000\n",
       "1      0.000000      0.000000      0.000000\n",
       "2      0.008348      0.018883      0.025384\n",
       "3      0.372963      0.330261      0.504449\n",
       "4      0.585346      0.522941      0.679549"
      ]
     },
     "execution_count": 37,
     "metadata": {},
     "output_type": "execute_result"
    }
   ],
   "source": [
    "chrom = \"chr1\"\n",
    "resolution = 1000000\n",
    "\n",
    "df = []\n",
    "\n",
    "for fpath in file_list:\n",
    "    file_id = os.path.basename(fpath).replace(\".bw\", \"\")\n",
    "    \n",
    "    \n",
    "    bw = pyBigWig.open(fpath)  # Replace with your BigWig file path\n",
    "\n",
    "    # Get chromosome sizes\n",
    "    chrom_length = bw.chroms()[chrom]\n",
    "    n_bins = int(np.ceil(chrom_length / resolution))\n",
    "\n",
    "    bwdf = pd.DataFrame({file_id : bw.stats(chrom, nBins=n_bins),},\n",
    "                      index=list(range(n_bins)),)\n",
    "    df.append(bwdf)\n",
    "\n",
    "    \n",
    "df = pd.concat(df, axis=1)\n",
    "df.head()\n",
    "\n",
    "# # bw = pr.read_bigwig(fpath)\n",
    "# # dir(bw)\n",
    "# # print(df.shape)\n",
    "# # df.head()"
   ]
  },
  {
   "cell_type": "code",
   "execution_count": 18,
   "id": "29a1f937-6e1b-4139-a8de-a2a6fc02d715",
   "metadata": {},
   "outputs": [
    {
     "data": {
      "text/plain": [
       "[0.41419166373487076,\n",
       " 0.48309727210334097,\n",
       " 0.45038082394620993,\n",
       " 0.5245792740821942,\n",
       " 0.6207418137775544]"
      ]
     },
     "execution_count": 18,
     "metadata": {},
     "output_type": "execute_result"
    }
   ],
   "source": [
    "bw.stats('chr1', nBins=5)\n",
    "\n",
    "# ('chr1')\n",
    "\n",
    "# bw.stats(\"1\",99, 200, type=\"max\", nBins=2)"
   ]
  },
  {
   "cell_type": "code",
   "execution_count": null,
   "id": "0b27b0ab-3d3c-4ce7-bb3b-ac49a8752b62",
   "metadata": {},
   "outputs": [],
   "source": []
  }
 ],
 "metadata": {
  "kernelspec": {
   "display_name": "bioinf",
   "language": "python",
   "name": "bioinf"
  },
  "language_info": {
   "codemirror_mode": {
    "name": "ipython",
    "version": 3
   },
   "file_extension": ".py",
   "mimetype": "text/x-python",
   "name": "python",
   "nbconvert_exporter": "python",
   "pygments_lexer": "ipython3",
   "version": "3.10.14"
  }
 },
 "nbformat": 4,
 "nbformat_minor": 5
}
