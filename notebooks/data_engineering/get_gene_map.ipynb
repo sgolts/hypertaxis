{
 "cells": [
  {
   "cell_type": "code",
   "execution_count": 2,
   "id": "2df488db-dcc1-4f70-b626-1609e7e6a1ac",
   "metadata": {},
   "outputs": [],
   "source": [
    "import os\n",
    "import sys\n",
    "import pandas as pd\n",
    "import numpy as np\n",
    "import glob\n",
    "import time\n",
    "from scipy.sparse import csr_matrix\n",
    "import anndata as an\n",
    "import scanpy as sc\n",
    "import pyranges as pr\n",
    "import psutil"
   ]
  },
  {
   "cell_type": "code",
   "execution_count": 3,
   "id": "b31d3e77-1fac-46b8-9b79-afa43520d3d6",
   "metadata": {},
   "outputs": [
    {
     "name": "stdout",
     "output_type": "stream",
     "text": [
      "Time taken to read the file: 60.55 seconds\n",
      "Memory usage: current 2.99 GB, difference +2.99 GB\n"
     ]
    },
    {
     "data": {
      "text/plain": [
       "AnnData object with n_obs × n_vars = 2579 × 2756467\n",
       "    obs: 'bin_index', 'bin_start', 'bin_end', 'bin', 'chrom', 'chrom_bin', 'degree', 'genes', 'n_genes'\n",
       "    var: 'read_index', 'basename', 'mean_mapq', 'median_mapq', 'n_chromosomes', 'order', 'n_bins', 'read_length_bp', 'genes', 'n_genes'\n",
       "    uns: 'base_resolution', 'chrom_sizes', 'gdf', 'gene_map', 'intervals'\n",
       "    layers: 'H'"
      ]
     },
     "execution_count": 3,
     "metadata": {},
     "output_type": "execute_result"
    }
   ],
   "source": [
    "fpath = \"/scratch/indikar_root/indikar1/shared_data/higher_order/anndata/population_mESC_1000000_raw.h5ad\"\n",
    "\n",
    "start_time = time.time()  # Record the start time\n",
    "adata = sc.read_h5ad(fpath)\n",
    "end_time = time.time()  # Record the end time\n",
    "print(f\"Time taken to read the file: {end_time - start_time:.2f} seconds\")\n",
    "sc.logging.print_memory_usage()\n",
    "adata"
   ]
  },
  {
   "cell_type": "code",
   "execution_count": 4,
   "id": "ef07e5ee-5e8d-41d7-93ff-f5bf5e5b9aca",
   "metadata": {},
   "outputs": [
    {
     "data": {
      "text/html": [
       "<div>\n",
       "<style scoped>\n",
       "    .dataframe tbody tr th:only-of-type {\n",
       "        vertical-align: middle;\n",
       "    }\n",
       "\n",
       "    .dataframe tbody tr th {\n",
       "        vertical-align: top;\n",
       "    }\n",
       "\n",
       "    .dataframe thead th {\n",
       "        text-align: right;\n",
       "    }\n",
       "</style>\n",
       "<table border=\"1\" class=\"dataframe\">\n",
       "  <thead>\n",
       "    <tr style=\"text-align: right;\">\n",
       "      <th></th>\n",
       "      <th>gene_name</th>\n",
       "      <th>gene_biotype</th>\n",
       "      <th>read_name</th>\n",
       "      <th>bin_name</th>\n",
       "    </tr>\n",
       "  </thead>\n",
       "  <tbody>\n",
       "    <tr>\n",
       "      <th>0</th>\n",
       "      <td>Ulk4</td>\n",
       "      <td>protein_coding</td>\n",
       "      <td>3891ee6d-53d1-4ee0-ba2f-3d22291d4493</td>\n",
       "      <td>chr9:121</td>\n",
       "    </tr>\n",
       "    <tr>\n",
       "      <th>1</th>\n",
       "      <td>Smarca2</td>\n",
       "      <td>protein_coding</td>\n",
       "      <td>66953ddf-e76d-4cdf-aaf8-be028a2d7b04</td>\n",
       "      <td>chr19:26</td>\n",
       "    </tr>\n",
       "    <tr>\n",
       "      <th>2</th>\n",
       "      <td>Dlgap3</td>\n",
       "      <td>protein_coding</td>\n",
       "      <td>ad5b2240-893f-4ed0-a157-c2be66d8d754</td>\n",
       "      <td>chr4:127</td>\n",
       "    </tr>\n",
       "    <tr>\n",
       "      <th>3</th>\n",
       "      <td>Gm56531</td>\n",
       "      <td>lncRNA</td>\n",
       "      <td>3f354c45-5e48-4f6d-8c7e-05369432b344</td>\n",
       "      <td>chr12:8</td>\n",
       "    </tr>\n",
       "    <tr>\n",
       "      <th>4</th>\n",
       "      <td>Twsg1</td>\n",
       "      <td>protein_coding</td>\n",
       "      <td>d4626feb-16a2-4aac-8145-53e89b60bf7c</td>\n",
       "      <td>chr17:66</td>\n",
       "    </tr>\n",
       "  </tbody>\n",
       "</table>\n",
       "</div>"
      ],
      "text/plain": [
       "  gene_name    gene_biotype                             read_name  bin_name\n",
       "0      Ulk4  protein_coding  3891ee6d-53d1-4ee0-ba2f-3d22291d4493  chr9:121\n",
       "1   Smarca2  protein_coding  66953ddf-e76d-4cdf-aaf8-be028a2d7b04  chr19:26\n",
       "2    Dlgap3  protein_coding  ad5b2240-893f-4ed0-a157-c2be66d8d754  chr4:127\n",
       "3   Gm56531          lncRNA  3f354c45-5e48-4f6d-8c7e-05369432b344   chr12:8\n",
       "4     Twsg1  protein_coding  d4626feb-16a2-4aac-8145-53e89b60bf7c  chr17:66"
      ]
     },
     "execution_count": 4,
     "metadata": {},
     "output_type": "execute_result"
    }
   ],
   "source": [
    "outpath = \"/scratch/indikar_root/indikar1/shared_data/higher_order/gene_maps/\"\n",
    "gene_map = adata.uns['gene_map']\n",
    "gene_map.head()"
   ]
  },
  {
   "cell_type": "code",
   "execution_count": null,
   "id": "d9084e4e-f9ae-47ea-8c6e-4c082324f203",
   "metadata": {},
   "outputs": [],
   "source": []
  },
  {
   "cell_type": "code",
   "execution_count": null,
   "id": "1defdf4c-3f87-4d98-8f5f-c10f029d9d7d",
   "metadata": {},
   "outputs": [],
   "source": [
    "break"
   ]
  },
  {
   "cell_type": "code",
   "execution_count": null,
   "id": "fc3d1be3-b32e-4278-b324-9f03167787a6",
   "metadata": {},
   "outputs": [],
   "source": []
  },
  {
   "cell_type": "code",
   "execution_count": null,
   "id": "3bdddf88-2588-43fd-a5db-42e41d999c79",
   "metadata": {},
   "outputs": [],
   "source": []
  },
  {
   "cell_type": "code",
   "execution_count": null,
   "id": "1f86f282-ecd3-4b89-a82c-20f1760d71ce",
   "metadata": {},
   "outputs": [],
   "source": []
  },
  {
   "cell_type": "code",
   "execution_count": null,
   "id": "2cd926a7-f748-4a32-a9d3-ef7824328193",
   "metadata": {},
   "outputs": [],
   "source": []
  },
  {
   "cell_type": "code",
   "execution_count": null,
   "id": "a368287b-7bdf-4460-9532-52c8990d563d",
   "metadata": {},
   "outputs": [],
   "source": []
  },
  {
   "cell_type": "code",
   "execution_count": null,
   "id": "880bd167-9beb-47a6-a3a8-8fed84ecdeee",
   "metadata": {},
   "outputs": [],
   "source": []
  },
  {
   "cell_type": "code",
   "execution_count": null,
   "id": "5b3440f7-881d-4bd8-85a6-3c3dbb76560e",
   "metadata": {},
   "outputs": [],
   "source": []
  },
  {
   "cell_type": "code",
   "execution_count": null,
   "id": "a82e0531-8c51-4004-a59d-61736a668adc",
   "metadata": {},
   "outputs": [],
   "source": [
    "pore_c_path = \"/scratch/indikar_root/indikar1/shared_data/higher_order/pore_c/population_mESC.read_level.parquet\"\n",
    "resolution = 1000000\n",
    "chrom_path = \"/scratch/indikar_root/indikar1/shared_data/higher_order/reference/chrom_sizes.csv\"\n",
    "gene_path = \"/scratch/indikar_root/indikar1/shared_data/higher_order/reference/gene_table.parquet\""
   ]
  },
  {
   "cell_type": "code",
   "execution_count": null,
   "id": "a9a804b4-fdd1-4946-ab20-fbf39c5d47c7",
   "metadata": {},
   "outputs": [],
   "source": [
    "# Load the Pore-C data\n",
    "mk.print_section_header(\"Loading Pore-C Data\")\n",
    "df = pd.read_parquet(pore_c_path)\n",
    "df['value'] = 1\n",
    "mk.print_data_shape(\"Pore-C data\", df.shape)\n",
    "mk.print_memory_usage(\"Load Pore-C data\")\n",
    "\n",
    "n = df.shape[0]"
   ]
  },
  {
   "cell_type": "code",
   "execution_count": null,
   "id": "a24bb66e-4599-426c-b2ad-f42ac0874e3b",
   "metadata": {},
   "outputs": [],
   "source": [
    "# Load the chromosome table\n",
    "mk.print_section_header(\"Creating Chromosome Intervals\")\n",
    "chrom, intervals = mk.create_chromosome_intervals(chrom_path, base_resolution=resolution)\n",
    "mk.print_data_shape(\"Chromosome intervals\", intervals.shape)"
   ]
  },
  {
   "cell_type": "code",
   "execution_count": null,
   "id": "8bcb7831-a145-48e6-9127-eff107c5661d",
   "metadata": {},
   "outputs": [],
   "source": [
    "intervals[intervals['chrom'] == '2'].head()"
   ]
  },
  {
   "cell_type": "code",
   "execution_count": null,
   "id": "6735f59a-6dac-4098-80ec-1a27b1dbf49e",
   "metadata": {},
   "outputs": [],
   "source": [
    "df = mk.merge_genes(df, gene_path)\n",
    "print(f\"{df.shape=}\")\n",
    "df.head()"
   ]
  },
  {
   "cell_type": "code",
   "execution_count": null,
   "id": "62473f0e-8184-46de-bf7a-6c397f74e1e0",
   "metadata": {},
   "outputs": [],
   "source": [
    "n - df.shape[0]"
   ]
  },
  {
   "cell_type": "code",
   "execution_count": null,
   "id": "930c92b6-2c1d-4935-9d89-913cc713a73c",
   "metadata": {},
   "outputs": [],
   "source": [
    "# Add the interval information\n",
    "mk.print_section_header(\"Joining Intervals with Pore-C Data\")\n",
    "df = mk.join_intervals_pyranges(df, intervals)\n",
    "df.head()"
   ]
  },
  {
   "cell_type": "code",
   "execution_count": null,
   "id": "8ec27782-f242-4735-b7a7-8550522c1225",
   "metadata": {},
   "outputs": [],
   "source": [
    "n - df.shape[0]"
   ]
  },
  {
   "cell_type": "code",
   "execution_count": null,
   "id": "41a92c18-817f-408a-9d4d-e20c549f8e0b",
   "metadata": {},
   "outputs": [],
   "source": [
    "def create_var_df(df, var_names):\n",
    "  \"\"\"Creates a variable DataFrame from a DataFrame with read information.\n",
    "\n",
    "  Args:\n",
    "    df (pandas.DataFrame): DataFrame with read data including 'read_name', 'read_index', \n",
    "                           'mapping_quality', 'chrom', 'order', 'bin', and 'length_on_read'.\n",
    "    var_names (pandas.Index): Index of unique read names.\n",
    "\n",
    "  Returns:\n",
    "    pandas.DataFrame: DataFrame containing variable information (read-level summaries).\n",
    "  \"\"\"\n",
    "  var = df.copy()\n",
    "\n",
    "  gene_list = lambda x: \";\".join([i for i in set(x) if i != '-1'])\n",
    "  n_genes = lambda x: len([i for i in set(x) if i != '-1'])\n",
    "\n",
    "  var = var.groupby(['basename', 'read_name', 'read_index']).agg(\n",
    "      mean_mapq=('mapping_quality', 'mean'),\n",
    "      median_mapq=('mapping_quality', 'median'),\n",
    "      n_chromosomes=('chrom', 'nunique'),\n",
    "      order=('order', 'first'),\n",
    "      n_bins=('bin', 'nunique'),\n",
    "      read_length_bp=('length_on_read', 'sum'),\n",
    "      genes=('gene_name', gene_list),\n",
    "      n_genes=('gene_name', n_genes),\n",
    "  ).reset_index()\n",
    "\n",
    "  # Ensure proper sorting using var_names\n",
    "  var = var.set_index('read_index')\n",
    "  # var = var.reindex(var_names)\n",
    "  # var = var.reset_index()\n",
    "  # var = var.set_index('read_name')\n",
    "\n",
    "  return var\n",
    "\n",
    "\n",
    "var = create_var_df(df, \"\")\n",
    "var.head()"
   ]
  },
  {
   "cell_type": "code",
   "execution_count": null,
   "id": "b5d9c4ad-3030-48e6-bf24-f48020cb1d77",
   "metadata": {},
   "outputs": [],
   "source": [
    "def create_obs_df(df, obs_names):\n",
    "  \"\"\"Creates an observation DataFrame from a DataFrame and a sparse matrix.\n",
    "\n",
    "  Args:\n",
    "    df (pandas.DataFrame): DataFrame with genomic data and bin information.\n",
    "    X (scipy.sparse.csr_matrix): Sparse matrix representation of the data.\n",
    "\n",
    "  Returns:\n",
    "    pandas.DataFrame: DataFrame containing observation information.\n",
    "  \"\"\"\n",
    "  gene_list = lambda x: \";\".join([i for i in set(x) if i != '-1'])\n",
    "  n_genes = lambda x: len([i for i in set(x) if i != '-1'])\n",
    "    \n",
    "  obs = df.groupby('bin_name').agg(\n",
    "      bin_start=('bin_start', 'first'),\n",
    "      bin_end=('bin_end', 'first'),\n",
    "      bin=('bin', 'first'),\n",
    "      bin_index=('bin_index', 'first'),\n",
    "      chrom_bin=('chrom_bin', 'first'),\n",
    "      degree=('read_name', 'nunique'),\n",
    "      genes=('gene_name', gene_list),\n",
    "      n_genes=('gene_name', n_genes),\n",
    "  ).reset_index()\n",
    "\n",
    "\n",
    "  # Ensure proper sorting using var_names\n",
    "  obs = obs.set_index('bin_index')\n",
    "  obs = obs.reindex(obs_names)\n",
    "  obs = obs.reset_index()\n",
    "  obs = obs.set_index('bin_name')\n",
    "\n",
    "  return obs\n",
    "\n",
    "obs = create_obs_df(df, \"\")\n",
    "obs.head()"
   ]
  },
  {
   "cell_type": "code",
   "execution_count": null,
   "id": "5a7916d7-0b5e-41c9-a18a-18e032da1e9a",
   "metadata": {},
   "outputs": [],
   "source": []
  },
  {
   "cell_type": "code",
   "execution_count": null,
   "id": "2927a722-2e84-4606-807d-1c4510e971e6",
   "metadata": {},
   "outputs": [],
   "source": []
  },
  {
   "cell_type": "code",
   "execution_count": null,
   "id": "012b9909-1bc3-4889-b905-291a492c41cb",
   "metadata": {},
   "outputs": [],
   "source": [
    "break"
   ]
  },
  {
   "cell_type": "code",
   "execution_count": null,
   "id": "683ceb57-9d3b-4aa8-bd3a-17ac0029713d",
   "metadata": {},
   "outputs": [],
   "source": [
    "df.head()"
   ]
  },
  {
   "cell_type": "code",
   "execution_count": null,
   "id": "78a80826-919b-45ec-8194-41b3be8a1588",
   "metadata": {},
   "outputs": [],
   "source": [
    "gene_map = df[['gene_name', 'gene_biotype', 'read_name', 'bin_name']].drop_duplicates()\n",
    "gene_map = gene_map[gene_map['gene_name'] != '-1']\n",
    "gene_map = gene_map.reset_index(drop=True)\n",
    "\n",
    "gene_map.head()"
   ]
  },
  {
   "cell_type": "code",
   "execution_count": null,
   "id": "f7dd8777-8fe7-4b3f-be52-a11cd1df1a17",
   "metadata": {},
   "outputs": [],
   "source": []
  },
  {
   "cell_type": "code",
   "execution_count": null,
   "id": "f1fbc7d4-6c81-4c4a-b780-4f059f5fcdbb",
   "metadata": {},
   "outputs": [],
   "source": []
  },
  {
   "cell_type": "code",
   "execution_count": null,
   "id": "a894d735-2775-461f-a8f3-1fd21b972c83",
   "metadata": {},
   "outputs": [],
   "source": [
    "break"
   ]
  },
  {
   "cell_type": "code",
   "execution_count": null,
   "id": "2f345b00-5a87-4efa-9572-2de95f90f162",
   "metadata": {},
   "outputs": [],
   "source": [
    "df.columns"
   ]
  },
  {
   "cell_type": "code",
   "execution_count": null,
   "id": "322045b4-0a86-4ccf-836a-e61dba2085eb",
   "metadata": {},
   "outputs": [],
   "source": [
    "df['duplicate_maps'] = df.groupby(['read_name', 'read_start'])['gene_name'].transform('nunique')\n",
    "test = df[df['duplicate_maps'] > 1]\n",
    "test = test.sort_values(by=['read_name', 'ref_start'])\n",
    "print(f\"{test.shape=}\")\n",
    "test[['read_name', 'read_start', 'ref_start', 'chrom', 'gene_name', 'gene_biotype', 'gene_start']].head()"
   ]
  },
  {
   "cell_type": "code",
   "execution_count": null,
   "id": "1c82465d-4755-48a4-8ee3-3c92a4ed7169",
   "metadata": {},
   "outputs": [],
   "source": []
  },
  {
   "cell_type": "code",
   "execution_count": null,
   "id": "3f82a99c-83fe-4cb5-bcc0-3f5d78bd3440",
   "metadata": {},
   "outputs": [],
   "source": [
    "break"
   ]
  },
  {
   "cell_type": "code",
   "execution_count": null,
   "id": "e1b42c83-07ad-4bc3-b5d0-19417cd77bed",
   "metadata": {},
   "outputs": [],
   "source": [
    "df['gene_name'].value_counts()"
   ]
  },
  {
   "cell_type": "code",
   "execution_count": null,
   "id": "0a44c732-9b49-414a-8d8b-96e127b42abb",
   "metadata": {},
   "outputs": [],
   "source": [
    "df['read_name'].value_counts()"
   ]
  },
  {
   "cell_type": "code",
   "execution_count": null,
   "id": "402519d7-ac56-491d-8ca6-6d8bd13d4721",
   "metadata": {},
   "outputs": [],
   "source": []
  },
  {
   "cell_type": "code",
   "execution_count": null,
   "id": "01aae936-bdc3-4234-bd0e-49b6ed79f085",
   "metadata": {},
   "outputs": [],
   "source": []
  },
  {
   "cell_type": "code",
   "execution_count": null,
   "id": "fab9b082-f528-40b2-9bcb-2e8dd3e39242",
   "metadata": {},
   "outputs": [],
   "source": [
    "gdf = pd.read_parquet(gene_path)\n",
    "print(f\"{gdf.shape=}\")\n",
    "gdf.head()\n",
    "\n",
    "# gdf_pr = pr.PyRanges(gdf)\n"
   ]
  },
  {
   "cell_type": "code",
   "execution_count": null,
   "id": "482afa93-cbee-4b02-9971-d3a0469df79d",
   "metadata": {},
   "outputs": [],
   "source": [
    "df.head()"
   ]
  },
  {
   "cell_type": "code",
   "execution_count": null,
   "id": "0a765821-5e5c-4d6f-8af7-a94d1b9859f1",
   "metadata": {},
   "outputs": [],
   "source": []
  }
 ],
 "metadata": {
  "kernelspec": {
   "display_name": "scanpy",
   "language": "python",
   "name": "scanpy"
  },
  "language_info": {
   "codemirror_mode": {
    "name": "ipython",
    "version": 3
   },
   "file_extension": ".py",
   "mimetype": "text/x-python",
   "name": "python",
   "nbconvert_exporter": "python",
   "pygments_lexer": "ipython3",
   "version": "3.12.5"
  }
 },
 "nbformat": 4,
 "nbformat_minor": 5
}
