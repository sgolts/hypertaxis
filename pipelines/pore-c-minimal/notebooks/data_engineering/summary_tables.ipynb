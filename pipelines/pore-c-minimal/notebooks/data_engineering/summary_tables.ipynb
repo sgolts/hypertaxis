{
 "cells": [
  {
   "cell_type": "code",
   "execution_count": 6,
   "id": "bd15f96d-d797-45ec-9843-0537573caee3",
   "metadata": {},
   "outputs": [],
   "source": [
    "import pandas as pd\n",
    "import os\n",
    "import sys\n",
    "import numpy as np\n",
    "import matplotlib.pyplot as plt\n",
    "import seaborn as sns"
   ]
  },
  {
   "cell_type": "markdown",
   "id": "c2d122fd-791e-4563-bd5b-616768854e42",
   "metadata": {},
   "source": [
    "# Sequencing report"
   ]
  },
  {
   "cell_type": "code",
   "execution_count": 19,
   "id": "80ef7cf6-6259-4ccc-9295-835b3291334b",
   "metadata": {},
   "outputs": [
    {
     "data": {
      "text/html": [
       "<div>\n",
       "<style scoped>\n",
       "    .dataframe tbody tr th:only-of-type {\n",
       "        vertical-align: middle;\n",
       "    }\n",
       "\n",
       "    .dataframe tbody tr th {\n",
       "        vertical-align: top;\n",
       "    }\n",
       "\n",
       "    .dataframe thead th {\n",
       "        text-align: right;\n",
       "    }\n",
       "</style>\n",
       "<table border=\"1\" class=\"dataframe\">\n",
       "  <thead>\n",
       "    <tr style=\"text-align: right;\">\n",
       "      <th></th>\n",
       "      <th>file</th>\n",
       "      <th>num_seqs</th>\n",
       "      <th>Gb</th>\n",
       "      <th>avg_len</th>\n",
       "      <th>N50</th>\n",
       "    </tr>\n",
       "  </thead>\n",
       "  <tbody>\n",
       "    <tr>\n",
       "      <th>0</th>\n",
       "      <td>o4b03.raw.fastq</td>\n",
       "      <td>785.0</td>\n",
       "      <td>0.000052</td>\n",
       "      <td>66.6</td>\n",
       "      <td>1106.0</td>\n",
       "    </tr>\n",
       "    <tr>\n",
       "      <th>1</th>\n",
       "      <td>o4b02.raw.fastq</td>\n",
       "      <td>3314.0</td>\n",
       "      <td>0.000282</td>\n",
       "      <td>85.2</td>\n",
       "      <td>583.0</td>\n",
       "    </tr>\n",
       "    <tr>\n",
       "      <th>2</th>\n",
       "      <td>o4b08.raw.fastq</td>\n",
       "      <td>1449.0</td>\n",
       "      <td>0.000095</td>\n",
       "      <td>65.7</td>\n",
       "      <td>456.0</td>\n",
       "    </tr>\n",
       "    <tr>\n",
       "      <th>3</th>\n",
       "      <td>o4b06.raw.fastq</td>\n",
       "      <td>8295.0</td>\n",
       "      <td>0.000229</td>\n",
       "      <td>27.6</td>\n",
       "      <td>98.0</td>\n",
       "    </tr>\n",
       "    <tr>\n",
       "      <th>4</th>\n",
       "      <td>o4b01.raw.fastq</td>\n",
       "      <td>16284.0</td>\n",
       "      <td>0.000593</td>\n",
       "      <td>36.4</td>\n",
       "      <td>69.0</td>\n",
       "    </tr>\n",
       "  </tbody>\n",
       "</table>\n",
       "</div>"
      ],
      "text/plain": [
       "              file  num_seqs        Gb  avg_len     N50\n",
       "0  o4b03.raw.fastq     785.0  0.000052     66.6  1106.0\n",
       "1  o4b02.raw.fastq    3314.0  0.000282     85.2   583.0\n",
       "2  o4b08.raw.fastq    1449.0  0.000095     65.7   456.0\n",
       "3  o4b06.raw.fastq    8295.0  0.000229     27.6    98.0\n",
       "4  o4b01.raw.fastq   16284.0  0.000593     36.4    69.0"
      ]
     },
     "execution_count": 19,
     "metadata": {},
     "output_type": "execute_result"
    }
   ],
   "source": [
    "def load_seqkit_report(fpath):\n",
    "    \"\"\"A function to load a seqkit summary \"\"\"\n",
    "    pdf = pd.read_csv(fpath, sep=r\"\\s+\")\n",
    "    \n",
    "    columns = [\n",
    "        'num_seqs',\n",
    "        'sum_len',\n",
    "        'min_len',\n",
    "        'avg_len',\n",
    "        'max_len',\n",
    "        'Q1',\n",
    "        'Q2',\n",
    "        'Q3',\n",
    "        'N50',\n",
    "    ] \n",
    "    \n",
    "    for c in columns:\n",
    "        pdf[c] = pdf[c].astype(str).str.replace(',', '').astype(float)\n",
    "\n",
    "    return pdf\n",
    "\n",
    "fpath = \"/scratch/indikar_root/indikar1/shared_data/single_cell/reports/seqkit/fastq.report.txt\"\n",
    "\n",
    "pdf = load_seqkit_report(fpath)\n",
    "pdf['Gb'] = pdf['sum_len'] / 1e+9\n",
    "\n",
    "columns = [\n",
    "    'file',\n",
    "    'num_seqs',\n",
    "    'Gb',\n",
    "    'avg_len',\n",
    "    'N50',\n",
    "]\n",
    "\n",
    "pdf[columns].head()\n",
    "\n",
    "# print(pdf[columns].round(1).astype(str).to_latex(index=False))"
   ]
  },
  {
   "cell_type": "code",
   "execution_count": 28,
   "id": "f9d91844-1ab5-4152-a6bc-ed684830d1ae",
   "metadata": {},
   "outputs": [
    {
     "data": {
      "text/html": [
       "<div>\n",
       "<style scoped>\n",
       "    .dataframe tbody tr th:only-of-type {\n",
       "        vertical-align: middle;\n",
       "    }\n",
       "\n",
       "    .dataframe tbody tr th {\n",
       "        vertical-align: top;\n",
       "    }\n",
       "\n",
       "    .dataframe thead th {\n",
       "        text-align: right;\n",
       "    }\n",
       "</style>\n",
       "<table border=\"1\" class=\"dataframe\">\n",
       "  <thead>\n",
       "    <tr style=\"text-align: right;\">\n",
       "      <th></th>\n",
       "      <th>file</th>\n",
       "      <th>format</th>\n",
       "      <th>type</th>\n",
       "      <th>num_seqs</th>\n",
       "      <th>sum_len</th>\n",
       "      <th>min_len</th>\n",
       "      <th>avg_len</th>\n",
       "      <th>max_len</th>\n",
       "      <th>Q1</th>\n",
       "      <th>Q2</th>\n",
       "      <th>Q3</th>\n",
       "      <th>sum_gap</th>\n",
       "      <th>N50</th>\n",
       "      <th>N50_num</th>\n",
       "      <th>Q20(%)</th>\n",
       "      <th>Q30(%)</th>\n",
       "      <th>AvgQual</th>\n",
       "      <th>GC(%)</th>\n",
       "      <th>Gb</th>\n",
       "    </tr>\n",
       "  </thead>\n",
       "  <tbody>\n",
       "    <tr>\n",
       "      <th>0</th>\n",
       "      <td>o4b03.raw.fastq</td>\n",
       "      <td>FASTQ</td>\n",
       "      <td>DNA</td>\n",
       "      <td>785.0</td>\n",
       "      <td>52285.0</td>\n",
       "      <td>1.0</td>\n",
       "      <td>66.6</td>\n",
       "      <td>2334.0</td>\n",
       "      <td>4.0</td>\n",
       "      <td>17.0</td>\n",
       "      <td>40.0</td>\n",
       "      <td>0</td>\n",
       "      <td>1106.0</td>\n",
       "      <td>18</td>\n",
       "      <td>44.77</td>\n",
       "      <td>19.25</td>\n",
       "      <td>10.59</td>\n",
       "      <td>48.46</td>\n",
       "      <td>0.000052</td>\n",
       "    </tr>\n",
       "  </tbody>\n",
       "</table>\n",
       "</div>"
      ],
      "text/plain": [
       "              file format type  num_seqs  sum_len  min_len  avg_len  max_len  \\\n",
       "0  o4b03.raw.fastq  FASTQ  DNA     785.0  52285.0      1.0     66.6   2334.0   \n",
       "\n",
       "    Q1    Q2    Q3  sum_gap     N50 N50_num  Q20(%)  Q30(%)  AvgQual  GC(%)  \\\n",
       "0  4.0  17.0  40.0        0  1106.0      18   44.77   19.25    10.59  48.46   \n",
       "\n",
       "         Gb  \n",
       "0  0.000052  "
      ]
     },
     "execution_count": 28,
     "metadata": {},
     "output_type": "execute_result"
    }
   ],
   "source": [
    "pdf[pdf['file'] == \"o4b03.raw.fastq\"]"
   ]
  },
  {
   "cell_type": "markdown",
   "id": "5110258f-049b-4222-a949-107a1fdb77ed",
   "metadata": {},
   "source": [
    "# Cis-trans"
   ]
  },
  {
   "cell_type": "code",
   "execution_count": 61,
   "id": "e4fcef36-d14b-480f-9dfc-328bb0e1d126",
   "metadata": {},
   "outputs": [
    {
     "name": "stdout",
     "output_type": "stream",
     "text": [
      "df.shape=(2, 381)\n"
     ]
    },
    {
     "data": {
      "text/plain": [
       "'\\\\begin{tabular}{lrrr}\\n\\\\toprule\\nsample & total_cis & total_trans & mean_cis_ratio \\\\\\\\\\n\\\\midrule\\no1 & 24834996 & 40377552 & 0.377324 \\\\\\\\\\no2 & 720060 & 1008821 & 0.396199 \\\\\\\\\\no3 & 20624082 & 15101365 & 0.438844 \\\\\\\\\\no4 & 5839692 & 4495473 & 0.575527 \\\\\\\\\\n\\\\bottomrule\\n\\\\end{tabular}\\n'"
      ]
     },
     "execution_count": 61,
     "metadata": {},
     "output_type": "execute_result"
    }
   ],
   "source": [
    "fpath = \"/scratch/indikar_root/indikar1/shared_data/single_cell/reports/annotate/direct.cis_trans.csv\"\n",
    "\n",
    "df = pd.read_csv(fpath)\n",
    "print(f\"{df.shape=}\")\n",
    "df = df.sort_values(by='contact_type')\n",
    "df = df.set_index('contact_type')\n",
    "df = df.T\n",
    "df['total'] = df.sum(axis=1)\n",
    "df['percent_cis'] = df['cis'] / df['total']\n",
    "df['sample'] = df.index.astype(str).str[:2] \n",
    "df['cell'] = df.index.astype(str).str[2:5] \n",
    "df = df.sort_values(by=['sample', 'cell'])\n",
    "\n",
    "gx = df.groupby('sample').agg(\n",
    "    total_cis = ('cis', 'sum'),\n",
    "    total_trans = ('trans', 'sum'),\n",
    "    mean_cis_ratio = ('percent_cis', 'mean'),\n",
    ").reset_index()\n",
    "\n",
    "gx.to_latex(index=False)"
   ]
  },
  {
   "cell_type": "code",
   "execution_count": null,
   "id": "a10733a9-a470-48b6-a26e-72abaf1ad818",
   "metadata": {},
   "outputs": [],
   "source": []
  },
  {
   "cell_type": "code",
   "execution_count": null,
   "id": "95e43ca9-a437-4ea9-b377-aaf31e77db38",
   "metadata": {},
   "outputs": [],
   "source": []
  },
  {
   "cell_type": "code",
   "execution_count": null,
   "id": "4152b9b5-da2b-4d88-a1c2-9b1cbb1c59cb",
   "metadata": {},
   "outputs": [],
   "source": []
  },
  {
   "cell_type": "code",
   "execution_count": 57,
   "id": "cfd1b860-94fc-47e6-b43c-b7e9cb28d42f",
   "metadata": {},
   "outputs": [
    {
     "data": {
      "text/html": [
       "<div>\n",
       "<style scoped>\n",
       "    .dataframe tbody tr th:only-of-type {\n",
       "        vertical-align: middle;\n",
       "    }\n",
       "\n",
       "    .dataframe tbody tr th {\n",
       "        vertical-align: top;\n",
       "    }\n",
       "\n",
       "    .dataframe thead th {\n",
       "        text-align: right;\n",
       "    }\n",
       "</style>\n",
       "<table border=\"1\" class=\"dataframe\">\n",
       "  <thead>\n",
       "    <tr style=\"text-align: right;\">\n",
       "      <th></th>\n",
       "      <th>sample</th>\n",
       "      <th>total_cis</th>\n",
       "      <th>total_trans</th>\n",
       "      <th>mean_cis_ratio</th>\n",
       "      <th>std_cis_ratio</th>\n",
       "    </tr>\n",
       "  </thead>\n",
       "  <tbody>\n",
       "    <tr>\n",
       "      <th>0</th>\n",
       "      <td>o1</td>\n",
       "      <td>24834996</td>\n",
       "      <td>40377552</td>\n",
       "      <td>0.377324</td>\n",
       "      <td>0.070977</td>\n",
       "    </tr>\n",
       "    <tr>\n",
       "      <th>1</th>\n",
       "      <td>o2</td>\n",
       "      <td>720060</td>\n",
       "      <td>1008821</td>\n",
       "      <td>0.396199</td>\n",
       "      <td>0.074731</td>\n",
       "    </tr>\n",
       "    <tr>\n",
       "      <th>2</th>\n",
       "      <td>o3</td>\n",
       "      <td>20624082</td>\n",
       "      <td>15101365</td>\n",
       "      <td>0.438844</td>\n",
       "      <td>0.104984</td>\n",
       "    </tr>\n",
       "    <tr>\n",
       "      <th>3</th>\n",
       "      <td>o4</td>\n",
       "      <td>5839692</td>\n",
       "      <td>4495473</td>\n",
       "      <td>0.575527</td>\n",
       "      <td>0.063696</td>\n",
       "    </tr>\n",
       "  </tbody>\n",
       "</table>\n",
       "</div>"
      ],
      "text/plain": [
       "  sample  total_cis  total_trans  mean_cis_ratio  std_cis_ratio\n",
       "0     o1   24834996     40377552        0.377324       0.070977\n",
       "1     o2     720060      1008821        0.396199       0.074731\n",
       "2     o3   20624082     15101365        0.438844       0.104984\n",
       "3     o4    5839692      4495473        0.575527       0.063696"
      ]
     },
     "execution_count": 57,
     "metadata": {},
     "output_type": "execute_result"
    }
   ],
   "source": [
    "gx = df.groupby('sample').agg(\n",
    "    total_cis = ('cis', 'sum'),\n",
    "    total_trans = ('trans', 'sum'),\n",
    "    mean_cis_ratio = ('percent_cis', 'mean'),\n",
    "    std_cis_ratio = ('percent_cis', 'std'),\n",
    ").reset_index()\n",
    "\n",
    "gx"
   ]
  },
  {
   "cell_type": "code",
   "execution_count": 34,
   "id": "7e0c53f0-7f63-4da5-96e5-513bcc6808c8",
   "metadata": {},
   "outputs": [
    {
     "data": {
      "text/plain": [
       "919.0"
      ]
     },
     "execution_count": 34,
     "metadata": {},
     "output_type": "execute_result"
    }
   ],
   "source": [
    "df['o4b03.GRCm39.summary.json'].sum()"
   ]
  },
  {
   "cell_type": "code",
   "execution_count": null,
   "id": "60cfe960-c1cd-4c7c-b063-0a6c6bc729ed",
   "metadata": {},
   "outputs": [],
   "source": []
  },
  {
   "cell_type": "markdown",
   "id": "871d2322-5483-47a2-8458-5d561315d55c",
   "metadata": {},
   "source": [
    "# Mapping percent"
   ]
  },
  {
   "cell_type": "code",
   "execution_count": 12,
   "id": "24d2e85d-8316-4a97-943a-9ce85a0364d4",
   "metadata": {},
   "outputs": [
    {
     "data": {
      "text/html": [
       "<div>\n",
       "<style scoped>\n",
       "    .dataframe tbody tr th:only-of-type {\n",
       "        vertical-align: middle;\n",
       "    }\n",
       "\n",
       "    .dataframe tbody tr th {\n",
       "        vertical-align: top;\n",
       "    }\n",
       "\n",
       "    .dataframe thead th {\n",
       "        text-align: right;\n",
       "    }\n",
       "</style>\n",
       "<table border=\"1\" class=\"dataframe\">\n",
       "  <thead>\n",
       "    <tr style=\"text-align: right;\">\n",
       "      <th></th>\n",
       "      <th>basename</th>\n",
       "      <th>mapping_percentage</th>\n",
       "      <th>sample</th>\n",
       "      <th>cell</th>\n",
       "    </tr>\n",
       "  </thead>\n",
       "  <tbody>\n",
       "    <tr>\n",
       "      <th>181</th>\n",
       "      <td>o1b01.GRCm39.txt</td>\n",
       "      <td>58.81</td>\n",
       "      <td>o1</td>\n",
       "      <td>b01</td>\n",
       "    </tr>\n",
       "    <tr>\n",
       "      <th>186</th>\n",
       "      <td>o1b02.GRCm39.txt</td>\n",
       "      <td>66.62</td>\n",
       "      <td>o1</td>\n",
       "      <td>b02</td>\n",
       "    </tr>\n",
       "    <tr>\n",
       "      <th>189</th>\n",
       "      <td>o1b03.GRCm39.txt</td>\n",
       "      <td>68.99</td>\n",
       "      <td>o1</td>\n",
       "      <td>b03</td>\n",
       "    </tr>\n",
       "    <tr>\n",
       "      <th>190</th>\n",
       "      <td>o1b04.GRCm39.txt</td>\n",
       "      <td>67.79</td>\n",
       "      <td>o1</td>\n",
       "      <td>b04</td>\n",
       "    </tr>\n",
       "    <tr>\n",
       "      <th>197</th>\n",
       "      <td>o1b05.GRCm39.txt</td>\n",
       "      <td>66.83</td>\n",
       "      <td>o1</td>\n",
       "      <td>b05</td>\n",
       "    </tr>\n",
       "  </tbody>\n",
       "</table>\n",
       "</div>"
      ],
      "text/plain": [
       "             basename  mapping_percentage sample cell\n",
       "181  o1b01.GRCm39.txt               58.81     o1  b01\n",
       "186  o1b02.GRCm39.txt               66.62     o1  b02\n",
       "189  o1b03.GRCm39.txt               68.99     o1  b03\n",
       "190  o1b04.GRCm39.txt               67.79     o1  b04\n",
       "197  o1b05.GRCm39.txt               66.83     o1  b05"
      ]
     },
     "execution_count": 12,
     "metadata": {},
     "output_type": "execute_result"
    }
   ],
   "source": [
    "fpath = \"/scratch/indikar_root/indikar1/shared_data/single_cell/reports/mapping_percentage/expanded.csv\"\n",
    "\n",
    "df = pd.read_csv(fpath)\n",
    "\n",
    "df['sample'] = df['basename'].astype(str).str[:2] \n",
    "df['cell'] = df['basename'].astype(str).str[2:5] \n",
    "df = df.sort_values(by=['sample', 'cell'])\n",
    "df.head()\n"
   ]
  },
  {
   "cell_type": "code",
   "execution_count": 17,
   "id": "48d0137f-db37-433f-b510-0406289e9aa5",
   "metadata": {},
   "outputs": [
    {
     "data": {
      "text/html": [
       "<div>\n",
       "<style scoped>\n",
       "    .dataframe tbody tr th:only-of-type {\n",
       "        vertical-align: middle;\n",
       "    }\n",
       "\n",
       "    .dataframe tbody tr th {\n",
       "        vertical-align: top;\n",
       "    }\n",
       "\n",
       "    .dataframe thead th {\n",
       "        text-align: right;\n",
       "    }\n",
       "</style>\n",
       "<table border=\"1\" class=\"dataframe\">\n",
       "  <thead>\n",
       "    <tr style=\"text-align: right;\">\n",
       "      <th></th>\n",
       "      <th>sample</th>\n",
       "      <th>average</th>\n",
       "      <th>median</th>\n",
       "    </tr>\n",
       "  </thead>\n",
       "  <tbody>\n",
       "    <tr>\n",
       "      <th>0</th>\n",
       "      <td>o1</td>\n",
       "      <td>66.359271</td>\n",
       "      <td>66.845</td>\n",
       "    </tr>\n",
       "    <tr>\n",
       "      <th>1</th>\n",
       "      <td>o2</td>\n",
       "      <td>43.639565</td>\n",
       "      <td>55.615</td>\n",
       "    </tr>\n",
       "    <tr>\n",
       "      <th>2</th>\n",
       "      <td>o3</td>\n",
       "      <td>65.349479</td>\n",
       "      <td>70.365</td>\n",
       "    </tr>\n",
       "    <tr>\n",
       "      <th>3</th>\n",
       "      <td>o4</td>\n",
       "      <td>53.491667</td>\n",
       "      <td>73.870</td>\n",
       "    </tr>\n",
       "  </tbody>\n",
       "</table>\n",
       "</div>"
      ],
      "text/plain": [
       "  sample    average  median\n",
       "0     o1  66.359271  66.845\n",
       "1     o2  43.639565  55.615\n",
       "2     o3  65.349479  70.365\n",
       "3     o4  53.491667  73.870"
      ]
     },
     "execution_count": 17,
     "metadata": {},
     "output_type": "execute_result"
    }
   ],
   "source": [
    "gx = df.groupby('sample').agg(\n",
    "    average = ('mapping_percentage', 'mean'),\n",
    "    median = ('mapping_percentage', 'median'),\n",
    ").reset_index()\n",
    "\n",
    "gx"
   ]
  },
  {
   "cell_type": "code",
   "execution_count": null,
   "id": "6506275e-e926-4569-bd8a-76ea75798917",
   "metadata": {},
   "outputs": [],
   "source": []
  },
  {
   "cell_type": "code",
   "execution_count": 15,
   "id": "9f71eda3-0213-49c9-984e-2aa5b20c948f",
   "metadata": {},
   "outputs": [
    {
     "data": {
      "text/plain": [
       "Text(0, 0.5, 'n Cells')"
      ]
     },
     "execution_count": 15,
     "metadata": {},
     "output_type": "execute_result"
    },
    {
     "data": {
      "image/png": "[encoded data removed]",
      "text/plain": [
       "<Figure size 640x480 with 1 Axes>"
      ]
     },
     "metadata": {},
     "output_type": "display_data"
    }
   ],
   "source": [
    "sns.histplot(data=df, \n",
    "             x='mapping_percentage',\n",
    "             kde=True,\n",
    "             hue='sample',)\n",
    "\n",
    "plt.xlabel('% Reads Mapped')\n",
    "plt.ylabel('n Cells')"
   ]
  },
  {
   "cell_type": "code",
   "execution_count": null,
   "id": "d878ee2f-dab1-413b-bb07-815294dfd52d",
   "metadata": {},
   "outputs": [],
   "source": []
  }
 ],
 "metadata": {
  "kernelspec": {
   "display_name": "bioinf",
   "language": "python",
   "name": "bioinf"
  },
  "language_info": {
   "codemirror_mode": {
    "name": "ipython",
    "version": 3
   },
   "file_extension": ".py",
   "mimetype": "text/x-python",
   "name": "python",
   "nbconvert_exporter": "python",
   "pygments_lexer": "ipython3",
   "version": "3.10.14"
  }
 },
 "nbformat": 4,
 "nbformat_minor": 5
}
