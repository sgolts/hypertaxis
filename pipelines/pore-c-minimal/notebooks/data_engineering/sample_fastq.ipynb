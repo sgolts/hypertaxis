{
 "cells": [
  {
   "cell_type": "code",
   "execution_count": 3,
   "id": "a5b494b1-0f90-4343-8a0a-cba60a0b79a4",
   "metadata": {},
   "outputs": [],
   "source": [
    "import sys\n",
    "import glob\n",
    "import os\n",
    "import pandas as pd\n",
    "import shutil"
   ]
  },
  {
   "cell_type": "code",
   "execution_count": 8,
   "id": "ce31ebc8-0fdb-41dc-973e-bcfc31571a6f",
   "metadata": {},
   "outputs": [
    {
     "data": {
      "text/html": [
       "<div>\n",
       "<style scoped>\n",
       "    .dataframe tbody tr th:only-of-type {\n",
       "        vertical-align: middle;\n",
       "    }\n",
       "\n",
       "    .dataframe tbody tr th {\n",
       "        vertical-align: top;\n",
       "    }\n",
       "\n",
       "    .dataframe thead th {\n",
       "        text-align: right;\n",
       "    }\n",
       "</style>\n",
       "<table border=\"1\" class=\"dataframe\">\n",
       "  <thead>\n",
       "    <tr style=\"text-align: right;\">\n",
       "      <th></th>\n",
       "      <th>cell_id</th>\n",
       "      <th>file_path</th>\n",
       "    </tr>\n",
       "  </thead>\n",
       "  <tbody>\n",
       "    <tr>\n",
       "      <th>0</th>\n",
       "      <td>o4b01</td>\n",
       "      <td>/nfs/turbo/umms-indikar/shared/projects/poreC/...</td>\n",
       "    </tr>\n",
       "    <tr>\n",
       "      <th>1</th>\n",
       "      <td>o4b02</td>\n",
       "      <td>/nfs/turbo/umms-indikar/shared/projects/poreC/...</td>\n",
       "    </tr>\n",
       "    <tr>\n",
       "      <th>2</th>\n",
       "      <td>o4b03</td>\n",
       "      <td>/nfs/turbo/umms-indikar/shared/projects/poreC/...</td>\n",
       "    </tr>\n",
       "    <tr>\n",
       "      <th>3</th>\n",
       "      <td>o4b04</td>\n",
       "      <td>/nfs/turbo/umms-indikar/shared/projects/poreC/...</td>\n",
       "    </tr>\n",
       "    <tr>\n",
       "      <th>4</th>\n",
       "      <td>o4b05</td>\n",
       "      <td>/nfs/turbo/umms-indikar/shared/projects/poreC/...</td>\n",
       "    </tr>\n",
       "  </tbody>\n",
       "</table>\n",
       "</div>"
      ],
      "text/plain": [
       "  cell_id                                          file_path\n",
       "0   o4b01  /nfs/turbo/umms-indikar/shared/projects/poreC/...\n",
       "1   o4b02  /nfs/turbo/umms-indikar/shared/projects/poreC/...\n",
       "2   o4b03  /nfs/turbo/umms-indikar/shared/projects/poreC/...\n",
       "3   o4b04  /nfs/turbo/umms-indikar/shared/projects/poreC/...\n",
       "4   o4b05  /nfs/turbo/umms-indikar/shared/projects/poreC/..."
      ]
     },
     "execution_count": 8,
     "metadata": {},
     "output_type": "execute_result"
    }
   ],
   "source": [
    "source_paths = \"../../../ont_adapter_clean_up/config/fastq_paths.txt\"\n",
    "df = pd.read_csv(source_paths)\n",
    "df.head()"
   ]
  },
  {
   "cell_type": "code",
   "execution_count": 9,
   "id": "34eb52f8-46cb-44df-9b27-9b6948b5b425",
   "metadata": {},
   "outputs": [
    {
     "name": "stdout",
     "output_type": "stream",
     "text": [
      "['o1b39.fastq', 'o4b96.fastq', 'o3b73.fastq', 'o4b76.fastq', 'o3b66.fastq', 'o2b10.fastq', 'o2b28.fastq', 'o2b42.fastq', 'o4b91.fastq', 'o1b73.fastq']\n"
     ]
    }
   ],
   "source": [
    "dest_dir = \"/nfs/turbo/umms-indikar/shared/projects/poreC/data/to_nanopore/\"\n",
    "\n",
    "sample_size = 10\n",
    "\n",
    "for _, row in df.sample(sample_size).iterrows():\n",
    "    sample_id = row['cell_id']\n",
    "    source_path = row['file_path']\n",
    "    dest_path = f\"{dest_dir}{sample_id}.fastq\"\n",
    "    \n",
    "    shutil.copy(source_path, dest_path)\n",
    "    \n",
    "print(os.listdir(dest_dir))"
   ]
  },
  {
   "cell_type": "code",
   "execution_count": null,
   "id": "1a3692ed-db02-482a-b872-301df0313b8b",
   "metadata": {},
   "outputs": [],
   "source": []
  }
 ],
 "metadata": {
  "kernelspec": {
   "display_name": "bioinf",
   "language": "python",
   "name": "bioinf"
  },
  "language_info": {
   "codemirror_mode": {
    "name": "ipython",
    "version": 3
   },
   "file_extension": ".py",
   "mimetype": "text/x-python",
   "name": "python",
   "nbconvert_exporter": "python",
   "pygments_lexer": "ipython3",
   "version": "3.10.14"
  }
 },
 "nbformat": 4,
 "nbformat_minor": 5
}
