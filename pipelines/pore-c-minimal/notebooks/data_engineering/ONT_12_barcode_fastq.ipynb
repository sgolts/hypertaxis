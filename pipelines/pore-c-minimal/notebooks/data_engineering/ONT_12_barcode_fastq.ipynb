{
 "cells": [
  {
   "cell_type": "code",
   "execution_count": 3,
   "id": "35c2f509-eeb4-4c1a-b928-ea406eae7f36",
   "metadata": {},
   "outputs": [],
   "source": [
    "import glob\n",
    "import sys\n",
    "import os\n",
    "import pandas as pd\n",
    "import numpy as np\n",
    "import subprocess\n",
    "import pathlib"
   ]
  },
  {
   "cell_type": "code",
   "execution_count": 30,
   "id": "65deb010-210d-45e0-9680-d627ba11024d",
   "metadata": {},
   "outputs": [
    {
     "name": "stdout",
     "output_type": "stream",
     "text": [
      "done\n"
     ]
    }
   ],
   "source": [
    "output_path = \"/nfs/turbo/umms-indikar/shared/projects/poreC/data/fastq/ont_12_barcode/merged/\"\n",
    "root_directory = \"/nfs/turbo/umms-indikar/shared/projects/poreC/data/fastq/ont_12_barcode/fastq_pass/\"\n",
    "\n",
    "def cat_files(file_list, output_file):\n",
    "    \"\"\"Concatenates a list of files using the 'cat' command.\"\"\"\n",
    "    with open(output_file, \"w\") as outfile:\n",
    "        subprocess.run([\"cat\"] + file_list, stdout=outfile)\n",
    "\n",
    "for barcode in os.listdir(root_directory):\n",
    "    \n",
    "    if barcode == 'unclassified':\n",
    "        continue\n",
    "    \n",
    "    fastq_files = glob.glob(f\"{root_directory}{barcode}/*fastq*\")\n",
    "    output = f\"{output_path}{barcode}.fastq.gz\"\n",
    "    \n",
    "    cat_files(fastq_files, output)\n",
    "\n",
    "print('done')\n",
    "    "
   ]
  },
  {
   "cell_type": "code",
   "execution_count": 23,
   "id": "c229260f-684b-4b26-8c4c-f1021f7ad27c",
   "metadata": {},
   "outputs": [
    {
     "name": "stdout",
     "output_type": "stream",
     "text": [
      "barcode02 3\n",
      "barcode08 3\n",
      "barcode04 3\n",
      "barcode03 2\n",
      "barcode07 2\n",
      "barcode10 2\n",
      "barcode11 2\n",
      "barcode06 2\n",
      "barcode12 2\n",
      "barcode05 2\n",
      "barcode09 2\n",
      "barcode01 2\n"
     ]
    }
   ],
   "source": [
    "cell_files = {}\n",
    "\n",
    "for folder in folders:\n",
    "    for barcode in os.listdir(folder):\n",
    "        if not pathlib.Path(f\"{folder}/{barcode}\").is_dir():\n",
    "            continue\n",
    "            \n",
    "        if barcode == 'unclassified':\n",
    "            continue\n",
    "        \n",
    "        fastq_list = glob.glob(f\"{folder}/{barcode}/*fastq.gz\")\n",
    "        \n",
    "        if barcode in cell_files:\n",
    "            cell_files[barcode] += fastq_list\n",
    "        else:\n",
    "            cell_files[barcode] = fastq_list    \n",
    "    \n",
    "\n",
    "for k, v in cell_files.items():\n",
    "    print(k, len(v))"
   ]
  },
  {
   "cell_type": "code",
   "execution_count": null,
   "id": "845bdbf5-3e4b-445d-91ee-c68abc60e6a6",
   "metadata": {},
   "outputs": [],
   "source": []
  }
 ],
 "metadata": {
  "kernelspec": {
   "display_name": "bioinf",
   "language": "python",
   "name": "bioinf"
  },
  "language_info": {
   "codemirror_mode": {
    "name": "ipython",
    "version": 3
   },
   "file_extension": ".py",
   "mimetype": "text/x-python",
   "name": "python",
   "nbconvert_exporter": "python",
   "pygments_lexer": "ipython3",
   "version": "3.10.14"
  }
 },
 "nbformat": 4,
 "nbformat_minor": 5
}
