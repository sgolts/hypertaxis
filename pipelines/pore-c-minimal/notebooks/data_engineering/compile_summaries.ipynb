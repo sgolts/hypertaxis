{
 "cells": [
  {
   "cell_type": "code",
   "execution_count": 1,
   "id": "a294f16b-5281-4977-bbd8-37cfbc22c497",
   "metadata": {},
   "outputs": [],
   "source": [
    "import pandas as pd\n",
    "import sys\n",
    "import os\n",
    "import numpy as np\n",
    "import glob\n",
    "import pairtools\n",
    "import pairtools.lib.headerops as phead"
   ]
  },
  {
   "cell_type": "code",
   "execution_count": 57,
   "id": "46888096-0d19-41b7-84c1-e811bdee571d",
   "metadata": {},
   "outputs": [
    {
     "data": {
      "text/plain": [
       "['/scratch/indikar_root/indikar1/shared_data/single_cell/direct/pairs/o1b61.GRCm39.direct.pairs',\n",
       " '/scratch/indikar_root/indikar1/shared_data/single_cell/direct/pairs/o1b73.GRCm39.direct.pairs',\n",
       " '/scratch/indikar_root/indikar1/shared_data/single_cell/direct/pairs/o2b74.GRCm39.direct.pairs',\n",
       " '/scratch/indikar_root/indikar1/shared_data/single_cell/direct/pairs/o4b10.GRCm39.direct.pairs',\n",
       " '/scratch/indikar_root/indikar1/shared_data/single_cell/direct/pairs/o4b34.GRCm39.direct.pairs',\n",
       " '/scratch/indikar_root/indikar1/shared_data/single_cell/direct/pairs/o2b08.GRCm39.direct.pairs',\n",
       " '/scratch/indikar_root/indikar1/shared_data/single_cell/direct/pairs/o3b69.GRCm39.direct.pairs',\n",
       " '/scratch/indikar_root/indikar1/shared_data/single_cell/direct/pairs/o1b40.GRCm39.direct.pairs',\n",
       " '/scratch/indikar_root/indikar1/shared_data/single_cell/direct/pairs/o2b03.GRCm39.direct.pairs',\n",
       " '/scratch/indikar_root/indikar1/shared_data/single_cell/direct/pairs/o3b55.GRCm39.direct.pairs']"
      ]
     },
     "execution_count": 57,
     "metadata": {},
     "output_type": "execute_result"
    }
   ],
   "source": [
    "dpath = \"/scratch/indikar_root/indikar1/shared_data/single_cell/direct/pairs/\"\n",
    "\n",
    "file_list = glob.glob(f\"{dpath}*\")\n",
    "file_list[:10]"
   ]
  },
  {
   "cell_type": "code",
   "execution_count": 43,
   "id": "967464f0-7f66-49e7-9e01-4edb1832e154",
   "metadata": {},
   "outputs": [],
   "source": [
    "def load_pairs(fpath, comment_char=\"#\"):\n",
    "    \"\"\"Loads a pairs table from a tab-separated file.\n",
    "\n",
    "    Args:\n",
    "        fpath (str): The file path to the pairs table.\n",
    "        comment_char (str, optional): The character indicating comment lines. \n",
    "                                     Defaults to \"#\".\n",
    "\n",
    "    Returns:\n",
    "        pd.DataFrame: A Pandas DataFrame containing the pairs table data.\n",
    "    \"\"\"\n",
    "    header = phead.get_header(open(fpath))[0][-1]\n",
    "    header = header.replace(\"#columns: \", \"\")\n",
    "    header = header.split(\" \")\n",
    "    \n",
    "    df = pd.read_csv(fpath, \n",
    "                     sep='\\t', \n",
    "                     header=None, \n",
    "                     names=header, \n",
    "                     comment=\"#\")\n",
    "    return df"
   ]
  },
  {
   "cell_type": "code",
   "execution_count": 58,
   "id": "cfce6d6a-d8d0-47c1-bc0f-98cc1c46a42e",
   "metadata": {},
   "outputs": [
    {
     "data": {
      "text/html": [
       "<div>\n",
       "<style scoped>\n",
       "    .dataframe tbody tr th:only-of-type {\n",
       "        vertical-align: middle;\n",
       "    }\n",
       "\n",
       "    .dataframe tbody tr th {\n",
       "        vertical-align: top;\n",
       "    }\n",
       "\n",
       "    .dataframe thead th {\n",
       "        text-align: right;\n",
       "    }\n",
       "</style>\n",
       "<table border=\"1\" class=\"dataframe\">\n",
       "  <thead>\n",
       "    <tr style=\"text-align: right;\">\n",
       "      <th></th>\n",
       "      <th>basename</th>\n",
       "      <th>unique_reads</th>\n",
       "      <th>higher_order</th>\n",
       "      <th>pairwise</th>\n",
       "    </tr>\n",
       "  </thead>\n",
       "  <tbody>\n",
       "    <tr>\n",
       "      <th>0</th>\n",
       "      <td>o1b61.GRCm39.direct.pairs</td>\n",
       "      <td>220804</td>\n",
       "      <td>204956</td>\n",
       "      <td>15848</td>\n",
       "    </tr>\n",
       "    <tr>\n",
       "      <th>1</th>\n",
       "      <td>o1b73.GRCm39.direct.pairs</td>\n",
       "      <td>4798</td>\n",
       "      <td>4437</td>\n",
       "      <td>361</td>\n",
       "    </tr>\n",
       "    <tr>\n",
       "      <th>2</th>\n",
       "      <td>o2b74.GRCm39.direct.pairs</td>\n",
       "      <td>9079</td>\n",
       "      <td>6212</td>\n",
       "      <td>2867</td>\n",
       "    </tr>\n",
       "    <tr>\n",
       "      <th>3</th>\n",
       "      <td>o4b10.GRCm39.direct.pairs</td>\n",
       "      <td>38442</td>\n",
       "      <td>32235</td>\n",
       "      <td>6207</td>\n",
       "    </tr>\n",
       "    <tr>\n",
       "      <th>4</th>\n",
       "      <td>o4b34.GRCm39.direct.pairs</td>\n",
       "      <td>10877</td>\n",
       "      <td>8596</td>\n",
       "      <td>2281</td>\n",
       "    </tr>\n",
       "  </tbody>\n",
       "</table>\n",
       "</div>"
      ],
      "text/plain": [
       "                    basename  unique_reads  higher_order  pairwise\n",
       "0  o1b61.GRCm39.direct.pairs        220804        204956     15848\n",
       "1  o1b73.GRCm39.direct.pairs          4798          4437       361\n",
       "2  o2b74.GRCm39.direct.pairs          9079          6212      2867\n",
       "3  o4b10.GRCm39.direct.pairs         38442         32235      6207\n",
       "4  o4b34.GRCm39.direct.pairs         10877          8596      2281"
      ]
     },
     "execution_count": 58,
     "metadata": {},
     "output_type": "execute_result"
    }
   ],
   "source": [
    "def get_basic_stats(df):\n",
    "    \"\"\"A function to get basic statistics \"\"\"\n",
    "    stats = {}\n",
    "    stats['n_contacts'] = len(df)\n",
    "    stats['n_cis'] = (df['chrom1'] == df['chrom2']).sum()\n",
    "    stats['n_trans'] = (df['chrom1'] != df['chrom2']).sum()\n",
    "    return stats\n",
    "\n",
    "\n",
    "def get_read_stats(df):\n",
    "    \"\"\"A function to get read statistics \"\"\"\n",
    "    stats = {}\n",
    "    stats['unique_reads'] = df['readID'].nunique()\n",
    "    \n",
    "    orders = df['readID'].value_counts()\n",
    "    orders = np.where(orders == 1, 'pairwise', 'higher_order')\n",
    "    orders = pd.Series(orders).value_counts()\n",
    "    orders = dict(zip(orders.index, orders.values))\n",
    "    \n",
    "    stats = stats | orders\n",
    "    \n",
    "    return stats\n",
    "\n",
    "\n",
    "basic_stats = []\n",
    "read_stats = []\n",
    "\n",
    "for file_path in file_list[:10]:\n",
    "    basename = os.path.basename(file_path)\n",
    "    df = load_pairs(file_path)\n",
    "    \n",
    "    row = {\n",
    "        'basename' : basename\n",
    "    }\n",
    "    \n",
    "    # basic statistics\n",
    "    basic_row = row | get_basic_stats(df)\n",
    "    basic_stats.append(basic_row)\n",
    "    \n",
    "    # read-level statistics\n",
    "    read_row = row | get_read_stats(df)\n",
    "    read_stats.append(read_row)\n",
    "    \n",
    "    # break\n",
    "    \n",
    "    \n",
    "# basic_stats = pd.DataFrame(basic_stats)    \n",
    "# basic_stats.head()\n",
    "\n",
    "read_stats = pd.DataFrame(read_stats)    \n",
    "read_stats.head()\n"
   ]
  },
  {
   "cell_type": "code",
   "execution_count": null,
   "id": "b2b1bb76-180b-41db-9fad-0823fa4a5297",
   "metadata": {},
   "outputs": [],
   "source": []
  },
  {
   "cell_type": "code",
   "execution_count": null,
   "id": "92b94302-555e-4c24-915d-96682e15ee63",
   "metadata": {},
   "outputs": [],
   "source": []
  },
  {
   "cell_type": "code",
   "execution_count": null,
   "id": "f06813c4-db3d-4e3c-9d2b-96145e395596",
   "metadata": {},
   "outputs": [],
   "source": []
  },
  {
   "cell_type": "code",
   "execution_count": null,
   "id": "562f464c-82da-48b1-9788-f01a89374e15",
   "metadata": {},
   "outputs": [],
   "source": []
  },
  {
   "cell_type": "code",
   "execution_count": 9,
   "id": "5c647e24-5b52-4c1a-a46d-412e85a260d5",
   "metadata": {},
   "outputs": [
    {
     "data": {
      "text/plain": [
       "2081"
      ]
     },
     "execution_count": 9,
     "metadata": {},
     "output_type": "execute_result"
    }
   ],
   "source": [
    "287 + 1794"
   ]
  },
  {
   "cell_type": "code",
   "execution_count": 5,
   "id": "798f705b-b64a-4e13-ae89-9a47ecc4303f",
   "metadata": {},
   "outputs": [
    {
     "ename": "SyntaxError",
     "evalue": "'break' outside loop (668683560.py, line 1)",
     "output_type": "error",
     "traceback": [
      "\u001b[0;36m  Cell \u001b[0;32mIn[5], line 1\u001b[0;36m\u001b[0m\n\u001b[0;31m    break\u001b[0m\n\u001b[0m    ^\u001b[0m\n\u001b[0;31mSyntaxError\u001b[0m\u001b[0;31m:\u001b[0m 'break' outside loop\n"
     ]
    }
   ],
   "source": [
    "break"
   ]
  },
  {
   "cell_type": "code",
   "execution_count": null,
   "id": "bbbced13-f313-421b-82f5-89d82db8ae77",
   "metadata": {},
   "outputs": [],
   "source": []
  },
  {
   "cell_type": "code",
   "execution_count": null,
   "id": "0db0d41d-f1bb-4d77-bff5-7b7d0f9dac23",
   "metadata": {},
   "outputs": [],
   "source": [
    "res = []\n",
    "\n",
    "for file_path in file_list[:3]:\n",
    "    print)(file)"
   ]
  },
  {
   "cell_type": "code",
   "execution_count": null,
   "id": "328bcae1-3ee5-41f3-91ba-33384a97dfc5",
   "metadata": {},
   "outputs": [],
   "source": []
  },
  {
   "cell_type": "code",
   "execution_count": null,
   "id": "0ee52e07-c7c1-4dc7-8b7b-dc43abfdfc3c",
   "metadata": {},
   "outputs": [],
   "source": []
  },
  {
   "cell_type": "code",
   "execution_count": null,
   "id": "318dc4fb-bfae-40a7-9cbe-2bdc3c4966dc",
   "metadata": {},
   "outputs": [],
   "source": []
  },
  {
   "cell_type": "code",
   "execution_count": null,
   "id": "5f914845-7abf-4f3c-ad15-f1318a072006",
   "metadata": {},
   "outputs": [],
   "source": []
  },
  {
   "cell_type": "code",
   "execution_count": null,
   "id": "21213342-485d-469e-9dd8-85aea0d58215",
   "metadata": {},
   "outputs": [],
   "source": []
  },
  {
   "cell_type": "code",
   "execution_count": null,
   "id": "13ec494f-b1a3-45a6-9408-afd7784c05b6",
   "metadata": {},
   "outputs": [],
   "source": []
  },
  {
   "cell_type": "code",
   "execution_count": null,
   "id": "f8f7d7e5-a692-4c1f-873e-4957b86014cb",
   "metadata": {},
   "outputs": [],
   "source": [
    "dpath = \"/scratch/indikar_root/indikar1/shared_data/single_cell/reports/single_cell/filters/\"\n",
    "\n",
    "file_list = glob.glob(f\"{dpath}*\")\n",
    "file_list[:10]"
   ]
  },
  {
   "cell_type": "code",
   "execution_count": null,
   "id": "30277308-9241-4651-a5c4-fc678225daab",
   "metadata": {},
   "outputs": [],
   "source": [
    "res = []\n",
    "\n",
    "for file_path in file_list[:3]:\n",
    "    df = pd.read_csv(file_path)\n",
    "    \n",
    "    basename = os.path.basename(file_path)\n",
    "    row = dict(zip(df['filter'].values, df['rows_filtered_out'].values))\n",
    "    row['basename'] = basename\n",
    "    \n",
    "    res.append(row)\n",
    "    \n",
    "res = pd.DataFrame(res)\n",
    "res.head()"
   ]
  },
  {
   "cell_type": "code",
   "execution_count": null,
   "id": "a729f873-7a5a-4acc-bf09-eabffb37a856",
   "metadata": {},
   "outputs": [],
   "source": []
  },
  {
   "cell_type": "code",
   "execution_count": null,
   "id": "98f70ee8-76d8-4adb-a600-f158ff82ba99",
   "metadata": {},
   "outputs": [],
   "source": []
  },
  {
   "cell_type": "code",
   "execution_count": null,
   "id": "0dfa4f3a-8829-4143-9f51-4f1bcd2177b2",
   "metadata": {},
   "outputs": [],
   "source": [
    "def load_pairs(fpath, comment_char=\"#\"):\n",
    "    \"\"\"Loads a pairs table from a tab-separated file.\n",
    "\n",
    "    Args:\n",
    "        fpath (str): The file path to the pairs table.\n",
    "        comment_char (str, optional): The character indicating comment lines. \n",
    "                                     Defaults to \"#\".\n",
    "\n",
    "    Returns:\n",
    "        pd.DataFrame: A Pandas DataFrame containing the pairs table data.\n",
    "    \"\"\"\n",
    "    header = phead.get_header(open(fpath))[0][-1]\n",
    "    header = header.replace(\"#columns: \", \"\")\n",
    "    header = header.split(\" \")\n",
    "    \n",
    "    df = pd.read_csv(fpath, \n",
    "                     sep='\\t', \n",
    "                     header=None, \n",
    "                     names=header, \n",
    "                     comment=\"#\")\n",
    "    return df"
   ]
  },
  {
   "cell_type": "code",
   "execution_count": null,
   "id": "f9faf943-a2d9-485c-a66f-ea473e1ba1fb",
   "metadata": {},
   "outputs": [],
   "source": [
    "\n",
    "    \n",
    "\n",
    "for file_path in file_list[:4]:\n",
    "    basename = os.path.basename(file_path)\n",
    "    df = load_pairs(file_path)\n",
    "    print(basename, df.shape)\n",
    "    "
   ]
  },
  {
   "cell_type": "code",
   "execution_count": null,
   "id": "47846dcf-bbd8-4a00-9962-9da752daae84",
   "metadata": {},
   "outputs": [],
   "source": []
  },
  {
   "cell_type": "code",
   "execution_count": null,
   "id": "bf01cc92-456b-48b4-8a27-2d100b0f6c31",
   "metadata": {},
   "outputs": [],
   "source": [
    "v = np.random.rand(10, 1)\n",
    "v.shape"
   ]
  },
  {
   "cell_type": "code",
   "execution_count": null,
   "id": "bef17378-5c56-4fb9-974e-bbd44b815370",
   "metadata": {},
   "outputs": [],
   "source": [
    "v.dot(v.T)"
   ]
  },
  {
   "cell_type": "code",
   "execution_count": null,
   "id": "3af5a1b7-b646-49ba-9710-4a7297b2ef7f",
   "metadata": {},
   "outputs": [],
   "source": []
  }
 ],
 "metadata": {
  "kernelspec": {
   "display_name": "bioinf",
   "language": "python",
   "name": "bioinf"
  },
  "language_info": {
   "codemirror_mode": {
    "name": "ipython",
    "version": 3
   },
   "file_extension": ".py",
   "mimetype": "text/x-python",
   "name": "python",
   "nbconvert_exporter": "python",
   "pygments_lexer": "ipython3",
   "version": "3.10.14"
  }
 },
 "nbformat": 4,
 "nbformat_minor": 5
}
