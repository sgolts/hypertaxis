{
 "cells": [
  {
   "cell_type": "code",
   "execution_count": 2,
   "id": "c99cdf44-a7c4-4e8c-90dc-d4ab4cfc63e4",
   "metadata": {},
   "outputs": [],
   "source": [
    "import pandas as pd\n",
    "import os\n",
    "import sys\n",
    "import glob "
   ]
  },
  {
   "cell_type": "code",
   "execution_count": 3,
   "id": "a30d6661-b233-4629-8bbf-83c48883483f",
   "metadata": {},
   "outputs": [
    {
     "data": {
      "text/plain": [
       "['/scratch/indikar_root/indikar1/shared_data/single_cell/single_cell/duplication_reports/o3b66.GRCm39.dupes.parquet',\n",
       " '/scratch/indikar_root/indikar1/shared_data/single_cell/single_cell/duplication_reports/o2b65.GRCm39.dupes.parquet',\n",
       " '/scratch/indikar_root/indikar1/shared_data/single_cell/single_cell/duplication_reports/o1b78.GRCm39.dupes.parquet',\n",
       " '/scratch/indikar_root/indikar1/shared_data/single_cell/single_cell/duplication_reports/o4b09.GRCm39.dupes.parquet',\n",
       " '/scratch/indikar_root/indikar1/shared_data/single_cell/single_cell/duplication_reports/o4b84.GRCm39.dupes.parquet',\n",
       " '/scratch/indikar_root/indikar1/shared_data/single_cell/single_cell/duplication_reports/o4b70.GRCm39.dupes.parquet',\n",
       " '/scratch/indikar_root/indikar1/shared_data/single_cell/single_cell/duplication_reports/o4b29.GRCm39.dupes.parquet',\n",
       " '/scratch/indikar_root/indikar1/shared_data/single_cell/single_cell/duplication_reports/o4b49.GRCm39.dupes.parquet',\n",
       " '/scratch/indikar_root/indikar1/shared_data/single_cell/single_cell/duplication_reports/o4b66.GRCm39.dupes.parquet',\n",
       " '/scratch/indikar_root/indikar1/shared_data/single_cell/single_cell/duplication_reports/o1b37.GRCm39.dupes.parquet']"
      ]
     },
     "execution_count": 3,
     "metadata": {},
     "output_type": "execute_result"
    }
   ],
   "source": [
    "dpath = \"/scratch/indikar_root/indikar1/shared_data/single_cell/single_cell/duplication_reports/\"\n",
    "file_list = glob.glob(f\"{dpath}*\")\n",
    "file_list[:10]"
   ]
  },
  {
   "cell_type": "code",
   "execution_count": 10,
   "id": "277edc61-55c5-4708-a1c2-b50720dd0f5f",
   "metadata": {},
   "outputs": [
    {
     "data": {
      "text/html": [
       "<div>\n",
       "<style scoped>\n",
       "    .dataframe tbody tr th:only-of-type {\n",
       "        vertical-align: middle;\n",
       "    }\n",
       "\n",
       "    .dataframe tbody tr th {\n",
       "        vertical-align: top;\n",
       "    }\n",
       "\n",
       "    .dataframe thead th {\n",
       "        text-align: right;\n",
       "    }\n",
       "</style>\n",
       "<table border=\"1\" class=\"dataframe\">\n",
       "  <thead>\n",
       "    <tr style=\"text-align: right;\">\n",
       "      <th></th>\n",
       "      <th>basename</th>\n",
       "      <th>total_reads</th>\n",
       "      <th>unique_reads</th>\n",
       "      <th>duplication_rate</th>\n",
       "    </tr>\n",
       "  </thead>\n",
       "  <tbody>\n",
       "    <tr>\n",
       "      <th>0</th>\n",
       "      <td>o3b66.GRCm39.dupes.parquet</td>\n",
       "      <td>42014</td>\n",
       "      <td>3320</td>\n",
       "      <td>0.920979</td>\n",
       "    </tr>\n",
       "    <tr>\n",
       "      <th>1</th>\n",
       "      <td>o2b65.GRCm39.dupes.parquet</td>\n",
       "      <td>13655</td>\n",
       "      <td>1231</td>\n",
       "      <td>0.909850</td>\n",
       "    </tr>\n",
       "    <tr>\n",
       "      <th>2</th>\n",
       "      <td>o1b78.GRCm39.dupes.parquet</td>\n",
       "      <td>149286</td>\n",
       "      <td>8941</td>\n",
       "      <td>0.940108</td>\n",
       "    </tr>\n",
       "    <tr>\n",
       "      <th>3</th>\n",
       "      <td>o4b09.GRCm39.dupes.parquet</td>\n",
       "      <td>4774</td>\n",
       "      <td>1050</td>\n",
       "      <td>0.780059</td>\n",
       "    </tr>\n",
       "    <tr>\n",
       "      <th>4</th>\n",
       "      <td>o4b84.GRCm39.dupes.parquet</td>\n",
       "      <td>208267</td>\n",
       "      <td>29934</td>\n",
       "      <td>0.856271</td>\n",
       "    </tr>\n",
       "  </tbody>\n",
       "</table>\n",
       "</div>"
      ],
      "text/plain": [
       "                     basename  total_reads  unique_reads  duplication_rate\n",
       "0  o3b66.GRCm39.dupes.parquet        42014          3320          0.920979\n",
       "1  o2b65.GRCm39.dupes.parquet        13655          1231          0.909850\n",
       "2  o1b78.GRCm39.dupes.parquet       149286          8941          0.940108\n",
       "3  o4b09.GRCm39.dupes.parquet         4774          1050          0.780059\n",
       "4  o4b84.GRCm39.dupes.parquet       208267         29934          0.856271"
      ]
     },
     "execution_count": 10,
     "metadata": {},
     "output_type": "execute_result"
    }
   ],
   "source": [
    "res = []\n",
    "for file_path in file_list[:100]:\n",
    "    basename = os.path.basename(file_path)\n",
    "    \n",
    "    df = pd.read_parquet(file_path)\n",
    "    \n",
    "    total_reads = len(df)\n",
    "    unique_reads = df['unique'].sum()\n",
    "    \n",
    "    row = {\n",
    "        'basename' : basename,\n",
    "        'total_reads' : total_reads,\n",
    "        'unique_reads' : unique_reads,\n",
    "        'duplication_rate' : 1 - (unique_reads / total_reads)\n",
    "     }\n",
    "    \n",
    "    res.append(row)\n",
    "    \n",
    "    \n",
    "res = pd.DataFrame(res)\n",
    "res.head()"
   ]
  },
  {
   "cell_type": "code",
   "execution_count": null,
   "id": "d6c88aca-8dff-4288-82db-2510b6d6b5a4",
   "metadata": {},
   "outputs": [],
   "source": []
  },
  {
   "cell_type": "code",
   "execution_count": null,
   "id": "682acd2a-82a2-41b8-b4a9-2343c4d04d3e",
   "metadata": {},
   "outputs": [],
   "source": []
  },
  {
   "cell_type": "code",
   "execution_count": null,
   "id": "1d76cff3-0971-4da9-9aca-4218067c8a1b",
   "metadata": {},
   "outputs": [],
   "source": []
  },
  {
   "cell_type": "code",
   "execution_count": 7,
   "id": "0d42a3b9-6809-491a-9670-9362f3e4dd34",
   "metadata": {},
   "outputs": [
    {
     "name": "stdout",
     "output_type": "stream",
     "text": [
      "o3b66.GRCm39.dupes.parquet 42014\n",
      "o2b65.GRCm39.dupes.parquet 13655\n",
      "o1b78.GRCm39.dupes.parquet 149286\n",
      "o4b09.GRCm39.dupes.parquet 4774\n",
      "o4b84.GRCm39.dupes.parquet 208267\n",
      "o4b70.GRCm39.dupes.parquet 18121\n",
      "o4b29.GRCm39.dupes.parquet 52\n",
      "o4b49.GRCm39.dupes.parquet 12181\n",
      "o4b66.GRCm39.dupes.parquet 11927\n",
      "o1b37.GRCm39.dupes.parquet 162903\n"
     ]
    }
   ],
   "source": [
    "align_dir = \"/scratch/indikar_root/indikar1/shared_data/single_cell/align_table/\"\n",
    "\n",
    "for file_path in file_list[:10]:\n",
    "    basename = os.path.basename(file_path)    \n",
    "    align_path = file_path.replace(dpath, align_dir).replace(\"dupes\", \"align_table\")\n",
    "    \n",
    "    df = pd.read_parquet(file_path)\n",
    "    print(basename, df['read_name'].nunique())\n"
   ]
  },
  {
   "cell_type": "code",
   "execution_count": null,
   "id": "751bb4f0-2d27-43bd-9e75-1a6ab019b06f",
   "metadata": {},
   "outputs": [],
   "source": []
  }
 ],
 "metadata": {
  "kernelspec": {
   "display_name": "bioinf",
   "language": "python",
   "name": "bioinf"
  },
  "language_info": {
   "codemirror_mode": {
    "name": "ipython",
    "version": 3
   },
   "file_extension": ".py",
   "mimetype": "text/x-python",
   "name": "python",
   "nbconvert_exporter": "python",
   "pygments_lexer": "ipython3",
   "version": "3.10.14"
  }
 },
 "nbformat": 4,
 "nbformat_minor": 5
}
