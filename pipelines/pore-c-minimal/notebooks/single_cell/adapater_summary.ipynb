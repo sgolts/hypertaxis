{
 "cells": [
  {
   "cell_type": "code",
   "execution_count": 1,
   "id": "62b5eb4a-1360-4424-8d56-78e8fe284dd8",
   "metadata": {},
   "outputs": [],
   "source": [
    "import pandas as pd\n",
    "import numpy as np\n",
    "import os \n",
    "import sys\n",
    "import glob"
   ]
  },
  {
   "cell_type": "code",
   "execution_count": 2,
   "id": "574e6a84-d793-4ef3-981a-90af2e02d7df",
   "metadata": {},
   "outputs": [
    {
     "data": {
      "text/html": [
       "<div>\n",
       "<style scoped>\n",
       "    .dataframe tbody tr th:only-of-type {\n",
       "        vertical-align: middle;\n",
       "    }\n",
       "\n",
       "    .dataframe tbody tr th {\n",
       "        vertical-align: top;\n",
       "    }\n",
       "\n",
       "    .dataframe thead th {\n",
       "        text-align: right;\n",
       "    }\n",
       "</style>\n",
       "<table border=\"1\" class=\"dataframe\">\n",
       "  <thead>\n",
       "    <tr style=\"text-align: right;\">\n",
       "      <th></th>\n",
       "      <th>total_reads</th>\n",
       "      <th>start_reads_trimmed</th>\n",
       "      <th>start_bp_trimmed</th>\n",
       "      <th>end_reads_trimmed</th>\n",
       "      <th>end_bp_trimmed</th>\n",
       "      <th>middle_reads_split</th>\n",
       "      <th>sample</th>\n",
       "      <th>cell</th>\n",
       "    </tr>\n",
       "  </thead>\n",
       "  <tbody>\n",
       "    <tr>\n",
       "      <th>0</th>\n",
       "      <td>16000</td>\n",
       "      <td>15995</td>\n",
       "      <td>1849179</td>\n",
       "      <td>15934</td>\n",
       "      <td>1455635</td>\n",
       "      <td>2350</td>\n",
       "      <td>o2</td>\n",
       "      <td>b18</td>\n",
       "    </tr>\n",
       "    <tr>\n",
       "      <th>1</th>\n",
       "      <td>76608</td>\n",
       "      <td>76447</td>\n",
       "      <td>9058848</td>\n",
       "      <td>72620</td>\n",
       "      <td>5412440</td>\n",
       "      <td>43718</td>\n",
       "      <td>o3</td>\n",
       "      <td>b29</td>\n",
       "    </tr>\n",
       "    <tr>\n",
       "      <th>2</th>\n",
       "      <td>132238</td>\n",
       "      <td>131808</td>\n",
       "      <td>15408140</td>\n",
       "      <td>130512</td>\n",
       "      <td>11831657</td>\n",
       "      <td>15224</td>\n",
       "      <td>o3</td>\n",
       "      <td>b08</td>\n",
       "    </tr>\n",
       "    <tr>\n",
       "      <th>3</th>\n",
       "      <td>30757</td>\n",
       "      <td>30688</td>\n",
       "      <td>3630436</td>\n",
       "      <td>29580</td>\n",
       "      <td>2273752</td>\n",
       "      <td>12964</td>\n",
       "      <td>o3</td>\n",
       "      <td>b14</td>\n",
       "    </tr>\n",
       "    <tr>\n",
       "      <th>4</th>\n",
       "      <td>233049</td>\n",
       "      <td>232437</td>\n",
       "      <td>27230332</td>\n",
       "      <td>230220</td>\n",
       "      <td>20396892</td>\n",
       "      <td>25595</td>\n",
       "      <td>o4</td>\n",
       "      <td>b84</td>\n",
       "    </tr>\n",
       "  </tbody>\n",
       "</table>\n",
       "</div>"
      ],
      "text/plain": [
       "   total_reads  start_reads_trimmed  start_bp_trimmed  end_reads_trimmed  \\\n",
       "0        16000                15995           1849179              15934   \n",
       "1        76608                76447           9058848              72620   \n",
       "2       132238               131808          15408140             130512   \n",
       "3        30757                30688           3630436              29580   \n",
       "4       233049               232437          27230332             230220   \n",
       "\n",
       "   end_bp_trimmed  middle_reads_split sample cell  \n",
       "0         1455635                2350     o2  b18  \n",
       "1         5412440               43718     o3  b29  \n",
       "2        11831657               15224     o3  b08  \n",
       "3         2273752               12964     o3  b14  \n",
       "4        20396892               25595     o4  b84  "
      ]
     },
     "execution_count": 2,
     "metadata": {},
     "output_type": "execute_result"
    }
   ],
   "source": [
    "fpath = \"/scratch/indikar_root/indikar1/shared_data/adapter_clean_up/reports/porechop_summary_aggregated.csv\"\n",
    "\n",
    "df = pd.read_csv(fpath)\n",
    "df.head()"
   ]
  },
  {
   "cell_type": "code",
   "execution_count": 9,
   "id": "7faa6ef3-fbd5-41f7-b40a-66cf7d845a7d",
   "metadata": {},
   "outputs": [
    {
     "name": "stdout",
     "output_type": "stream",
     "text": [
      "\\begin{tabular}{llll}\n",
      "\\toprule\n",
      "sample & total_reads & mean_start & mean_end \\\\\n",
      "\\midrule\n",
      "o1 & 2548899000 & 99.45 & 98.04 \\\\\n",
      "o2 & 725600000 & 99.93 & 98.96 \\\\\n",
      "o3 & 3287889900 & 99.76 & 97.09 \\\\\n",
      "o4 & 1500021600 & 99.78 & 98.03 \\\\\n",
      "\\bottomrule\n",
      "\\end{tabular}\n",
      "\n"
     ]
    }
   ],
   "source": [
    "df['percent_adapater_start'] = df['start_reads_trimmed'] / df['total_reads']\n",
    "df['percent_adapater_end'] = df['end_reads_trimmed'] / df['total_reads']\n",
    "\n",
    "\n",
    "gx = df.groupby('sample').agg(\n",
    "    total_reads = ('total_reads', 'sum'),\n",
    "    mean_start = ('percent_adapater_start', 'mean'),\n",
    "    mean_end = ('percent_adapater_end', 'mean'),\n",
    ") * 100\n",
    "\n",
    "\n",
    "gx = gx.reset_index()\n",
    "print(gx.round(2).astype(str).to_latex(index=False))\n"
   ]
  },
  {
   "cell_type": "code",
   "execution_count": null,
   "id": "6e09e9bc-2aec-4f07-a100-81ca0ce508f9",
   "metadata": {},
   "outputs": [],
   "source": []
  }
 ],
 "metadata": {
  "kernelspec": {
   "display_name": "bioinf",
   "language": "python",
   "name": "bioinf"
  },
  "language_info": {
   "codemirror_mode": {
    "name": "ipython",
    "version": 3
   },
   "file_extension": ".py",
   "mimetype": "text/x-python",
   "name": "python",
   "nbconvert_exporter": "python",
   "pygments_lexer": "ipython3",
   "version": "3.10.14"
  }
 },
 "nbformat": 4,
 "nbformat_minor": 5
}
