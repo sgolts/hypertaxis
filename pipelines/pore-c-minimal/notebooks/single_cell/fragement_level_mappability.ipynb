{
 "cells": [
  {
   "cell_type": "code",
   "execution_count": 1,
   "id": "dc2505ed-d950-4e18-a347-471d7f6e2f81",
   "metadata": {},
   "outputs": [],
   "source": [
    "import pandas as pd\n",
    "import numpy as np\n",
    "import seaborn as sns\n",
    "import matplotlib.pyplot as plt\n",
    "import sys\n",
    "import os\n",
    "import glob"
   ]
  },
  {
   "cell_type": "code",
   "execution_count": 2,
   "id": "2f82a923-afbf-4689-bd16-8c97ab322f79",
   "metadata": {},
   "outputs": [
    {
     "data": {
      "text/plain": [
       "['/scratch/indikar_root/indikar1/shared_data/single_cell/align_table/o1b18.GRCm39.align_table.parquet',\n",
       " '/scratch/indikar_root/indikar1/shared_data/single_cell/align_table/o2b03.GRCm39.align_table.parquet',\n",
       " '/scratch/indikar_root/indikar1/shared_data/single_cell/align_table/o4b04.GRCm39.align_table.parquet',\n",
       " '/scratch/indikar_root/indikar1/shared_data/single_cell/align_table/o4b79.GRCm39.align_table.parquet',\n",
       " '/scratch/indikar_root/indikar1/shared_data/single_cell/align_table/o3b86.GRCm39.align_table.parquet',\n",
       " '/scratch/indikar_root/indikar1/shared_data/single_cell/align_table/o1b15.GRCm39.align_table.parquet',\n",
       " '/scratch/indikar_root/indikar1/shared_data/single_cell/align_table/o1b89.GRCm39.align_table.parquet',\n",
       " '/scratch/indikar_root/indikar1/shared_data/single_cell/align_table/o1b26.GRCm39.align_table.parquet',\n",
       " '/scratch/indikar_root/indikar1/shared_data/single_cell/align_table/o4b07.GRCm39.align_table.parquet',\n",
       " '/scratch/indikar_root/indikar1/shared_data/single_cell/align_table/o2b66.GRCm39.align_table.parquet']"
      ]
     },
     "execution_count": 2,
     "metadata": {},
     "output_type": "execute_result"
    }
   ],
   "source": [
    "dpath = \"/scratch/indikar_root/indikar1/shared_data/single_cell/align_table/\"\n",
    "file_list = glob.glob(f\"{dpath}*\")\n",
    "file_list[:10]"
   ]
  },
  {
   "cell_type": "code",
   "execution_count": 3,
   "id": "4e310ea7-c23a-4be1-bdaf-10b3cf0ba7f2",
   "metadata": {},
   "outputs": [
    {
     "name": "stdout",
     "output_type": "stream",
     "text": [
      "0 of 380\n",
      "25 of 380\n",
      "50 of 380\n",
      "75 of 380\n",
      "100 of 380\n",
      "125 of 380\n",
      "150 of 380\n",
      "175 of 380\n",
      "200 of 380\n",
      "225 of 380\n",
      "250 of 380\n",
      "275 of 380\n",
      "300 of 380\n",
      "325 of 380\n",
      "350 of 380\n",
      "375 of 380\n"
     ]
    },
    {
     "data": {
      "text/html": [
       "<div>\n",
       "<style scoped>\n",
       "    .dataframe tbody tr th:only-of-type {\n",
       "        vertical-align: middle;\n",
       "    }\n",
       "\n",
       "    .dataframe tbody tr th {\n",
       "        vertical-align: top;\n",
       "    }\n",
       "\n",
       "    .dataframe thead th {\n",
       "        text-align: right;\n",
       "    }\n",
       "</style>\n",
       "<table border=\"1\" class=\"dataframe\">\n",
       "  <thead>\n",
       "    <tr style=\"text-align: right;\">\n",
       "      <th></th>\n",
       "      <th>0-10</th>\n",
       "      <th>50-60</th>\n",
       "      <th>10-20</th>\n",
       "      <th>20-30</th>\n",
       "      <th>30-40</th>\n",
       "      <th>40-50</th>\n",
       "      <th>sample_id</th>\n",
       "      <th>file_id</th>\n",
       "      <th>total</th>\n",
       "    </tr>\n",
       "  </thead>\n",
       "  <tbody>\n",
       "    <tr>\n",
       "      <th>0</th>\n",
       "      <td>0.447012</td>\n",
       "      <td>0.414277</td>\n",
       "      <td>0.048941</td>\n",
       "      <td>0.033394</td>\n",
       "      <td>0.029128</td>\n",
       "      <td>0.027249</td>\n",
       "      <td>o1</td>\n",
       "      <td>b18</td>\n",
       "      <td>4035840</td>\n",
       "    </tr>\n",
       "    <tr>\n",
       "      <th>1</th>\n",
       "      <td>0.893394</td>\n",
       "      <td>0.087927</td>\n",
       "      <td>0.005011</td>\n",
       "      <td>0.008200</td>\n",
       "      <td>0.002278</td>\n",
       "      <td>0.003189</td>\n",
       "      <td>o2</td>\n",
       "      <td>b03</td>\n",
       "      <td>2195</td>\n",
       "    </tr>\n",
       "    <tr>\n",
       "      <th>2</th>\n",
       "      <td>0.384831</td>\n",
       "      <td>0.504205</td>\n",
       "      <td>0.033545</td>\n",
       "      <td>0.023853</td>\n",
       "      <td>0.028797</td>\n",
       "      <td>0.024768</td>\n",
       "      <td>o4</td>\n",
       "      <td>b04</td>\n",
       "      <td>81919</td>\n",
       "    </tr>\n",
       "    <tr>\n",
       "      <th>3</th>\n",
       "      <td>0.927705</td>\n",
       "      <td>0.062901</td>\n",
       "      <td>0.003092</td>\n",
       "      <td>0.002021</td>\n",
       "      <td>0.001427</td>\n",
       "      <td>0.002854</td>\n",
       "      <td>o4</td>\n",
       "      <td>b79</td>\n",
       "      <td>8410</td>\n",
       "    </tr>\n",
       "    <tr>\n",
       "      <th>4</th>\n",
       "      <td>0.470733</td>\n",
       "      <td>0.408024</td>\n",
       "      <td>0.038014</td>\n",
       "      <td>0.027437</td>\n",
       "      <td>0.031973</td>\n",
       "      <td>0.023819</td>\n",
       "      <td>o3</td>\n",
       "      <td>b86</td>\n",
       "      <td>168860</td>\n",
       "    </tr>\n",
       "  </tbody>\n",
       "</table>\n",
       "</div>"
      ],
      "text/plain": [
       "       0-10     50-60     10-20     20-30     30-40     40-50 sample_id  \\\n",
       "0  0.447012  0.414277  0.048941  0.033394  0.029128  0.027249        o1   \n",
       "1  0.893394  0.087927  0.005011  0.008200  0.002278  0.003189        o2   \n",
       "2  0.384831  0.504205  0.033545  0.023853  0.028797  0.024768        o4   \n",
       "3  0.927705  0.062901  0.003092  0.002021  0.001427  0.002854        o4   \n",
       "4  0.470733  0.408024  0.038014  0.027437  0.031973  0.023819        o3   \n",
       "\n",
       "  file_id    total  \n",
       "0     b18  4035840  \n",
       "1     b03     2195  \n",
       "2     b04    81919  \n",
       "3     b79     8410  \n",
       "4     b86   168860  "
      ]
     },
     "execution_count": 3,
     "metadata": {},
     "output_type": "execute_result"
    }
   ],
   "source": [
    "columns = [\n",
    "    'mapping_quality',\n",
    "]\n",
    "\n",
    "mapping_qualities = []\n",
    "\n",
    "# Define bins and labels\n",
    "bins = [0, 10, 20, 30, 40, 50, 61]  # Include -inf to catch NaNs\n",
    "labels = ['0-10', '10-20', '20-30', '30-40', '40-50', '50-60']\n",
    "\n",
    "results = []\n",
    "\n",
    "for i, file_path in enumerate(file_list):\n",
    "    if i % 25 == 0:\n",
    "        print(f\"{i} of {len(file_list)}\")\n",
    "    basename = os.path.basename(file_path)\n",
    "    sample_id = basename[:2]\n",
    "    file_id = basename[2:5]\n",
    "    df = pd.read_parquet(file_path, columns=columns)\n",
    "    mapping_qualities += df['mapping_quality'].to_list() \n",
    "    \n",
    "    df['bucket'] = pd.cut(df['mapping_quality'], bins=bins, labels=labels, right=False) \n",
    "    row = df['bucket'].value_counts(dropna=False) / len(df)\n",
    "    row = row.to_dict()\n",
    "    row['sample_id'] = sample_id\n",
    "    row['file_id'] = file_id\n",
    "    row['total'] = len(df)\n",
    "    \n",
    "    results.append(row)    \n",
    "    \n",
    "\n",
    "results = pd.DataFrame(results )\n",
    "results.head()"
   ]
  },
  {
   "cell_type": "code",
   "execution_count": 4,
   "id": "1663e564-8f37-450f-a0ab-911c9611d2ed",
   "metadata": {},
   "outputs": [
    {
     "ename": "SyntaxError",
     "evalue": "'break' outside loop (668683560.py, line 1)",
     "output_type": "error",
     "traceback": [
      "\u001b[0;36m  Cell \u001b[0;32mIn[4], line 1\u001b[0;36m\u001b[0m\n\u001b[0;31m    break\u001b[0m\n\u001b[0m    ^\u001b[0m\n\u001b[0;31mSyntaxError\u001b[0m\u001b[0;31m:\u001b[0m 'break' outside loop\n"
     ]
    }
   ],
   "source": [
    "# break"
   ]
  },
  {
   "cell_type": "code",
   "execution_count": 5,
   "id": "2114d3fb-a04f-4398-8ba2-447923d7ab82",
   "metadata": {},
   "outputs": [
    {
     "data": {
      "text/plain": [
       "Index(['0-10', '50-60', '10-20', '20-30', '30-40', '40-50', 'sample_id',\n",
       "       'file_id', 'total'],\n",
       "      dtype='object')"
      ]
     },
     "execution_count": 5,
     "metadata": {},
     "output_type": "execute_result"
    }
   ],
   "source": [
    "results.columns"
   ]
  },
  {
   "cell_type": "code",
   "execution_count": 8,
   "id": "775f84e0-a3d2-40ca-b2ce-895fd728845a",
   "metadata": {},
   "outputs": [
    {
     "data": {
      "text/plain": [
       "Text(0.5, 0, 'Mapping Quality')"
      ]
     },
     "execution_count": 8,
     "metadata": {},
     "output_type": "execute_result"
    },
    {
     "data": {
      "image/png": "[encoded data removed]",
      "text/plain": [
       "<Figure size 1300x500 with 1 Axes>"
      ]
     },
     "metadata": {},
     "output_type": "display_data"
    }
   ],
   "source": [
    "pdf = results.copy()\n",
    "pdf = pd.melt(pdf, id_vars=['sample_id', 'file_id'],\n",
    "              value_vars=['0-10', '10-20', '20-30', '30-40', '40-50', '50-60',])\n",
    "\n",
    "pdf = pdf.sort_values(by=['sample_id', 'variable'])\n",
    "pdf['percent'] = pdf['value'] * 100\n",
    "\n",
    "plt.rcParams['figure.dpi'] = 200\n",
    "plt.rcParams['figure.figsize'] = 6.5, 2.5\n",
    "\n",
    "sns.boxplot(data=pdf, \n",
    "            x='variable',\n",
    "            y='percent',\n",
    "            hue='sample_id',\n",
    "            showfliers=False,\n",
    "           )\n",
    "\n",
    "sns.move_legend(plt.gca(), \n",
    "                title='',\n",
    "                loc='upper right',\n",
    "                bbox_to_anchor=(1.18, 1.035))\n",
    "\n",
    "plt.ylabel('% of Monomers')\n",
    "plt.xlabel('Mapping Quality')"
   ]
  },
  {
   "cell_type": "code",
   "execution_count": 7,
   "id": "23e5df73-8dca-4df4-aab6-770d190cb072",
   "metadata": {},
   "outputs": [
    {
     "data": {
      "text/plain": [
       "<Axes: ylabel='Count'>"
      ]
     },
     "execution_count": 7,
     "metadata": {},
     "output_type": "execute_result"
    },
    {
     "data": {
      "image/png": "[encoded data removed]",
      "text/plain": [
       "<Figure size 640x480 with 1 Axes>"
      ]
     },
     "metadata": {},
     "output_type": "display_data"
    }
   ],
   "source": [
    "sns.histplot(x=mapping_qualities,\n",
    "             bins=60)"
   ]
  },
  {
   "cell_type": "code",
   "execution_count": null,
   "id": "594190c7-31ef-4529-a6ad-6d09d2ebaedd",
   "metadata": {},
   "outputs": [],
   "source": []
  }
 ],
 "metadata": {
  "kernelspec": {
   "display_name": "bioinf",
   "language": "python",
   "name": "bioinf"
  },
  "language_info": {
   "codemirror_mode": {
    "name": "ipython",
    "version": 3
   },
   "file_extension": ".py",
   "mimetype": "text/x-python",
   "name": "python",
   "nbconvert_exporter": "python",
   "pygments_lexer": "ipython3",
   "version": "3.10.14"
  }
 },
 "nbformat": 4,
 "nbformat_minor": 5
}
