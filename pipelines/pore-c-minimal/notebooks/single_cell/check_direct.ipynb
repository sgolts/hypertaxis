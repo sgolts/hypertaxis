{
 "cells": [
  {
   "cell_type": "code",
   "execution_count": 1,
   "id": "b34a73ac-2ecf-4e9c-8cc5-01e746033310",
   "metadata": {},
   "outputs": [],
   "source": [
    "import pandas as pd\n",
    "import os \n",
    "import numpy as np\n",
    "import matplotlib.pyplot as plt\n",
    "import matplotlib.colors as mcolors\n",
    "import matplotlib.patches as patches\n",
    "import string\n",
    "from math import comb\n",
    "import itertools\n",
    "import pysam\n",
    "from pyranges import PyRanges\n",
    "import pairtools\n",
    "import pairtools.lib.headerops as phead"
   ]
  },
  {
   "cell_type": "markdown",
   "id": "2693b1ba-b901-40cf-ad26-b9d9367723e5",
   "metadata": {},
   "source": [
    "# Load align table (concatemers)"
   ]
  },
  {
   "cell_type": "code",
   "execution_count": 2,
   "id": "fb5add73-0172-494d-b15d-75446af12a57",
   "metadata": {},
   "outputs": [],
   "source": [
    "fpath = '/scratch/indikar_root/indikar1/shared_data/single_cell/align_table/o1b01.GRCm39.align_table.parquet'\n",
    "align = pd.read_parquet(fpath)\n",
    "align['order'] = align.groupby('read_name')['align_id'].transform('nunique')\n",
    "align = align[align['order'] > 3]\n",
    "# align.head()"
   ]
  },
  {
   "cell_type": "code",
   "execution_count": 3,
   "id": "d35d24aa-57b1-490e-bf62-3525a1c5f66a",
   "metadata": {},
   "outputs": [
    {
     "name": "stdout",
     "output_type": "stream",
     "text": [
      "rand_read='cf49a76d-fc95-4a47-9d70-d39349c5b39e_1'\n",
      "len(concatemer)=7\n"
     ]
    },
    {
     "data": {
      "text/html": [
       "<div>\n",
       "<style scoped>\n",
       "    .dataframe tbody tr th:only-of-type {\n",
       "        vertical-align: middle;\n",
       "    }\n",
       "\n",
       "    .dataframe tbody tr th {\n",
       "        vertical-align: top;\n",
       "    }\n",
       "\n",
       "    .dataframe thead th {\n",
       "        text-align: right;\n",
       "    }\n",
       "</style>\n",
       "<table border=\"1\" class=\"dataframe\">\n",
       "  <thead>\n",
       "    <tr style=\"text-align: right;\">\n",
       "      <th></th>\n",
       "      <th>read_name</th>\n",
       "      <th>align_id</th>\n",
       "      <th>read_start</th>\n",
       "      <th>read_end</th>\n",
       "      <th>length_on_read</th>\n",
       "      <th>chrom</th>\n",
       "      <th>fragment_id</th>\n",
       "      <th>order</th>\n",
       "    </tr>\n",
       "  </thead>\n",
       "  <tbody>\n",
       "    <tr>\n",
       "      <th>952</th>\n",
       "      <td>cf49a76d-fc95-4a47-9d70-d39349c5b39e_1</td>\n",
       "      <td>1009</td>\n",
       "      <td>0</td>\n",
       "      <td>77</td>\n",
       "      <td>77</td>\n",
       "      <td>13</td>\n",
       "      <td>8992727.0</td>\n",
       "      <td>7</td>\n",
       "    </tr>\n",
       "    <tr>\n",
       "      <th>953</th>\n",
       "      <td>cf49a76d-fc95-4a47-9d70-d39349c5b39e_1</td>\n",
       "      <td>1010</td>\n",
       "      <td>77</td>\n",
       "      <td>149</td>\n",
       "      <td>72</td>\n",
       "      <td>14</td>\n",
       "      <td>9497674.0</td>\n",
       "      <td>7</td>\n",
       "    </tr>\n",
       "    <tr>\n",
       "      <th>954</th>\n",
       "      <td>cf49a76d-fc95-4a47-9d70-d39349c5b39e_1</td>\n",
       "      <td>1011</td>\n",
       "      <td>149</td>\n",
       "      <td>496</td>\n",
       "      <td>347</td>\n",
       "      <td>5</td>\n",
       "      <td>3407288.0</td>\n",
       "      <td>7</td>\n",
       "    </tr>\n",
       "    <tr>\n",
       "      <th>955</th>\n",
       "      <td>cf49a76d-fc95-4a47-9d70-d39349c5b39e_1</td>\n",
       "      <td>1012</td>\n",
       "      <td>496</td>\n",
       "      <td>718</td>\n",
       "      <td>222</td>\n",
       "      <td>13</td>\n",
       "      <td>8992730.0</td>\n",
       "      <td>7</td>\n",
       "    </tr>\n",
       "    <tr>\n",
       "      <th>956</th>\n",
       "      <td>cf49a76d-fc95-4a47-9d70-d39349c5b39e_1</td>\n",
       "      <td>1013</td>\n",
       "      <td>718</td>\n",
       "      <td>767</td>\n",
       "      <td>49</td>\n",
       "      <td>NaN</td>\n",
       "      <td>NaN</td>\n",
       "      <td>7</td>\n",
       "    </tr>\n",
       "    <tr>\n",
       "      <th>957</th>\n",
       "      <td>cf49a76d-fc95-4a47-9d70-d39349c5b39e_1</td>\n",
       "      <td>1014</td>\n",
       "      <td>767</td>\n",
       "      <td>843</td>\n",
       "      <td>76</td>\n",
       "      <td>NaN</td>\n",
       "      <td>NaN</td>\n",
       "      <td>7</td>\n",
       "    </tr>\n",
       "    <tr>\n",
       "      <th>958</th>\n",
       "      <td>cf49a76d-fc95-4a47-9d70-d39349c5b39e_1</td>\n",
       "      <td>1015</td>\n",
       "      <td>843</td>\n",
       "      <td>1230</td>\n",
       "      <td>387</td>\n",
       "      <td>13</td>\n",
       "      <td>8992735.0</td>\n",
       "      <td>7</td>\n",
       "    </tr>\n",
       "  </tbody>\n",
       "</table>\n",
       "</div>"
      ],
      "text/plain": [
       "                                  read_name  align_id  read_start  read_end  \\\n",
       "952  cf49a76d-fc95-4a47-9d70-d39349c5b39e_1      1009           0        77   \n",
       "953  cf49a76d-fc95-4a47-9d70-d39349c5b39e_1      1010          77       149   \n",
       "954  cf49a76d-fc95-4a47-9d70-d39349c5b39e_1      1011         149       496   \n",
       "955  cf49a76d-fc95-4a47-9d70-d39349c5b39e_1      1012         496       718   \n",
       "956  cf49a76d-fc95-4a47-9d70-d39349c5b39e_1      1013         718       767   \n",
       "957  cf49a76d-fc95-4a47-9d70-d39349c5b39e_1      1014         767       843   \n",
       "958  cf49a76d-fc95-4a47-9d70-d39349c5b39e_1      1015         843      1230   \n",
       "\n",
       "     length_on_read chrom  fragment_id  order  \n",
       "952              77    13    8992727.0      7  \n",
       "953              72    14    9497674.0      7  \n",
       "954             347     5    3407288.0      7  \n",
       "955             222    13    8992730.0      7  \n",
       "956              49   NaN          NaN      7  \n",
       "957              76   NaN          NaN      7  \n",
       "958             387    13    8992735.0      7  "
      ]
     },
     "execution_count": 3,
     "metadata": {},
     "output_type": "execute_result"
    }
   ],
   "source": [
    "rand_read = np.random.choice(align['read_name'].unique(), 1)[0]\n",
    "# rand_read = \"582b1316-08d9-4ce9-8087-029913011757\"\n",
    "# rand_read = \"e7fdbcdc-71be-4049-9050-3747b0023bf5\"\n",
    "print(f\"{rand_read=}\")\n",
    "\n",
    "concatemer = align[align['read_name'] == rand_read]\n",
    "print(f\"{len(concatemer)=}\")\n",
    "concatemer[['read_name', \n",
    "      'align_id',\n",
    "      'read_start', \n",
    "      'read_end', \n",
    "      'length_on_read', \n",
    "      'chrom',\n",
    "      'fragment_id',\n",
    "      'order',\n",
    "      ]]"
   ]
  },
  {
   "cell_type": "code",
   "execution_count": 4,
   "id": "2b268ebc-24bc-45db-a96d-bd4f171688aa",
   "metadata": {},
   "outputs": [],
   "source": [
    "# def plot_aligned_reads(df):\n",
    "#     fig, ax = plt.subplots(figsize=(10, 2))\n",
    "#     y_pos = 0.5\n",
    "#     rect_height = 0.8\n",
    "\n",
    "#     # Create a colormap based on unique chromosomes\n",
    "#     unique_chroms = df['chrom'].unique()\n",
    "#     cmap = plt.get_cmap('tab20b')  # You can choose other colormaps\n",
    "#     norm = mcolors.Normalize(vmin=0, vmax=len(unique_chroms) - 1)\n",
    "\n",
    "#     print(\"Alignment Information:\")\n",
    "#     print(\"---------------------\")\n",
    "#     for i, row in df.iterrows():\n",
    "#         start = row['read_start']\n",
    "#         length = row['length_on_read']\n",
    "#         chrom = row['chrom']\n",
    "\n",
    "#         # Color based on chromosome\n",
    "#         chrom_index = list(unique_chroms).index(chrom)\n",
    "#         color = cmap(norm(chrom_index))\n",
    "\n",
    "#         # Label using the chromosome value\n",
    "#         label = chrom\n",
    "\n",
    "#         # Rectangle\n",
    "#         rect = patches.Rectangle((start, y_pos), length, rect_height, linewidth=1,\n",
    "#                                 edgecolor='k', facecolor=color)\n",
    "#         ax.add_patch(rect)\n",
    "\n",
    "#         # Label (centered above, larger font, background)\n",
    "#         ax.text(start + length/2, y_pos + rect_height/2 - 0.05, label,\n",
    "#                 ha='center', va='bottom', weight='bold', fontsize=10,\n",
    "#                 bbox=dict(facecolor='white', alpha=0.7, edgecolor='none'))\n",
    "\n",
    "#         # Improved Print Statement\n",
    "#         print(f\"chr {label}:  \"\n",
    "#               f\"(mq: {row['mapping_quality']})\")\n",
    "\n",
    "#     # Formatting (same as before)\n",
    "#     ax.set_xlabel('Read Position')\n",
    "#     ax.set_title(df['read_name'].unique()[0])\n",
    "#     ax.set_yticks([])\n",
    "#     ax.margins(y=0.35)\n",
    "\n",
    "#     # Improved plot limits (same as before)\n",
    "#     min_start = df['read_start'].min()\n",
    "#     max_end = (df['read_start'] + df['length_on_read']).max()\n",
    "#     x_padding = (max_end - min_start) * 0.05\n",
    "#     ax.set_xlim(min_start - x_padding, max_end + x_padding)\n",
    "#     plt.show()\n",
    "    \n",
    "# plt.rcParams['figure.dpi'] = 200\n",
    "# plot_aligned_reads(concatemer)"
   ]
  },
  {
   "cell_type": "code",
   "execution_count": 5,
   "id": "457512a4-cf2d-4ecd-bd42-87b17d5de97b",
   "metadata": {},
   "outputs": [
    {
     "name": "stdout",
     "output_type": "stream",
     "text": [
      "\n",
      "Concatemer (7-way):\n",
      "13 --- 14 --- 5 --- 13 --- nan --- nan --- 13\n",
      "\n",
      "Direct Pairs (6):\n",
      "13 --- 14\n",
      "14 --- 5\n",
      "5 --- 13\n",
      "13 --- nan\n",
      "nan --- nan\n",
      "nan --- 13\n",
      "\n",
      "Expanded Pairs (21):\n",
      "13 --- 14\n",
      "13 --- 5\n",
      "13 --- 13\n",
      "13 --- nan\n",
      "13 --- nan\n",
      "13 --- 13\n",
      "14 --- 5\n",
      "14 --- 13\n",
      "14 --- nan\n",
      "14 --- nan\n",
      "14 --- 13\n",
      "5 --- 13\n",
      "5 --- nan\n",
      "5 --- nan\n",
      "5 --- 13\n",
      "13 --- nan\n",
      "13 --- nan\n",
      "13 --- 13\n",
      "nan --- nan\n",
      "nan --- 13\n",
      "nan --- 13\n"
     ]
    }
   ],
   "source": [
    "def print_concatemer(df, read=True, direct=True, expanded=True):\n",
    "    \"\"\"Prints consecutive pairs of chromosomes based on order.\n",
    "\n",
    "    Args:d\n",
    "        df: A pandas DataFrame with columns 'chrom' and 'order'.\n",
    "    \"\"\"\n",
    "    chroms = df['chrom'].astype(str).to_list()\n",
    "\n",
    "    num_chroms = len(df)\n",
    "    num_pairs = num_chroms - 1\n",
    "    num_expanded_pairs = comb(num_chroms, 2)\n",
    "\n",
    "    # Concatemer (using f-string formatting)\n",
    "    if read:\n",
    "        print(f\"\\nConcatemer ({num_chroms}-way):\")\n",
    "        print(\" --- \".join(chroms))\n",
    "\n",
    "    # Direct Pairs (using list comprehension for a compact loop)\n",
    "    if direct:\n",
    "        print(f\"\\nDirect Pairs ({num_pairs}):\")\n",
    "        [print(f\"{c1} --- {c2}\") for c1, c2 in zip(chroms, chroms[1:])]\n",
    "\n",
    "    # Expanded3 Pairs (iterating over combinations, similar to direct pairs)\n",
    "    if expanded:\n",
    "        print(f\"\\nExpanded Pairs ({num_expanded_pairs}):\")\n",
    "        [print(f\"{c1} --- {c2}\") for c1, c2 in itertools.combinations(chroms, 2)]\n",
    "    \n",
    "print_concatemer(concatemer)"
   ]
  },
  {
   "cell_type": "markdown",
   "id": "f0145ad1-4c8c-43bc-9b8c-4e1732ff364e",
   "metadata": {},
   "source": [
    "# Load pairs"
   ]
  },
  {
   "cell_type": "code",
   "execution_count": 6,
   "id": "1e6a8cc6-3be0-4059-a71a-50d4ea51b3e6",
   "metadata": {},
   "outputs": [
    {
     "name": "stdout",
     "output_type": "stream",
     "text": [
      "full table: direct_pairs.shape=(1035, 26)\n",
      "full table: expanded_pairs.shape=(4030, 26)\n",
      "\n",
      "read pairs: direct_pairs.shape=(6, 26)\n",
      "read pairs: expanded_pairs.shape=(21, 26)\n"
     ]
    }
   ],
   "source": [
    "def load_pairs(fpath, comment_char=\"#\"):\n",
    "    \"\"\"Loads a pairs table from a tab-separated file.\n",
    "\n",
    "    Args:\n",
    "        fpath (str): The file path to the pairs table.\n",
    "        comment_char (str, optional): The character indicating comment lines. \n",
    "                                     Defaults to \"#\".\n",
    "\n",
    "    Returns:\n",
    "        pd.DataFrame: A Pandas DataFrame containing the pairs table data.\n",
    "    \"\"\"\n",
    "    header = phead.get_header(open(fpath))[0][-1]\n",
    "    header = header.replace(\"#columns: \", \"\")\n",
    "    header = header.split(\" \")\n",
    "    \n",
    "    df = pd.read_csv(fpath, \n",
    "                     sep='\\t', \n",
    "                     header=None, \n",
    "                     names=header, \n",
    "                     comment=\"#\")\n",
    "    return df\n",
    "\n",
    "\n",
    "direct_fpath = '/scratch/indikar_root/indikar1/shared_data/single_cell/pairs/o1b01.GRCm39.direct.pairs'\n",
    "expanded_fpath = '/scratch/indikar_root/indikar1/shared_data/single_cell/pairs/o1b01.GRCm39.expanded.pairs'\n",
    "\n",
    "direct_pairs = load_pairs(direct_fpath)\n",
    "print(f\"full table: {direct_pairs.shape=}\")\n",
    "\n",
    "expanded_pairs = load_pairs(expanded_fpath)\n",
    "print(f\"full table: {expanded_pairs.shape=}\")\n",
    "\n",
    "direct_pairs = direct_pairs[direct_pairs['readID'] == rand_read]\n",
    "expanded_pairs = expanded_pairs[expanded_pairs['readID'] == rand_read]\n",
    "print()\n",
    "print(f\"read pairs: {direct_pairs.shape=}\")\n",
    "print(f\"read pairs: {expanded_pairs.shape=}\")"
   ]
  },
  {
   "cell_type": "code",
   "execution_count": null,
   "id": "91eff1ce-426f-4536-872c-9b437984fa22",
   "metadata": {},
   "outputs": [],
   "source": []
  },
  {
   "cell_type": "code",
   "execution_count": 7,
   "id": "8d0158d5-99fd-4132-9765-6f22b607f543",
   "metadata": {},
   "outputs": [
    {
     "name": "stdout",
     "output_type": "stream",
     "text": [
      "Direct Pairs from File: (6)\n",
      "13  ---  14\n",
      "14  ---  5\n",
      "5  ---  13\n",
      "13  ---  nan\n",
      "nan  ---  nan\n",
      "nan  ---  13\n",
      "\n",
      "\n",
      "Concatemer (7-way):\n",
      "13 --- 14 --- 5 --- 13 --- nan --- nan --- 13\n",
      "\n",
      "Direct Pairs (6):\n",
      "13 --- 14\n",
      "14 --- 5\n",
      "5 --- 13\n",
      "13 --- nan\n",
      "nan --- nan\n",
      "nan --- 13\n"
     ]
    }
   ],
   "source": [
    "def f(string):\n",
    "    return string.replace('!', 'nan')\n",
    "    \n",
    "\n",
    "print(f\"Direct Pairs from File: ({len(direct_pairs)})\")\n",
    "for _, row in direct_pairs.iterrows():\n",
    "    print(f(row['chrom1']),  \" --- \", f(row['chrom2']))\n",
    "\n",
    "print()    \n",
    "print_concatemer(concatemer, read=True, expanded=False,)"
   ]
  },
  {
   "cell_type": "code",
   "execution_count": 8,
   "id": "ac5b45c7-c95e-4d77-80e3-933bc5713d45",
   "metadata": {},
   "outputs": [
    {
     "data": {
      "text/html": [
       "<div>\n",
       "<style scoped>\n",
       "    .dataframe tbody tr th:only-of-type {\n",
       "        vertical-align: middle;\n",
       "    }\n",
       "\n",
       "    .dataframe tbody tr th {\n",
       "        vertical-align: top;\n",
       "    }\n",
       "\n",
       "    .dataframe thead th {\n",
       "        text-align: right;\n",
       "    }\n",
       "</style>\n",
       "<table border=\"1\" class=\"dataframe\">\n",
       "  <thead>\n",
       "    <tr style=\"text-align: right;\">\n",
       "      <th></th>\n",
       "      <th>chrom1</th>\n",
       "      <th>chrom2</th>\n",
       "      <th>pair_type</th>\n",
       "      <th>walk_pair_index</th>\n",
       "      <th>walk_pair_type</th>\n",
       "    </tr>\n",
       "  </thead>\n",
       "  <tbody>\n",
       "    <tr>\n",
       "      <th>880</th>\n",
       "      <td>13</td>\n",
       "      <td>14</td>\n",
       "      <td>UU</td>\n",
       "      <td>1</td>\n",
       "      <td>R1</td>\n",
       "    </tr>\n",
       "    <tr>\n",
       "      <th>881</th>\n",
       "      <td>14</td>\n",
       "      <td>5</td>\n",
       "      <td>UU</td>\n",
       "      <td>2</td>\n",
       "      <td>R1</td>\n",
       "    </tr>\n",
       "    <tr>\n",
       "      <th>882</th>\n",
       "      <td>5</td>\n",
       "      <td>13</td>\n",
       "      <td>UU</td>\n",
       "      <td>3</td>\n",
       "      <td>R1</td>\n",
       "    </tr>\n",
       "    <tr>\n",
       "      <th>883</th>\n",
       "      <td>13</td>\n",
       "      <td>!</td>\n",
       "      <td>UN</td>\n",
       "      <td>4</td>\n",
       "      <td>R1</td>\n",
       "    </tr>\n",
       "    <tr>\n",
       "      <th>884</th>\n",
       "      <td>!</td>\n",
       "      <td>!</td>\n",
       "      <td>NN</td>\n",
       "      <td>5</td>\n",
       "      <td>R1</td>\n",
       "    </tr>\n",
       "    <tr>\n",
       "      <th>885</th>\n",
       "      <td>!</td>\n",
       "      <td>13</td>\n",
       "      <td>NU</td>\n",
       "      <td>6</td>\n",
       "      <td>R1</td>\n",
       "    </tr>\n",
       "  </tbody>\n",
       "</table>\n",
       "</div>"
      ],
      "text/plain": [
       "    chrom1 chrom2 pair_type  walk_pair_index walk_pair_type\n",
       "880     13     14        UU                1             R1\n",
       "881     14      5        UU                2             R1\n",
       "882      5     13        UU                3             R1\n",
       "883     13      !        UN                4             R1\n",
       "884      !      !        NN                5             R1\n",
       "885      !     13        NU                6             R1"
      ]
     },
     "execution_count": 8,
     "metadata": {},
     "output_type": "execute_result"
    }
   ],
   "source": [
    "direct_pairs[[ 'chrom1',  'chrom2', 'pair_type', 'walk_pair_index', 'walk_pair_type']]"
   ]
  },
  {
   "cell_type": "code",
   "execution_count": 9,
   "id": "f8fe6bc6-22b3-4e3d-97b7-c1e931aa36ff",
   "metadata": {},
   "outputs": [
    {
     "ename": "SyntaxError",
     "evalue": "'break' outside loop (668683560.py, line 1)",
     "output_type": "error",
     "traceback": [
      "\u001b[0;36m  Cell \u001b[0;32mIn[9], line 1\u001b[0;36m\u001b[0m\n\u001b[0;31m    break\u001b[0m\n\u001b[0m    ^\u001b[0m\n\u001b[0;31mSyntaxError\u001b[0m\u001b[0;31m:\u001b[0m 'break' outside loop\n"
     ]
    }
   ],
   "source": [
    "break"
   ]
  },
  {
   "cell_type": "code",
   "execution_count": null,
   "id": "62b40a2f-6123-49df-add9-fd53c4a02e3d",
   "metadata": {},
   "outputs": [],
   "source": []
  },
  {
   "cell_type": "code",
   "execution_count": 12,
   "id": "629b5492-31ce-4563-a31b-85bc019d5f2b",
   "metadata": {},
   "outputs": [
    {
     "name": "stdout",
     "output_type": "stream",
     "text": [
      "Expanded Pairs from File: (21)\n",
      "13  ---  5\n",
      "13  ---  13\n",
      "13  ---  nan\n",
      "13  ---  nan\n",
      "13  ---  13\n",
      "13  ---  14\n",
      "14  ---  13\n",
      "14  ---  nan\n",
      "14  ---  nan\n",
      "14  ---  13\n",
      "14  ---  14\n",
      "5  ---  nan\n",
      "5  ---  nan\n",
      "5  ---  13\n",
      "5  ---  14\n",
      "13  ---  nan\n",
      "13  ---  13\n",
      "13  ---  14\n",
      "nan  ---  13\n",
      "nan  ---  14\n",
      "nan  ---  14\n",
      "\n",
      "\n",
      "Concatemer (7-way):\n",
      "13 --- 14 --- 5 --- 13 --- nan --- nan --- 13\n",
      "\n",
      "Expanded Pairs (21):\n",
      "13 --- 14\n",
      "13 --- 5\n",
      "13 --- 13\n",
      "13 --- nan\n",
      "13 --- nan\n",
      "13 --- 13\n",
      "14 --- 5\n",
      "14 --- 13\n",
      "14 --- nan\n",
      "14 --- nan\n",
      "14 --- 13\n",
      "5 --- 13\n",
      "5 --- nan\n",
      "5 --- nan\n",
      "5 --- 13\n",
      "13 --- nan\n",
      "13 --- nan\n",
      "13 --- 13\n",
      "nan --- nan\n",
      "nan --- 13\n",
      "nan --- 13\n"
     ]
    }
   ],
   "source": [
    "print(f\"Expanded Pairs from File: ({len(expanded_pairs)})\")\n",
    "for _, row in expanded_pairs.iterrows():\n",
    "    print(f(row['chrom1']),  \" --- \", f(row['chrom2']))\n",
    "\n",
    "print()    \n",
    "print_concatemer(concatemer, read=True, direct=False, expanded=True,)"
   ]
  },
  {
   "cell_type": "code",
   "execution_count": null,
   "id": "2e77fbd9-eb91-42da-8d39-ad7e1d4dfbec",
   "metadata": {},
   "outputs": [],
   "source": [
    "break"
   ]
  },
  {
   "cell_type": "code",
   "execution_count": null,
   "id": "9277a5e0-5112-4402-9c27-3017529e5c4a",
   "metadata": {},
   "outputs": [],
   "source": []
  },
  {
   "cell_type": "code",
   "execution_count": null,
   "id": "0881aaa0-62a9-4f89-868c-2b3c590e7efa",
   "metadata": {},
   "outputs": [],
   "source": [
    "break"
   ]
  },
  {
   "cell_type": "code",
   "execution_count": null,
   "id": "ff711c0d-b108-4065-88f3-a2db32c744b1",
   "metadata": {},
   "outputs": [],
   "source": []
  },
  {
   "cell_type": "code",
   "execution_count": null,
   "id": "643d8dac-b0ef-4268-8744-a07ac0627726",
   "metadata": {},
   "outputs": [],
   "source": []
  },
  {
   "cell_type": "code",
   "execution_count": null,
   "id": "350920b8-ed32-4dfd-af22-da0fa33627c0",
   "metadata": {},
   "outputs": [],
   "source": [
    "break"
   ]
  },
  {
   "cell_type": "code",
   "execution_count": null,
   "id": "111420e8-c874-4c19-a404-14b7eaa31e87",
   "metadata": {},
   "outputs": [],
   "source": []
  },
  {
   "cell_type": "code",
   "execution_count": null,
   "id": "955f0714-a54d-4923-8448-466cb94d4951",
   "metadata": {},
   "outputs": [],
   "source": [
    "clique = []\n",
    "\n",
    "for c1 in concatemer['chrom'].values:\n",
    "    for c2 in concatemer['chrom'].values:\n",
    "        clique.append((c1, c2))\n",
    "        \n",
    "print(len(clique))"
   ]
  },
  {
   "cell_type": "code",
   "execution_count": null,
   "id": "7fb3789d-1a52-4b98-ace7-faf7c042fbf1",
   "metadata": {},
   "outputs": [],
   "source": []
  },
  {
   "cell_type": "code",
   "execution_count": null,
   "id": "17c91a34-b9de-4ef2-89fd-5b1333d105a1",
   "metadata": {},
   "outputs": [],
   "source": [
    "break"
   ]
  },
  {
   "cell_type": "code",
   "execution_count": null,
   "id": "65bd12a3-b40a-429e-9d91-e43a577e5ddd",
   "metadata": {},
   "outputs": [],
   "source": [
    "clique = list(itertools.combinations(concatemer['chrom'].values, 2))\n",
    "print(len(clique))"
   ]
  },
  {
   "cell_type": "code",
   "execution_count": null,
   "id": "9669e784-cdd6-43fb-9635-ef5d37b001f3",
   "metadata": {},
   "outputs": [],
   "source": [
    "clique"
   ]
  },
  {
   "cell_type": "code",
   "execution_count": null,
   "id": "78d885d9-eb1f-49ef-bc93-81ac8f15234f",
   "metadata": {},
   "outputs": [],
   "source": [
    "break"
   ]
  },
  {
   "cell_type": "code",
   "execution_count": null,
   "id": "781705d3-fead-4839-867a-42668dbed684",
   "metadata": {},
   "outputs": [],
   "source": []
  },
  {
   "cell_type": "code",
   "execution_count": null,
   "id": "52c93df1-d835-47ca-a876-8e3677f88a40",
   "metadata": {},
   "outputs": [],
   "source": []
  },
  {
   "cell_type": "code",
   "execution_count": null,
   "id": "3d9d27f5-7f57-4d92-88e8-cb145c2fa8f8",
   "metadata": {},
   "outputs": [],
   "source": [
    "print(pairs['readID'].nunique())"
   ]
  },
  {
   "cell_type": "code",
   "execution_count": null,
   "id": "480ceeef-30b0-42c4-8438-b6d73ff09e0b",
   "metadata": {},
   "outputs": [],
   "source": [
    "print(align['read_name'].nunique())"
   ]
  },
  {
   "cell_type": "markdown",
   "id": "186f7d70-33e8-4015-8a8e-af95c3b53852",
   "metadata": {},
   "source": [
    "# load alignments"
   ]
  },
  {
   "cell_type": "code",
   "execution_count": null,
   "id": "9f70b621-8044-4260-9b61-40eb6696718b",
   "metadata": {},
   "outputs": [],
   "source": [
    "fpath = '/scratch/indikar_root/indikar1/shared_data/single_cell/annotate/o1b01.GRCm39.pe.bam'\n",
    "\n",
    "read_names = []\n",
    "\n",
    "for read in pysam.AlignmentFile(fpath):\n",
    "    if read.qname.split(\":\")[0] == rand_read:\n",
    "        print(read.reference_name)\n",
    "        \n",
    "    read_names.append(read.qname.split(\":\")[0])\n",
    "    \n",
    "print()\n",
    "print(\"n total reads:\", len(set(read_names)))"
   ]
  },
  {
   "cell_type": "code",
   "execution_count": null,
   "id": "c9af40b1-e21c-48ad-818d-316c3b09285b",
   "metadata": {},
   "outputs": [],
   "source": [
    "read.qname"
   ]
  },
  {
   "cell_type": "code",
   "execution_count": null,
   "id": "d74da1c8-ced6-42fe-9b60-c657a900610d",
   "metadata": {},
   "outputs": [],
   "source": [
    "break"
   ]
  },
  {
   "cell_type": "code",
   "execution_count": null,
   "id": "800fd9bb-b100-4232-9ae2-fa666d49f683",
   "metadata": {},
   "outputs": [],
   "source": []
  },
  {
   "cell_type": "code",
   "execution_count": null,
   "id": "df8b258b-de9e-41e4-9c28-a4066f50d998",
   "metadata": {},
   "outputs": [],
   "source": [
    "# check test\n",
    "fpath = '/scratch/indikar_root/indikar1/shared_data/single_cell/test/o1b01.test.pairs'\n",
    "pairs = load_pairs(fpath)\n",
    "# print(f\"{pairs.shape=}\")\n",
    "print(len(pairs[pairs['readID'] == rand_read]))\n",
    "pairs[pairs['readID'] == rand_read]"
   ]
  },
  {
   "cell_type": "code",
   "execution_count": null,
   "id": "7c3cbcda-a76a-4f24-9b0f-d6604b7ed29d",
   "metadata": {},
   "outputs": [],
   "source": [
    "break"
   ]
  },
  {
   "cell_type": "code",
   "execution_count": null,
   "id": "452477c4-213a-4a6f-a17a-700322676e03",
   "metadata": {},
   "outputs": [],
   "source": []
  },
  {
   "cell_type": "code",
   "execution_count": null,
   "id": "02816263-6d3f-4fcf-b6e6-1a1d4dbcbcbc",
   "metadata": {},
   "outputs": [],
   "source": []
  },
  {
   "cell_type": "code",
   "execution_count": null,
   "id": "60a5962e-fb7e-4b80-b611-6eaac11ba100",
   "metadata": {},
   "outputs": [],
   "source": []
  },
  {
   "cell_type": "code",
   "execution_count": null,
   "id": "c8615489-aad2-42ac-8755-ccafd003af80",
   "metadata": {},
   "outputs": [],
   "source": []
  }
 ],
 "metadata": {
  "kernelspec": {
   "display_name": "bioinf",
   "language": "python",
   "name": "bioinf"
  },
  "language_info": {
   "codemirror_mode": {
    "name": "ipython",
    "version": 3
   },
   "file_extension": ".py",
   "mimetype": "text/x-python",
   "name": "python",
   "nbconvert_exporter": "python",
   "pygments_lexer": "ipython3",
   "version": "3.10.14"
  }
 },
 "nbformat": 4,
 "nbformat_minor": 5
}
