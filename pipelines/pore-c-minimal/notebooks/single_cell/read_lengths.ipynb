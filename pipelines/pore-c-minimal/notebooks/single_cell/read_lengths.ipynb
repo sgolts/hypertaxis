{
 "cells": [
  {
   "cell_type": "code",
   "execution_count": 1,
   "id": "452506b7-c727-4695-b37b-89f991000435",
   "metadata": {},
   "outputs": [],
   "source": [
    "import pandas as pd\n",
    "import numpy as np\n",
    "import os \n",
    "import sys\n",
    "import glob"
   ]
  },
  {
   "cell_type": "code",
   "execution_count": 2,
   "id": "0203c34d-e93e-433e-aeba-d4525b9bfb1f",
   "metadata": {},
   "outputs": [
    {
     "data": {
      "text/plain": [
       "['/scratch/indikar_root/indikar1/shared_data/single_cell/reports/read_lengths/o3b58.read_lengths.parquet',\n",
       " '/scratch/indikar_root/indikar1/shared_data/single_cell/reports/read_lengths/o1b33.read_lengths.parquet',\n",
       " '/scratch/indikar_root/indikar1/shared_data/single_cell/reports/read_lengths/o4b01.read_lengths.parquet',\n",
       " '/scratch/indikar_root/indikar1/shared_data/single_cell/reports/read_lengths/o4b23.read_lengths.parquet',\n",
       " '/scratch/indikar_root/indikar1/shared_data/single_cell/reports/read_lengths/o2b48.read_lengths.parquet',\n",
       " '/scratch/indikar_root/indikar1/shared_data/single_cell/reports/read_lengths/o4b08.read_lengths.parquet',\n",
       " '/scratch/indikar_root/indikar1/shared_data/single_cell/reports/read_lengths/o1b35.read_lengths.parquet',\n",
       " '/scratch/indikar_root/indikar1/shared_data/single_cell/reports/read_lengths/o3b30.read_lengths.parquet',\n",
       " '/scratch/indikar_root/indikar1/shared_data/single_cell/reports/read_lengths/o1b80.read_lengths.parquet',\n",
       " '/scratch/indikar_root/indikar1/shared_data/single_cell/reports/read_lengths/o4b84.read_lengths.parquet']"
      ]
     },
     "execution_count": 2,
     "metadata": {},
     "output_type": "execute_result"
    }
   ],
   "source": [
    "dpath = \"/scratch/indikar_root/indikar1/shared_data/single_cell/reports/read_lengths/\"\n",
    "file_list = glob.glob(f\"{dpath}/*\")\n",
    "# file_list = file_list[:10]\n",
    "file_list[:10]"
   ]
  },
  {
   "cell_type": "code",
   "execution_count": 9,
   "id": "8640f82a-dbfe-4a09-af10-c628f6ddeec3",
   "metadata": {},
   "outputs": [
    {
     "data": {
      "text/html": [
       "<div>\n",
       "<style scoped>\n",
       "    .dataframe tbody tr th:only-of-type {\n",
       "        vertical-align: middle;\n",
       "    }\n",
       "\n",
       "    .dataframe tbody tr th {\n",
       "        vertical-align: top;\n",
       "    }\n",
       "\n",
       "    .dataframe thead th {\n",
       "        text-align: right;\n",
       "    }\n",
       "</style>\n",
       "<table border=\"1\" class=\"dataframe\">\n",
       "  <thead>\n",
       "    <tr style=\"text-align: right;\">\n",
       "      <th></th>\n",
       "      <th>sample_id</th>\n",
       "      <th>cell_id</th>\n",
       "      <th>total_reads</th>\n",
       "      <th>mean_read_length</th>\n",
       "      <th>median_read_length</th>\n",
       "    </tr>\n",
       "  </thead>\n",
       "  <tbody>\n",
       "    <tr>\n",
       "      <th>0</th>\n",
       "      <td>o3</td>\n",
       "      <td>b58</td>\n",
       "      <td>127189</td>\n",
       "      <td>1538.684603</td>\n",
       "      <td>1265.0</td>\n",
       "    </tr>\n",
       "    <tr>\n",
       "      <th>1</th>\n",
       "      <td>o1</td>\n",
       "      <td>b33</td>\n",
       "      <td>461331</td>\n",
       "      <td>1081.535089</td>\n",
       "      <td>1093.0</td>\n",
       "    </tr>\n",
       "    <tr>\n",
       "      <th>2</th>\n",
       "      <td>o4</td>\n",
       "      <td>b01</td>\n",
       "      <td>16284</td>\n",
       "      <td>36.390629</td>\n",
       "      <td>21.0</td>\n",
       "    </tr>\n",
       "    <tr>\n",
       "      <th>3</th>\n",
       "      <td>o4</td>\n",
       "      <td>b23</td>\n",
       "      <td>1764</td>\n",
       "      <td>94.596939</td>\n",
       "      <td>24.0</td>\n",
       "    </tr>\n",
       "    <tr>\n",
       "      <th>4</th>\n",
       "      <td>o2</td>\n",
       "      <td>b48</td>\n",
       "      <td>3221</td>\n",
       "      <td>185.431543</td>\n",
       "      <td>10.0</td>\n",
       "    </tr>\n",
       "  </tbody>\n",
       "</table>\n",
       "</div>"
      ],
      "text/plain": [
       "  sample_id cell_id  total_reads  mean_read_length  median_read_length\n",
       "0        o3     b58       127189       1538.684603              1265.0\n",
       "1        o1     b33       461331       1081.535089              1093.0\n",
       "2        o4     b01        16284         36.390629                21.0\n",
       "3        o4     b23         1764         94.596939                24.0\n",
       "4        o2     b48         3221        185.431543                10.0"
      ]
     },
     "execution_count": 9,
     "metadata": {},
     "output_type": "execute_result"
    }
   ],
   "source": [
    "result = []\n",
    "\n",
    "for file_path in file_list:\n",
    "    basename = os.path.basename(file_path)\n",
    "    sample_id = basename[:2]\n",
    "    cell_id = basename[2:5]\n",
    "    \n",
    "    tmp = pd.read_parquet(file_path)\n",
    "    \n",
    "    row = {\n",
    "        'sample_id' : sample_id,\n",
    "        'cell_id' : cell_id,\n",
    "        'total_reads' : len(tmp),\n",
    "        'mean_read_length' : tmp['read_length'].mean(),\n",
    "        'median_read_length' : tmp['read_length'].median(),\n",
    "    }\n",
    "    result.append(row)\n",
    "    \n",
    "result = pd.DataFrame(result)\n",
    "result.head()"
   ]
  },
  {
   "cell_type": "code",
   "execution_count": 11,
   "id": "effc91c6-ceca-46eb-9ae1-955d4be4f8ae",
   "metadata": {},
   "outputs": [
    {
     "data": {
      "text/plain": [
       "sample_id\n",
       "o1    1036.765625\n",
       "o2     579.869565\n",
       "o3    1140.895833\n",
       "o4     578.187500\n",
       "Name: median_read_length, dtype: float64"
      ]
     },
     "execution_count": 11,
     "metadata": {},
     "output_type": "execute_result"
    }
   ],
   "source": [
    "gx = result.groupby('sample_id')['median_read_length'].mean()\n",
    "gx"
   ]
  },
  {
   "cell_type": "code",
   "execution_count": null,
   "id": "08c1f3af-d7a3-4f44-a6b7-f9802653d061",
   "metadata": {},
   "outputs": [],
   "source": []
  },
  {
   "cell_type": "code",
   "execution_count": null,
   "id": "fc222e68-cda7-4dc7-91a9-cc2e36a77aeb",
   "metadata": {},
   "outputs": [],
   "source": []
  },
  {
   "cell_type": "code",
   "execution_count": 4,
   "id": "e4cfbb08-7160-43d1-af82-dbb6a5b2ae14",
   "metadata": {},
   "outputs": [
    {
     "data": {
      "text/html": [
       "<div>\n",
       "<style scoped>\n",
       "    .dataframe tbody tr th:only-of-type {\n",
       "        vertical-align: middle;\n",
       "    }\n",
       "\n",
       "    .dataframe tbody tr th {\n",
       "        vertical-align: top;\n",
       "    }\n",
       "\n",
       "    .dataframe thead th {\n",
       "        text-align: right;\n",
       "    }\n",
       "</style>\n",
       "<table border=\"1\" class=\"dataframe\">\n",
       "  <thead>\n",
       "    <tr style=\"text-align: right;\">\n",
       "      <th></th>\n",
       "      <th>read_name</th>\n",
       "      <th>read_length</th>\n",
       "    </tr>\n",
       "  </thead>\n",
       "  <tbody>\n",
       "    <tr>\n",
       "      <th>0</th>\n",
       "      <td>6d628642-2ce0-4a23-8cc6-0d7d72561c77</td>\n",
       "      <td>840</td>\n",
       "    </tr>\n",
       "    <tr>\n",
       "      <th>1</th>\n",
       "      <td>721d9c3f-61f4-4134-b329-6a7d9a48a95b</td>\n",
       "      <td>1057</td>\n",
       "    </tr>\n",
       "    <tr>\n",
       "      <th>2</th>\n",
       "      <td>e58c69dc-4a05-4418-94f1-099cb5c1dbfd</td>\n",
       "      <td>1888</td>\n",
       "    </tr>\n",
       "    <tr>\n",
       "      <th>3</th>\n",
       "      <td>316362dd-8f07-42d3-8bf5-7ea0f30590d2</td>\n",
       "      <td>1351</td>\n",
       "    </tr>\n",
       "    <tr>\n",
       "      <th>4</th>\n",
       "      <td>5d635f28-caf6-4d9e-9b9f-648e9e36bfba</td>\n",
       "      <td>718</td>\n",
       "    </tr>\n",
       "  </tbody>\n",
       "</table>\n",
       "</div>"
      ],
      "text/plain": [
       "                              read_name  read_length\n",
       "0  6d628642-2ce0-4a23-8cc6-0d7d72561c77          840\n",
       "1  721d9c3f-61f4-4134-b329-6a7d9a48a95b         1057\n",
       "2  e58c69dc-4a05-4418-94f1-099cb5c1dbfd         1888\n",
       "3  316362dd-8f07-42d3-8bf5-7ea0f30590d2         1351\n",
       "4  5d635f28-caf6-4d9e-9b9f-648e9e36bfba          718"
      ]
     },
     "execution_count": 4,
     "metadata": {},
     "output_type": "execute_result"
    }
   ],
   "source": [
    "tmp.head()"
   ]
  },
  {
   "cell_type": "code",
   "execution_count": null,
   "id": "bb14345d-0230-4418-b8b6-932b97f58eb4",
   "metadata": {},
   "outputs": [],
   "source": []
  },
  {
   "cell_type": "code",
   "execution_count": null,
   "id": "809a4e82-f5f6-4bc6-9568-8fd80859f16a",
   "metadata": {},
   "outputs": [],
   "source": []
  },
  {
   "cell_type": "code",
   "execution_count": 3,
   "id": "150a28d5-7300-44bc-8610-a6ff69693ab6",
   "metadata": {},
   "outputs": [
    {
     "data": {
      "text/html": [
       "<div>\n",
       "<style scoped>\n",
       "    .dataframe tbody tr th:only-of-type {\n",
       "        vertical-align: middle;\n",
       "    }\n",
       "\n",
       "    .dataframe tbody tr th {\n",
       "        vertical-align: top;\n",
       "    }\n",
       "\n",
       "    .dataframe thead th {\n",
       "        text-align: right;\n",
       "    }\n",
       "</style>\n",
       "<table border=\"1\" class=\"dataframe\">\n",
       "  <thead>\n",
       "    <tr style=\"text-align: right;\">\n",
       "      <th></th>\n",
       "      <th>sample_id</th>\n",
       "      <th>cell_id</th>\n",
       "      <th>total_reads</th>\n",
       "      <th>reads_unmapped</th>\n",
       "      <th>total_bases</th>\n",
       "      <th>total_bases_mapped</th>\n",
       "      <th>mean_read_length</th>\n",
       "      <th>median_read_length</th>\n",
       "    </tr>\n",
       "  </thead>\n",
       "  <tbody>\n",
       "    <tr>\n",
       "      <th>0</th>\n",
       "      <td>o1</td>\n",
       "      <td>b18</td>\n",
       "      <td>604302</td>\n",
       "      <td>5993</td>\n",
       "      <td>637848243</td>\n",
       "      <td>571910866</td>\n",
       "      <td>1055</td>\n",
       "      <td>1023</td>\n",
       "    </tr>\n",
       "    <tr>\n",
       "      <th>1</th>\n",
       "      <td>o2</td>\n",
       "      <td>b03</td>\n",
       "      <td>1855</td>\n",
       "      <td>1796</td>\n",
       "      <td>115865</td>\n",
       "      <td>73897</td>\n",
       "      <td>62</td>\n",
       "      <td>16</td>\n",
       "    </tr>\n",
       "    <tr>\n",
       "      <th>2</th>\n",
       "      <td>o4</td>\n",
       "      <td>b04</td>\n",
       "      <td>22499</td>\n",
       "      <td>6604</td>\n",
       "      <td>18929423</td>\n",
       "      <td>18008085</td>\n",
       "      <td>841</td>\n",
       "      <td>674</td>\n",
       "    </tr>\n",
       "    <tr>\n",
       "      <th>3</th>\n",
       "      <td>o4</td>\n",
       "      <td>b79</td>\n",
       "      <td>7596</td>\n",
       "      <td>7395</td>\n",
       "      <td>435755</td>\n",
       "      <td>250163</td>\n",
       "      <td>57</td>\n",
       "      <td>7</td>\n",
       "    </tr>\n",
       "    <tr>\n",
       "      <th>4</th>\n",
       "      <td>o3</td>\n",
       "      <td>b86</td>\n",
       "      <td>21609</td>\n",
       "      <td>1234</td>\n",
       "      <td>24276003</td>\n",
       "      <td>21720873</td>\n",
       "      <td>1123</td>\n",
       "      <td>1124</td>\n",
       "    </tr>\n",
       "  </tbody>\n",
       "</table>\n",
       "</div>"
      ],
      "text/plain": [
       "  sample_id cell_id  total_reads  reads_unmapped  total_bases  \\\n",
       "0        o1     b18       604302            5993    637848243   \n",
       "1        o2     b03         1855            1796       115865   \n",
       "2        o4     b04        22499            6604     18929423   \n",
       "3        o4     b79         7596            7395       435755   \n",
       "4        o3     b86        21609            1234     24276003   \n",
       "\n",
       "   total_bases_mapped  mean_read_length  median_read_length  \n",
       "0           571910866              1055                1023  \n",
       "1               73897                62                  16  \n",
       "2            18008085               841                 674  \n",
       "3              250163                57                   7  \n",
       "4            21720873              1123                1124  "
      ]
     },
     "execution_count": 3,
     "metadata": {},
     "output_type": "execute_result"
    }
   ],
   "source": [
    "def get_read_lengths(df: pd.DataFrame) -> pd.DataFrame:\n",
    "    \"\"\"\n",
    "    Efficiently calculates total and mapped read lengths for each read name.\n",
    "\n",
    "    Args:\n",
    "        df: A DataFrame with columns 'read_name', 'length_on_read', and 'is_mapped'.\n",
    "\n",
    "    Returns:\n",
    "        A DataFrame with columns 'read_name', 'bases', and 'bases_mapped'.\n",
    "    \"\"\"\n",
    "    # Use groupby and aggregation\n",
    "    total_lengths = df.groupby(\"read_name\")[\"length_on_read\"].sum()\n",
    "    mapped_lengths = df[df[\"is_mapped\"]].groupby(\"read_name\")[\"length_on_read\"].sum()\n",
    "\n",
    "    # Combine results using efficient join\n",
    "    result_df = pd.concat([total_lengths, mapped_lengths], axis=1).reset_index()\n",
    "    result_df.columns = [\"read_name\", \"bases\", \"bases_mapped\"]\n",
    "\n",
    "    # Impute missing values with 0 (if read has no mapped lengths)\n",
    "    result_df[\"bases_mapped\"] = result_df[\"bases_mapped\"].fillna(0)\n",
    "    result_df[\"bases_mapped\"] = result_df[\"bases_mapped\"].astype(int)\n",
    "\n",
    "    return result_df\n",
    "\n",
    "result = []\n",
    "columns = [\n",
    "    'read_name',\n",
    "    'length_on_read',\n",
    "    'is_mapped',\n",
    "]\n",
    "\n",
    "for file_path in file_list:\n",
    "    basename = os.path.basename(file_path)\n",
    "    sample_id = basename[:2]\n",
    "    cell_id = basename[2:5]\n",
    "    \n",
    "    tmp = pd.read_parquet(file_path, columns=columns)\n",
    "    tmp = get_read_lengths(tmp)\n",
    "    n_reads_unmapped = tmp[tmp['bases_mapped'] == 0]\n",
    "    \n",
    "    row = {\n",
    "        'sample_id' : sample_id,\n",
    "        'cell_id' : cell_id,\n",
    "        'total_reads' : len(tmp),\n",
    "        'reads_unmapped' : len(n_reads_unmapped),\n",
    "        'total_bases' : tmp['bases'].sum(),\n",
    "        'total_bases_mapped' : tmp['bases_mapped'].sum(),\n",
    "        'mean_read_length' : tmp['bases'].mean().astype(int),\n",
    "        'median_read_length' : tmp['bases'].median().astype(int),\n",
    "    }\n",
    "    \n",
    "    result.append(row)\n",
    "    \n",
    "    \n",
    "result = pd.DataFrame(result)\n",
    "result.head()"
   ]
  },
  {
   "cell_type": "code",
   "execution_count": 4,
   "id": "2d99e817-8d35-42fe-83fa-f1fd4ec06ff0",
   "metadata": {},
   "outputs": [
    {
     "ename": "SyntaxError",
     "evalue": "'break' outside loop (668683560.py, line 1)",
     "output_type": "error",
     "traceback": [
      "\u001b[0;36m  Cell \u001b[0;32mIn[4], line 1\u001b[0;36m\u001b[0m\n\u001b[0;31m    break\u001b[0m\n\u001b[0m    ^\u001b[0m\n\u001b[0;31mSyntaxError\u001b[0m\u001b[0;31m:\u001b[0m 'break' outside loop\n"
     ]
    }
   ],
   "source": [
    "break"
   ]
  },
  {
   "cell_type": "code",
   "execution_count": 7,
   "id": "2e9117cb-22dc-4dba-8188-bb9713eb7cd5",
   "metadata": {},
   "outputs": [
    {
     "data": {
      "text/html": [
       "<div>\n",
       "<style scoped>\n",
       "    .dataframe tbody tr th:only-of-type {\n",
       "        vertical-align: middle;\n",
       "    }\n",
       "\n",
       "    .dataframe tbody tr th {\n",
       "        vertical-align: top;\n",
       "    }\n",
       "\n",
       "    .dataframe thead th {\n",
       "        text-align: right;\n",
       "    }\n",
       "</style>\n",
       "<table border=\"1\" class=\"dataframe\">\n",
       "  <thead>\n",
       "    <tr style=\"text-align: right;\">\n",
       "      <th></th>\n",
       "      <th>sample_id</th>\n",
       "      <th>median_read_length</th>\n",
       "    </tr>\n",
       "  </thead>\n",
       "  <tbody>\n",
       "    <tr>\n",
       "      <th>0</th>\n",
       "      <td>o1</td>\n",
       "      <td>1036.750000</td>\n",
       "    </tr>\n",
       "    <tr>\n",
       "      <th>1</th>\n",
       "      <td>o2</td>\n",
       "      <td>579.858696</td>\n",
       "    </tr>\n",
       "    <tr>\n",
       "      <th>2</th>\n",
       "      <td>o3</td>\n",
       "      <td>1140.895833</td>\n",
       "    </tr>\n",
       "    <tr>\n",
       "      <th>3</th>\n",
       "      <td>o4</td>\n",
       "      <td>578.177083</td>\n",
       "    </tr>\n",
       "  </tbody>\n",
       "</table>\n",
       "</div>"
      ],
      "text/plain": [
       "  sample_id  median_read_length\n",
       "0        o1         1036.750000\n",
       "1        o2          579.858696\n",
       "2        o3         1140.895833\n",
       "3        o4          578.177083"
      ]
     },
     "execution_count": 7,
     "metadata": {},
     "output_type": "execute_result"
    }
   ],
   "source": [
    "gx = result.groupby('sample_id').agg(\n",
    "    median_read_length = ('median_read_length', 'mean'),\n",
    ").reset_index()\n",
    "\n",
    "gx"
   ]
  },
  {
   "cell_type": "code",
   "execution_count": null,
   "id": "3af19be2-d19f-4ea6-90ba-de331e34c0e2",
   "metadata": {},
   "outputs": [],
   "source": []
  },
  {
   "cell_type": "code",
   "execution_count": null,
   "id": "694469f3-c7e8-4b32-8151-a18ad04dd530",
   "metadata": {},
   "outputs": [],
   "source": [
    "tmp.head()"
   ]
  },
  {
   "cell_type": "code",
   "execution_count": null,
   "id": "3d2eb15d-f2c2-44d2-b2ce-ac50ede333a4",
   "metadata": {},
   "outputs": [],
   "source": []
  },
  {
   "cell_type": "code",
   "execution_count": null,
   "id": "018e880e-9e36-41da-acda-ac1b8cee9885",
   "metadata": {},
   "outputs": [],
   "source": [
    "fpath = f\"/scratch/indikar_root/indikar1/shared_data/single_cell/align_table/o4b12.GRCm39.align_table.parquet\"\n",
    "\n",
    "df = pd.read_parquet(fpath)\n",
    "df.head()\n",
    "\n"
   ]
  },
  {
   "cell_type": "code",
   "execution_count": null,
   "id": "97073920-5923-4943-90df-b8cf3a3dfbc4",
   "metadata": {},
   "outputs": [],
   "source": [
    "df[df['read_name'] == 'b32eaeb1-60df-4c53-bc22-d0b99737b0d4_1']\n"
   ]
  },
  {
   "cell_type": "code",
   "execution_count": null,
   "id": "dfbcb96f-18ef-4684-972d-38e0069d7e9a",
   "metadata": {},
   "outputs": [],
   "source": [
    "df[df['read_name'] == 'b32eaeb1-60df-4c53-bc22-d0b99737b0d4_1']['length_on_read'].sum()"
   ]
  },
  {
   "cell_type": "code",
   "execution_count": null,
   "id": "025135d1-1b77-4a52-946f-36e271866758",
   "metadata": {},
   "outputs": [],
   "source": [
    "len(\"CAGTTGGGGCATCTTCTGGATAAATGCCGAGGAGAGGTATTGCTGGATCCTCCGGTAGTACTATGTCCAAGTCTGAGGAACCTCAGACTGATTTCCAGAGTGGTTGTACAAGCCCGCAATCCCACCAACAATGGAGGAGTGTTCCTCTTTCTCCACATCCACGCCAGCATCTGCTGTCACCTGAATTTTTGATCTTAGCCATTCTGACTGGTGTGAGGTGGAATCTCAGGGTTGTTTTCATTTTGCATTTCCCTGATAATTAAGGATGTTGAACATTTTTCAGGTGCTTCTGTTCCATTCGGTATTTATAGGTGAGAATTCTGTGTTCATTCTGAGCCCCCCATTTTTAATAGGATTTTGAGATTTTCTGAAGTCCACCTTCTTCAGTTTCTTTATATATGTTGATATTAGCCCCCTATCTGACTTAGGATAGGTAAAGATCCTTTCCCAATCTGTTGGTGGTCTTTTTGTCTTATTGACGGTGTCTTTTGCCTTGCAGAAACTTTGGAGTTCATTAGGTCCCATTTGTCAAATTATCAATCTTACAGCACATGTGGAAACAGAAAAGAAAATCTGAAACAAAATCATAAGAAGAGGTGAAGTGAGAGTAGAAAAATGGGGAGATGGTAAATGCAGAATACGTGAATGTATAAAAATAGTAAAGTGTGTCCCCTTAATTCTAATAACCACTGATAATTATAGATAAATATTTCTAAGTAAAGAGGAAATGATTTAAACCTTTCACTGTCCTTGCAGAAGTATTTTAACACTTAGTATAATTTGATGAGGGAATCCAATTTTAAAACAGCCAAACTTATTTTAAATCTACCAAAGAGACTGCATTTTTAATACTGTCTTGTTAATGCAAAATATTTATTTTCCAGTTCCAACCTATTGATTCTAAAAAGATTAAGATATTATAGTGGCCAAGCTCTAAAAGTCTCTATAACATTCCCAAATACTTCATAGACATTGACTGAAATCTATTCATTGCTTAGAAATGACAAAGTTAAACCTATGTCCACAGTCAAAAGGTAGAGGGATAAATGCTGTTGCTTTGCTGGGTTTTCCTTATTCATCCAATTCAATACAGATGCCACCTGTGGGGTGGTATGTGTTCCCTCCTTTTGCCTCTCTGCAAACATGGGAACATCTCTATCCCTCCTTTTGCCTCTCTGCAAACTCCTTGAGAGACTGCACACCAACACACACACATTCAATCATCTCTTTTATGGGGACTAATATTCCAGATCTCCAATACCAGTGGAGTCTATTTTGGGACAGTTTATGCCTTATTTCATGTGTTTTCTCTGTATTTTTGTTCTTACCAGTTCAACATTTCATATTTTATGTTGTTTGTCTTTTTAATATCTATTTTGAGCTTCTTAATTTTTTTTAGAAACTGGATTTATTTTCATTTTTATATATGGATACCCTAGTATAACAGCAAGTCTCCGCAATTTTATATTTACCACTTCTCCTCTTACATCTTAACTCTATTACTCTTCCTGTGGGTTACATAAGAGCAAAGGTCTCTATTTTGTCTGTGGCTTTAGAACAGTGCAAAATGTAATAGTGGGCATTTAAAAATAGATTTGTACTCCAGTCAGTTCCAGAAGAAATTCTGTGTTTTCTTTATCTCAAGGCCTATTTCAGATGGCTTATGATTTTAAAATTTATATTCCTTCCTGTTTGGTATTTTTTTTCTTGTAACTCTCTAAGGCATTTTTTTTTGTTTCCTCTTTAAATGTGTCTAGCTGTTTACCTGTGTTTTCCTATATTTCCTTCTTAAAGTCCTCCATCATCACCATAAGAAGTGACTTTAGATCCGTGTCTTGCTTTTCTGGTGTGATCAAGTCGTTCAGTAAAAGTAAGGTTAAGTTAGCCGGGAGCTGGGGAAATGGCTCAGCAATTGAGAGTGCTTGTTCTTCTTACAGAGGACCTGGACTGGGTCCCTAGCACCTGTGCTGCATCTTTGTAAGTCCAGTTTTGGGGATGCAAGCCTTGTTTTGACCCTCAAGTATACCAGGAGTGTATGTAATCCTGAA\")"
   ]
  },
  {
   "cell_type": "code",
   "execution_count": null,
   "id": "fb3a7d81-0dee-4c77-8879-654efdc7292b",
   "metadata": {},
   "outputs": [],
   "source": []
  }
 ],
 "metadata": {
  "kernelspec": {
   "display_name": "bioinf",
   "language": "python",
   "name": "bioinf"
  },
  "language_info": {
   "codemirror_mode": {
    "name": "ipython",
    "version": 3
   },
   "file_extension": ".py",
   "mimetype": "text/x-python",
   "name": "python",
   "nbconvert_exporter": "python",
   "pygments_lexer": "ipython3",
   "version": "3.10.14"
  }
 },
 "nbformat": 4,
 "nbformat_minor": 5
}
