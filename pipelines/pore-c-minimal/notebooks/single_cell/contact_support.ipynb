{
 "cells": [
  {
   "cell_type": "code",
   "execution_count": 1,
   "id": "4524f3ce-e7ea-444d-8539-9e096a817312",
   "metadata": {},
   "outputs": [],
   "source": [
    "import pandas as pd\n",
    "import numpy as np\n",
    "import seaborn as sns\n",
    "import matplotlib.pyplot as plt\n",
    "import os\n",
    "from sklearn.neighbors import BallTree\n",
    "import pyranges as pr\n",
    "import sys\n",
    "import scipy\n",
    "from scipy.spatial.distance import pdist, squareform\n",
    "import glob\n",
    "import pairtools\n",
    "import pairtools.lib.headerops as phead"
   ]
  },
  {
   "cell_type": "code",
   "execution_count": 2,
   "id": "3d35406e-2abb-4bb5-b8df-4c7a893cbae6",
   "metadata": {},
   "outputs": [
    {
     "data": {
      "text/plain": [
       "['/scratch/indikar_root/indikar1/shared_data/single_cell/single_cell/direct/o1b74.GRCm39.filtered.pairs',\n",
       " '/scratch/indikar_root/indikar1/shared_data/single_cell/single_cell/direct/o4b83.GRCm39.filtered.pairs',\n",
       " '/scratch/indikar_root/indikar1/shared_data/single_cell/single_cell/direct/o4b89.GRCm39.filtered.pairs',\n",
       " '/scratch/indikar_root/indikar1/shared_data/single_cell/single_cell/direct/o4b03.GRCm39.filtered.pairs',\n",
       " '/scratch/indikar_root/indikar1/shared_data/single_cell/single_cell/direct/o2b63.GRCm39.filtered.pairs',\n",
       " '/scratch/indikar_root/indikar1/shared_data/single_cell/single_cell/direct/o3b13.GRCm39.filtered.pairs',\n",
       " '/scratch/indikar_root/indikar1/shared_data/single_cell/single_cell/direct/o3b34.GRCm39.filtered.pairs',\n",
       " '/scratch/indikar_root/indikar1/shared_data/single_cell/single_cell/direct/o4b93.GRCm39.filtered.pairs',\n",
       " '/scratch/indikar_root/indikar1/shared_data/single_cell/single_cell/direct/o2b04.GRCm39.filtered.pairs',\n",
       " '/scratch/indikar_root/indikar1/shared_data/single_cell/single_cell/direct/o2b60.GRCm39.filtered.pairs']"
      ]
     },
     "execution_count": 2,
     "metadata": {},
     "output_type": "execute_result"
    }
   ],
   "source": [
    "# dpath = \"/scratch/indikar_root/indikar1/shared_data/single_cell/pairs/\"\n",
    "# file_list = glob.glob(f\"{dpath}/*direct*\")\n",
    "dpath = \"/scratch/indikar_root/indikar1/shared_data/single_cell/single_cell/direct\"\n",
    "file_list = glob.glob(f\"{dpath}/*\")\n",
    "file_list[:10]"
   ]
  },
  {
   "cell_type": "code",
   "execution_count": 3,
   "id": "8ec064d1-8529-46c1-a61a-c59a7f168484",
   "metadata": {},
   "outputs": [],
   "source": [
    "def load_pairs(fpath, comment_char=\"#\"):\n",
    "    \"\"\"Loads a pairs table from a tab-separated file.\n",
    "\n",
    "    Args:\n",
    "        fpath (str): The file path to the pairs table.\n",
    "        comment_char (str, optional): The character indicating comment lines. \n",
    "                                     Defaults to \"#\".\n",
    "\n",
    "    Returns:\n",
    "        pd.DataFrame: A Pandas DataFrame containing the pairs table data.\n",
    "    \"\"\"\n",
    "    header = phead.get_header(open(fpath))[0][-1]\n",
    "    header = header.replace(\"#columns: \", \"\")\n",
    "    header = header.split(\" \")\n",
    "    \n",
    "    df = pd.read_csv(fpath, \n",
    "                     sep='\\t', \n",
    "                     header=None, \n",
    "                     names=header, \n",
    "                     comment=\"#\")\n",
    "    return df"
   ]
  },
  {
   "cell_type": "code",
   "execution_count": 4,
   "id": "46bca60c-b125-4693-ad15-89eddeeb9121",
   "metadata": {},
   "outputs": [],
   "source": [
    "def count_neighbors_optimized(df, x_col, y_col, radius):\n",
    "    \"\"\"\n",
    "    This function efficiently counts the number of nearest neighbors within a radius\n",
    "    for each point in a pandas dataframe using scikit-learn's BallTree.\n",
    "\n",
    "    Args:\n",
    "      df (pandas.DataFrame): The dataframe containing the points.\n",
    "      x_col (str): The name of the column containing the x-coordinates.\n",
    "      y_col (str): The name of the column containing the y-coordinates.\n",
    "      radius (float): The radius to search for neighbors.\n",
    "\n",
    "    Returns:\n",
    "      pandas.Series: A Series containing the number of neighbors for each point.\n",
    "    \"\"\"\n",
    "\n",
    "    # Extract coordinates into a NumPy array\n",
    "    X = df[[x_col, y_col]].to_numpy()\n",
    "\n",
    "    # Create a BallTree object for efficient neighbor search\n",
    "    ball_tree = BallTree(X)\n",
    "\n",
    "    # Use query_radius to find neighbors within the radius, count_only=True for efficiency\n",
    "    neighbor_counts = ball_tree.query_radius(X, radius, count_only=True)\n",
    "\n",
    "    # Return the neighbor counts as a Series\n",
    "    return pd.Series(neighbor_counts, index=df.index, name='neighbor_count')\n",
    "\n",
    "\n",
    "\n",
    "def get_unsupported_contacts(df, raduis):\n",
    "    \"\"\"A function to return a list of unsupported contact ids \"\"\"\n",
    "    unsupported_ids = []\n",
    "    for chroms, group in df.groupby('chrom_str'):\n",
    "\n",
    "        if len(group) < 2:\n",
    "            unsupported_ids += list(group['id'].values)\n",
    "        else:\n",
    "            dists = count_neighbors_optimized(group, 'pos1', 'pos2', radius)\n",
    "            idx = np.argwhere(dists < 2)\n",
    "            unsupported_ids += list(group['id'].values[idx])\n",
    "    \n",
    "    return unsupported_ids\n",
    "\n",
    "\n",
    "def swap_columns(row):\n",
    "    if row['chrom1'] > row['chrom2']:\n",
    "        row['chrom1'], row['chrom2'] = row['chrom2'], row['chrom1']\n",
    "        row['pos1'], row['pos2'] = row['pos2'], row['pos1']\n",
    "    return row\n",
    "\n",
    "\n",
    "def prepare_data(df):\n",
    "    columns = [\n",
    "        'readID',\n",
    "        'chrom1',\n",
    "        'chrom2',\n",
    "        'pos1',\n",
    "        'pos2',\n",
    "        'pair_type',\n",
    "    ]\n",
    "    \n",
    "    chroms = [    \n",
    "        '1','10','11','12',\n",
    "        '13','14','15','16',\n",
    "        '17','18','19','X',\n",
    "        '2','3','4','5',\n",
    "        '6','7','8','9',\n",
    "    ]\n",
    "    df = df[columns]\n",
    "    \n",
    "    # remove unplaced contigs and enforce sort order for trans contacts\n",
    "    df = df[df['chrom1'].isin(chroms)]\n",
    "    df = df[df['chrom2'].isin(chroms)]\n",
    "    df = df[df['chrom1'] != df['chrom2']]\n",
    "    df = df.apply(swap_columns, axis=1)\n",
    "    df['chrom_str'] = df[['chrom1', 'chrom2']].apply(lambda x: \":\".join(sorted(list(x))), axis=1)\n",
    "    df['id'] = range(1, len(df) + 1)\n",
    "    return df"
   ]
  },
  {
   "cell_type": "code",
   "execution_count": 6,
   "id": "cb3a6e9d-f22a-45fc-9f30-dadee77c5f6e",
   "metadata": {},
   "outputs": [
    {
     "name": "stdout",
     "output_type": "stream",
     "text": [
      "0 of 380\n",
      "CHECK: o4b03\n",
      "CHECK: o2b83\n",
      "25 of 380\n",
      "CHECK: o2b68\n",
      "CHECK: o2b93\n",
      "50 of 380\n",
      "75 of 380\n",
      "CHECK: o2b52\n",
      "CHECK: o4b12\n",
      "100 of 380\n",
      "125 of 380\n",
      "CHECK: o2b55\n",
      "150 of 380\n",
      "CHECK: o4b15\n",
      "175 of 380\n",
      "CHECK: o2b90\n",
      "200 of 380\n",
      "CHECK: o4b86\n",
      "225 of 380\n",
      "250 of 380\n",
      "CHECK: o2b49\n",
      "275 of 380\n",
      "300 of 380\n",
      "325 of 380\n",
      "CHECK: o4b58\n",
      "350 of 380\n",
      "375 of 380\n"
     ]
    },
    {
     "data": {
      "text/html": [
       "<div>\n",
       "<style scoped>\n",
       "    .dataframe tbody tr th:only-of-type {\n",
       "        vertical-align: middle;\n",
       "    }\n",
       "\n",
       "    .dataframe tbody tr th {\n",
       "        vertical-align: top;\n",
       "    }\n",
       "\n",
       "    .dataframe thead th {\n",
       "        text-align: right;\n",
       "    }\n",
       "</style>\n",
       "<table border=\"1\" class=\"dataframe\">\n",
       "  <thead>\n",
       "    <tr style=\"text-align: right;\">\n",
       "      <th></th>\n",
       "      <th>sample_id</th>\n",
       "      <th>cell_id</th>\n",
       "      <th>total_trans_contacts</th>\n",
       "      <th>filtered_trans_contacts</th>\n",
       "    </tr>\n",
       "  </thead>\n",
       "  <tbody>\n",
       "    <tr>\n",
       "      <th>0</th>\n",
       "      <td>o1</td>\n",
       "      <td>b74</td>\n",
       "      <td>2258</td>\n",
       "      <td>6</td>\n",
       "    </tr>\n",
       "    <tr>\n",
       "      <th>1</th>\n",
       "      <td>o4</td>\n",
       "      <td>b83</td>\n",
       "      <td>3958</td>\n",
       "      <td>4</td>\n",
       "    </tr>\n",
       "    <tr>\n",
       "      <th>2</th>\n",
       "      <td>o4</td>\n",
       "      <td>b89</td>\n",
       "      <td>6076</td>\n",
       "      <td>1</td>\n",
       "    </tr>\n",
       "    <tr>\n",
       "      <th>3</th>\n",
       "      <td>o2</td>\n",
       "      <td>b63</td>\n",
       "      <td>203</td>\n",
       "      <td>65</td>\n",
       "    </tr>\n",
       "    <tr>\n",
       "      <th>4</th>\n",
       "      <td>o3</td>\n",
       "      <td>b13</td>\n",
       "      <td>5424</td>\n",
       "      <td>3</td>\n",
       "    </tr>\n",
       "  </tbody>\n",
       "</table>\n",
       "</div>"
      ],
      "text/plain": [
       "  sample_id cell_id  total_trans_contacts  filtered_trans_contacts\n",
       "0        o1     b74                  2258                        6\n",
       "1        o4     b83                  3958                        4\n",
       "2        o4     b89                  6076                        1\n",
       "3        o2     b63                   203                       65\n",
       "4        o3     b13                  5424                        3"
      ]
     },
     "execution_count": 6,
     "metadata": {},
     "output_type": "execute_result"
    }
   ],
   "source": [
    "radius = 1e6\n",
    "\n",
    "result = []    \n",
    "    \n",
    "for i, file_path in enumerate(file_list):\n",
    "    \n",
    "    if i % 25 == 0:\n",
    "        print(f\"{i} of {len(file_list)}\")\n",
    "    \n",
    "    basename = os.path.basename(file_path)\n",
    "    cell_id = basename[2:5]\n",
    "    sample_id = basename[:2]\n",
    "    \n",
    "    df = load_pairs(file_path)\n",
    "    try:\n",
    "        df = prepare_data(df)\n",
    "        raw_len = len(df)\n",
    "        unsupported_contacts = get_unsupported_contacts(df, radius)\n",
    "        df = df[~df['id'].isin(unsupported_contacts)]\n",
    "    except:\n",
    "        print(f\"CHECK: {sample_id}{cell_id}\")\n",
    "        continue\n",
    "        \n",
    "    row = {\n",
    "        'sample_id' : sample_id,\n",
    "        'cell_id' : cell_id,\n",
    "        'total_trans_contacts' : raw_len,\n",
    "        'filtered_trans_contacts' : raw_len - len(df),\n",
    "    }\n",
    "    \n",
    "    result.append(row)\n",
    "    \n",
    "result = pd.DataFrame(result)\n",
    "result.head()"
   ]
  },
  {
   "cell_type": "code",
   "execution_count": 13,
   "id": "aecf3903-a9d5-4425-81b0-73ce2a6f5d45",
   "metadata": {},
   "outputs": [
    {
     "name": "stdout",
     "output_type": "stream",
     "text": [
      "7.660290297445336\n"
     ]
    }
   ],
   "source": [
    "result['percent'] = (result['filtered_trans_contacts'] / result['total_trans_contacts']) * 100\n",
    "print(result['percent'].mean())\n",
    "result = result.sort_values(by='sample_id')\n"
   ]
  },
  {
   "cell_type": "code",
   "execution_count": 21,
   "id": "14788e37-643d-4e56-ad37-b68a95c59f53",
   "metadata": {},
   "outputs": [
    {
     "data": {
      "text/plain": [
       "Text(0.5, 0, 'Sample')"
      ]
     },
     "execution_count": 21,
     "metadata": {},
     "output_type": "execute_result"
    },
    {
     "data": {
      "image/png": "[encoded data removed]",
      "text/plain": [
       "<Figure size 400x600 with 1 Axes>"
      ]
     },
     "metadata": {},
     "output_type": "display_data"
    }
   ],
   "source": [
    "plt.rcParams['figure.dpi'] = 200\n",
    "plt.rcParams['figure.figsize'] = 2, 3\n",
    "sns.boxplot(data=result,\n",
    "            x='sample_id',\n",
    "            y='percent',\n",
    "             hue='sample_id')\n",
    "\n",
    "plt.ylabel('% Unsupported')\n",
    "plt.xlabel('Sample')"
   ]
  },
  {
   "cell_type": "code",
   "execution_count": null,
   "id": "d6edfbc2-0c07-472f-9a08-c0edee69726e",
   "metadata": {},
   "outputs": [],
   "source": []
  }
 ],
 "metadata": {
  "kernelspec": {
   "display_name": "bioinf",
   "language": "python",
   "name": "bioinf"
  },
  "language_info": {
   "codemirror_mode": {
    "name": "ipython",
    "version": 3
   },
   "file_extension": ".py",
   "mimetype": "text/x-python",
   "name": "python",
   "nbconvert_exporter": "python",
   "pygments_lexer": "ipython3",
   "version": "3.10.14"
  }
 },
 "nbformat": 4,
 "nbformat_minor": 5
}
