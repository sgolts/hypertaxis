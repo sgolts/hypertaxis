{
 "cells": [
  {
   "cell_type": "code",
   "execution_count": 8,
   "id": "76421c61-e9cc-404d-a00f-fd1839b9d901",
   "metadata": {},
   "outputs": [],
   "source": [
    "import pandas as pd\n",
    "import os\n",
    "import glob\n",
    "import re"
   ]
  },
  {
   "cell_type": "code",
   "execution_count": 3,
   "id": "e47278a0-ae26-4608-bde9-b749a32f22ae",
   "metadata": {},
   "outputs": [
    {
     "data": {
      "text/plain": [
       "['/scratch/indikar_root/indikar1/shared_data/population/reports/mapping_percentage/direct/batch01.GRCm39.txt',\n",
       " '/scratch/indikar_root/indikar1/shared_data/population/reports/mapping_percentage/direct/batch03.GRCm39.txt',\n",
       " '/scratch/indikar_root/indikar1/shared_data/population/reports/mapping_percentage/direct/batch02.GRCm39.txt',\n",
       " '/scratch/indikar_root/indikar1/shared_data/population/reports/mapping_percentage/direct/batch04.GRCm39.txt']"
      ]
     },
     "execution_count": 3,
     "metadata": {},
     "output_type": "execute_result"
    }
   ],
   "source": [
    "dpath = \"/scratch/indikar_root/indikar1/shared_data/population/reports/mapping_percentage/direct/\"\n",
    "\n",
    "file_list = glob.glob(f\"{dpath}*\")\n",
    "file_list"
   ]
  },
  {
   "cell_type": "code",
   "execution_count": 15,
   "id": "e68500c9-e0a7-4ccc-8390-e80d6eef77a0",
   "metadata": {},
   "outputs": [
    {
     "data": {
      "text/html": [
       "<div>\n",
       "<style scoped>\n",
       "    .dataframe tbody tr th:only-of-type {\n",
       "        vertical-align: middle;\n",
       "    }\n",
       "\n",
       "    .dataframe tbody tr th {\n",
       "        vertical-align: top;\n",
       "    }\n",
       "\n",
       "    .dataframe thead th {\n",
       "        text-align: right;\n",
       "    }\n",
       "</style>\n",
       "<table border=\"1\" class=\"dataframe\">\n",
       "  <thead>\n",
       "    <tr style=\"text-align: right;\">\n",
       "      <th></th>\n",
       "      <th>basename</th>\n",
       "      <th>mapping_percentage</th>\n",
       "    </tr>\n",
       "  </thead>\n",
       "  <tbody>\n",
       "    <tr>\n",
       "      <th>0</th>\n",
       "      <td>batch01.GRCm39.txt</td>\n",
       "      <td>73.14</td>\n",
       "    </tr>\n",
       "    <tr>\n",
       "      <th>1</th>\n",
       "      <td>batch03.GRCm39.txt</td>\n",
       "      <td>71.45</td>\n",
       "    </tr>\n",
       "    <tr>\n",
       "      <th>2</th>\n",
       "      <td>batch02.GRCm39.txt</td>\n",
       "      <td>71.10</td>\n",
       "    </tr>\n",
       "    <tr>\n",
       "      <th>3</th>\n",
       "      <td>batch04.GRCm39.txt</td>\n",
       "      <td>73.38</td>\n",
       "    </tr>\n",
       "  </tbody>\n",
       "</table>\n",
       "</div>"
      ],
      "text/plain": [
       "             basename  mapping_percentage\n",
       "0  batch01.GRCm39.txt               73.14\n",
       "1  batch03.GRCm39.txt               71.45\n",
       "2  batch02.GRCm39.txt               71.10\n",
       "3  batch04.GRCm39.txt               73.38"
      ]
     },
     "execution_count": 15,
     "metadata": {},
     "output_type": "execute_result"
    }
   ],
   "source": [
    "def extract_mapping_percentages(file_list):\n",
    "    \"\"\"\n",
    "    Extracts mapping percentages from a list of files and returns a DataFrame.\n",
    "\n",
    "    Args:\n",
    "        file_list (list): A list of file paths.\n",
    "\n",
    "    Returns:\n",
    "        pandas.DataFrame: A DataFrame with columns 'basename' and 'mapping_percentage'.\n",
    "    \"\"\"\n",
    "    \n",
    "    results = []\n",
    "\n",
    "    for fpath in file_list:\n",
    "        with open(fpath, 'r') as file:\n",
    "            # Get the file name without path\n",
    "            basename = os.path.basename(fpath) \n",
    "\n",
    "            # Read the first line, strip whitespace\n",
    "            first_line = file.readline().strip()\n",
    "\n",
    "            # Extract percentage using regex (optimized)\n",
    "            match = re.search(r\"(\\d+\\.\\d+)%\", first_line)\n",
    "            mapping_percentage = float(match.group(1)) if match else None\n",
    "\n",
    "            results.append({\n",
    "                'basename': basename,\n",
    "                'mapping_percentage': mapping_percentage\n",
    "            })\n",
    "\n",
    "    return pd.DataFrame(results)  # Create and return the DataFrame\n",
    "\n",
    "extract_mapping_percentages(file_list)"
   ]
  },
  {
   "cell_type": "code",
   "execution_count": null,
   "id": "6048e598-cb90-4451-ad92-ab22824a36d2",
   "metadata": {},
   "outputs": [],
   "source": []
  },
  {
   "cell_type": "code",
   "execution_count": 14,
   "id": "1d340b57-5fe5-4dc6-8464-ad7ddb578cec",
   "metadata": {},
   "outputs": [
    {
     "data": {
      "text/html": [
       "<div>\n",
       "<style scoped>\n",
       "    .dataframe tbody tr th:only-of-type {\n",
       "        vertical-align: middle;\n",
       "    }\n",
       "\n",
       "    .dataframe tbody tr th {\n",
       "        vertical-align: top;\n",
       "    }\n",
       "\n",
       "    .dataframe thead th {\n",
       "        text-align: right;\n",
       "    }\n",
       "</style>\n",
       "<table border=\"1\" class=\"dataframe\">\n",
       "  <thead>\n",
       "    <tr style=\"text-align: right;\">\n",
       "      <th></th>\n",
       "      <th>basename</th>\n",
       "      <th>mapping_percentage</th>\n",
       "    </tr>\n",
       "  </thead>\n",
       "  <tbody>\n",
       "    <tr>\n",
       "      <th>0</th>\n",
       "      <td>batch01.GRCm39.txt</td>\n",
       "      <td>73.14</td>\n",
       "    </tr>\n",
       "    <tr>\n",
       "      <th>1</th>\n",
       "      <td>batch03.GRCm39.txt</td>\n",
       "      <td>71.45</td>\n",
       "    </tr>\n",
       "    <tr>\n",
       "      <th>2</th>\n",
       "      <td>batch02.GRCm39.txt</td>\n",
       "      <td>71.10</td>\n",
       "    </tr>\n",
       "    <tr>\n",
       "      <th>3</th>\n",
       "      <td>batch04.GRCm39.txt</td>\n",
       "      <td>73.38</td>\n",
       "    </tr>\n",
       "  </tbody>\n",
       "</table>\n",
       "</div>"
      ],
      "text/plain": [
       "             basename  mapping_percentage\n",
       "0  batch01.GRCm39.txt               73.14\n",
       "1  batch03.GRCm39.txt               71.45\n",
       "2  batch02.GRCm39.txt               71.10\n",
       "3  batch04.GRCm39.txt               73.38"
      ]
     },
     "execution_count": 14,
     "metadata": {},
     "output_type": "execute_result"
    }
   ],
   "source": [
    "result = []\n",
    "for fpath in file_list:\n",
    "    with open(fpath, 'r') as file:\n",
    "        basename = os.path.basename(fpath)\n",
    "        line = [x.strip() for x in open(fpath)]\n",
    "        \n",
    "        match = re.search(r\"(\\d+\\.\\d+)%\", line[0])\n",
    "        match = float(match.group(1))\n",
    "        \n",
    "        row = {\n",
    "            'basename' : basename,\n",
    "            'mapping_percentage' : match,\n",
    "        }\n",
    "        \n",
    "        result.append(row)\n",
    "        \n",
    "        \n",
    "        \n",
    "result = pd.DataFrame(result)\n",
    "result.head()\n",
    "    "
   ]
  },
  {
   "cell_type": "code",
   "execution_count": null,
   "id": "800f4010-d344-4270-8071-38f779bbc03f",
   "metadata": {},
   "outputs": [],
   "source": []
  }
 ],
 "metadata": {
  "kernelspec": {
   "display_name": "bioinf",
   "language": "python",
   "name": "bioinf"
  },
  "language_info": {
   "codemirror_mode": {
    "name": "ipython",
    "version": 3
   },
   "file_extension": ".py",
   "mimetype": "text/x-python",
   "name": "python",
   "nbconvert_exporter": "python",
   "pygments_lexer": "ipython3",
   "version": "3.10.14"
  }
 },
 "nbformat": 4,
 "nbformat_minor": 5
}
